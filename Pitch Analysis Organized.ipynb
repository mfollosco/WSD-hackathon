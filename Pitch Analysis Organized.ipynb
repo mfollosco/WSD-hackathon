{
 "cells": [
  {
   "cell_type": "markdown",
   "id": "6d6ad252",
   "metadata": {},
   "source": [
    "# Final Product: Hit Success Analysis\n",
    "## Part 1: Read Data"
   ]
  },
  {
   "cell_type": "code",
   "execution_count": 4,
   "id": "9c2f1f59",
   "metadata": {},
   "outputs": [],
   "source": [
    "import os\n",
    "import numpy as np\n",
    "import json\n",
    "import pandas as pd"
   ]
  },
  {
   "cell_type": "code",
   "execution_count": 5,
   "id": "4ca77a9b",
   "metadata": {},
   "outputs": [],
   "source": [
    "hits_folder_path = '/Users/tiffanynguyen/wsd-data/wsd-hits'\n",
    "no_hits_folder_path = '/Users/tiffanynguyen/wsd-data/wsd-nohit'\n",
    "\n",
    "# Read Data\n",
    "hits_folder_path = '/Users/tiffanynguyen/wsd-data/wsd-hits'\n",
    "no_hits_folder_path = '/Users/tiffanynguyen/wsd-data/wsd-nohit'\n",
    "data = []\n",
    "\n",
    "for filename in os.listdir(hits_folder_path):\n",
    "    if filename.endswith('.jsonl'):\n",
    "        file_path = os.path.join(hits_folder_path, filename)\n",
    "        with open(file_path, 'r') as json_file:\n",
    "            data.append(json.load(json_file))\n",
    "\n",
    "for filename in os.listdir(no_hits_folder_path):\n",
    "    if filename.endswith('.jsonl'):\n",
    "        file_path = os.path.join(no_hits_folder_path, filename)\n",
    "        with open(file_path, 'r') as json_file:\n",
    "            data.append(json.load(json_file))"
   ]
  },
  {
   "cell_type": "code",
   "execution_count": 13,
   "id": "348f5fc0",
   "metadata": {},
   "outputs": [
    {
     "name": "stderr",
     "output_type": "stream",
     "text": [
      "/var/folders/ck/w49wycq96pvcx0hxmdh1ng880000gn/T/ipykernel_94520/1502914517.py:61: FutureWarning: The behavior of DataFrame concatenation with empty or all-NA entries is deprecated. In a future version, this will no longer exclude empty or all-NA columns when determining the result dtypes. To retain the old behavior, exclude the relevant entries before the concat operation.\n",
      "  df = pd.concat([df, pd.DataFrame([row])], ignore_index=True)\n"
     ]
    }
   ],
   "source": [
    "#initialize dataframe\n",
    "df = pd.DataFrame(columns=[\"Hit Type\", \"Pitch Type\", \"Pitch Speed\"])\n",
    "\n",
    "# categorize ground balls, line drives, power, pop ups\n",
    "# exit velocity will tell if the ball was hard hit or not\n",
    "\"\"\"\n",
    "Ground ball: Lower than 10 degrees\n",
    "Line drive: 10-25 degrees\n",
    "Fly ball: 25-50 degrees\n",
    "Pop up: Higher than 50 degrees\n",
    "\"\"\"\n",
    "nons = []\n",
    "count = 0\n",
    "# maybe - also if passed boundary \n",
    "def classify_hit_type(data):\n",
    "    hit_type = 'none'\n",
    "    #check null cases\n",
    "    if ('summary_acts' in data and 'hit' in data['summary_acts'] and 'speed' in data['summary_acts']['hit'] and\n",
    "    'events' in data and len(data['events']) != 0 and 'start' in data['events'][0]):\n",
    "        if data['summary_acts']['pitch']['result'] == \"HitIntoPlay\":\n",
    "            # pop up\n",
    "            if(data['events'][0]['start']['angle'][1] >= 50 ):\n",
    "                hit_type = 'Pop Up'\n",
    "                \n",
    "            # power hit or pop fly depending on exit velocity\n",
    "            if((data['events'][0]['start']['angle'][1] > 25 and data['events'][0]['start']['angle'][1] < 50 )):\n",
    "                if (data['summary_acts']['hit']['speed']['mph'] >= 95):\n",
    "                    hit_type = 'Power'\n",
    "                else: \n",
    "                    hit_type = 'Fly Ball'\n",
    "                    \n",
    "\n",
    "            # line drives: hard hit vs lightly hit\n",
    "            if((data['events'][0]['start']['angle'][1] >= 10 and data['events'][0]['start']['angle'][1] <= 25 )):\n",
    "                if (data['summary_acts']['hit']['speed']['mph'] >= 95):\n",
    "                    hit_type = 'Hard Hit Line Drive'\n",
    "                else: \n",
    "                    hit_type = 'Light Line Drive'\n",
    "    \n",
    "            # ground balls: hard hit vs lightly hit\n",
    "            elif (data['events'][0]['start']['angle'][1] < 10 ):\n",
    "                if (data['summary_acts']['hit']['speed']['mph'] >= 95):\n",
    "                    hit_type = 'Hard Hit Ground Ball'\n",
    "                else: \n",
    "                    hit_type = 'Light Ground Ball'\n",
    "    elif data['summary_acts']['pitch']['result'] == \"Strike\":\n",
    "        hit_type = 'Strike'\n",
    "    return hit_type\n",
    "\n",
    "\n",
    "#read files\n",
    "for cur_data in data:\n",
    "    row = {\n",
    "        \"Hit Type\" : classify_hit_type(cur_data),\n",
    "        \"Pitch Type\" : cur_data['summary_acts']['pitch']['type'],\n",
    "        \"Pitch Speed\" : cur_data['summary_acts']['pitch']['speed']['mph']\n",
    "    }\n",
    "    if (row[\"Hit Type\"] != 'none'\n",
    "        and row[\"Pitch Type\"] is not None and len(row[\"Pitch Type\"]) > 0\n",
    "        and row[\"Pitch Speed\"] is not None):\n",
    "        df = pd.concat([df, pd.DataFrame([row])], ignore_index=True)\n",
    "\n",
    "df[\"Good\"] = ~(df[\"Hit Type\"] == \"Power\") & ~(df[\"Hit Type\"] == \"Hard Hit Line Drive\") & ~(df[\"Hit Type\"] == \"Fly Ball\") & ~(df[\"Hit Type\"] == \"Hard Hit Ground Ball\")"
   ]
  },
  {
   "cell_type": "code",
   "execution_count": 14,
   "id": "fd9b7fa1",
   "metadata": {},
   "outputs": [
    {
     "data": {
      "text/html": [
       "<div>\n",
       "<style scoped>\n",
       "    .dataframe tbody tr th:only-of-type {\n",
       "        vertical-align: middle;\n",
       "    }\n",
       "\n",
       "    .dataframe tbody tr th {\n",
       "        vertical-align: top;\n",
       "    }\n",
       "\n",
       "    .dataframe thead th {\n",
       "        text-align: right;\n",
       "    }\n",
       "</style>\n",
       "<table border=\"1\" class=\"dataframe\">\n",
       "  <thead>\n",
       "    <tr style=\"text-align: right;\">\n",
       "      <th></th>\n",
       "      <th>Hit Type</th>\n",
       "      <th>Pitch Type</th>\n",
       "      <th>Pitch Speed</th>\n",
       "      <th>Good</th>\n",
       "    </tr>\n",
       "  </thead>\n",
       "  <tbody>\n",
       "    <tr>\n",
       "      <th>0</th>\n",
       "      <td>Strike</td>\n",
       "      <td>Slider</td>\n",
       "      <td>84.0</td>\n",
       "      <td>True</td>\n",
       "    </tr>\n",
       "    <tr>\n",
       "      <th>1</th>\n",
       "      <td>Strike</td>\n",
       "      <td>Curveball</td>\n",
       "      <td>79.0</td>\n",
       "      <td>True</td>\n",
       "    </tr>\n",
       "    <tr>\n",
       "      <th>2</th>\n",
       "      <td>Strike</td>\n",
       "      <td>Curveball</td>\n",
       "      <td>78.0</td>\n",
       "      <td>True</td>\n",
       "    </tr>\n",
       "    <tr>\n",
       "      <th>3</th>\n",
       "      <td>Light Ground Ball</td>\n",
       "      <td>Sinker</td>\n",
       "      <td>94.0</td>\n",
       "      <td>True</td>\n",
       "    </tr>\n",
       "    <tr>\n",
       "      <th>4</th>\n",
       "      <td>Strike</td>\n",
       "      <td>Curveball</td>\n",
       "      <td>79.0</td>\n",
       "      <td>True</td>\n",
       "    </tr>\n",
       "    <tr>\n",
       "      <th>...</th>\n",
       "      <td>...</td>\n",
       "      <td>...</td>\n",
       "      <td>...</td>\n",
       "      <td>...</td>\n",
       "    </tr>\n",
       "    <tr>\n",
       "      <th>148</th>\n",
       "      <td>Strike</td>\n",
       "      <td>Sinker</td>\n",
       "      <td>90.0</td>\n",
       "      <td>True</td>\n",
       "    </tr>\n",
       "    <tr>\n",
       "      <th>149</th>\n",
       "      <td>Strike</td>\n",
       "      <td>FourSeamFastball</td>\n",
       "      <td>91.0</td>\n",
       "      <td>True</td>\n",
       "    </tr>\n",
       "    <tr>\n",
       "      <th>150</th>\n",
       "      <td>Strike</td>\n",
       "      <td>Changeup</td>\n",
       "      <td>84.0</td>\n",
       "      <td>True</td>\n",
       "    </tr>\n",
       "    <tr>\n",
       "      <th>151</th>\n",
       "      <td>Strike</td>\n",
       "      <td>Curveball</td>\n",
       "      <td>77.0</td>\n",
       "      <td>True</td>\n",
       "    </tr>\n",
       "    <tr>\n",
       "      <th>152</th>\n",
       "      <td>Strike</td>\n",
       "      <td>Slider</td>\n",
       "      <td>81.0</td>\n",
       "      <td>True</td>\n",
       "    </tr>\n",
       "  </tbody>\n",
       "</table>\n",
       "<p>153 rows × 4 columns</p>\n",
       "</div>"
      ],
      "text/plain": [
       "              Hit Type        Pitch Type  Pitch Speed  Good\n",
       "0               Strike            Slider         84.0  True\n",
       "1               Strike         Curveball         79.0  True\n",
       "2               Strike         Curveball         78.0  True\n",
       "3    Light Ground Ball            Sinker         94.0  True\n",
       "4               Strike         Curveball         79.0  True\n",
       "..                 ...               ...          ...   ...\n",
       "148             Strike            Sinker         90.0  True\n",
       "149             Strike  FourSeamFastball         91.0  True\n",
       "150             Strike          Changeup         84.0  True\n",
       "151             Strike         Curveball         77.0  True\n",
       "152             Strike            Slider         81.0  True\n",
       "\n",
       "[153 rows x 4 columns]"
      ]
     },
     "metadata": {},
     "output_type": "display_data"
    }
   ],
   "source": [
    "display(df)"
   ]
  },
  {
   "cell_type": "markdown",
   "id": "f6c843a4",
   "metadata": {},
   "source": [
    "## Part 2: Data Visualization of Trends\n",
    "### Pitch Type and Hit Type Heatmap"
   ]
  },
  {
   "cell_type": "code",
   "execution_count": 23,
   "id": "2226568f",
   "metadata": {},
   "outputs": [],
   "source": [
    "import plotly.express as px"
   ]
  },
  {
   "cell_type": "code",
   "execution_count": 24,
   "id": "fcdb09d9",
   "metadata": {},
   "outputs": [
    {
     "data": {
      "text/html": [
       "<div>\n",
       "<style scoped>\n",
       "    .dataframe tbody tr th:only-of-type {\n",
       "        vertical-align: middle;\n",
       "    }\n",
       "\n",
       "    .dataframe tbody tr th {\n",
       "        vertical-align: top;\n",
       "    }\n",
       "\n",
       "    .dataframe thead th {\n",
       "        text-align: right;\n",
       "    }\n",
       "</style>\n",
       "<table border=\"1\" class=\"dataframe\">\n",
       "  <thead>\n",
       "    <tr style=\"text-align: right;\">\n",
       "      <th>Pitch Type</th>\n",
       "      <th>Changeup</th>\n",
       "      <th>Curveball</th>\n",
       "      <th>Cutter</th>\n",
       "      <th>FourSeamFastball</th>\n",
       "      <th>Sinker</th>\n",
       "      <th>Slider</th>\n",
       "    </tr>\n",
       "    <tr>\n",
       "      <th>Hit Type</th>\n",
       "      <th></th>\n",
       "      <th></th>\n",
       "      <th></th>\n",
       "      <th></th>\n",
       "      <th></th>\n",
       "      <th></th>\n",
       "    </tr>\n",
       "  </thead>\n",
       "  <tbody>\n",
       "    <tr>\n",
       "      <th>Fly Ball</th>\n",
       "      <td>1.0</td>\n",
       "      <td>0.0</td>\n",
       "      <td>0.0</td>\n",
       "      <td>2.0</td>\n",
       "      <td>2.0</td>\n",
       "      <td>2.0</td>\n",
       "    </tr>\n",
       "    <tr>\n",
       "      <th>Hard Hit Ground Ball</th>\n",
       "      <td>1.0</td>\n",
       "      <td>1.0</td>\n",
       "      <td>1.0</td>\n",
       "      <td>3.0</td>\n",
       "      <td>4.0</td>\n",
       "      <td>2.0</td>\n",
       "    </tr>\n",
       "    <tr>\n",
       "      <th>Hard Hit Line Drive</th>\n",
       "      <td>1.0</td>\n",
       "      <td>0.0</td>\n",
       "      <td>0.0</td>\n",
       "      <td>1.0</td>\n",
       "      <td>1.0</td>\n",
       "      <td>0.0</td>\n",
       "    </tr>\n",
       "    <tr>\n",
       "      <th>Light Ground Ball</th>\n",
       "      <td>3.0</td>\n",
       "      <td>1.0</td>\n",
       "      <td>0.0</td>\n",
       "      <td>1.0</td>\n",
       "      <td>3.0</td>\n",
       "      <td>1.0</td>\n",
       "    </tr>\n",
       "    <tr>\n",
       "      <th>Light Line Drive</th>\n",
       "      <td>0.0</td>\n",
       "      <td>1.0</td>\n",
       "      <td>1.0</td>\n",
       "      <td>3.0</td>\n",
       "      <td>1.0</td>\n",
       "      <td>1.0</td>\n",
       "    </tr>\n",
       "    <tr>\n",
       "      <th>Pop Up</th>\n",
       "      <td>1.0</td>\n",
       "      <td>0.0</td>\n",
       "      <td>0.0</td>\n",
       "      <td>0.0</td>\n",
       "      <td>1.0</td>\n",
       "      <td>2.0</td>\n",
       "    </tr>\n",
       "    <tr>\n",
       "      <th>Power</th>\n",
       "      <td>0.0</td>\n",
       "      <td>0.0</td>\n",
       "      <td>0.0</td>\n",
       "      <td>0.0</td>\n",
       "      <td>1.0</td>\n",
       "      <td>1.0</td>\n",
       "    </tr>\n",
       "    <tr>\n",
       "      <th>Strike</th>\n",
       "      <td>12.0</td>\n",
       "      <td>16.0</td>\n",
       "      <td>7.0</td>\n",
       "      <td>13.0</td>\n",
       "      <td>35.0</td>\n",
       "      <td>26.0</td>\n",
       "    </tr>\n",
       "  </tbody>\n",
       "</table>\n",
       "</div>"
      ],
      "text/plain": [
       "Pitch Type            Changeup  Curveball  Cutter  FourSeamFastball  Sinker  \\\n",
       "Hit Type                                                                      \n",
       "Fly Ball                   1.0        0.0     0.0               2.0     2.0   \n",
       "Hard Hit Ground Ball       1.0        1.0     1.0               3.0     4.0   \n",
       "Hard Hit Line Drive        1.0        0.0     0.0               1.0     1.0   \n",
       "Light Ground Ball          3.0        1.0     0.0               1.0     3.0   \n",
       "Light Line Drive           0.0        1.0     1.0               3.0     1.0   \n",
       "Pop Up                     1.0        0.0     0.0               0.0     1.0   \n",
       "Power                      0.0        0.0     0.0               0.0     1.0   \n",
       "Strike                    12.0       16.0     7.0              13.0    35.0   \n",
       "\n",
       "Pitch Type            Slider  \n",
       "Hit Type                      \n",
       "Fly Ball                 2.0  \n",
       "Hard Hit Ground Ball     2.0  \n",
       "Hard Hit Line Drive      0.0  \n",
       "Light Ground Ball        1.0  \n",
       "Light Line Drive         1.0  \n",
       "Pop Up                   2.0  \n",
       "Power                    1.0  \n",
       "Strike                  26.0  "
      ]
     },
     "metadata": {},
     "output_type": "display_data"
    }
   ],
   "source": [
    "count_df = df.groupby(['Hit Type', 'Pitch Type']).size().reset_index(name='count')\n",
    "pivot_df = count_df.pivot(index='Hit Type', columns='Pitch Type', values='count').fillna(0)\n",
    "\n",
    "display(pivot_df)"
   ]
  },
  {
   "cell_type": "code",
   "execution_count": 28,
   "id": "6cd3e1b6",
   "metadata": {},
   "outputs": [
    {
     "data": {
      "application/vnd.plotly.v1+json": {
       "config": {
        "plotlyServerURL": "https://plot.ly"
       },
       "data": [
        {
         "coloraxis": "coloraxis",
         "hovertemplate": "Pitch Type: %{x}<br>Hit Type: %{y}<br>Count: %{z}<extra></extra>",
         "name": "0",
         "texttemplate": "%{z}",
         "type": "heatmap",
         "x": [
          "Changeup",
          "Curveball",
          "Cutter",
          "FourSeamFastball",
          "Sinker",
          "Slider"
         ],
         "xaxis": "x",
         "y": [
          "Fly Ball",
          "Hard Hit Ground Ball",
          "Hard Hit Line Drive",
          "Light Ground Ball",
          "Light Line Drive",
          "Pop Up",
          "Power",
          "Strike"
         ],
         "yaxis": "y",
         "z": [
          [
           1,
           0,
           0,
           2,
           2,
           2
          ],
          [
           1,
           1,
           1,
           3,
           4,
           2
          ],
          [
           1,
           0,
           0,
           1,
           1,
           0
          ],
          [
           3,
           1,
           0,
           1,
           3,
           1
          ],
          [
           0,
           1,
           1,
           3,
           1,
           1
          ],
          [
           1,
           0,
           0,
           0,
           1,
           2
          ],
          [
           0,
           0,
           0,
           0,
           1,
           1
          ],
          [
           12,
           16,
           7,
           13,
           35,
           26
          ]
         ]
        }
       ],
       "layout": {
        "coloraxis": {
         "colorbar": {
          "title": {
           "text": "Count"
          }
         },
         "colorscale": [
          [
           0,
           "rgb(150,0,90)"
          ],
          [
           0.125,
           "rgb(0,0,200)"
          ],
          [
           0.25,
           "rgb(0,25,255)"
          ],
          [
           0.375,
           "rgb(0,152,255)"
          ],
          [
           0.5,
           "rgb(44,255,150)"
          ],
          [
           0.625,
           "rgb(151,255,0)"
          ],
          [
           0.75,
           "rgb(255,234,0)"
          ],
          [
           0.875,
           "rgb(255,111,0)"
          ],
          [
           1,
           "rgb(255,0,0)"
          ]
         ]
        },
        "height": 500,
        "template": {
         "data": {
          "bar": [
           {
            "error_x": {
             "color": "#2a3f5f"
            },
            "error_y": {
             "color": "#2a3f5f"
            },
            "marker": {
             "line": {
              "color": "#E5ECF6",
              "width": 0.5
             },
             "pattern": {
              "fillmode": "overlay",
              "size": 10,
              "solidity": 0.2
             }
            },
            "type": "bar"
           }
          ],
          "barpolar": [
           {
            "marker": {
             "line": {
              "color": "#E5ECF6",
              "width": 0.5
             },
             "pattern": {
              "fillmode": "overlay",
              "size": 10,
              "solidity": 0.2
             }
            },
            "type": "barpolar"
           }
          ],
          "carpet": [
           {
            "aaxis": {
             "endlinecolor": "#2a3f5f",
             "gridcolor": "white",
             "linecolor": "white",
             "minorgridcolor": "white",
             "startlinecolor": "#2a3f5f"
            },
            "baxis": {
             "endlinecolor": "#2a3f5f",
             "gridcolor": "white",
             "linecolor": "white",
             "minorgridcolor": "white",
             "startlinecolor": "#2a3f5f"
            },
            "type": "carpet"
           }
          ],
          "choropleth": [
           {
            "colorbar": {
             "outlinewidth": 0,
             "ticks": ""
            },
            "type": "choropleth"
           }
          ],
          "contour": [
           {
            "colorbar": {
             "outlinewidth": 0,
             "ticks": ""
            },
            "colorscale": [
             [
              0,
              "#0d0887"
             ],
             [
              0.1111111111111111,
              "#46039f"
             ],
             [
              0.2222222222222222,
              "#7201a8"
             ],
             [
              0.3333333333333333,
              "#9c179e"
             ],
             [
              0.4444444444444444,
              "#bd3786"
             ],
             [
              0.5555555555555556,
              "#d8576b"
             ],
             [
              0.6666666666666666,
              "#ed7953"
             ],
             [
              0.7777777777777778,
              "#fb9f3a"
             ],
             [
              0.8888888888888888,
              "#fdca26"
             ],
             [
              1,
              "#f0f921"
             ]
            ],
            "type": "contour"
           }
          ],
          "contourcarpet": [
           {
            "colorbar": {
             "outlinewidth": 0,
             "ticks": ""
            },
            "type": "contourcarpet"
           }
          ],
          "heatmap": [
           {
            "colorbar": {
             "outlinewidth": 0,
             "ticks": ""
            },
            "colorscale": [
             [
              0,
              "#0d0887"
             ],
             [
              0.1111111111111111,
              "#46039f"
             ],
             [
              0.2222222222222222,
              "#7201a8"
             ],
             [
              0.3333333333333333,
              "#9c179e"
             ],
             [
              0.4444444444444444,
              "#bd3786"
             ],
             [
              0.5555555555555556,
              "#d8576b"
             ],
             [
              0.6666666666666666,
              "#ed7953"
             ],
             [
              0.7777777777777778,
              "#fb9f3a"
             ],
             [
              0.8888888888888888,
              "#fdca26"
             ],
             [
              1,
              "#f0f921"
             ]
            ],
            "type": "heatmap"
           }
          ],
          "heatmapgl": [
           {
            "colorbar": {
             "outlinewidth": 0,
             "ticks": ""
            },
            "colorscale": [
             [
              0,
              "#0d0887"
             ],
             [
              0.1111111111111111,
              "#46039f"
             ],
             [
              0.2222222222222222,
              "#7201a8"
             ],
             [
              0.3333333333333333,
              "#9c179e"
             ],
             [
              0.4444444444444444,
              "#bd3786"
             ],
             [
              0.5555555555555556,
              "#d8576b"
             ],
             [
              0.6666666666666666,
              "#ed7953"
             ],
             [
              0.7777777777777778,
              "#fb9f3a"
             ],
             [
              0.8888888888888888,
              "#fdca26"
             ],
             [
              1,
              "#f0f921"
             ]
            ],
            "type": "heatmapgl"
           }
          ],
          "histogram": [
           {
            "marker": {
             "pattern": {
              "fillmode": "overlay",
              "size": 10,
              "solidity": 0.2
             }
            },
            "type": "histogram"
           }
          ],
          "histogram2d": [
           {
            "colorbar": {
             "outlinewidth": 0,
             "ticks": ""
            },
            "colorscale": [
             [
              0,
              "#0d0887"
             ],
             [
              0.1111111111111111,
              "#46039f"
             ],
             [
              0.2222222222222222,
              "#7201a8"
             ],
             [
              0.3333333333333333,
              "#9c179e"
             ],
             [
              0.4444444444444444,
              "#bd3786"
             ],
             [
              0.5555555555555556,
              "#d8576b"
             ],
             [
              0.6666666666666666,
              "#ed7953"
             ],
             [
              0.7777777777777778,
              "#fb9f3a"
             ],
             [
              0.8888888888888888,
              "#fdca26"
             ],
             [
              1,
              "#f0f921"
             ]
            ],
            "type": "histogram2d"
           }
          ],
          "histogram2dcontour": [
           {
            "colorbar": {
             "outlinewidth": 0,
             "ticks": ""
            },
            "colorscale": [
             [
              0,
              "#0d0887"
             ],
             [
              0.1111111111111111,
              "#46039f"
             ],
             [
              0.2222222222222222,
              "#7201a8"
             ],
             [
              0.3333333333333333,
              "#9c179e"
             ],
             [
              0.4444444444444444,
              "#bd3786"
             ],
             [
              0.5555555555555556,
              "#d8576b"
             ],
             [
              0.6666666666666666,
              "#ed7953"
             ],
             [
              0.7777777777777778,
              "#fb9f3a"
             ],
             [
              0.8888888888888888,
              "#fdca26"
             ],
             [
              1,
              "#f0f921"
             ]
            ],
            "type": "histogram2dcontour"
           }
          ],
          "mesh3d": [
           {
            "colorbar": {
             "outlinewidth": 0,
             "ticks": ""
            },
            "type": "mesh3d"
           }
          ],
          "parcoords": [
           {
            "line": {
             "colorbar": {
              "outlinewidth": 0,
              "ticks": ""
             }
            },
            "type": "parcoords"
           }
          ],
          "pie": [
           {
            "automargin": true,
            "type": "pie"
           }
          ],
          "scatter": [
           {
            "fillpattern": {
             "fillmode": "overlay",
             "size": 10,
             "solidity": 0.2
            },
            "type": "scatter"
           }
          ],
          "scatter3d": [
           {
            "line": {
             "colorbar": {
              "outlinewidth": 0,
              "ticks": ""
             }
            },
            "marker": {
             "colorbar": {
              "outlinewidth": 0,
              "ticks": ""
             }
            },
            "type": "scatter3d"
           }
          ],
          "scattercarpet": [
           {
            "marker": {
             "colorbar": {
              "outlinewidth": 0,
              "ticks": ""
             }
            },
            "type": "scattercarpet"
           }
          ],
          "scattergeo": [
           {
            "marker": {
             "colorbar": {
              "outlinewidth": 0,
              "ticks": ""
             }
            },
            "type": "scattergeo"
           }
          ],
          "scattergl": [
           {
            "marker": {
             "colorbar": {
              "outlinewidth": 0,
              "ticks": ""
             }
            },
            "type": "scattergl"
           }
          ],
          "scattermapbox": [
           {
            "marker": {
             "colorbar": {
              "outlinewidth": 0,
              "ticks": ""
             }
            },
            "type": "scattermapbox"
           }
          ],
          "scatterpolar": [
           {
            "marker": {
             "colorbar": {
              "outlinewidth": 0,
              "ticks": ""
             }
            },
            "type": "scatterpolar"
           }
          ],
          "scatterpolargl": [
           {
            "marker": {
             "colorbar": {
              "outlinewidth": 0,
              "ticks": ""
             }
            },
            "type": "scatterpolargl"
           }
          ],
          "scatterternary": [
           {
            "marker": {
             "colorbar": {
              "outlinewidth": 0,
              "ticks": ""
             }
            },
            "type": "scatterternary"
           }
          ],
          "surface": [
           {
            "colorbar": {
             "outlinewidth": 0,
             "ticks": ""
            },
            "colorscale": [
             [
              0,
              "#0d0887"
             ],
             [
              0.1111111111111111,
              "#46039f"
             ],
             [
              0.2222222222222222,
              "#7201a8"
             ],
             [
              0.3333333333333333,
              "#9c179e"
             ],
             [
              0.4444444444444444,
              "#bd3786"
             ],
             [
              0.5555555555555556,
              "#d8576b"
             ],
             [
              0.6666666666666666,
              "#ed7953"
             ],
             [
              0.7777777777777778,
              "#fb9f3a"
             ],
             [
              0.8888888888888888,
              "#fdca26"
             ],
             [
              1,
              "#f0f921"
             ]
            ],
            "type": "surface"
           }
          ],
          "table": [
           {
            "cells": {
             "fill": {
              "color": "#EBF0F8"
             },
             "line": {
              "color": "white"
             }
            },
            "header": {
             "fill": {
              "color": "#C8D4E3"
             },
             "line": {
              "color": "white"
             }
            },
            "type": "table"
           }
          ]
         },
         "layout": {
          "annotationdefaults": {
           "arrowcolor": "#2a3f5f",
           "arrowhead": 0,
           "arrowwidth": 1
          },
          "autotypenumbers": "strict",
          "coloraxis": {
           "colorbar": {
            "outlinewidth": 0,
            "ticks": ""
           }
          },
          "colorscale": {
           "diverging": [
            [
             0,
             "#8e0152"
            ],
            [
             0.1,
             "#c51b7d"
            ],
            [
             0.2,
             "#de77ae"
            ],
            [
             0.3,
             "#f1b6da"
            ],
            [
             0.4,
             "#fde0ef"
            ],
            [
             0.5,
             "#f7f7f7"
            ],
            [
             0.6,
             "#e6f5d0"
            ],
            [
             0.7,
             "#b8e186"
            ],
            [
             0.8,
             "#7fbc41"
            ],
            [
             0.9,
             "#4d9221"
            ],
            [
             1,
             "#276419"
            ]
           ],
           "sequential": [
            [
             0,
             "#0d0887"
            ],
            [
             0.1111111111111111,
             "#46039f"
            ],
            [
             0.2222222222222222,
             "#7201a8"
            ],
            [
             0.3333333333333333,
             "#9c179e"
            ],
            [
             0.4444444444444444,
             "#bd3786"
            ],
            [
             0.5555555555555556,
             "#d8576b"
            ],
            [
             0.6666666666666666,
             "#ed7953"
            ],
            [
             0.7777777777777778,
             "#fb9f3a"
            ],
            [
             0.8888888888888888,
             "#fdca26"
            ],
            [
             1,
             "#f0f921"
            ]
           ],
           "sequentialminus": [
            [
             0,
             "#0d0887"
            ],
            [
             0.1111111111111111,
             "#46039f"
            ],
            [
             0.2222222222222222,
             "#7201a8"
            ],
            [
             0.3333333333333333,
             "#9c179e"
            ],
            [
             0.4444444444444444,
             "#bd3786"
            ],
            [
             0.5555555555555556,
             "#d8576b"
            ],
            [
             0.6666666666666666,
             "#ed7953"
            ],
            [
             0.7777777777777778,
             "#fb9f3a"
            ],
            [
             0.8888888888888888,
             "#fdca26"
            ],
            [
             1,
             "#f0f921"
            ]
           ]
          },
          "colorway": [
           "#636efa",
           "#EF553B",
           "#00cc96",
           "#ab63fa",
           "#FFA15A",
           "#19d3f3",
           "#FF6692",
           "#B6E880",
           "#FF97FF",
           "#FECB52"
          ],
          "font": {
           "color": "#2a3f5f"
          },
          "geo": {
           "bgcolor": "white",
           "lakecolor": "white",
           "landcolor": "#E5ECF6",
           "showlakes": true,
           "showland": true,
           "subunitcolor": "white"
          },
          "hoverlabel": {
           "align": "left"
          },
          "hovermode": "closest",
          "mapbox": {
           "style": "light"
          },
          "paper_bgcolor": "white",
          "plot_bgcolor": "#E5ECF6",
          "polar": {
           "angularaxis": {
            "gridcolor": "white",
            "linecolor": "white",
            "ticks": ""
           },
           "bgcolor": "#E5ECF6",
           "radialaxis": {
            "gridcolor": "white",
            "linecolor": "white",
            "ticks": ""
           }
          },
          "scene": {
           "xaxis": {
            "backgroundcolor": "#E5ECF6",
            "gridcolor": "white",
            "gridwidth": 2,
            "linecolor": "white",
            "showbackground": true,
            "ticks": "",
            "zerolinecolor": "white"
           },
           "yaxis": {
            "backgroundcolor": "#E5ECF6",
            "gridcolor": "white",
            "gridwidth": 2,
            "linecolor": "white",
            "showbackground": true,
            "ticks": "",
            "zerolinecolor": "white"
           },
           "zaxis": {
            "backgroundcolor": "#E5ECF6",
            "gridcolor": "white",
            "gridwidth": 2,
            "linecolor": "white",
            "showbackground": true,
            "ticks": "",
            "zerolinecolor": "white"
           }
          },
          "shapedefaults": {
           "line": {
            "color": "#2a3f5f"
           }
          },
          "ternary": {
           "aaxis": {
            "gridcolor": "white",
            "linecolor": "white",
            "ticks": ""
           },
           "baxis": {
            "gridcolor": "white",
            "linecolor": "white",
            "ticks": ""
           },
           "bgcolor": "#E5ECF6",
           "caxis": {
            "gridcolor": "white",
            "linecolor": "white",
            "ticks": ""
           }
          },
          "title": {
           "x": 0.05
          },
          "xaxis": {
           "automargin": true,
           "gridcolor": "white",
           "linecolor": "white",
           "ticks": "",
           "title": {
            "standoff": 15
           },
           "zerolinecolor": "white",
           "zerolinewidth": 2
          },
          "yaxis": {
           "automargin": true,
           "gridcolor": "white",
           "linecolor": "white",
           "ticks": "",
           "title": {
            "standoff": 15
           },
           "zerolinecolor": "white",
           "zerolinewidth": 2
          }
         }
        },
        "title": {
         "text": "Heatmap of Hit Type vs Pitch Type"
        },
        "width": 600,
        "xaxis": {
         "anchor": "y",
         "domain": [
          0,
          1
         ],
         "title": {
          "text": "Pitch Type"
         }
        },
        "yaxis": {
         "anchor": "x",
         "autorange": "reversed",
         "domain": [
          0,
          1
         ],
         "title": {
          "text": "Hit Type"
         }
        }
       }
      },
      "text/html": [
       "<div>                            <div id=\"7a978d63-85a3-4b17-8bd2-d4e762f47bbb\" class=\"plotly-graph-div\" style=\"height:500px; width:600px;\"></div>            <script type=\"text/javascript\">                require([\"plotly\"], function(Plotly) {                    window.PLOTLYENV=window.PLOTLYENV || {};                                    if (document.getElementById(\"7a978d63-85a3-4b17-8bd2-d4e762f47bbb\")) {                    Plotly.newPlot(                        \"7a978d63-85a3-4b17-8bd2-d4e762f47bbb\",                        [{\"coloraxis\":\"coloraxis\",\"name\":\"0\",\"texttemplate\":\"%{z}\",\"x\":[\"Changeup\",\"Curveball\",\"Cutter\",\"FourSeamFastball\",\"Sinker\",\"Slider\"],\"y\":[\"Fly Ball\",\"Hard Hit Ground Ball\",\"Hard Hit Line Drive\",\"Light Ground Ball\",\"Light Line Drive\",\"Pop Up\",\"Power\",\"Strike\"],\"z\":[[1.0,0.0,0.0,2.0,2.0,2.0],[1.0,1.0,1.0,3.0,4.0,2.0],[1.0,0.0,0.0,1.0,1.0,0.0],[3.0,1.0,0.0,1.0,3.0,1.0],[0.0,1.0,1.0,3.0,1.0,1.0],[1.0,0.0,0.0,0.0,1.0,2.0],[0.0,0.0,0.0,0.0,1.0,1.0],[12.0,16.0,7.0,13.0,35.0,26.0]],\"type\":\"heatmap\",\"xaxis\":\"x\",\"yaxis\":\"y\",\"hovertemplate\":\"Pitch Type: %{x}<br>Hit Type: %{y}<br>Count: %{z}<extra></extra>\"}],                        {\"template\":{\"data\":{\"histogram2dcontour\":[{\"type\":\"histogram2dcontour\",\"colorbar\":{\"outlinewidth\":0,\"ticks\":\"\"},\"colorscale\":[[0.0,\"#0d0887\"],[0.1111111111111111,\"#46039f\"],[0.2222222222222222,\"#7201a8\"],[0.3333333333333333,\"#9c179e\"],[0.4444444444444444,\"#bd3786\"],[0.5555555555555556,\"#d8576b\"],[0.6666666666666666,\"#ed7953\"],[0.7777777777777778,\"#fb9f3a\"],[0.8888888888888888,\"#fdca26\"],[1.0,\"#f0f921\"]]}],\"choropleth\":[{\"type\":\"choropleth\",\"colorbar\":{\"outlinewidth\":0,\"ticks\":\"\"}}],\"histogram2d\":[{\"type\":\"histogram2d\",\"colorbar\":{\"outlinewidth\":0,\"ticks\":\"\"},\"colorscale\":[[0.0,\"#0d0887\"],[0.1111111111111111,\"#46039f\"],[0.2222222222222222,\"#7201a8\"],[0.3333333333333333,\"#9c179e\"],[0.4444444444444444,\"#bd3786\"],[0.5555555555555556,\"#d8576b\"],[0.6666666666666666,\"#ed7953\"],[0.7777777777777778,\"#fb9f3a\"],[0.8888888888888888,\"#fdca26\"],[1.0,\"#f0f921\"]]}],\"heatmap\":[{\"type\":\"heatmap\",\"colorbar\":{\"outlinewidth\":0,\"ticks\":\"\"},\"colorscale\":[[0.0,\"#0d0887\"],[0.1111111111111111,\"#46039f\"],[0.2222222222222222,\"#7201a8\"],[0.3333333333333333,\"#9c179e\"],[0.4444444444444444,\"#bd3786\"],[0.5555555555555556,\"#d8576b\"],[0.6666666666666666,\"#ed7953\"],[0.7777777777777778,\"#fb9f3a\"],[0.8888888888888888,\"#fdca26\"],[1.0,\"#f0f921\"]]}],\"heatmapgl\":[{\"type\":\"heatmapgl\",\"colorbar\":{\"outlinewidth\":0,\"ticks\":\"\"},\"colorscale\":[[0.0,\"#0d0887\"],[0.1111111111111111,\"#46039f\"],[0.2222222222222222,\"#7201a8\"],[0.3333333333333333,\"#9c179e\"],[0.4444444444444444,\"#bd3786\"],[0.5555555555555556,\"#d8576b\"],[0.6666666666666666,\"#ed7953\"],[0.7777777777777778,\"#fb9f3a\"],[0.8888888888888888,\"#fdca26\"],[1.0,\"#f0f921\"]]}],\"contourcarpet\":[{\"type\":\"contourcarpet\",\"colorbar\":{\"outlinewidth\":0,\"ticks\":\"\"}}],\"contour\":[{\"type\":\"contour\",\"colorbar\":{\"outlinewidth\":0,\"ticks\":\"\"},\"colorscale\":[[0.0,\"#0d0887\"],[0.1111111111111111,\"#46039f\"],[0.2222222222222222,\"#7201a8\"],[0.3333333333333333,\"#9c179e\"],[0.4444444444444444,\"#bd3786\"],[0.5555555555555556,\"#d8576b\"],[0.6666666666666666,\"#ed7953\"],[0.7777777777777778,\"#fb9f3a\"],[0.8888888888888888,\"#fdca26\"],[1.0,\"#f0f921\"]]}],\"surface\":[{\"type\":\"surface\",\"colorbar\":{\"outlinewidth\":0,\"ticks\":\"\"},\"colorscale\":[[0.0,\"#0d0887\"],[0.1111111111111111,\"#46039f\"],[0.2222222222222222,\"#7201a8\"],[0.3333333333333333,\"#9c179e\"],[0.4444444444444444,\"#bd3786\"],[0.5555555555555556,\"#d8576b\"],[0.6666666666666666,\"#ed7953\"],[0.7777777777777778,\"#fb9f3a\"],[0.8888888888888888,\"#fdca26\"],[1.0,\"#f0f921\"]]}],\"mesh3d\":[{\"type\":\"mesh3d\",\"colorbar\":{\"outlinewidth\":0,\"ticks\":\"\"}}],\"scatter\":[{\"fillpattern\":{\"fillmode\":\"overlay\",\"size\":10,\"solidity\":0.2},\"type\":\"scatter\"}],\"parcoords\":[{\"type\":\"parcoords\",\"line\":{\"colorbar\":{\"outlinewidth\":0,\"ticks\":\"\"}}}],\"scatterpolargl\":[{\"type\":\"scatterpolargl\",\"marker\":{\"colorbar\":{\"outlinewidth\":0,\"ticks\":\"\"}}}],\"bar\":[{\"error_x\":{\"color\":\"#2a3f5f\"},\"error_y\":{\"color\":\"#2a3f5f\"},\"marker\":{\"line\":{\"color\":\"#E5ECF6\",\"width\":0.5},\"pattern\":{\"fillmode\":\"overlay\",\"size\":10,\"solidity\":0.2}},\"type\":\"bar\"}],\"scattergeo\":[{\"type\":\"scattergeo\",\"marker\":{\"colorbar\":{\"outlinewidth\":0,\"ticks\":\"\"}}}],\"scatterpolar\":[{\"type\":\"scatterpolar\",\"marker\":{\"colorbar\":{\"outlinewidth\":0,\"ticks\":\"\"}}}],\"histogram\":[{\"marker\":{\"pattern\":{\"fillmode\":\"overlay\",\"size\":10,\"solidity\":0.2}},\"type\":\"histogram\"}],\"scattergl\":[{\"type\":\"scattergl\",\"marker\":{\"colorbar\":{\"outlinewidth\":0,\"ticks\":\"\"}}}],\"scatter3d\":[{\"type\":\"scatter3d\",\"line\":{\"colorbar\":{\"outlinewidth\":0,\"ticks\":\"\"}},\"marker\":{\"colorbar\":{\"outlinewidth\":0,\"ticks\":\"\"}}}],\"scattermapbox\":[{\"type\":\"scattermapbox\",\"marker\":{\"colorbar\":{\"outlinewidth\":0,\"ticks\":\"\"}}}],\"scatterternary\":[{\"type\":\"scatterternary\",\"marker\":{\"colorbar\":{\"outlinewidth\":0,\"ticks\":\"\"}}}],\"scattercarpet\":[{\"type\":\"scattercarpet\",\"marker\":{\"colorbar\":{\"outlinewidth\":0,\"ticks\":\"\"}}}],\"carpet\":[{\"aaxis\":{\"endlinecolor\":\"#2a3f5f\",\"gridcolor\":\"white\",\"linecolor\":\"white\",\"minorgridcolor\":\"white\",\"startlinecolor\":\"#2a3f5f\"},\"baxis\":{\"endlinecolor\":\"#2a3f5f\",\"gridcolor\":\"white\",\"linecolor\":\"white\",\"minorgridcolor\":\"white\",\"startlinecolor\":\"#2a3f5f\"},\"type\":\"carpet\"}],\"table\":[{\"cells\":{\"fill\":{\"color\":\"#EBF0F8\"},\"line\":{\"color\":\"white\"}},\"header\":{\"fill\":{\"color\":\"#C8D4E3\"},\"line\":{\"color\":\"white\"}},\"type\":\"table\"}],\"barpolar\":[{\"marker\":{\"line\":{\"color\":\"#E5ECF6\",\"width\":0.5},\"pattern\":{\"fillmode\":\"overlay\",\"size\":10,\"solidity\":0.2}},\"type\":\"barpolar\"}],\"pie\":[{\"automargin\":true,\"type\":\"pie\"}]},\"layout\":{\"autotypenumbers\":\"strict\",\"colorway\":[\"#636efa\",\"#EF553B\",\"#00cc96\",\"#ab63fa\",\"#FFA15A\",\"#19d3f3\",\"#FF6692\",\"#B6E880\",\"#FF97FF\",\"#FECB52\"],\"font\":{\"color\":\"#2a3f5f\"},\"hovermode\":\"closest\",\"hoverlabel\":{\"align\":\"left\"},\"paper_bgcolor\":\"white\",\"plot_bgcolor\":\"#E5ECF6\",\"polar\":{\"bgcolor\":\"#E5ECF6\",\"angularaxis\":{\"gridcolor\":\"white\",\"linecolor\":\"white\",\"ticks\":\"\"},\"radialaxis\":{\"gridcolor\":\"white\",\"linecolor\":\"white\",\"ticks\":\"\"}},\"ternary\":{\"bgcolor\":\"#E5ECF6\",\"aaxis\":{\"gridcolor\":\"white\",\"linecolor\":\"white\",\"ticks\":\"\"},\"baxis\":{\"gridcolor\":\"white\",\"linecolor\":\"white\",\"ticks\":\"\"},\"caxis\":{\"gridcolor\":\"white\",\"linecolor\":\"white\",\"ticks\":\"\"}},\"coloraxis\":{\"colorbar\":{\"outlinewidth\":0,\"ticks\":\"\"}},\"colorscale\":{\"sequential\":[[0.0,\"#0d0887\"],[0.1111111111111111,\"#46039f\"],[0.2222222222222222,\"#7201a8\"],[0.3333333333333333,\"#9c179e\"],[0.4444444444444444,\"#bd3786\"],[0.5555555555555556,\"#d8576b\"],[0.6666666666666666,\"#ed7953\"],[0.7777777777777778,\"#fb9f3a\"],[0.8888888888888888,\"#fdca26\"],[1.0,\"#f0f921\"]],\"sequentialminus\":[[0.0,\"#0d0887\"],[0.1111111111111111,\"#46039f\"],[0.2222222222222222,\"#7201a8\"],[0.3333333333333333,\"#9c179e\"],[0.4444444444444444,\"#bd3786\"],[0.5555555555555556,\"#d8576b\"],[0.6666666666666666,\"#ed7953\"],[0.7777777777777778,\"#fb9f3a\"],[0.8888888888888888,\"#fdca26\"],[1.0,\"#f0f921\"]],\"diverging\":[[0,\"#8e0152\"],[0.1,\"#c51b7d\"],[0.2,\"#de77ae\"],[0.3,\"#f1b6da\"],[0.4,\"#fde0ef\"],[0.5,\"#f7f7f7\"],[0.6,\"#e6f5d0\"],[0.7,\"#b8e186\"],[0.8,\"#7fbc41\"],[0.9,\"#4d9221\"],[1,\"#276419\"]]},\"xaxis\":{\"gridcolor\":\"white\",\"linecolor\":\"white\",\"ticks\":\"\",\"title\":{\"standoff\":15},\"zerolinecolor\":\"white\",\"automargin\":true,\"zerolinewidth\":2},\"yaxis\":{\"gridcolor\":\"white\",\"linecolor\":\"white\",\"ticks\":\"\",\"title\":{\"standoff\":15},\"zerolinecolor\":\"white\",\"automargin\":true,\"zerolinewidth\":2},\"scene\":{\"xaxis\":{\"backgroundcolor\":\"#E5ECF6\",\"gridcolor\":\"white\",\"linecolor\":\"white\",\"showbackground\":true,\"ticks\":\"\",\"zerolinecolor\":\"white\",\"gridwidth\":2},\"yaxis\":{\"backgroundcolor\":\"#E5ECF6\",\"gridcolor\":\"white\",\"linecolor\":\"white\",\"showbackground\":true,\"ticks\":\"\",\"zerolinecolor\":\"white\",\"gridwidth\":2},\"zaxis\":{\"backgroundcolor\":\"#E5ECF6\",\"gridcolor\":\"white\",\"linecolor\":\"white\",\"showbackground\":true,\"ticks\":\"\",\"zerolinecolor\":\"white\",\"gridwidth\":2}},\"shapedefaults\":{\"line\":{\"color\":\"#2a3f5f\"}},\"annotationdefaults\":{\"arrowcolor\":\"#2a3f5f\",\"arrowhead\":0,\"arrowwidth\":1},\"geo\":{\"bgcolor\":\"white\",\"landcolor\":\"#E5ECF6\",\"subunitcolor\":\"white\",\"showland\":true,\"showlakes\":true,\"lakecolor\":\"white\"},\"title\":{\"x\":0.05},\"mapbox\":{\"style\":\"light\"}}},\"xaxis\":{\"anchor\":\"y\",\"domain\":[0.0,1.0],\"title\":{\"text\":\"Pitch Type\"}},\"yaxis\":{\"anchor\":\"x\",\"domain\":[0.0,1.0],\"autorange\":\"reversed\",\"title\":{\"text\":\"Hit Type\"}},\"coloraxis\":{\"colorbar\":{\"title\":{\"text\":\"Count\"}},\"colorscale\":[[0.0,\"rgb(150,0,90)\"],[0.125,\"rgb(0,0,200)\"],[0.25,\"rgb(0,25,255)\"],[0.375,\"rgb(0,152,255)\"],[0.5,\"rgb(44,255,150)\"],[0.625,\"rgb(151,255,0)\"],[0.75,\"rgb(255,234,0)\"],[0.875,\"rgb(255,111,0)\"],[1.0,\"rgb(255,0,0)\"]]},\"title\":{\"text\":\"Heatmap of Hit Type vs Pitch Type\"},\"height\":500,\"width\":600},                        {\"responsive\": true}                    ).then(function(){\n",
       "                            \n",
       "var gd = document.getElementById('7a978d63-85a3-4b17-8bd2-d4e762f47bbb');\n",
       "var x = new MutationObserver(function (mutations, observer) {{\n",
       "        var display = window.getComputedStyle(gd).display;\n",
       "        if (!display || display === 'none') {{\n",
       "            console.log([gd, 'removed!']);\n",
       "            Plotly.purge(gd);\n",
       "            observer.disconnect();\n",
       "        }}\n",
       "}});\n",
       "\n",
       "// Listen for the removal of the full notebook cells\n",
       "var notebookContainer = gd.closest('#notebook-container');\n",
       "if (notebookContainer) {{\n",
       "    x.observe(notebookContainer, {childList: true});\n",
       "}}\n",
       "\n",
       "// Listen for the clearing of the current output cell\n",
       "var outputEl = gd.closest('.output');\n",
       "if (outputEl) {{\n",
       "    x.observe(outputEl, {childList: true});\n",
       "}}\n",
       "\n",
       "                        })                };                });            </script>        </div>"
      ]
     },
     "metadata": {},
     "output_type": "display_data"
    }
   ],
   "source": [
    "fig = px.imshow(pivot_df, text_auto=True, aspect=\"auto\",\n",
    "                labels=dict(x=\"Pitch Type\", y=\"Hit Type\", color=\"Count\"),\n",
    "                title=\"Heatmap of Hit Type vs Pitch Type\",\n",
    "                width=600,\n",
    "                height=500,\n",
    "                color_continuous_scale=px.colors.sequential.Rainbow)\n",
    "fig.show()"
   ]
  },
  {
   "cell_type": "markdown",
   "id": "9e6935aa",
   "metadata": {},
   "source": [
    "### Hit Type and Pitch Speed Histogram"
   ]
  },
  {
   "cell_type": "code",
   "execution_count": 29,
   "id": "f4e8d792",
   "metadata": {},
   "outputs": [
    {
     "data": {
      "application/vnd.plotly.v1+json": {
       "config": {
        "plotlyServerURL": "https://plot.ly"
       },
       "data": [
        {
         "alignmentgroup": "True",
         "bingroup": "x",
         "hovertemplate": "Hit Type=Strike<br>Pitch Speed=%{x}<br>count=%{y}<extra></extra>",
         "legendgroup": "Strike",
         "marker": {
          "color": "#636efa",
          "pattern": {
           "shape": ""
          }
         },
         "name": "Strike",
         "offsetgroup": "Strike",
         "orientation": "v",
         "showlegend": true,
         "type": "histogram",
         "x": [
          84,
          79,
          78,
          79,
          93,
          93,
          79,
          95,
          93,
          81,
          93,
          92,
          81,
          86,
          90,
          92,
          79,
          78,
          83,
          83,
          96,
          78,
          86,
          71,
          92,
          90,
          83,
          86,
          88,
          94,
          91,
          85,
          93,
          95,
          77,
          78,
          85,
          89,
          87,
          77,
          91,
          95,
          97,
          86,
          84,
          85,
          90,
          84,
          85,
          91,
          78,
          86,
          92,
          80,
          89,
          93,
          95,
          90,
          94,
          79,
          87,
          87,
          91,
          85,
          93,
          85,
          70,
          95,
          93,
          77,
          83,
          97,
          84,
          96,
          93,
          93,
          85,
          83,
          94,
          92,
          78,
          96,
          92,
          92,
          87,
          94,
          85,
          88,
          85,
          78,
          81,
          92,
          91,
          78,
          91,
          86,
          96,
          91,
          84,
          94,
          97,
          88,
          86,
          86,
          90,
          91,
          84,
          77,
          81
         ],
         "xaxis": "x",
         "yaxis": "y"
        },
        {
         "alignmentgroup": "True",
         "bingroup": "x",
         "hovertemplate": "Hit Type=Light Ground Ball<br>Pitch Speed=%{x}<br>count=%{y}<extra></extra>",
         "legendgroup": "Light Ground Ball",
         "marker": {
          "color": "#EF553B",
          "pattern": {
           "shape": ""
          }
         },
         "name": "Light Ground Ball",
         "offsetgroup": "Light Ground Ball",
         "orientation": "v",
         "showlegend": true,
         "type": "histogram",
         "x": [
          94,
          84,
          85,
          91,
          79,
          92,
          85,
          86,
          91
         ],
         "xaxis": "x",
         "yaxis": "y"
        },
        {
         "alignmentgroup": "True",
         "bingroup": "x",
         "hovertemplate": "Hit Type=Hard Hit Ground Ball<br>Pitch Speed=%{x}<br>count=%{y}<extra></extra>",
         "legendgroup": "Hard Hit Ground Ball",
         "marker": {
          "color": "#00cc96",
          "pattern": {
           "shape": ""
          }
         },
         "name": "Hard Hit Ground Ball",
         "offsetgroup": "Hard Hit Ground Ball",
         "orientation": "v",
         "showlegend": true,
         "type": "histogram",
         "x": [
          86,
          90,
          78,
          93,
          87,
          94,
          91,
          95,
          78,
          92,
          84,
          96
         ],
         "xaxis": "x",
         "yaxis": "y"
        },
        {
         "alignmentgroup": "True",
         "bingroup": "x",
         "hovertemplate": "Hit Type=Hard Hit Line Drive<br>Pitch Speed=%{x}<br>count=%{y}<extra></extra>",
         "legendgroup": "Hard Hit Line Drive",
         "marker": {
          "color": "#ab63fa",
          "pattern": {
           "shape": ""
          }
         },
         "name": "Hard Hit Line Drive",
         "offsetgroup": "Hard Hit Line Drive",
         "orientation": "v",
         "showlegend": true,
         "type": "histogram",
         "x": [
          86,
          92,
          92
         ],
         "xaxis": "x",
         "yaxis": "y"
        },
        {
         "alignmentgroup": "True",
         "bingroup": "x",
         "hovertemplate": "Hit Type=Pop Up<br>Pitch Speed=%{x}<br>count=%{y}<extra></extra>",
         "legendgroup": "Pop Up",
         "marker": {
          "color": "#FFA15A",
          "pattern": {
           "shape": ""
          }
         },
         "name": "Pop Up",
         "offsetgroup": "Pop Up",
         "orientation": "v",
         "showlegend": true,
         "type": "histogram",
         "x": [
          80,
          90,
          82,
          83
         ],
         "xaxis": "x",
         "yaxis": "y"
        },
        {
         "alignmentgroup": "True",
         "bingroup": "x",
         "hovertemplate": "Hit Type=Light Line Drive<br>Pitch Speed=%{x}<br>count=%{y}<extra></extra>",
         "legendgroup": "Light Line Drive",
         "marker": {
          "color": "#19d3f3",
          "pattern": {
           "shape": ""
          }
         },
         "name": "Light Line Drive",
         "offsetgroup": "Light Line Drive",
         "orientation": "v",
         "showlegend": true,
         "type": "histogram",
         "x": [
          90,
          95,
          90,
          93,
          71,
          78,
          92
         ],
         "xaxis": "x",
         "yaxis": "y"
        },
        {
         "alignmentgroup": "True",
         "bingroup": "x",
         "hovertemplate": "Hit Type=Fly Ball<br>Pitch Speed=%{x}<br>count=%{y}<extra></extra>",
         "legendgroup": "Fly Ball",
         "marker": {
          "color": "#FF6692",
          "pattern": {
           "shape": ""
          }
         },
         "name": "Fly Ball",
         "offsetgroup": "Fly Ball",
         "orientation": "v",
         "showlegend": true,
         "type": "histogram",
         "x": [
          95,
          86,
          79,
          84,
          90,
          97,
          91
         ],
         "xaxis": "x",
         "yaxis": "y"
        },
        {
         "alignmentgroup": "True",
         "bingroup": "x",
         "hovertemplate": "Hit Type=Power<br>Pitch Speed=%{x}<br>count=%{y}<extra></extra>",
         "legendgroup": "Power",
         "marker": {
          "color": "#B6E880",
          "pattern": {
           "shape": ""
          }
         },
         "name": "Power",
         "offsetgroup": "Power",
         "orientation": "v",
         "showlegend": true,
         "type": "histogram",
         "x": [
          80,
          91
         ],
         "xaxis": "x",
         "yaxis": "y"
        }
       ],
       "layout": {
        "barmode": "relative",
        "legend": {
         "title": {
          "text": "Hit Type"
         },
         "tracegroupgap": 0
        },
        "template": {
         "data": {
          "bar": [
           {
            "error_x": {
             "color": "#2a3f5f"
            },
            "error_y": {
             "color": "#2a3f5f"
            },
            "marker": {
             "line": {
              "color": "#E5ECF6",
              "width": 0.5
             },
             "pattern": {
              "fillmode": "overlay",
              "size": 10,
              "solidity": 0.2
             }
            },
            "type": "bar"
           }
          ],
          "barpolar": [
           {
            "marker": {
             "line": {
              "color": "#E5ECF6",
              "width": 0.5
             },
             "pattern": {
              "fillmode": "overlay",
              "size": 10,
              "solidity": 0.2
             }
            },
            "type": "barpolar"
           }
          ],
          "carpet": [
           {
            "aaxis": {
             "endlinecolor": "#2a3f5f",
             "gridcolor": "white",
             "linecolor": "white",
             "minorgridcolor": "white",
             "startlinecolor": "#2a3f5f"
            },
            "baxis": {
             "endlinecolor": "#2a3f5f",
             "gridcolor": "white",
             "linecolor": "white",
             "minorgridcolor": "white",
             "startlinecolor": "#2a3f5f"
            },
            "type": "carpet"
           }
          ],
          "choropleth": [
           {
            "colorbar": {
             "outlinewidth": 0,
             "ticks": ""
            },
            "type": "choropleth"
           }
          ],
          "contour": [
           {
            "colorbar": {
             "outlinewidth": 0,
             "ticks": ""
            },
            "colorscale": [
             [
              0,
              "#0d0887"
             ],
             [
              0.1111111111111111,
              "#46039f"
             ],
             [
              0.2222222222222222,
              "#7201a8"
             ],
             [
              0.3333333333333333,
              "#9c179e"
             ],
             [
              0.4444444444444444,
              "#bd3786"
             ],
             [
              0.5555555555555556,
              "#d8576b"
             ],
             [
              0.6666666666666666,
              "#ed7953"
             ],
             [
              0.7777777777777778,
              "#fb9f3a"
             ],
             [
              0.8888888888888888,
              "#fdca26"
             ],
             [
              1,
              "#f0f921"
             ]
            ],
            "type": "contour"
           }
          ],
          "contourcarpet": [
           {
            "colorbar": {
             "outlinewidth": 0,
             "ticks": ""
            },
            "type": "contourcarpet"
           }
          ],
          "heatmap": [
           {
            "colorbar": {
             "outlinewidth": 0,
             "ticks": ""
            },
            "colorscale": [
             [
              0,
              "#0d0887"
             ],
             [
              0.1111111111111111,
              "#46039f"
             ],
             [
              0.2222222222222222,
              "#7201a8"
             ],
             [
              0.3333333333333333,
              "#9c179e"
             ],
             [
              0.4444444444444444,
              "#bd3786"
             ],
             [
              0.5555555555555556,
              "#d8576b"
             ],
             [
              0.6666666666666666,
              "#ed7953"
             ],
             [
              0.7777777777777778,
              "#fb9f3a"
             ],
             [
              0.8888888888888888,
              "#fdca26"
             ],
             [
              1,
              "#f0f921"
             ]
            ],
            "type": "heatmap"
           }
          ],
          "heatmapgl": [
           {
            "colorbar": {
             "outlinewidth": 0,
             "ticks": ""
            },
            "colorscale": [
             [
              0,
              "#0d0887"
             ],
             [
              0.1111111111111111,
              "#46039f"
             ],
             [
              0.2222222222222222,
              "#7201a8"
             ],
             [
              0.3333333333333333,
              "#9c179e"
             ],
             [
              0.4444444444444444,
              "#bd3786"
             ],
             [
              0.5555555555555556,
              "#d8576b"
             ],
             [
              0.6666666666666666,
              "#ed7953"
             ],
             [
              0.7777777777777778,
              "#fb9f3a"
             ],
             [
              0.8888888888888888,
              "#fdca26"
             ],
             [
              1,
              "#f0f921"
             ]
            ],
            "type": "heatmapgl"
           }
          ],
          "histogram": [
           {
            "marker": {
             "pattern": {
              "fillmode": "overlay",
              "size": 10,
              "solidity": 0.2
             }
            },
            "type": "histogram"
           }
          ],
          "histogram2d": [
           {
            "colorbar": {
             "outlinewidth": 0,
             "ticks": ""
            },
            "colorscale": [
             [
              0,
              "#0d0887"
             ],
             [
              0.1111111111111111,
              "#46039f"
             ],
             [
              0.2222222222222222,
              "#7201a8"
             ],
             [
              0.3333333333333333,
              "#9c179e"
             ],
             [
              0.4444444444444444,
              "#bd3786"
             ],
             [
              0.5555555555555556,
              "#d8576b"
             ],
             [
              0.6666666666666666,
              "#ed7953"
             ],
             [
              0.7777777777777778,
              "#fb9f3a"
             ],
             [
              0.8888888888888888,
              "#fdca26"
             ],
             [
              1,
              "#f0f921"
             ]
            ],
            "type": "histogram2d"
           }
          ],
          "histogram2dcontour": [
           {
            "colorbar": {
             "outlinewidth": 0,
             "ticks": ""
            },
            "colorscale": [
             [
              0,
              "#0d0887"
             ],
             [
              0.1111111111111111,
              "#46039f"
             ],
             [
              0.2222222222222222,
              "#7201a8"
             ],
             [
              0.3333333333333333,
              "#9c179e"
             ],
             [
              0.4444444444444444,
              "#bd3786"
             ],
             [
              0.5555555555555556,
              "#d8576b"
             ],
             [
              0.6666666666666666,
              "#ed7953"
             ],
             [
              0.7777777777777778,
              "#fb9f3a"
             ],
             [
              0.8888888888888888,
              "#fdca26"
             ],
             [
              1,
              "#f0f921"
             ]
            ],
            "type": "histogram2dcontour"
           }
          ],
          "mesh3d": [
           {
            "colorbar": {
             "outlinewidth": 0,
             "ticks": ""
            },
            "type": "mesh3d"
           }
          ],
          "parcoords": [
           {
            "line": {
             "colorbar": {
              "outlinewidth": 0,
              "ticks": ""
             }
            },
            "type": "parcoords"
           }
          ],
          "pie": [
           {
            "automargin": true,
            "type": "pie"
           }
          ],
          "scatter": [
           {
            "fillpattern": {
             "fillmode": "overlay",
             "size": 10,
             "solidity": 0.2
            },
            "type": "scatter"
           }
          ],
          "scatter3d": [
           {
            "line": {
             "colorbar": {
              "outlinewidth": 0,
              "ticks": ""
             }
            },
            "marker": {
             "colorbar": {
              "outlinewidth": 0,
              "ticks": ""
             }
            },
            "type": "scatter3d"
           }
          ],
          "scattercarpet": [
           {
            "marker": {
             "colorbar": {
              "outlinewidth": 0,
              "ticks": ""
             }
            },
            "type": "scattercarpet"
           }
          ],
          "scattergeo": [
           {
            "marker": {
             "colorbar": {
              "outlinewidth": 0,
              "ticks": ""
             }
            },
            "type": "scattergeo"
           }
          ],
          "scattergl": [
           {
            "marker": {
             "colorbar": {
              "outlinewidth": 0,
              "ticks": ""
             }
            },
            "type": "scattergl"
           }
          ],
          "scattermapbox": [
           {
            "marker": {
             "colorbar": {
              "outlinewidth": 0,
              "ticks": ""
             }
            },
            "type": "scattermapbox"
           }
          ],
          "scatterpolar": [
           {
            "marker": {
             "colorbar": {
              "outlinewidth": 0,
              "ticks": ""
             }
            },
            "type": "scatterpolar"
           }
          ],
          "scatterpolargl": [
           {
            "marker": {
             "colorbar": {
              "outlinewidth": 0,
              "ticks": ""
             }
            },
            "type": "scatterpolargl"
           }
          ],
          "scatterternary": [
           {
            "marker": {
             "colorbar": {
              "outlinewidth": 0,
              "ticks": ""
             }
            },
            "type": "scatterternary"
           }
          ],
          "surface": [
           {
            "colorbar": {
             "outlinewidth": 0,
             "ticks": ""
            },
            "colorscale": [
             [
              0,
              "#0d0887"
             ],
             [
              0.1111111111111111,
              "#46039f"
             ],
             [
              0.2222222222222222,
              "#7201a8"
             ],
             [
              0.3333333333333333,
              "#9c179e"
             ],
             [
              0.4444444444444444,
              "#bd3786"
             ],
             [
              0.5555555555555556,
              "#d8576b"
             ],
             [
              0.6666666666666666,
              "#ed7953"
             ],
             [
              0.7777777777777778,
              "#fb9f3a"
             ],
             [
              0.8888888888888888,
              "#fdca26"
             ],
             [
              1,
              "#f0f921"
             ]
            ],
            "type": "surface"
           }
          ],
          "table": [
           {
            "cells": {
             "fill": {
              "color": "#EBF0F8"
             },
             "line": {
              "color": "white"
             }
            },
            "header": {
             "fill": {
              "color": "#C8D4E3"
             },
             "line": {
              "color": "white"
             }
            },
            "type": "table"
           }
          ]
         },
         "layout": {
          "annotationdefaults": {
           "arrowcolor": "#2a3f5f",
           "arrowhead": 0,
           "arrowwidth": 1
          },
          "autotypenumbers": "strict",
          "coloraxis": {
           "colorbar": {
            "outlinewidth": 0,
            "ticks": ""
           }
          },
          "colorscale": {
           "diverging": [
            [
             0,
             "#8e0152"
            ],
            [
             0.1,
             "#c51b7d"
            ],
            [
             0.2,
             "#de77ae"
            ],
            [
             0.3,
             "#f1b6da"
            ],
            [
             0.4,
             "#fde0ef"
            ],
            [
             0.5,
             "#f7f7f7"
            ],
            [
             0.6,
             "#e6f5d0"
            ],
            [
             0.7,
             "#b8e186"
            ],
            [
             0.8,
             "#7fbc41"
            ],
            [
             0.9,
             "#4d9221"
            ],
            [
             1,
             "#276419"
            ]
           ],
           "sequential": [
            [
             0,
             "#0d0887"
            ],
            [
             0.1111111111111111,
             "#46039f"
            ],
            [
             0.2222222222222222,
             "#7201a8"
            ],
            [
             0.3333333333333333,
             "#9c179e"
            ],
            [
             0.4444444444444444,
             "#bd3786"
            ],
            [
             0.5555555555555556,
             "#d8576b"
            ],
            [
             0.6666666666666666,
             "#ed7953"
            ],
            [
             0.7777777777777778,
             "#fb9f3a"
            ],
            [
             0.8888888888888888,
             "#fdca26"
            ],
            [
             1,
             "#f0f921"
            ]
           ],
           "sequentialminus": [
            [
             0,
             "#0d0887"
            ],
            [
             0.1111111111111111,
             "#46039f"
            ],
            [
             0.2222222222222222,
             "#7201a8"
            ],
            [
             0.3333333333333333,
             "#9c179e"
            ],
            [
             0.4444444444444444,
             "#bd3786"
            ],
            [
             0.5555555555555556,
             "#d8576b"
            ],
            [
             0.6666666666666666,
             "#ed7953"
            ],
            [
             0.7777777777777778,
             "#fb9f3a"
            ],
            [
             0.8888888888888888,
             "#fdca26"
            ],
            [
             1,
             "#f0f921"
            ]
           ]
          },
          "colorway": [
           "#636efa",
           "#EF553B",
           "#00cc96",
           "#ab63fa",
           "#FFA15A",
           "#19d3f3",
           "#FF6692",
           "#B6E880",
           "#FF97FF",
           "#FECB52"
          ],
          "font": {
           "color": "#2a3f5f"
          },
          "geo": {
           "bgcolor": "white",
           "lakecolor": "white",
           "landcolor": "#E5ECF6",
           "showlakes": true,
           "showland": true,
           "subunitcolor": "white"
          },
          "hoverlabel": {
           "align": "left"
          },
          "hovermode": "closest",
          "mapbox": {
           "style": "light"
          },
          "paper_bgcolor": "white",
          "plot_bgcolor": "#E5ECF6",
          "polar": {
           "angularaxis": {
            "gridcolor": "white",
            "linecolor": "white",
            "ticks": ""
           },
           "bgcolor": "#E5ECF6",
           "radialaxis": {
            "gridcolor": "white",
            "linecolor": "white",
            "ticks": ""
           }
          },
          "scene": {
           "xaxis": {
            "backgroundcolor": "#E5ECF6",
            "gridcolor": "white",
            "gridwidth": 2,
            "linecolor": "white",
            "showbackground": true,
            "ticks": "",
            "zerolinecolor": "white"
           },
           "yaxis": {
            "backgroundcolor": "#E5ECF6",
            "gridcolor": "white",
            "gridwidth": 2,
            "linecolor": "white",
            "showbackground": true,
            "ticks": "",
            "zerolinecolor": "white"
           },
           "zaxis": {
            "backgroundcolor": "#E5ECF6",
            "gridcolor": "white",
            "gridwidth": 2,
            "linecolor": "white",
            "showbackground": true,
            "ticks": "",
            "zerolinecolor": "white"
           }
          },
          "shapedefaults": {
           "line": {
            "color": "#2a3f5f"
           }
          },
          "ternary": {
           "aaxis": {
            "gridcolor": "white",
            "linecolor": "white",
            "ticks": ""
           },
           "baxis": {
            "gridcolor": "white",
            "linecolor": "white",
            "ticks": ""
           },
           "bgcolor": "#E5ECF6",
           "caxis": {
            "gridcolor": "white",
            "linecolor": "white",
            "ticks": ""
           }
          },
          "title": {
           "x": 0.05
          },
          "xaxis": {
           "automargin": true,
           "gridcolor": "white",
           "linecolor": "white",
           "ticks": "",
           "title": {
            "standoff": 15
           },
           "zerolinecolor": "white",
           "zerolinewidth": 2
          },
          "yaxis": {
           "automargin": true,
           "gridcolor": "white",
           "linecolor": "white",
           "ticks": "",
           "title": {
            "standoff": 15
           },
           "zerolinecolor": "white",
           "zerolinewidth": 2
          }
         }
        },
        "title": {
         "text": "Pitch Speed by Hit Type"
        },
        "xaxis": {
         "anchor": "y",
         "domain": [
          0,
          1
         ],
         "title": {
          "text": "Spin (rpm)"
         }
        },
        "yaxis": {
         "anchor": "x",
         "domain": [
          0,
          1
         ],
         "title": {
          "text": "count"
         }
        }
       }
      },
      "text/html": [
       "<div>                            <div id=\"50d83f47-32f2-4c80-8ff2-d406983799aa\" class=\"plotly-graph-div\" style=\"height:525px; width:100%;\"></div>            <script type=\"text/javascript\">                require([\"plotly\"], function(Plotly) {                    window.PLOTLYENV=window.PLOTLYENV || {};                                    if (document.getElementById(\"50d83f47-32f2-4c80-8ff2-d406983799aa\")) {                    Plotly.newPlot(                        \"50d83f47-32f2-4c80-8ff2-d406983799aa\",                        [{\"alignmentgroup\":\"True\",\"bingroup\":\"x\",\"hovertemplate\":\"Hit Type=Strike<br>Pitch Speed=%{x}<br>count=%{y}<extra></extra>\",\"legendgroup\":\"Strike\",\"marker\":{\"color\":\"#636efa\",\"pattern\":{\"shape\":\"\"}},\"name\":\"Strike\",\"offsetgroup\":\"Strike\",\"orientation\":\"v\",\"showlegend\":true,\"x\":[84.0,79.0,78.0,79.0,93.0,93.0,79.0,95.0,93.0,81.0,93.0,92.0,81.0,86.0,90.0,92.0,79.0,78.0,83.0,83.0,96.0,78.0,86.0,71.0,92.0,90.0,83.0,86.0,88.0,94.0,91.0,85.0,93.0,95.0,77.0,78.0,85.0,89.0,87.0,77.0,91.0,95.0,97.0,86.0,84.0,85.0,90.0,84.0,85.0,91.0,78.0,86.0,92.0,80.0,89.0,93.0,95.0,90.0,94.0,79.0,87.0,87.0,91.0,85.0,93.0,85.0,70.0,95.0,93.0,77.0,83.0,97.0,84.0,96.0,93.0,93.0,85.0,83.0,94.0,92.0,78.0,96.0,92.0,92.0,87.0,94.0,85.0,88.0,85.0,78.0,81.0,92.0,91.0,78.0,91.0,86.0,96.0,91.0,84.0,94.0,97.0,88.0,86.0,86.0,90.0,91.0,84.0,77.0,81.0],\"xaxis\":\"x\",\"yaxis\":\"y\",\"type\":\"histogram\"},{\"alignmentgroup\":\"True\",\"bingroup\":\"x\",\"hovertemplate\":\"Hit Type=Light Ground Ball<br>Pitch Speed=%{x}<br>count=%{y}<extra></extra>\",\"legendgroup\":\"Light Ground Ball\",\"marker\":{\"color\":\"#EF553B\",\"pattern\":{\"shape\":\"\"}},\"name\":\"Light Ground Ball\",\"offsetgroup\":\"Light Ground Ball\",\"orientation\":\"v\",\"showlegend\":true,\"x\":[94.0,84.0,85.0,91.0,79.0,92.0,85.0,86.0,91.0],\"xaxis\":\"x\",\"yaxis\":\"y\",\"type\":\"histogram\"},{\"alignmentgroup\":\"True\",\"bingroup\":\"x\",\"hovertemplate\":\"Hit Type=Hard Hit Ground Ball<br>Pitch Speed=%{x}<br>count=%{y}<extra></extra>\",\"legendgroup\":\"Hard Hit Ground Ball\",\"marker\":{\"color\":\"#00cc96\",\"pattern\":{\"shape\":\"\"}},\"name\":\"Hard Hit Ground Ball\",\"offsetgroup\":\"Hard Hit Ground Ball\",\"orientation\":\"v\",\"showlegend\":true,\"x\":[86.0,90.0,78.0,93.0,87.0,94.0,91.0,95.0,78.0,92.0,84.0,96.0],\"xaxis\":\"x\",\"yaxis\":\"y\",\"type\":\"histogram\"},{\"alignmentgroup\":\"True\",\"bingroup\":\"x\",\"hovertemplate\":\"Hit Type=Hard Hit Line Drive<br>Pitch Speed=%{x}<br>count=%{y}<extra></extra>\",\"legendgroup\":\"Hard Hit Line Drive\",\"marker\":{\"color\":\"#ab63fa\",\"pattern\":{\"shape\":\"\"}},\"name\":\"Hard Hit Line Drive\",\"offsetgroup\":\"Hard Hit Line Drive\",\"orientation\":\"v\",\"showlegend\":true,\"x\":[86.0,92.0,92.0],\"xaxis\":\"x\",\"yaxis\":\"y\",\"type\":\"histogram\"},{\"alignmentgroup\":\"True\",\"bingroup\":\"x\",\"hovertemplate\":\"Hit Type=Pop Up<br>Pitch Speed=%{x}<br>count=%{y}<extra></extra>\",\"legendgroup\":\"Pop Up\",\"marker\":{\"color\":\"#FFA15A\",\"pattern\":{\"shape\":\"\"}},\"name\":\"Pop Up\",\"offsetgroup\":\"Pop Up\",\"orientation\":\"v\",\"showlegend\":true,\"x\":[80.0,90.0,82.0,83.0],\"xaxis\":\"x\",\"yaxis\":\"y\",\"type\":\"histogram\"},{\"alignmentgroup\":\"True\",\"bingroup\":\"x\",\"hovertemplate\":\"Hit Type=Light Line Drive<br>Pitch Speed=%{x}<br>count=%{y}<extra></extra>\",\"legendgroup\":\"Light Line Drive\",\"marker\":{\"color\":\"#19d3f3\",\"pattern\":{\"shape\":\"\"}},\"name\":\"Light Line Drive\",\"offsetgroup\":\"Light Line Drive\",\"orientation\":\"v\",\"showlegend\":true,\"x\":[90.0,95.0,90.0,93.0,71.0,78.0,92.0],\"xaxis\":\"x\",\"yaxis\":\"y\",\"type\":\"histogram\"},{\"alignmentgroup\":\"True\",\"bingroup\":\"x\",\"hovertemplate\":\"Hit Type=Fly Ball<br>Pitch Speed=%{x}<br>count=%{y}<extra></extra>\",\"legendgroup\":\"Fly Ball\",\"marker\":{\"color\":\"#FF6692\",\"pattern\":{\"shape\":\"\"}},\"name\":\"Fly Ball\",\"offsetgroup\":\"Fly Ball\",\"orientation\":\"v\",\"showlegend\":true,\"x\":[95.0,86.0,79.0,84.0,90.0,97.0,91.0],\"xaxis\":\"x\",\"yaxis\":\"y\",\"type\":\"histogram\"},{\"alignmentgroup\":\"True\",\"bingroup\":\"x\",\"hovertemplate\":\"Hit Type=Power<br>Pitch Speed=%{x}<br>count=%{y}<extra></extra>\",\"legendgroup\":\"Power\",\"marker\":{\"color\":\"#B6E880\",\"pattern\":{\"shape\":\"\"}},\"name\":\"Power\",\"offsetgroup\":\"Power\",\"orientation\":\"v\",\"showlegend\":true,\"x\":[80.0,91.0],\"xaxis\":\"x\",\"yaxis\":\"y\",\"type\":\"histogram\"}],                        {\"template\":{\"data\":{\"histogram2dcontour\":[{\"type\":\"histogram2dcontour\",\"colorbar\":{\"outlinewidth\":0,\"ticks\":\"\"},\"colorscale\":[[0.0,\"#0d0887\"],[0.1111111111111111,\"#46039f\"],[0.2222222222222222,\"#7201a8\"],[0.3333333333333333,\"#9c179e\"],[0.4444444444444444,\"#bd3786\"],[0.5555555555555556,\"#d8576b\"],[0.6666666666666666,\"#ed7953\"],[0.7777777777777778,\"#fb9f3a\"],[0.8888888888888888,\"#fdca26\"],[1.0,\"#f0f921\"]]}],\"choropleth\":[{\"type\":\"choropleth\",\"colorbar\":{\"outlinewidth\":0,\"ticks\":\"\"}}],\"histogram2d\":[{\"type\":\"histogram2d\",\"colorbar\":{\"outlinewidth\":0,\"ticks\":\"\"},\"colorscale\":[[0.0,\"#0d0887\"],[0.1111111111111111,\"#46039f\"],[0.2222222222222222,\"#7201a8\"],[0.3333333333333333,\"#9c179e\"],[0.4444444444444444,\"#bd3786\"],[0.5555555555555556,\"#d8576b\"],[0.6666666666666666,\"#ed7953\"],[0.7777777777777778,\"#fb9f3a\"],[0.8888888888888888,\"#fdca26\"],[1.0,\"#f0f921\"]]}],\"heatmap\":[{\"type\":\"heatmap\",\"colorbar\":{\"outlinewidth\":0,\"ticks\":\"\"},\"colorscale\":[[0.0,\"#0d0887\"],[0.1111111111111111,\"#46039f\"],[0.2222222222222222,\"#7201a8\"],[0.3333333333333333,\"#9c179e\"],[0.4444444444444444,\"#bd3786\"],[0.5555555555555556,\"#d8576b\"],[0.6666666666666666,\"#ed7953\"],[0.7777777777777778,\"#fb9f3a\"],[0.8888888888888888,\"#fdca26\"],[1.0,\"#f0f921\"]]}],\"heatmapgl\":[{\"type\":\"heatmapgl\",\"colorbar\":{\"outlinewidth\":0,\"ticks\":\"\"},\"colorscale\":[[0.0,\"#0d0887\"],[0.1111111111111111,\"#46039f\"],[0.2222222222222222,\"#7201a8\"],[0.3333333333333333,\"#9c179e\"],[0.4444444444444444,\"#bd3786\"],[0.5555555555555556,\"#d8576b\"],[0.6666666666666666,\"#ed7953\"],[0.7777777777777778,\"#fb9f3a\"],[0.8888888888888888,\"#fdca26\"],[1.0,\"#f0f921\"]]}],\"contourcarpet\":[{\"type\":\"contourcarpet\",\"colorbar\":{\"outlinewidth\":0,\"ticks\":\"\"}}],\"contour\":[{\"type\":\"contour\",\"colorbar\":{\"outlinewidth\":0,\"ticks\":\"\"},\"colorscale\":[[0.0,\"#0d0887\"],[0.1111111111111111,\"#46039f\"],[0.2222222222222222,\"#7201a8\"],[0.3333333333333333,\"#9c179e\"],[0.4444444444444444,\"#bd3786\"],[0.5555555555555556,\"#d8576b\"],[0.6666666666666666,\"#ed7953\"],[0.7777777777777778,\"#fb9f3a\"],[0.8888888888888888,\"#fdca26\"],[1.0,\"#f0f921\"]]}],\"surface\":[{\"type\":\"surface\",\"colorbar\":{\"outlinewidth\":0,\"ticks\":\"\"},\"colorscale\":[[0.0,\"#0d0887\"],[0.1111111111111111,\"#46039f\"],[0.2222222222222222,\"#7201a8\"],[0.3333333333333333,\"#9c179e\"],[0.4444444444444444,\"#bd3786\"],[0.5555555555555556,\"#d8576b\"],[0.6666666666666666,\"#ed7953\"],[0.7777777777777778,\"#fb9f3a\"],[0.8888888888888888,\"#fdca26\"],[1.0,\"#f0f921\"]]}],\"mesh3d\":[{\"type\":\"mesh3d\",\"colorbar\":{\"outlinewidth\":0,\"ticks\":\"\"}}],\"scatter\":[{\"fillpattern\":{\"fillmode\":\"overlay\",\"size\":10,\"solidity\":0.2},\"type\":\"scatter\"}],\"parcoords\":[{\"type\":\"parcoords\",\"line\":{\"colorbar\":{\"outlinewidth\":0,\"ticks\":\"\"}}}],\"scatterpolargl\":[{\"type\":\"scatterpolargl\",\"marker\":{\"colorbar\":{\"outlinewidth\":0,\"ticks\":\"\"}}}],\"bar\":[{\"error_x\":{\"color\":\"#2a3f5f\"},\"error_y\":{\"color\":\"#2a3f5f\"},\"marker\":{\"line\":{\"color\":\"#E5ECF6\",\"width\":0.5},\"pattern\":{\"fillmode\":\"overlay\",\"size\":10,\"solidity\":0.2}},\"type\":\"bar\"}],\"scattergeo\":[{\"type\":\"scattergeo\",\"marker\":{\"colorbar\":{\"outlinewidth\":0,\"ticks\":\"\"}}}],\"scatterpolar\":[{\"type\":\"scatterpolar\",\"marker\":{\"colorbar\":{\"outlinewidth\":0,\"ticks\":\"\"}}}],\"histogram\":[{\"marker\":{\"pattern\":{\"fillmode\":\"overlay\",\"size\":10,\"solidity\":0.2}},\"type\":\"histogram\"}],\"scattergl\":[{\"type\":\"scattergl\",\"marker\":{\"colorbar\":{\"outlinewidth\":0,\"ticks\":\"\"}}}],\"scatter3d\":[{\"type\":\"scatter3d\",\"line\":{\"colorbar\":{\"outlinewidth\":0,\"ticks\":\"\"}},\"marker\":{\"colorbar\":{\"outlinewidth\":0,\"ticks\":\"\"}}}],\"scattermapbox\":[{\"type\":\"scattermapbox\",\"marker\":{\"colorbar\":{\"outlinewidth\":0,\"ticks\":\"\"}}}],\"scatterternary\":[{\"type\":\"scatterternary\",\"marker\":{\"colorbar\":{\"outlinewidth\":0,\"ticks\":\"\"}}}],\"scattercarpet\":[{\"type\":\"scattercarpet\",\"marker\":{\"colorbar\":{\"outlinewidth\":0,\"ticks\":\"\"}}}],\"carpet\":[{\"aaxis\":{\"endlinecolor\":\"#2a3f5f\",\"gridcolor\":\"white\",\"linecolor\":\"white\",\"minorgridcolor\":\"white\",\"startlinecolor\":\"#2a3f5f\"},\"baxis\":{\"endlinecolor\":\"#2a3f5f\",\"gridcolor\":\"white\",\"linecolor\":\"white\",\"minorgridcolor\":\"white\",\"startlinecolor\":\"#2a3f5f\"},\"type\":\"carpet\"}],\"table\":[{\"cells\":{\"fill\":{\"color\":\"#EBF0F8\"},\"line\":{\"color\":\"white\"}},\"header\":{\"fill\":{\"color\":\"#C8D4E3\"},\"line\":{\"color\":\"white\"}},\"type\":\"table\"}],\"barpolar\":[{\"marker\":{\"line\":{\"color\":\"#E5ECF6\",\"width\":0.5},\"pattern\":{\"fillmode\":\"overlay\",\"size\":10,\"solidity\":0.2}},\"type\":\"barpolar\"}],\"pie\":[{\"automargin\":true,\"type\":\"pie\"}]},\"layout\":{\"autotypenumbers\":\"strict\",\"colorway\":[\"#636efa\",\"#EF553B\",\"#00cc96\",\"#ab63fa\",\"#FFA15A\",\"#19d3f3\",\"#FF6692\",\"#B6E880\",\"#FF97FF\",\"#FECB52\"],\"font\":{\"color\":\"#2a3f5f\"},\"hovermode\":\"closest\",\"hoverlabel\":{\"align\":\"left\"},\"paper_bgcolor\":\"white\",\"plot_bgcolor\":\"#E5ECF6\",\"polar\":{\"bgcolor\":\"#E5ECF6\",\"angularaxis\":{\"gridcolor\":\"white\",\"linecolor\":\"white\",\"ticks\":\"\"},\"radialaxis\":{\"gridcolor\":\"white\",\"linecolor\":\"white\",\"ticks\":\"\"}},\"ternary\":{\"bgcolor\":\"#E5ECF6\",\"aaxis\":{\"gridcolor\":\"white\",\"linecolor\":\"white\",\"ticks\":\"\"},\"baxis\":{\"gridcolor\":\"white\",\"linecolor\":\"white\",\"ticks\":\"\"},\"caxis\":{\"gridcolor\":\"white\",\"linecolor\":\"white\",\"ticks\":\"\"}},\"coloraxis\":{\"colorbar\":{\"outlinewidth\":0,\"ticks\":\"\"}},\"colorscale\":{\"sequential\":[[0.0,\"#0d0887\"],[0.1111111111111111,\"#46039f\"],[0.2222222222222222,\"#7201a8\"],[0.3333333333333333,\"#9c179e\"],[0.4444444444444444,\"#bd3786\"],[0.5555555555555556,\"#d8576b\"],[0.6666666666666666,\"#ed7953\"],[0.7777777777777778,\"#fb9f3a\"],[0.8888888888888888,\"#fdca26\"],[1.0,\"#f0f921\"]],\"sequentialminus\":[[0.0,\"#0d0887\"],[0.1111111111111111,\"#46039f\"],[0.2222222222222222,\"#7201a8\"],[0.3333333333333333,\"#9c179e\"],[0.4444444444444444,\"#bd3786\"],[0.5555555555555556,\"#d8576b\"],[0.6666666666666666,\"#ed7953\"],[0.7777777777777778,\"#fb9f3a\"],[0.8888888888888888,\"#fdca26\"],[1.0,\"#f0f921\"]],\"diverging\":[[0,\"#8e0152\"],[0.1,\"#c51b7d\"],[0.2,\"#de77ae\"],[0.3,\"#f1b6da\"],[0.4,\"#fde0ef\"],[0.5,\"#f7f7f7\"],[0.6,\"#e6f5d0\"],[0.7,\"#b8e186\"],[0.8,\"#7fbc41\"],[0.9,\"#4d9221\"],[1,\"#276419\"]]},\"xaxis\":{\"gridcolor\":\"white\",\"linecolor\":\"white\",\"ticks\":\"\",\"title\":{\"standoff\":15},\"zerolinecolor\":\"white\",\"automargin\":true,\"zerolinewidth\":2},\"yaxis\":{\"gridcolor\":\"white\",\"linecolor\":\"white\",\"ticks\":\"\",\"title\":{\"standoff\":15},\"zerolinecolor\":\"white\",\"automargin\":true,\"zerolinewidth\":2},\"scene\":{\"xaxis\":{\"backgroundcolor\":\"#E5ECF6\",\"gridcolor\":\"white\",\"linecolor\":\"white\",\"showbackground\":true,\"ticks\":\"\",\"zerolinecolor\":\"white\",\"gridwidth\":2},\"yaxis\":{\"backgroundcolor\":\"#E5ECF6\",\"gridcolor\":\"white\",\"linecolor\":\"white\",\"showbackground\":true,\"ticks\":\"\",\"zerolinecolor\":\"white\",\"gridwidth\":2},\"zaxis\":{\"backgroundcolor\":\"#E5ECF6\",\"gridcolor\":\"white\",\"linecolor\":\"white\",\"showbackground\":true,\"ticks\":\"\",\"zerolinecolor\":\"white\",\"gridwidth\":2}},\"shapedefaults\":{\"line\":{\"color\":\"#2a3f5f\"}},\"annotationdefaults\":{\"arrowcolor\":\"#2a3f5f\",\"arrowhead\":0,\"arrowwidth\":1},\"geo\":{\"bgcolor\":\"white\",\"landcolor\":\"#E5ECF6\",\"subunitcolor\":\"white\",\"showland\":true,\"showlakes\":true,\"lakecolor\":\"white\"},\"title\":{\"x\":0.05},\"mapbox\":{\"style\":\"light\"}}},\"xaxis\":{\"anchor\":\"y\",\"domain\":[0.0,1.0],\"title\":{\"text\":\"Spin (rpm)\"}},\"yaxis\":{\"anchor\":\"x\",\"domain\":[0.0,1.0],\"title\":{\"text\":\"count\"}},\"legend\":{\"title\":{\"text\":\"Hit Type\"},\"tracegroupgap\":0},\"title\":{\"text\":\"Pitch Speed by Hit Type\"},\"barmode\":\"relative\"},                        {\"responsive\": true}                    ).then(function(){\n",
       "                            \n",
       "var gd = document.getElementById('50d83f47-32f2-4c80-8ff2-d406983799aa');\n",
       "var x = new MutationObserver(function (mutations, observer) {{\n",
       "        var display = window.getComputedStyle(gd).display;\n",
       "        if (!display || display === 'none') {{\n",
       "            console.log([gd, 'removed!']);\n",
       "            Plotly.purge(gd);\n",
       "            observer.disconnect();\n",
       "        }}\n",
       "}});\n",
       "\n",
       "// Listen for the removal of the full notebook cells\n",
       "var notebookContainer = gd.closest('#notebook-container');\n",
       "if (notebookContainer) {{\n",
       "    x.observe(notebookContainer, {childList: true});\n",
       "}}\n",
       "\n",
       "// Listen for the clearing of the current output cell\n",
       "var outputEl = gd.closest('.output');\n",
       "if (outputEl) {{\n",
       "    x.observe(outputEl, {childList: true});\n",
       "}}\n",
       "\n",
       "                        })                };                });            </script>        </div>"
      ]
     },
     "metadata": {},
     "output_type": "display_data"
    }
   ],
   "source": [
    "fig = px.histogram(df, x=\"Pitch Speed\", color=\"Hit Type\", title=\"Pitch Speed by Hit Type\")\n",
    "fig.update_xaxes(title_text=\"Spin (rpm)\")\n",
    "fig.show()"
   ]
  },
  {
   "cell_type": "markdown",
   "id": "0b3f2a82",
   "metadata": {},
   "source": [
    "## Part 3: Predicting Good vs Bad Result for the Pitcher\n",
    "Initially, we were planning to predict hit type given data such as pitch type and pitch speed. However, due to our limited sample size, we chose to simplify our analysis to predict just good and bad hits.\n",
    "Here, we chose to classify a good result for the pitcher as a pitch that results in a strike, light ground ball,  light line drive, and pop up. Meanwhile, a bad result is a power hit, hard hit line drive, fly ball, and hard hit ground ball. "
   ]
  },
  {
   "cell_type": "code",
   "execution_count": 18,
   "id": "b8e757c1",
   "metadata": {},
   "outputs": [],
   "source": [
    "from sklearn.preprocessing import LabelEncoder\n",
    "from sklearn.model_selection import train_test_split\n",
    "from sklearn.preprocessing import StandardScaler\n",
    "from sklearn.ensemble import RandomForestClassifier\n",
    "from sklearn.metrics import accuracy_score\n",
    "import numpy as np\n",
    "from sklearn.metrics import confusion_matrix\n",
    "import matplotlib.pyplot as plt\n",
    "import seaborn as sns"
   ]
  },
  {
   "cell_type": "code",
   "execution_count": 19,
   "id": "08d6da46",
   "metadata": {},
   "outputs": [
    {
     "data": {
      "text/html": [
       "<div>\n",
       "<style scoped>\n",
       "    .dataframe tbody tr th:only-of-type {\n",
       "        vertical-align: middle;\n",
       "    }\n",
       "\n",
       "    .dataframe tbody tr th {\n",
       "        vertical-align: top;\n",
       "    }\n",
       "\n",
       "    .dataframe thead th {\n",
       "        text-align: right;\n",
       "    }\n",
       "</style>\n",
       "<table border=\"1\" class=\"dataframe\">\n",
       "  <thead>\n",
       "    <tr style=\"text-align: right;\">\n",
       "      <th></th>\n",
       "      <th>Hit Type</th>\n",
       "      <th>Pitch Type</th>\n",
       "      <th>Pitch Speed</th>\n",
       "      <th>Good</th>\n",
       "      <th>Pitch Type Encoded</th>\n",
       "    </tr>\n",
       "  </thead>\n",
       "  <tbody>\n",
       "    <tr>\n",
       "      <th>0</th>\n",
       "      <td>Strike</td>\n",
       "      <td>Slider</td>\n",
       "      <td>84.0</td>\n",
       "      <td>True</td>\n",
       "      <td>5</td>\n",
       "    </tr>\n",
       "    <tr>\n",
       "      <th>1</th>\n",
       "      <td>Strike</td>\n",
       "      <td>Curveball</td>\n",
       "      <td>79.0</td>\n",
       "      <td>True</td>\n",
       "      <td>1</td>\n",
       "    </tr>\n",
       "    <tr>\n",
       "      <th>2</th>\n",
       "      <td>Strike</td>\n",
       "      <td>Curveball</td>\n",
       "      <td>78.0</td>\n",
       "      <td>True</td>\n",
       "      <td>1</td>\n",
       "    </tr>\n",
       "    <tr>\n",
       "      <th>3</th>\n",
       "      <td>Light Ground Ball</td>\n",
       "      <td>Sinker</td>\n",
       "      <td>94.0</td>\n",
       "      <td>True</td>\n",
       "      <td>4</td>\n",
       "    </tr>\n",
       "    <tr>\n",
       "      <th>4</th>\n",
       "      <td>Strike</td>\n",
       "      <td>Curveball</td>\n",
       "      <td>79.0</td>\n",
       "      <td>True</td>\n",
       "      <td>1</td>\n",
       "    </tr>\n",
       "    <tr>\n",
       "      <th>...</th>\n",
       "      <td>...</td>\n",
       "      <td>...</td>\n",
       "      <td>...</td>\n",
       "      <td>...</td>\n",
       "      <td>...</td>\n",
       "    </tr>\n",
       "    <tr>\n",
       "      <th>148</th>\n",
       "      <td>Strike</td>\n",
       "      <td>Sinker</td>\n",
       "      <td>90.0</td>\n",
       "      <td>True</td>\n",
       "      <td>4</td>\n",
       "    </tr>\n",
       "    <tr>\n",
       "      <th>149</th>\n",
       "      <td>Strike</td>\n",
       "      <td>FourSeamFastball</td>\n",
       "      <td>91.0</td>\n",
       "      <td>True</td>\n",
       "      <td>3</td>\n",
       "    </tr>\n",
       "    <tr>\n",
       "      <th>150</th>\n",
       "      <td>Strike</td>\n",
       "      <td>Changeup</td>\n",
       "      <td>84.0</td>\n",
       "      <td>True</td>\n",
       "      <td>0</td>\n",
       "    </tr>\n",
       "    <tr>\n",
       "      <th>151</th>\n",
       "      <td>Strike</td>\n",
       "      <td>Curveball</td>\n",
       "      <td>77.0</td>\n",
       "      <td>True</td>\n",
       "      <td>1</td>\n",
       "    </tr>\n",
       "    <tr>\n",
       "      <th>152</th>\n",
       "      <td>Strike</td>\n",
       "      <td>Slider</td>\n",
       "      <td>81.0</td>\n",
       "      <td>True</td>\n",
       "      <td>5</td>\n",
       "    </tr>\n",
       "  </tbody>\n",
       "</table>\n",
       "<p>153 rows × 5 columns</p>\n",
       "</div>"
      ],
      "text/plain": [
       "              Hit Type        Pitch Type  Pitch Speed  Good  \\\n",
       "0               Strike            Slider         84.0  True   \n",
       "1               Strike         Curveball         79.0  True   \n",
       "2               Strike         Curveball         78.0  True   \n",
       "3    Light Ground Ball            Sinker         94.0  True   \n",
       "4               Strike         Curveball         79.0  True   \n",
       "..                 ...               ...          ...   ...   \n",
       "148             Strike            Sinker         90.0  True   \n",
       "149             Strike  FourSeamFastball         91.0  True   \n",
       "150             Strike          Changeup         84.0  True   \n",
       "151             Strike         Curveball         77.0  True   \n",
       "152             Strike            Slider         81.0  True   \n",
       "\n",
       "     Pitch Type Encoded  \n",
       "0                     5  \n",
       "1                     1  \n",
       "2                     1  \n",
       "3                     4  \n",
       "4                     1  \n",
       "..                  ...  \n",
       "148                   4  \n",
       "149                   3  \n",
       "150                   0  \n",
       "151                   1  \n",
       "152                   5  \n",
       "\n",
       "[153 rows x 5 columns]"
      ]
     },
     "metadata": {},
     "output_type": "display_data"
    }
   ],
   "source": [
    "#Label Encoder to handle string data in type\n",
    "label_encoder = LabelEncoder()\n",
    "df['Pitch Type Encoded'] = label_encoder.fit_transform(df['Pitch Type'])\n",
    "display(df)"
   ]
  },
  {
   "cell_type": "code",
   "execution_count": 20,
   "id": "95d9dcb0",
   "metadata": {},
   "outputs": [],
   "source": [
    "#divide data\n",
    "features = df[[\"Pitch Type Encoded\", \"Pitch Speed\"]]\n",
    "target = df[\"Good\"]\n",
    "train_x, test_x, train_y, test_y = train_test_split(features, target, test_size=0.2, random_state=38) #40, 38"
   ]
  },
  {
   "cell_type": "code",
   "execution_count": 21,
   "id": "6dd83def",
   "metadata": {},
   "outputs": [
    {
     "name": "stdout",
     "output_type": "stream",
     "text": [
      "Accuracy: 0.87\n"
     ]
    },
    {
     "data": {
      "image/png": "[encoded data removed]",
      "text/plain": [
       "<Figure size 800x600 with 2 Axes>"
      ]
     },
     "metadata": {},
     "output_type": "display_data"
    }
   ],
   "source": [
    "# Initialize and train the classifier\n",
    "classifier = RandomForestClassifier(random_state=42)\n",
    "classifier.fit(train_x, train_y)\n",
    "\n",
    "pred_y = classifier.predict(test_x)\n",
    "accuracy = accuracy_score(test_y, pred_y)\n",
    "print(f\"Accuracy: {accuracy:.2f}\")\n",
    "\n",
    "# Compute the confusion matrix\n",
    "conf_matrix = confusion_matrix(test_y, pred_y)\n",
    "\n",
    "result_data_options = sorted(list(set(df[\"Good\"])))\n",
    "\n",
    "plt.figure(figsize=(8, 6))\n",
    "sns.heatmap(conf_matrix, annot=True, fmt='d', cmap='Blues',\n",
    "            xticklabels=result_data_options,\n",
    "            yticklabels=result_data_options)\n",
    "plt.xlabel('Predicted')\n",
    "plt.ylabel('Actual')\n",
    "plt.title('Confusion Matrix Heatmap')\n",
    "\n",
    "plt.show()"
   ]
  },
  {
   "cell_type": "markdown",
   "id": "c3d7c6ee",
   "metadata": {},
   "source": [
    "# Other Useful Visualization\n",
    "## Pitch Type to Outcome Heatmap"
   ]
  },
  {
   "cell_type": "code",
   "execution_count": 45,
   "id": "68f7fd36",
   "metadata": {},
   "outputs": [],
   "source": [
    "pitch_type_data = []\n",
    "pitch_result_data = []\n",
    "for cur_data in data:\n",
    "    if(cur_data['summary_acts']['pitch']['type'] and cur_data['summary_acts']['pitch']['result']):\n",
    "        pitch_type_data.append(cur_data['summary_acts']['pitch']['type'])\n",
    "        pitch_result_data.append(cur_data['summary_acts']['pitch']['result'])"
   ]
  },
  {
   "cell_type": "code",
   "execution_count": 46,
   "id": "14129339",
   "metadata": {},
   "outputs": [
    {
     "name": "stdout",
     "output_type": "stream",
     "text": [
      "Pitch Types: ['Sinker', 'Cutter', 'FourSeamFastball', 'Curveball', 'Slider', 'Changeup']\n",
      "Pitch Results: ['Strike', 'Ball', 'HitIntoPlay']\n"
     ]
    }
   ],
   "source": [
    "pitch_type_types = list(set(pitch_type_data))\n",
    "pitch_result_types = list(set(pitch_result_data))\n",
    "print(\"Pitch Types:\", pitch_type_types)\n",
    "print(\"Pitch Results:\", pitch_result_types)"
   ]
  },
  {
   "cell_type": "code",
   "execution_count": 47,
   "id": "b3803939",
   "metadata": {},
   "outputs": [],
   "source": [
    "pitch_matrix = np.zeros([len(pitch_type_types), len(pitch_result_types)])\n",
    "for i in range(len(pitch_type_data)):\n",
    "    pitch_matrix[pitch_type_types.index(pitch_type_data[i])][pitch_result_types.index(pitch_result_data[i])] += 1\n",
    "# print(pitch_matrix)\n",
    "\n",
    "#convert to dictionary\n",
    "type_result_dict = {'Pitch Type': pitch_type_types}\n",
    "for i, outcome in enumerate(pitch_result_types):\n",
    "    type_result_dict[outcome] = pitch_matrix[:, i].tolist()\n",
    "# print(type_result_dict)\n",
    "\n",
    "#Make dataframe\n",
    "type_result_df = pd.DataFrame(type_result_dict)\n",
    "# display(type_result_df)\n",
    "\n",
    "# Melt the DataFrame to have a column for the pitch type and its corresponding values\n",
    "melted_df = pd.melt(type_result_df, id_vars='Pitch Type', var_name='Outcome', value_name='Count')\n",
    "# display(melted_df)"
   ]
  },
  {
   "cell_type": "code",
   "execution_count": 48,
   "id": "bc0d7802",
   "metadata": {},
   "outputs": [
    {
     "data": {
      "application/vnd.plotly.v1+json": {
       "config": {
        "plotlyServerURL": "https://plot.ly"
       },
       "data": [
        {
         "coloraxis": "coloraxis",
         "hovertemplate": "Outcome: %{x}<br>Pitch Type: %{y}<br>Count: %{z}<extra></extra>",
         "name": "0",
         "texttemplate": "%{z}",
         "type": "heatmap",
         "x": [
          "Strike",
          "Ball",
          "HitIntoPlay"
         ],
         "xaxis": "x",
         "y": [
          "Sinker",
          "Cutter",
          "FourSeamFastball",
          "Curveball",
          "Slider",
          "Changeup"
         ],
         "yaxis": "y",
         "z": [
          [
           11,
           8,
           12
          ],
          [
           17,
           3,
           19
          ],
          [
           13,
           2,
           9
          ],
          [
           7,
           10,
           16
          ],
          [
           40,
           14,
           52
          ],
          [
           31,
           10,
           36
          ]
         ]
        }
       ],
       "layout": {
        "coloraxis": {
         "colorbar": {
          "title": {
           "text": "Count"
          }
         },
         "colorscale": [
          [
           0,
           "#0d0887"
          ],
          [
           0.1111111111111111,
           "#46039f"
          ],
          [
           0.2222222222222222,
           "#7201a8"
          ],
          [
           0.3333333333333333,
           "#9c179e"
          ],
          [
           0.4444444444444444,
           "#bd3786"
          ],
          [
           0.5555555555555556,
           "#d8576b"
          ],
          [
           0.6666666666666666,
           "#ed7953"
          ],
          [
           0.7777777777777778,
           "#fb9f3a"
          ],
          [
           0.8888888888888888,
           "#fdca26"
          ],
          [
           1,
           "#f0f921"
          ]
         ]
        },
        "height": 500,
        "template": {
         "data": {
          "bar": [
           {
            "error_x": {
             "color": "#2a3f5f"
            },
            "error_y": {
             "color": "#2a3f5f"
            },
            "marker": {
             "line": {
              "color": "#E5ECF6",
              "width": 0.5
             },
             "pattern": {
              "fillmode": "overlay",
              "size": 10,
              "solidity": 0.2
             }
            },
            "type": "bar"
           }
          ],
          "barpolar": [
           {
            "marker": {
             "line": {
              "color": "#E5ECF6",
              "width": 0.5
             },
             "pattern": {
              "fillmode": "overlay",
              "size": 10,
              "solidity": 0.2
             }
            },
            "type": "barpolar"
           }
          ],
          "carpet": [
           {
            "aaxis": {
             "endlinecolor": "#2a3f5f",
             "gridcolor": "white",
             "linecolor": "white",
             "minorgridcolor": "white",
             "startlinecolor": "#2a3f5f"
            },
            "baxis": {
             "endlinecolor": "#2a3f5f",
             "gridcolor": "white",
             "linecolor": "white",
             "minorgridcolor": "white",
             "startlinecolor": "#2a3f5f"
            },
            "type": "carpet"
           }
          ],
          "choropleth": [
           {
            "colorbar": {
             "outlinewidth": 0,
             "ticks": ""
            },
            "type": "choropleth"
           }
          ],
          "contour": [
           {
            "colorbar": {
             "outlinewidth": 0,
             "ticks": ""
            },
            "colorscale": [
             [
              0,
              "#0d0887"
             ],
             [
              0.1111111111111111,
              "#46039f"
             ],
             [
              0.2222222222222222,
              "#7201a8"
             ],
             [
              0.3333333333333333,
              "#9c179e"
             ],
             [
              0.4444444444444444,
              "#bd3786"
             ],
             [
              0.5555555555555556,
              "#d8576b"
             ],
             [
              0.6666666666666666,
              "#ed7953"
             ],
             [
              0.7777777777777778,
              "#fb9f3a"
             ],
             [
              0.8888888888888888,
              "#fdca26"
             ],
             [
              1,
              "#f0f921"
             ]
            ],
            "type": "contour"
           }
          ],
          "contourcarpet": [
           {
            "colorbar": {
             "outlinewidth": 0,
             "ticks": ""
            },
            "type": "contourcarpet"
           }
          ],
          "heatmap": [
           {
            "colorbar": {
             "outlinewidth": 0,
             "ticks": ""
            },
            "colorscale": [
             [
              0,
              "#0d0887"
             ],
             [
              0.1111111111111111,
              "#46039f"
             ],
             [
              0.2222222222222222,
              "#7201a8"
             ],
             [
              0.3333333333333333,
              "#9c179e"
             ],
             [
              0.4444444444444444,
              "#bd3786"
             ],
             [
              0.5555555555555556,
              "#d8576b"
             ],
             [
              0.6666666666666666,
              "#ed7953"
             ],
             [
              0.7777777777777778,
              "#fb9f3a"
             ],
             [
              0.8888888888888888,
              "#fdca26"
             ],
             [
              1,
              "#f0f921"
             ]
            ],
            "type": "heatmap"
           }
          ],
          "heatmapgl": [
           {
            "colorbar": {
             "outlinewidth": 0,
             "ticks": ""
            },
            "colorscale": [
             [
              0,
              "#0d0887"
             ],
             [
              0.1111111111111111,
              "#46039f"
             ],
             [
              0.2222222222222222,
              "#7201a8"
             ],
             [
              0.3333333333333333,
              "#9c179e"
             ],
             [
              0.4444444444444444,
              "#bd3786"
             ],
             [
              0.5555555555555556,
              "#d8576b"
             ],
             [
              0.6666666666666666,
              "#ed7953"
             ],
             [
              0.7777777777777778,
              "#fb9f3a"
             ],
             [
              0.8888888888888888,
              "#fdca26"
             ],
             [
              1,
              "#f0f921"
             ]
            ],
            "type": "heatmapgl"
           }
          ],
          "histogram": [
           {
            "marker": {
             "pattern": {
              "fillmode": "overlay",
              "size": 10,
              "solidity": 0.2
             }
            },
            "type": "histogram"
           }
          ],
          "histogram2d": [
           {
            "colorbar": {
             "outlinewidth": 0,
             "ticks": ""
            },
            "colorscale": [
             [
              0,
              "#0d0887"
             ],
             [
              0.1111111111111111,
              "#46039f"
             ],
             [
              0.2222222222222222,
              "#7201a8"
             ],
             [
              0.3333333333333333,
              "#9c179e"
             ],
             [
              0.4444444444444444,
              "#bd3786"
             ],
             [
              0.5555555555555556,
              "#d8576b"
             ],
             [
              0.6666666666666666,
              "#ed7953"
             ],
             [
              0.7777777777777778,
              "#fb9f3a"
             ],
             [
              0.8888888888888888,
              "#fdca26"
             ],
             [
              1,
              "#f0f921"
             ]
            ],
            "type": "histogram2d"
           }
          ],
          "histogram2dcontour": [
           {
            "colorbar": {
             "outlinewidth": 0,
             "ticks": ""
            },
            "colorscale": [
             [
              0,
              "#0d0887"
             ],
             [
              0.1111111111111111,
              "#46039f"
             ],
             [
              0.2222222222222222,
              "#7201a8"
             ],
             [
              0.3333333333333333,
              "#9c179e"
             ],
             [
              0.4444444444444444,
              "#bd3786"
             ],
             [
              0.5555555555555556,
              "#d8576b"
             ],
             [
              0.6666666666666666,
              "#ed7953"
             ],
             [
              0.7777777777777778,
              "#fb9f3a"
             ],
             [
              0.8888888888888888,
              "#fdca26"
             ],
             [
              1,
              "#f0f921"
             ]
            ],
            "type": "histogram2dcontour"
           }
          ],
          "mesh3d": [
           {
            "colorbar": {
             "outlinewidth": 0,
             "ticks": ""
            },
            "type": "mesh3d"
           }
          ],
          "parcoords": [
           {
            "line": {
             "colorbar": {
              "outlinewidth": 0,
              "ticks": ""
             }
            },
            "type": "parcoords"
           }
          ],
          "pie": [
           {
            "automargin": true,
            "type": "pie"
           }
          ],
          "scatter": [
           {
            "fillpattern": {
             "fillmode": "overlay",
             "size": 10,
             "solidity": 0.2
            },
            "type": "scatter"
           }
          ],
          "scatter3d": [
           {
            "line": {
             "colorbar": {
              "outlinewidth": 0,
              "ticks": ""
             }
            },
            "marker": {
             "colorbar": {
              "outlinewidth": 0,
              "ticks": ""
             }
            },
            "type": "scatter3d"
           }
          ],
          "scattercarpet": [
           {
            "marker": {
             "colorbar": {
              "outlinewidth": 0,
              "ticks": ""
             }
            },
            "type": "scattercarpet"
           }
          ],
          "scattergeo": [
           {
            "marker": {
             "colorbar": {
              "outlinewidth": 0,
              "ticks": ""
             }
            },
            "type": "scattergeo"
           }
          ],
          "scattergl": [
           {
            "marker": {
             "colorbar": {
              "outlinewidth": 0,
              "ticks": ""
             }
            },
            "type": "scattergl"
           }
          ],
          "scattermapbox": [
           {
            "marker": {
             "colorbar": {
              "outlinewidth": 0,
              "ticks": ""
             }
            },
            "type": "scattermapbox"
           }
          ],
          "scatterpolar": [
           {
            "marker": {
             "colorbar": {
              "outlinewidth": 0,
              "ticks": ""
             }
            },
            "type": "scatterpolar"
           }
          ],
          "scatterpolargl": [
           {
            "marker": {
             "colorbar": {
              "outlinewidth": 0,
              "ticks": ""
             }
            },
            "type": "scatterpolargl"
           }
          ],
          "scatterternary": [
           {
            "marker": {
             "colorbar": {
              "outlinewidth": 0,
              "ticks": ""
             }
            },
            "type": "scatterternary"
           }
          ],
          "surface": [
           {
            "colorbar": {
             "outlinewidth": 0,
             "ticks": ""
            },
            "colorscale": [
             [
              0,
              "#0d0887"
             ],
             [
              0.1111111111111111,
              "#46039f"
             ],
             [
              0.2222222222222222,
              "#7201a8"
             ],
             [
              0.3333333333333333,
              "#9c179e"
             ],
             [
              0.4444444444444444,
              "#bd3786"
             ],
             [
              0.5555555555555556,
              "#d8576b"
             ],
             [
              0.6666666666666666,
              "#ed7953"
             ],
             [
              0.7777777777777778,
              "#fb9f3a"
             ],
             [
              0.8888888888888888,
              "#fdca26"
             ],
             [
              1,
              "#f0f921"
             ]
            ],
            "type": "surface"
           }
          ],
          "table": [
           {
            "cells": {
             "fill": {
              "color": "#EBF0F8"
             },
             "line": {
              "color": "white"
             }
            },
            "header": {
             "fill": {
              "color": "#C8D4E3"
             },
             "line": {
              "color": "white"
             }
            },
            "type": "table"
           }
          ]
         },
         "layout": {
          "annotationdefaults": {
           "arrowcolor": "#2a3f5f",
           "arrowhead": 0,
           "arrowwidth": 1
          },
          "autotypenumbers": "strict",
          "coloraxis": {
           "colorbar": {
            "outlinewidth": 0,
            "ticks": ""
           }
          },
          "colorscale": {
           "diverging": [
            [
             0,
             "#8e0152"
            ],
            [
             0.1,
             "#c51b7d"
            ],
            [
             0.2,
             "#de77ae"
            ],
            [
             0.3,
             "#f1b6da"
            ],
            [
             0.4,
             "#fde0ef"
            ],
            [
             0.5,
             "#f7f7f7"
            ],
            [
             0.6,
             "#e6f5d0"
            ],
            [
             0.7,
             "#b8e186"
            ],
            [
             0.8,
             "#7fbc41"
            ],
            [
             0.9,
             "#4d9221"
            ],
            [
             1,
             "#276419"
            ]
           ],
           "sequential": [
            [
             0,
             "#0d0887"
            ],
            [
             0.1111111111111111,
             "#46039f"
            ],
            [
             0.2222222222222222,
             "#7201a8"
            ],
            [
             0.3333333333333333,
             "#9c179e"
            ],
            [
             0.4444444444444444,
             "#bd3786"
            ],
            [
             0.5555555555555556,
             "#d8576b"
            ],
            [
             0.6666666666666666,
             "#ed7953"
            ],
            [
             0.7777777777777778,
             "#fb9f3a"
            ],
            [
             0.8888888888888888,
             "#fdca26"
            ],
            [
             1,
             "#f0f921"
            ]
           ],
           "sequentialminus": [
            [
             0,
             "#0d0887"
            ],
            [
             0.1111111111111111,
             "#46039f"
            ],
            [
             0.2222222222222222,
             "#7201a8"
            ],
            [
             0.3333333333333333,
             "#9c179e"
            ],
            [
             0.4444444444444444,
             "#bd3786"
            ],
            [
             0.5555555555555556,
             "#d8576b"
            ],
            [
             0.6666666666666666,
             "#ed7953"
            ],
            [
             0.7777777777777778,
             "#fb9f3a"
            ],
            [
             0.8888888888888888,
             "#fdca26"
            ],
            [
             1,
             "#f0f921"
            ]
           ]
          },
          "colorway": [
           "#636efa",
           "#EF553B",
           "#00cc96",
           "#ab63fa",
           "#FFA15A",
           "#19d3f3",
           "#FF6692",
           "#B6E880",
           "#FF97FF",
           "#FECB52"
          ],
          "font": {
           "color": "#2a3f5f"
          },
          "geo": {
           "bgcolor": "white",
           "lakecolor": "white",
           "landcolor": "#E5ECF6",
           "showlakes": true,
           "showland": true,
           "subunitcolor": "white"
          },
          "hoverlabel": {
           "align": "left"
          },
          "hovermode": "closest",
          "mapbox": {
           "style": "light"
          },
          "paper_bgcolor": "white",
          "plot_bgcolor": "#E5ECF6",
          "polar": {
           "angularaxis": {
            "gridcolor": "white",
            "linecolor": "white",
            "ticks": ""
           },
           "bgcolor": "#E5ECF6",
           "radialaxis": {
            "gridcolor": "white",
            "linecolor": "white",
            "ticks": ""
           }
          },
          "scene": {
           "xaxis": {
            "backgroundcolor": "#E5ECF6",
            "gridcolor": "white",
            "gridwidth": 2,
            "linecolor": "white",
            "showbackground": true,
            "ticks": "",
            "zerolinecolor": "white"
           },
           "yaxis": {
            "backgroundcolor": "#E5ECF6",
            "gridcolor": "white",
            "gridwidth": 2,
            "linecolor": "white",
            "showbackground": true,
            "ticks": "",
            "zerolinecolor": "white"
           },
           "zaxis": {
            "backgroundcolor": "#E5ECF6",
            "gridcolor": "white",
            "gridwidth": 2,
            "linecolor": "white",
            "showbackground": true,
            "ticks": "",
            "zerolinecolor": "white"
           }
          },
          "shapedefaults": {
           "line": {
            "color": "#2a3f5f"
           }
          },
          "ternary": {
           "aaxis": {
            "gridcolor": "white",
            "linecolor": "white",
            "ticks": ""
           },
           "baxis": {
            "gridcolor": "white",
            "linecolor": "white",
            "ticks": ""
           },
           "bgcolor": "#E5ECF6",
           "caxis": {
            "gridcolor": "white",
            "linecolor": "white",
            "ticks": ""
           }
          },
          "title": {
           "x": 0.05
          },
          "xaxis": {
           "automargin": true,
           "gridcolor": "white",
           "linecolor": "white",
           "ticks": "",
           "title": {
            "standoff": 15
           },
           "zerolinecolor": "white",
           "zerolinewidth": 2
          },
          "yaxis": {
           "automargin": true,
           "gridcolor": "white",
           "linecolor": "white",
           "ticks": "",
           "title": {
            "standoff": 15
           },
           "zerolinecolor": "white",
           "zerolinewidth": 2
          }
         }
        },
        "title": {
         "text": "Pitch Type Outcome Counts"
        },
        "width": 450,
        "xaxis": {
         "anchor": "y",
         "constrain": "domain",
         "domain": [
          0,
          1
         ],
         "scaleanchor": "y",
         "title": {
          "text": "Outcome"
         }
        },
        "yaxis": {
         "anchor": "x",
         "autorange": "reversed",
         "constrain": "domain",
         "domain": [
          0,
          1
         ],
         "title": {
          "text": "Pitch Type"
         }
        }
       }
      },
      "text/html": [
       "<div>                            <div id=\"3fbc5483-0cda-4e8e-9ea8-d39763d33c69\" class=\"plotly-graph-div\" style=\"height:500px; width:450px;\"></div>            <script type=\"text/javascript\">                require([\"plotly\"], function(Plotly) {                    window.PLOTLYENV=window.PLOTLYENV || {};                                    if (document.getElementById(\"3fbc5483-0cda-4e8e-9ea8-d39763d33c69\")) {                    Plotly.newPlot(                        \"3fbc5483-0cda-4e8e-9ea8-d39763d33c69\",                        [{\"coloraxis\":\"coloraxis\",\"name\":\"0\",\"texttemplate\":\"%{z}\",\"x\":[\"Strike\",\"Ball\",\"HitIntoPlay\"],\"y\":[\"Sinker\",\"Cutter\",\"FourSeamFastball\",\"Curveball\",\"Slider\",\"Changeup\"],\"z\":[[11.0,8.0,12.0],[17.0,3.0,19.0],[13.0,2.0,9.0],[7.0,10.0,16.0],[40.0,14.0,52.0],[31.0,10.0,36.0]],\"type\":\"heatmap\",\"xaxis\":\"x\",\"yaxis\":\"y\",\"hovertemplate\":\"Outcome: %{x}<br>Pitch Type: %{y}<br>Count: %{z}<extra></extra>\"}],                        {\"template\":{\"data\":{\"histogram2dcontour\":[{\"type\":\"histogram2dcontour\",\"colorbar\":{\"outlinewidth\":0,\"ticks\":\"\"},\"colorscale\":[[0.0,\"#0d0887\"],[0.1111111111111111,\"#46039f\"],[0.2222222222222222,\"#7201a8\"],[0.3333333333333333,\"#9c179e\"],[0.4444444444444444,\"#bd3786\"],[0.5555555555555556,\"#d8576b\"],[0.6666666666666666,\"#ed7953\"],[0.7777777777777778,\"#fb9f3a\"],[0.8888888888888888,\"#fdca26\"],[1.0,\"#f0f921\"]]}],\"choropleth\":[{\"type\":\"choropleth\",\"colorbar\":{\"outlinewidth\":0,\"ticks\":\"\"}}],\"histogram2d\":[{\"type\":\"histogram2d\",\"colorbar\":{\"outlinewidth\":0,\"ticks\":\"\"},\"colorscale\":[[0.0,\"#0d0887\"],[0.1111111111111111,\"#46039f\"],[0.2222222222222222,\"#7201a8\"],[0.3333333333333333,\"#9c179e\"],[0.4444444444444444,\"#bd3786\"],[0.5555555555555556,\"#d8576b\"],[0.6666666666666666,\"#ed7953\"],[0.7777777777777778,\"#fb9f3a\"],[0.8888888888888888,\"#fdca26\"],[1.0,\"#f0f921\"]]}],\"heatmap\":[{\"type\":\"heatmap\",\"colorbar\":{\"outlinewidth\":0,\"ticks\":\"\"},\"colorscale\":[[0.0,\"#0d0887\"],[0.1111111111111111,\"#46039f\"],[0.2222222222222222,\"#7201a8\"],[0.3333333333333333,\"#9c179e\"],[0.4444444444444444,\"#bd3786\"],[0.5555555555555556,\"#d8576b\"],[0.6666666666666666,\"#ed7953\"],[0.7777777777777778,\"#fb9f3a\"],[0.8888888888888888,\"#fdca26\"],[1.0,\"#f0f921\"]]}],\"heatmapgl\":[{\"type\":\"heatmapgl\",\"colorbar\":{\"outlinewidth\":0,\"ticks\":\"\"},\"colorscale\":[[0.0,\"#0d0887\"],[0.1111111111111111,\"#46039f\"],[0.2222222222222222,\"#7201a8\"],[0.3333333333333333,\"#9c179e\"],[0.4444444444444444,\"#bd3786\"],[0.5555555555555556,\"#d8576b\"],[0.6666666666666666,\"#ed7953\"],[0.7777777777777778,\"#fb9f3a\"],[0.8888888888888888,\"#fdca26\"],[1.0,\"#f0f921\"]]}],\"contourcarpet\":[{\"type\":\"contourcarpet\",\"colorbar\":{\"outlinewidth\":0,\"ticks\":\"\"}}],\"contour\":[{\"type\":\"contour\",\"colorbar\":{\"outlinewidth\":0,\"ticks\":\"\"},\"colorscale\":[[0.0,\"#0d0887\"],[0.1111111111111111,\"#46039f\"],[0.2222222222222222,\"#7201a8\"],[0.3333333333333333,\"#9c179e\"],[0.4444444444444444,\"#bd3786\"],[0.5555555555555556,\"#d8576b\"],[0.6666666666666666,\"#ed7953\"],[0.7777777777777778,\"#fb9f3a\"],[0.8888888888888888,\"#fdca26\"],[1.0,\"#f0f921\"]]}],\"surface\":[{\"type\":\"surface\",\"colorbar\":{\"outlinewidth\":0,\"ticks\":\"\"},\"colorscale\":[[0.0,\"#0d0887\"],[0.1111111111111111,\"#46039f\"],[0.2222222222222222,\"#7201a8\"],[0.3333333333333333,\"#9c179e\"],[0.4444444444444444,\"#bd3786\"],[0.5555555555555556,\"#d8576b\"],[0.6666666666666666,\"#ed7953\"],[0.7777777777777778,\"#fb9f3a\"],[0.8888888888888888,\"#fdca26\"],[1.0,\"#f0f921\"]]}],\"mesh3d\":[{\"type\":\"mesh3d\",\"colorbar\":{\"outlinewidth\":0,\"ticks\":\"\"}}],\"scatter\":[{\"fillpattern\":{\"fillmode\":\"overlay\",\"size\":10,\"solidity\":0.2},\"type\":\"scatter\"}],\"parcoords\":[{\"type\":\"parcoords\",\"line\":{\"colorbar\":{\"outlinewidth\":0,\"ticks\":\"\"}}}],\"scatterpolargl\":[{\"type\":\"scatterpolargl\",\"marker\":{\"colorbar\":{\"outlinewidth\":0,\"ticks\":\"\"}}}],\"bar\":[{\"error_x\":{\"color\":\"#2a3f5f\"},\"error_y\":{\"color\":\"#2a3f5f\"},\"marker\":{\"line\":{\"color\":\"#E5ECF6\",\"width\":0.5},\"pattern\":{\"fillmode\":\"overlay\",\"size\":10,\"solidity\":0.2}},\"type\":\"bar\"}],\"scattergeo\":[{\"type\":\"scattergeo\",\"marker\":{\"colorbar\":{\"outlinewidth\":0,\"ticks\":\"\"}}}],\"scatterpolar\":[{\"type\":\"scatterpolar\",\"marker\":{\"colorbar\":{\"outlinewidth\":0,\"ticks\":\"\"}}}],\"histogram\":[{\"marker\":{\"pattern\":{\"fillmode\":\"overlay\",\"size\":10,\"solidity\":0.2}},\"type\":\"histogram\"}],\"scattergl\":[{\"type\":\"scattergl\",\"marker\":{\"colorbar\":{\"outlinewidth\":0,\"ticks\":\"\"}}}],\"scatter3d\":[{\"type\":\"scatter3d\",\"line\":{\"colorbar\":{\"outlinewidth\":0,\"ticks\":\"\"}},\"marker\":{\"colorbar\":{\"outlinewidth\":0,\"ticks\":\"\"}}}],\"scattermapbox\":[{\"type\":\"scattermapbox\",\"marker\":{\"colorbar\":{\"outlinewidth\":0,\"ticks\":\"\"}}}],\"scatterternary\":[{\"type\":\"scatterternary\",\"marker\":{\"colorbar\":{\"outlinewidth\":0,\"ticks\":\"\"}}}],\"scattercarpet\":[{\"type\":\"scattercarpet\",\"marker\":{\"colorbar\":{\"outlinewidth\":0,\"ticks\":\"\"}}}],\"carpet\":[{\"aaxis\":{\"endlinecolor\":\"#2a3f5f\",\"gridcolor\":\"white\",\"linecolor\":\"white\",\"minorgridcolor\":\"white\",\"startlinecolor\":\"#2a3f5f\"},\"baxis\":{\"endlinecolor\":\"#2a3f5f\",\"gridcolor\":\"white\",\"linecolor\":\"white\",\"minorgridcolor\":\"white\",\"startlinecolor\":\"#2a3f5f\"},\"type\":\"carpet\"}],\"table\":[{\"cells\":{\"fill\":{\"color\":\"#EBF0F8\"},\"line\":{\"color\":\"white\"}},\"header\":{\"fill\":{\"color\":\"#C8D4E3\"},\"line\":{\"color\":\"white\"}},\"type\":\"table\"}],\"barpolar\":[{\"marker\":{\"line\":{\"color\":\"#E5ECF6\",\"width\":0.5},\"pattern\":{\"fillmode\":\"overlay\",\"size\":10,\"solidity\":0.2}},\"type\":\"barpolar\"}],\"pie\":[{\"automargin\":true,\"type\":\"pie\"}]},\"layout\":{\"autotypenumbers\":\"strict\",\"colorway\":[\"#636efa\",\"#EF553B\",\"#00cc96\",\"#ab63fa\",\"#FFA15A\",\"#19d3f3\",\"#FF6692\",\"#B6E880\",\"#FF97FF\",\"#FECB52\"],\"font\":{\"color\":\"#2a3f5f\"},\"hovermode\":\"closest\",\"hoverlabel\":{\"align\":\"left\"},\"paper_bgcolor\":\"white\",\"plot_bgcolor\":\"#E5ECF6\",\"polar\":{\"bgcolor\":\"#E5ECF6\",\"angularaxis\":{\"gridcolor\":\"white\",\"linecolor\":\"white\",\"ticks\":\"\"},\"radialaxis\":{\"gridcolor\":\"white\",\"linecolor\":\"white\",\"ticks\":\"\"}},\"ternary\":{\"bgcolor\":\"#E5ECF6\",\"aaxis\":{\"gridcolor\":\"white\",\"linecolor\":\"white\",\"ticks\":\"\"},\"baxis\":{\"gridcolor\":\"white\",\"linecolor\":\"white\",\"ticks\":\"\"},\"caxis\":{\"gridcolor\":\"white\",\"linecolor\":\"white\",\"ticks\":\"\"}},\"coloraxis\":{\"colorbar\":{\"outlinewidth\":0,\"ticks\":\"\"}},\"colorscale\":{\"sequential\":[[0.0,\"#0d0887\"],[0.1111111111111111,\"#46039f\"],[0.2222222222222222,\"#7201a8\"],[0.3333333333333333,\"#9c179e\"],[0.4444444444444444,\"#bd3786\"],[0.5555555555555556,\"#d8576b\"],[0.6666666666666666,\"#ed7953\"],[0.7777777777777778,\"#fb9f3a\"],[0.8888888888888888,\"#fdca26\"],[1.0,\"#f0f921\"]],\"sequentialminus\":[[0.0,\"#0d0887\"],[0.1111111111111111,\"#46039f\"],[0.2222222222222222,\"#7201a8\"],[0.3333333333333333,\"#9c179e\"],[0.4444444444444444,\"#bd3786\"],[0.5555555555555556,\"#d8576b\"],[0.6666666666666666,\"#ed7953\"],[0.7777777777777778,\"#fb9f3a\"],[0.8888888888888888,\"#fdca26\"],[1.0,\"#f0f921\"]],\"diverging\":[[0,\"#8e0152\"],[0.1,\"#c51b7d\"],[0.2,\"#de77ae\"],[0.3,\"#f1b6da\"],[0.4,\"#fde0ef\"],[0.5,\"#f7f7f7\"],[0.6,\"#e6f5d0\"],[0.7,\"#b8e186\"],[0.8,\"#7fbc41\"],[0.9,\"#4d9221\"],[1,\"#276419\"]]},\"xaxis\":{\"gridcolor\":\"white\",\"linecolor\":\"white\",\"ticks\":\"\",\"title\":{\"standoff\":15},\"zerolinecolor\":\"white\",\"automargin\":true,\"zerolinewidth\":2},\"yaxis\":{\"gridcolor\":\"white\",\"linecolor\":\"white\",\"ticks\":\"\",\"title\":{\"standoff\":15},\"zerolinecolor\":\"white\",\"automargin\":true,\"zerolinewidth\":2},\"scene\":{\"xaxis\":{\"backgroundcolor\":\"#E5ECF6\",\"gridcolor\":\"white\",\"linecolor\":\"white\",\"showbackground\":true,\"ticks\":\"\",\"zerolinecolor\":\"white\",\"gridwidth\":2},\"yaxis\":{\"backgroundcolor\":\"#E5ECF6\",\"gridcolor\":\"white\",\"linecolor\":\"white\",\"showbackground\":true,\"ticks\":\"\",\"zerolinecolor\":\"white\",\"gridwidth\":2},\"zaxis\":{\"backgroundcolor\":\"#E5ECF6\",\"gridcolor\":\"white\",\"linecolor\":\"white\",\"showbackground\":true,\"ticks\":\"\",\"zerolinecolor\":\"white\",\"gridwidth\":2}},\"shapedefaults\":{\"line\":{\"color\":\"#2a3f5f\"}},\"annotationdefaults\":{\"arrowcolor\":\"#2a3f5f\",\"arrowhead\":0,\"arrowwidth\":1},\"geo\":{\"bgcolor\":\"white\",\"landcolor\":\"#E5ECF6\",\"subunitcolor\":\"white\",\"showland\":true,\"showlakes\":true,\"lakecolor\":\"white\"},\"title\":{\"x\":0.05},\"mapbox\":{\"style\":\"light\"}}},\"xaxis\":{\"anchor\":\"y\",\"domain\":[0.0,1.0],\"scaleanchor\":\"y\",\"constrain\":\"domain\",\"title\":{\"text\":\"Outcome\"}},\"yaxis\":{\"anchor\":\"x\",\"domain\":[0.0,1.0],\"autorange\":\"reversed\",\"constrain\":\"domain\",\"title\":{\"text\":\"Pitch Type\"}},\"coloraxis\":{\"colorbar\":{\"title\":{\"text\":\"Count\"}},\"colorscale\":[[0.0,\"#0d0887\"],[0.1111111111111111,\"#46039f\"],[0.2222222222222222,\"#7201a8\"],[0.3333333333333333,\"#9c179e\"],[0.4444444444444444,\"#bd3786\"],[0.5555555555555556,\"#d8576b\"],[0.6666666666666666,\"#ed7953\"],[0.7777777777777778,\"#fb9f3a\"],[0.8888888888888888,\"#fdca26\"],[1.0,\"#f0f921\"]]},\"title\":{\"text\":\"Pitch Type Outcome Counts\"},\"height\":500,\"width\":450},                        {\"responsive\": true}                    ).then(function(){\n",
       "                            \n",
       "var gd = document.getElementById('3fbc5483-0cda-4e8e-9ea8-d39763d33c69');\n",
       "var x = new MutationObserver(function (mutations, observer) {{\n",
       "        var display = window.getComputedStyle(gd).display;\n",
       "        if (!display || display === 'none') {{\n",
       "            console.log([gd, 'removed!']);\n",
       "            Plotly.purge(gd);\n",
       "            observer.disconnect();\n",
       "        }}\n",
       "}});\n",
       "\n",
       "// Listen for the removal of the full notebook cells\n",
       "var notebookContainer = gd.closest('#notebook-container');\n",
       "if (notebookContainer) {{\n",
       "    x.observe(notebookContainer, {childList: true});\n",
       "}}\n",
       "\n",
       "// Listen for the clearing of the current output cell\n",
       "var outputEl = gd.closest('.output');\n",
       "if (outputEl) {{\n",
       "    x.observe(outputEl, {childList: true});\n",
       "}}\n",
       "\n",
       "                        })                };                });            </script>        </div>"
      ]
     },
     "metadata": {},
     "output_type": "display_data"
    }
   ],
   "source": [
    "# Create a heatmap \n",
    "fig = px.imshow(melted_df.pivot(index='Pitch Type', columns='Outcome', values='Count'),\n",
    "                x=melted_df['Outcome'].unique(),\n",
    "                y=melted_df['Pitch Type'].unique(),\n",
    "                labels=dict(x='Outcome', y='Pitch Type', color='Count'),\n",
    "                title='Pitch Type Outcome Counts',\n",
    "                width=450,\n",
    "                height=500, \n",
    "                text_auto=True)\n",
    "\n",
    "fig.show()"
   ]
  },
  {
   "cell_type": "markdown",
   "id": "ed82e76f",
   "metadata": {},
   "source": [
    "## Pitch Type to Action Heatmap"
   ]
  },
  {
   "cell_type": "code",
   "execution_count": 49,
   "id": "1254b643",
   "metadata": {},
   "outputs": [],
   "source": [
    "pitch_type_data = []\n",
    "pitch_action_data = []\n",
    "for cur_data in data:\n",
    "    if(cur_data['summary_acts']['pitch']['type'] and cur_data['summary_acts']['pitch']['action']):\n",
    "        pitch_type_data.append(cur_data['summary_acts']['pitch']['type'])\n",
    "        pitch_action_data.append(cur_data['summary_acts']['pitch']['action'])"
   ]
  },
  {
   "cell_type": "code",
   "execution_count": 50,
   "id": "4d9dc2e6",
   "metadata": {},
   "outputs": [
    {
     "name": "stdout",
     "output_type": "stream",
     "text": [
      "Pitch Types: ['Sinker', 'Cutter', 'FourSeamFastball', 'Curveball', 'Slider', 'Changeup']\n",
      "Pitch Action: ['BallInDirt', 'Blocked', 'Called', 'Foul', 'FoulTip', 'HitByPitch']\n"
     ]
    }
   ],
   "source": [
    "pitch_type_types = list(set(pitch_type_data))\n",
    "pitch_action_types = list(set(pitch_action_data))\n",
    "print(\"Pitch Types:\", pitch_type_types)\n",
    "print(\"Pitch Action:\", pitch_action_types)"
   ]
  },
  {
   "cell_type": "code",
   "execution_count": 51,
   "id": "13a5f3b9",
   "metadata": {},
   "outputs": [],
   "source": [
    "pitch_type_action_matrix = np.zeros([len(pitch_type_types), len(pitch_action_types)])\n",
    "for i in range(len(pitch_type_data)):\n",
    "    pitch_type_action_matrix[pitch_type_types.index(pitch_type_data[i])][pitch_action_types.index(pitch_action_data[i])] += 1\n",
    "\n",
    "#convert to dictionary\n",
    "type_action_dict = {'Pitch Type': pitch_type_types}\n",
    "for i, outcome in enumerate(pitch_action_types):\n",
    "    type_action_dict[outcome] = pitch_type_action_matrix[:, i].tolist()\n",
    "\n",
    "#Make dataframe\n",
    "type_action_df = pd.DataFrame(type_action_dict)\n",
    "\n",
    "# Melt the DataFrame to have a column for the pitch type and its corresponding values\n",
    "melted_type_action_df = pd.melt(type_action_df, id_vars='Pitch Type', var_name='Pitch Action', value_name='Count')\n",
    "# display(melted_type_action_df)"
   ]
  },
  {
   "cell_type": "code",
   "execution_count": 52,
   "id": "18bd0f64",
   "metadata": {},
   "outputs": [
    {
     "data": {
      "application/vnd.plotly.v1+json": {
       "config": {
        "plotlyServerURL": "https://plot.ly"
       },
       "data": [
        {
         "coloraxis": "coloraxis",
         "hovertemplate": "Pitch Action: %{x}<br>Pitch Type: %{y}<br>Count: %{z}<extra></extra>",
         "name": "0",
         "texttemplate": "%{z}",
         "type": "heatmap",
         "x": [
          "BallInDirt",
          "Blocked",
          "Called",
          "Foul",
          "FoulTip",
          "HitByPitch"
         ],
         "xaxis": "x",
         "y": [
          "Sinker",
          "Cutter",
          "FourSeamFastball",
          "Curveball",
          "Slider",
          "Changeup"
         ],
         "yaxis": "y",
         "z": [
          [
           0,
           0,
           20,
           1,
           0,
           0
          ],
          [
           3,
           0,
           21,
           3,
           0,
           0
          ],
          [
           0,
           0,
           17,
           3,
           0,
           0
          ],
          [
           0,
           0,
           16,
           5,
           0,
           0
          ],
          [
           0,
           0,
           58,
           19,
           2,
           2
          ],
          [
           2,
           1,
           40,
           12,
           0,
           1
          ]
         ]
        }
       ],
       "layout": {
        "coloraxis": {
         "colorbar": {
          "title": {
           "text": "Count"
          }
         },
         "colorscale": [
          [
           0,
           "#0d0887"
          ],
          [
           0.1111111111111111,
           "#46039f"
          ],
          [
           0.2222222222222222,
           "#7201a8"
          ],
          [
           0.3333333333333333,
           "#9c179e"
          ],
          [
           0.4444444444444444,
           "#bd3786"
          ],
          [
           0.5555555555555556,
           "#d8576b"
          ],
          [
           0.6666666666666666,
           "#ed7953"
          ],
          [
           0.7777777777777778,
           "#fb9f3a"
          ],
          [
           0.8888888888888888,
           "#fdca26"
          ],
          [
           1,
           "#f0f921"
          ]
         ]
        },
        "height": 500,
        "template": {
         "data": {
          "bar": [
           {
            "error_x": {
             "color": "#2a3f5f"
            },
            "error_y": {
             "color": "#2a3f5f"
            },
            "marker": {
             "line": {
              "color": "#E5ECF6",
              "width": 0.5
             },
             "pattern": {
              "fillmode": "overlay",
              "size": 10,
              "solidity": 0.2
             }
            },
            "type": "bar"
           }
          ],
          "barpolar": [
           {
            "marker": {
             "line": {
              "color": "#E5ECF6",
              "width": 0.5
             },
             "pattern": {
              "fillmode": "overlay",
              "size": 10,
              "solidity": 0.2
             }
            },
            "type": "barpolar"
           }
          ],
          "carpet": [
           {
            "aaxis": {
             "endlinecolor": "#2a3f5f",
             "gridcolor": "white",
             "linecolor": "white",
             "minorgridcolor": "white",
             "startlinecolor": "#2a3f5f"
            },
            "baxis": {
             "endlinecolor": "#2a3f5f",
             "gridcolor": "white",
             "linecolor": "white",
             "minorgridcolor": "white",
             "startlinecolor": "#2a3f5f"
            },
            "type": "carpet"
           }
          ],
          "choropleth": [
           {
            "colorbar": {
             "outlinewidth": 0,
             "ticks": ""
            },
            "type": "choropleth"
           }
          ],
          "contour": [
           {
            "colorbar": {
             "outlinewidth": 0,
             "ticks": ""
            },
            "colorscale": [
             [
              0,
              "#0d0887"
             ],
             [
              0.1111111111111111,
              "#46039f"
             ],
             [
              0.2222222222222222,
              "#7201a8"
             ],
             [
              0.3333333333333333,
              "#9c179e"
             ],
             [
              0.4444444444444444,
              "#bd3786"
             ],
             [
              0.5555555555555556,
              "#d8576b"
             ],
             [
              0.6666666666666666,
              "#ed7953"
             ],
             [
              0.7777777777777778,
              "#fb9f3a"
             ],
             [
              0.8888888888888888,
              "#fdca26"
             ],
             [
              1,
              "#f0f921"
             ]
            ],
            "type": "contour"
           }
          ],
          "contourcarpet": [
           {
            "colorbar": {
             "outlinewidth": 0,
             "ticks": ""
            },
            "type": "contourcarpet"
           }
          ],
          "heatmap": [
           {
            "colorbar": {
             "outlinewidth": 0,
             "ticks": ""
            },
            "colorscale": [
             [
              0,
              "#0d0887"
             ],
             [
              0.1111111111111111,
              "#46039f"
             ],
             [
              0.2222222222222222,
              "#7201a8"
             ],
             [
              0.3333333333333333,
              "#9c179e"
             ],
             [
              0.4444444444444444,
              "#bd3786"
             ],
             [
              0.5555555555555556,
              "#d8576b"
             ],
             [
              0.6666666666666666,
              "#ed7953"
             ],
             [
              0.7777777777777778,
              "#fb9f3a"
             ],
             [
              0.8888888888888888,
              "#fdca26"
             ],
             [
              1,
              "#f0f921"
             ]
            ],
            "type": "heatmap"
           }
          ],
          "heatmapgl": [
           {
            "colorbar": {
             "outlinewidth": 0,
             "ticks": ""
            },
            "colorscale": [
             [
              0,
              "#0d0887"
             ],
             [
              0.1111111111111111,
              "#46039f"
             ],
             [
              0.2222222222222222,
              "#7201a8"
             ],
             [
              0.3333333333333333,
              "#9c179e"
             ],
             [
              0.4444444444444444,
              "#bd3786"
             ],
             [
              0.5555555555555556,
              "#d8576b"
             ],
             [
              0.6666666666666666,
              "#ed7953"
             ],
             [
              0.7777777777777778,
              "#fb9f3a"
             ],
             [
              0.8888888888888888,
              "#fdca26"
             ],
             [
              1,
              "#f0f921"
             ]
            ],
            "type": "heatmapgl"
           }
          ],
          "histogram": [
           {
            "marker": {
             "pattern": {
              "fillmode": "overlay",
              "size": 10,
              "solidity": 0.2
             }
            },
            "type": "histogram"
           }
          ],
          "histogram2d": [
           {
            "colorbar": {
             "outlinewidth": 0,
             "ticks": ""
            },
            "colorscale": [
             [
              0,
              "#0d0887"
             ],
             [
              0.1111111111111111,
              "#46039f"
             ],
             [
              0.2222222222222222,
              "#7201a8"
             ],
             [
              0.3333333333333333,
              "#9c179e"
             ],
             [
              0.4444444444444444,
              "#bd3786"
             ],
             [
              0.5555555555555556,
              "#d8576b"
             ],
             [
              0.6666666666666666,
              "#ed7953"
             ],
             [
              0.7777777777777778,
              "#fb9f3a"
             ],
             [
              0.8888888888888888,
              "#fdca26"
             ],
             [
              1,
              "#f0f921"
             ]
            ],
            "type": "histogram2d"
           }
          ],
          "histogram2dcontour": [
           {
            "colorbar": {
             "outlinewidth": 0,
             "ticks": ""
            },
            "colorscale": [
             [
              0,
              "#0d0887"
             ],
             [
              0.1111111111111111,
              "#46039f"
             ],
             [
              0.2222222222222222,
              "#7201a8"
             ],
             [
              0.3333333333333333,
              "#9c179e"
             ],
             [
              0.4444444444444444,
              "#bd3786"
             ],
             [
              0.5555555555555556,
              "#d8576b"
             ],
             [
              0.6666666666666666,
              "#ed7953"
             ],
             [
              0.7777777777777778,
              "#fb9f3a"
             ],
             [
              0.8888888888888888,
              "#fdca26"
             ],
             [
              1,
              "#f0f921"
             ]
            ],
            "type": "histogram2dcontour"
           }
          ],
          "mesh3d": [
           {
            "colorbar": {
             "outlinewidth": 0,
             "ticks": ""
            },
            "type": "mesh3d"
           }
          ],
          "parcoords": [
           {
            "line": {
             "colorbar": {
              "outlinewidth": 0,
              "ticks": ""
             }
            },
            "type": "parcoords"
           }
          ],
          "pie": [
           {
            "automargin": true,
            "type": "pie"
           }
          ],
          "scatter": [
           {
            "fillpattern": {
             "fillmode": "overlay",
             "size": 10,
             "solidity": 0.2
            },
            "type": "scatter"
           }
          ],
          "scatter3d": [
           {
            "line": {
             "colorbar": {
              "outlinewidth": 0,
              "ticks": ""
             }
            },
            "marker": {
             "colorbar": {
              "outlinewidth": 0,
              "ticks": ""
             }
            },
            "type": "scatter3d"
           }
          ],
          "scattercarpet": [
           {
            "marker": {
             "colorbar": {
              "outlinewidth": 0,
              "ticks": ""
             }
            },
            "type": "scattercarpet"
           }
          ],
          "scattergeo": [
           {
            "marker": {
             "colorbar": {
              "outlinewidth": 0,
              "ticks": ""
             }
            },
            "type": "scattergeo"
           }
          ],
          "scattergl": [
           {
            "marker": {
             "colorbar": {
              "outlinewidth": 0,
              "ticks": ""
             }
            },
            "type": "scattergl"
           }
          ],
          "scattermapbox": [
           {
            "marker": {
             "colorbar": {
              "outlinewidth": 0,
              "ticks": ""
             }
            },
            "type": "scattermapbox"
           }
          ],
          "scatterpolar": [
           {
            "marker": {
             "colorbar": {
              "outlinewidth": 0,
              "ticks": ""
             }
            },
            "type": "scatterpolar"
           }
          ],
          "scatterpolargl": [
           {
            "marker": {
             "colorbar": {
              "outlinewidth": 0,
              "ticks": ""
             }
            },
            "type": "scatterpolargl"
           }
          ],
          "scatterternary": [
           {
            "marker": {
             "colorbar": {
              "outlinewidth": 0,
              "ticks": ""
             }
            },
            "type": "scatterternary"
           }
          ],
          "surface": [
           {
            "colorbar": {
             "outlinewidth": 0,
             "ticks": ""
            },
            "colorscale": [
             [
              0,
              "#0d0887"
             ],
             [
              0.1111111111111111,
              "#46039f"
             ],
             [
              0.2222222222222222,
              "#7201a8"
             ],
             [
              0.3333333333333333,
              "#9c179e"
             ],
             [
              0.4444444444444444,
              "#bd3786"
             ],
             [
              0.5555555555555556,
              "#d8576b"
             ],
             [
              0.6666666666666666,
              "#ed7953"
             ],
             [
              0.7777777777777778,
              "#fb9f3a"
             ],
             [
              0.8888888888888888,
              "#fdca26"
             ],
             [
              1,
              "#f0f921"
             ]
            ],
            "type": "surface"
           }
          ],
          "table": [
           {
            "cells": {
             "fill": {
              "color": "#EBF0F8"
             },
             "line": {
              "color": "white"
             }
            },
            "header": {
             "fill": {
              "color": "#C8D4E3"
             },
             "line": {
              "color": "white"
             }
            },
            "type": "table"
           }
          ]
         },
         "layout": {
          "annotationdefaults": {
           "arrowcolor": "#2a3f5f",
           "arrowhead": 0,
           "arrowwidth": 1
          },
          "autotypenumbers": "strict",
          "coloraxis": {
           "colorbar": {
            "outlinewidth": 0,
            "ticks": ""
           }
          },
          "colorscale": {
           "diverging": [
            [
             0,
             "#8e0152"
            ],
            [
             0.1,
             "#c51b7d"
            ],
            [
             0.2,
             "#de77ae"
            ],
            [
             0.3,
             "#f1b6da"
            ],
            [
             0.4,
             "#fde0ef"
            ],
            [
             0.5,
             "#f7f7f7"
            ],
            [
             0.6,
             "#e6f5d0"
            ],
            [
             0.7,
             "#b8e186"
            ],
            [
             0.8,
             "#7fbc41"
            ],
            [
             0.9,
             "#4d9221"
            ],
            [
             1,
             "#276419"
            ]
           ],
           "sequential": [
            [
             0,
             "#0d0887"
            ],
            [
             0.1111111111111111,
             "#46039f"
            ],
            [
             0.2222222222222222,
             "#7201a8"
            ],
            [
             0.3333333333333333,
             "#9c179e"
            ],
            [
             0.4444444444444444,
             "#bd3786"
            ],
            [
             0.5555555555555556,
             "#d8576b"
            ],
            [
             0.6666666666666666,
             "#ed7953"
            ],
            [
             0.7777777777777778,
             "#fb9f3a"
            ],
            [
             0.8888888888888888,
             "#fdca26"
            ],
            [
             1,
             "#f0f921"
            ]
           ],
           "sequentialminus": [
            [
             0,
             "#0d0887"
            ],
            [
             0.1111111111111111,
             "#46039f"
            ],
            [
             0.2222222222222222,
             "#7201a8"
            ],
            [
             0.3333333333333333,
             "#9c179e"
            ],
            [
             0.4444444444444444,
             "#bd3786"
            ],
            [
             0.5555555555555556,
             "#d8576b"
            ],
            [
             0.6666666666666666,
             "#ed7953"
            ],
            [
             0.7777777777777778,
             "#fb9f3a"
            ],
            [
             0.8888888888888888,
             "#fdca26"
            ],
            [
             1,
             "#f0f921"
            ]
           ]
          },
          "colorway": [
           "#636efa",
           "#EF553B",
           "#00cc96",
           "#ab63fa",
           "#FFA15A",
           "#19d3f3",
           "#FF6692",
           "#B6E880",
           "#FF97FF",
           "#FECB52"
          ],
          "font": {
           "color": "#2a3f5f"
          },
          "geo": {
           "bgcolor": "white",
           "lakecolor": "white",
           "landcolor": "#E5ECF6",
           "showlakes": true,
           "showland": true,
           "subunitcolor": "white"
          },
          "hoverlabel": {
           "align": "left"
          },
          "hovermode": "closest",
          "mapbox": {
           "style": "light"
          },
          "paper_bgcolor": "white",
          "plot_bgcolor": "#E5ECF6",
          "polar": {
           "angularaxis": {
            "gridcolor": "white",
            "linecolor": "white",
            "ticks": ""
           },
           "bgcolor": "#E5ECF6",
           "radialaxis": {
            "gridcolor": "white",
            "linecolor": "white",
            "ticks": ""
           }
          },
          "scene": {
           "xaxis": {
            "backgroundcolor": "#E5ECF6",
            "gridcolor": "white",
            "gridwidth": 2,
            "linecolor": "white",
            "showbackground": true,
            "ticks": "",
            "zerolinecolor": "white"
           },
           "yaxis": {
            "backgroundcolor": "#E5ECF6",
            "gridcolor": "white",
            "gridwidth": 2,
            "linecolor": "white",
            "showbackground": true,
            "ticks": "",
            "zerolinecolor": "white"
           },
           "zaxis": {
            "backgroundcolor": "#E5ECF6",
            "gridcolor": "white",
            "gridwidth": 2,
            "linecolor": "white",
            "showbackground": true,
            "ticks": "",
            "zerolinecolor": "white"
           }
          },
          "shapedefaults": {
           "line": {
            "color": "#2a3f5f"
           }
          },
          "ternary": {
           "aaxis": {
            "gridcolor": "white",
            "linecolor": "white",
            "ticks": ""
           },
           "baxis": {
            "gridcolor": "white",
            "linecolor": "white",
            "ticks": ""
           },
           "bgcolor": "#E5ECF6",
           "caxis": {
            "gridcolor": "white",
            "linecolor": "white",
            "ticks": ""
           }
          },
          "title": {
           "x": 0.05
          },
          "xaxis": {
           "automargin": true,
           "gridcolor": "white",
           "linecolor": "white",
           "ticks": "",
           "title": {
            "standoff": 15
           },
           "zerolinecolor": "white",
           "zerolinewidth": 2
          },
          "yaxis": {
           "automargin": true,
           "gridcolor": "white",
           "linecolor": "white",
           "ticks": "",
           "title": {
            "standoff": 15
           },
           "zerolinecolor": "white",
           "zerolinewidth": 2
          }
         }
        },
        "title": {
         "text": "Pitch Type Action Counts"
        },
        "width": 450,
        "xaxis": {
         "anchor": "y",
         "constrain": "domain",
         "domain": [
          0,
          1
         ],
         "scaleanchor": "y",
         "title": {
          "text": "Pitch Action"
         }
        },
        "yaxis": {
         "anchor": "x",
         "autorange": "reversed",
         "constrain": "domain",
         "domain": [
          0,
          1
         ],
         "title": {
          "text": "Pitch Type"
         }
        }
       }
      },
      "text/html": [
       "<div>                            <div id=\"aa7a29a0-311e-4482-8be6-e3051b2ea30a\" class=\"plotly-graph-div\" style=\"height:500px; width:450px;\"></div>            <script type=\"text/javascript\">                require([\"plotly\"], function(Plotly) {                    window.PLOTLYENV=window.PLOTLYENV || {};                                    if (document.getElementById(\"aa7a29a0-311e-4482-8be6-e3051b2ea30a\")) {                    Plotly.newPlot(                        \"aa7a29a0-311e-4482-8be6-e3051b2ea30a\",                        [{\"coloraxis\":\"coloraxis\",\"name\":\"0\",\"texttemplate\":\"%{z}\",\"x\":[\"BallInDirt\",\"Blocked\",\"Called\",\"Foul\",\"FoulTip\",\"HitByPitch\"],\"y\":[\"Sinker\",\"Cutter\",\"FourSeamFastball\",\"Curveball\",\"Slider\",\"Changeup\"],\"z\":[[0.0,0.0,20.0,1.0,0.0,0.0],[3.0,0.0,21.0,3.0,0.0,0.0],[0.0,0.0,17.0,3.0,0.0,0.0],[0.0,0.0,16.0,5.0,0.0,0.0],[0.0,0.0,58.0,19.0,2.0,2.0],[2.0,1.0,40.0,12.0,0.0,1.0]],\"type\":\"heatmap\",\"xaxis\":\"x\",\"yaxis\":\"y\",\"hovertemplate\":\"Pitch Action: %{x}<br>Pitch Type: %{y}<br>Count: %{z}<extra></extra>\"}],                        {\"template\":{\"data\":{\"histogram2dcontour\":[{\"type\":\"histogram2dcontour\",\"colorbar\":{\"outlinewidth\":0,\"ticks\":\"\"},\"colorscale\":[[0.0,\"#0d0887\"],[0.1111111111111111,\"#46039f\"],[0.2222222222222222,\"#7201a8\"],[0.3333333333333333,\"#9c179e\"],[0.4444444444444444,\"#bd3786\"],[0.5555555555555556,\"#d8576b\"],[0.6666666666666666,\"#ed7953\"],[0.7777777777777778,\"#fb9f3a\"],[0.8888888888888888,\"#fdca26\"],[1.0,\"#f0f921\"]]}],\"choropleth\":[{\"type\":\"choropleth\",\"colorbar\":{\"outlinewidth\":0,\"ticks\":\"\"}}],\"histogram2d\":[{\"type\":\"histogram2d\",\"colorbar\":{\"outlinewidth\":0,\"ticks\":\"\"},\"colorscale\":[[0.0,\"#0d0887\"],[0.1111111111111111,\"#46039f\"],[0.2222222222222222,\"#7201a8\"],[0.3333333333333333,\"#9c179e\"],[0.4444444444444444,\"#bd3786\"],[0.5555555555555556,\"#d8576b\"],[0.6666666666666666,\"#ed7953\"],[0.7777777777777778,\"#fb9f3a\"],[0.8888888888888888,\"#fdca26\"],[1.0,\"#f0f921\"]]}],\"heatmap\":[{\"type\":\"heatmap\",\"colorbar\":{\"outlinewidth\":0,\"ticks\":\"\"},\"colorscale\":[[0.0,\"#0d0887\"],[0.1111111111111111,\"#46039f\"],[0.2222222222222222,\"#7201a8\"],[0.3333333333333333,\"#9c179e\"],[0.4444444444444444,\"#bd3786\"],[0.5555555555555556,\"#d8576b\"],[0.6666666666666666,\"#ed7953\"],[0.7777777777777778,\"#fb9f3a\"],[0.8888888888888888,\"#fdca26\"],[1.0,\"#f0f921\"]]}],\"heatmapgl\":[{\"type\":\"heatmapgl\",\"colorbar\":{\"outlinewidth\":0,\"ticks\":\"\"},\"colorscale\":[[0.0,\"#0d0887\"],[0.1111111111111111,\"#46039f\"],[0.2222222222222222,\"#7201a8\"],[0.3333333333333333,\"#9c179e\"],[0.4444444444444444,\"#bd3786\"],[0.5555555555555556,\"#d8576b\"],[0.6666666666666666,\"#ed7953\"],[0.7777777777777778,\"#fb9f3a\"],[0.8888888888888888,\"#fdca26\"],[1.0,\"#f0f921\"]]}],\"contourcarpet\":[{\"type\":\"contourcarpet\",\"colorbar\":{\"outlinewidth\":0,\"ticks\":\"\"}}],\"contour\":[{\"type\":\"contour\",\"colorbar\":{\"outlinewidth\":0,\"ticks\":\"\"},\"colorscale\":[[0.0,\"#0d0887\"],[0.1111111111111111,\"#46039f\"],[0.2222222222222222,\"#7201a8\"],[0.3333333333333333,\"#9c179e\"],[0.4444444444444444,\"#bd3786\"],[0.5555555555555556,\"#d8576b\"],[0.6666666666666666,\"#ed7953\"],[0.7777777777777778,\"#fb9f3a\"],[0.8888888888888888,\"#fdca26\"],[1.0,\"#f0f921\"]]}],\"surface\":[{\"type\":\"surface\",\"colorbar\":{\"outlinewidth\":0,\"ticks\":\"\"},\"colorscale\":[[0.0,\"#0d0887\"],[0.1111111111111111,\"#46039f\"],[0.2222222222222222,\"#7201a8\"],[0.3333333333333333,\"#9c179e\"],[0.4444444444444444,\"#bd3786\"],[0.5555555555555556,\"#d8576b\"],[0.6666666666666666,\"#ed7953\"],[0.7777777777777778,\"#fb9f3a\"],[0.8888888888888888,\"#fdca26\"],[1.0,\"#f0f921\"]]}],\"mesh3d\":[{\"type\":\"mesh3d\",\"colorbar\":{\"outlinewidth\":0,\"ticks\":\"\"}}],\"scatter\":[{\"fillpattern\":{\"fillmode\":\"overlay\",\"size\":10,\"solidity\":0.2},\"type\":\"scatter\"}],\"parcoords\":[{\"type\":\"parcoords\",\"line\":{\"colorbar\":{\"outlinewidth\":0,\"ticks\":\"\"}}}],\"scatterpolargl\":[{\"type\":\"scatterpolargl\",\"marker\":{\"colorbar\":{\"outlinewidth\":0,\"ticks\":\"\"}}}],\"bar\":[{\"error_x\":{\"color\":\"#2a3f5f\"},\"error_y\":{\"color\":\"#2a3f5f\"},\"marker\":{\"line\":{\"color\":\"#E5ECF6\",\"width\":0.5},\"pattern\":{\"fillmode\":\"overlay\",\"size\":10,\"solidity\":0.2}},\"type\":\"bar\"}],\"scattergeo\":[{\"type\":\"scattergeo\",\"marker\":{\"colorbar\":{\"outlinewidth\":0,\"ticks\":\"\"}}}],\"scatterpolar\":[{\"type\":\"scatterpolar\",\"marker\":{\"colorbar\":{\"outlinewidth\":0,\"ticks\":\"\"}}}],\"histogram\":[{\"marker\":{\"pattern\":{\"fillmode\":\"overlay\",\"size\":10,\"solidity\":0.2}},\"type\":\"histogram\"}],\"scattergl\":[{\"type\":\"scattergl\",\"marker\":{\"colorbar\":{\"outlinewidth\":0,\"ticks\":\"\"}}}],\"scatter3d\":[{\"type\":\"scatter3d\",\"line\":{\"colorbar\":{\"outlinewidth\":0,\"ticks\":\"\"}},\"marker\":{\"colorbar\":{\"outlinewidth\":0,\"ticks\":\"\"}}}],\"scattermapbox\":[{\"type\":\"scattermapbox\",\"marker\":{\"colorbar\":{\"outlinewidth\":0,\"ticks\":\"\"}}}],\"scatterternary\":[{\"type\":\"scatterternary\",\"marker\":{\"colorbar\":{\"outlinewidth\":0,\"ticks\":\"\"}}}],\"scattercarpet\":[{\"type\":\"scattercarpet\",\"marker\":{\"colorbar\":{\"outlinewidth\":0,\"ticks\":\"\"}}}],\"carpet\":[{\"aaxis\":{\"endlinecolor\":\"#2a3f5f\",\"gridcolor\":\"white\",\"linecolor\":\"white\",\"minorgridcolor\":\"white\",\"startlinecolor\":\"#2a3f5f\"},\"baxis\":{\"endlinecolor\":\"#2a3f5f\",\"gridcolor\":\"white\",\"linecolor\":\"white\",\"minorgridcolor\":\"white\",\"startlinecolor\":\"#2a3f5f\"},\"type\":\"carpet\"}],\"table\":[{\"cells\":{\"fill\":{\"color\":\"#EBF0F8\"},\"line\":{\"color\":\"white\"}},\"header\":{\"fill\":{\"color\":\"#C8D4E3\"},\"line\":{\"color\":\"white\"}},\"type\":\"table\"}],\"barpolar\":[{\"marker\":{\"line\":{\"color\":\"#E5ECF6\",\"width\":0.5},\"pattern\":{\"fillmode\":\"overlay\",\"size\":10,\"solidity\":0.2}},\"type\":\"barpolar\"}],\"pie\":[{\"automargin\":true,\"type\":\"pie\"}]},\"layout\":{\"autotypenumbers\":\"strict\",\"colorway\":[\"#636efa\",\"#EF553B\",\"#00cc96\",\"#ab63fa\",\"#FFA15A\",\"#19d3f3\",\"#FF6692\",\"#B6E880\",\"#FF97FF\",\"#FECB52\"],\"font\":{\"color\":\"#2a3f5f\"},\"hovermode\":\"closest\",\"hoverlabel\":{\"align\":\"left\"},\"paper_bgcolor\":\"white\",\"plot_bgcolor\":\"#E5ECF6\",\"polar\":{\"bgcolor\":\"#E5ECF6\",\"angularaxis\":{\"gridcolor\":\"white\",\"linecolor\":\"white\",\"ticks\":\"\"},\"radialaxis\":{\"gridcolor\":\"white\",\"linecolor\":\"white\",\"ticks\":\"\"}},\"ternary\":{\"bgcolor\":\"#E5ECF6\",\"aaxis\":{\"gridcolor\":\"white\",\"linecolor\":\"white\",\"ticks\":\"\"},\"baxis\":{\"gridcolor\":\"white\",\"linecolor\":\"white\",\"ticks\":\"\"},\"caxis\":{\"gridcolor\":\"white\",\"linecolor\":\"white\",\"ticks\":\"\"}},\"coloraxis\":{\"colorbar\":{\"outlinewidth\":0,\"ticks\":\"\"}},\"colorscale\":{\"sequential\":[[0.0,\"#0d0887\"],[0.1111111111111111,\"#46039f\"],[0.2222222222222222,\"#7201a8\"],[0.3333333333333333,\"#9c179e\"],[0.4444444444444444,\"#bd3786\"],[0.5555555555555556,\"#d8576b\"],[0.6666666666666666,\"#ed7953\"],[0.7777777777777778,\"#fb9f3a\"],[0.8888888888888888,\"#fdca26\"],[1.0,\"#f0f921\"]],\"sequentialminus\":[[0.0,\"#0d0887\"],[0.1111111111111111,\"#46039f\"],[0.2222222222222222,\"#7201a8\"],[0.3333333333333333,\"#9c179e\"],[0.4444444444444444,\"#bd3786\"],[0.5555555555555556,\"#d8576b\"],[0.6666666666666666,\"#ed7953\"],[0.7777777777777778,\"#fb9f3a\"],[0.8888888888888888,\"#fdca26\"],[1.0,\"#f0f921\"]],\"diverging\":[[0,\"#8e0152\"],[0.1,\"#c51b7d\"],[0.2,\"#de77ae\"],[0.3,\"#f1b6da\"],[0.4,\"#fde0ef\"],[0.5,\"#f7f7f7\"],[0.6,\"#e6f5d0\"],[0.7,\"#b8e186\"],[0.8,\"#7fbc41\"],[0.9,\"#4d9221\"],[1,\"#276419\"]]},\"xaxis\":{\"gridcolor\":\"white\",\"linecolor\":\"white\",\"ticks\":\"\",\"title\":{\"standoff\":15},\"zerolinecolor\":\"white\",\"automargin\":true,\"zerolinewidth\":2},\"yaxis\":{\"gridcolor\":\"white\",\"linecolor\":\"white\",\"ticks\":\"\",\"title\":{\"standoff\":15},\"zerolinecolor\":\"white\",\"automargin\":true,\"zerolinewidth\":2},\"scene\":{\"xaxis\":{\"backgroundcolor\":\"#E5ECF6\",\"gridcolor\":\"white\",\"linecolor\":\"white\",\"showbackground\":true,\"ticks\":\"\",\"zerolinecolor\":\"white\",\"gridwidth\":2},\"yaxis\":{\"backgroundcolor\":\"#E5ECF6\",\"gridcolor\":\"white\",\"linecolor\":\"white\",\"showbackground\":true,\"ticks\":\"\",\"zerolinecolor\":\"white\",\"gridwidth\":2},\"zaxis\":{\"backgroundcolor\":\"#E5ECF6\",\"gridcolor\":\"white\",\"linecolor\":\"white\",\"showbackground\":true,\"ticks\":\"\",\"zerolinecolor\":\"white\",\"gridwidth\":2}},\"shapedefaults\":{\"line\":{\"color\":\"#2a3f5f\"}},\"annotationdefaults\":{\"arrowcolor\":\"#2a3f5f\",\"arrowhead\":0,\"arrowwidth\":1},\"geo\":{\"bgcolor\":\"white\",\"landcolor\":\"#E5ECF6\",\"subunitcolor\":\"white\",\"showland\":true,\"showlakes\":true,\"lakecolor\":\"white\"},\"title\":{\"x\":0.05},\"mapbox\":{\"style\":\"light\"}}},\"xaxis\":{\"anchor\":\"y\",\"domain\":[0.0,1.0],\"scaleanchor\":\"y\",\"constrain\":\"domain\",\"title\":{\"text\":\"Pitch Action\"}},\"yaxis\":{\"anchor\":\"x\",\"domain\":[0.0,1.0],\"autorange\":\"reversed\",\"constrain\":\"domain\",\"title\":{\"text\":\"Pitch Type\"}},\"coloraxis\":{\"colorbar\":{\"title\":{\"text\":\"Count\"}},\"colorscale\":[[0.0,\"#0d0887\"],[0.1111111111111111,\"#46039f\"],[0.2222222222222222,\"#7201a8\"],[0.3333333333333333,\"#9c179e\"],[0.4444444444444444,\"#bd3786\"],[0.5555555555555556,\"#d8576b\"],[0.6666666666666666,\"#ed7953\"],[0.7777777777777778,\"#fb9f3a\"],[0.8888888888888888,\"#fdca26\"],[1.0,\"#f0f921\"]]},\"title\":{\"text\":\"Pitch Type Action Counts\"},\"height\":500,\"width\":450},                        {\"responsive\": true}                    ).then(function(){\n",
       "                            \n",
       "var gd = document.getElementById('aa7a29a0-311e-4482-8be6-e3051b2ea30a');\n",
       "var x = new MutationObserver(function (mutations, observer) {{\n",
       "        var display = window.getComputedStyle(gd).display;\n",
       "        if (!display || display === 'none') {{\n",
       "            console.log([gd, 'removed!']);\n",
       "            Plotly.purge(gd);\n",
       "            observer.disconnect();\n",
       "        }}\n",
       "}});\n",
       "\n",
       "// Listen for the removal of the full notebook cells\n",
       "var notebookContainer = gd.closest('#notebook-container');\n",
       "if (notebookContainer) {{\n",
       "    x.observe(notebookContainer, {childList: true});\n",
       "}}\n",
       "\n",
       "// Listen for the clearing of the current output cell\n",
       "var outputEl = gd.closest('.output');\n",
       "if (outputEl) {{\n",
       "    x.observe(outputEl, {childList: true});\n",
       "}}\n",
       "\n",
       "                        })                };                });            </script>        </div>"
      ]
     },
     "metadata": {},
     "output_type": "display_data"
    }
   ],
   "source": [
    "# Create a heatmap \n",
    "fig = px.imshow(melted_type_action_df.pivot(index='Pitch Type', columns='Pitch Action', values='Count'),\n",
    "                x=melted_type_action_df['Pitch Action'].unique(),\n",
    "                y=melted_type_action_df['Pitch Type'].unique(),\n",
    "                labels=dict(x='Pitch Action', y='Pitch Type', color='Count'),\n",
    "                title='Pitch Type Action Counts',\n",
    "                width=450,\n",
    "                height=500, \n",
    "                text_auto=True)\n",
    "\n",
    "fig.show()"
   ]
  },
  {
   "cell_type": "markdown",
   "id": "68a0f1c9",
   "metadata": {},
   "source": [
    "## Pitch Type By Inning Number"
   ]
  },
  {
   "cell_type": "code",
   "execution_count": 53,
   "id": "a3315d47",
   "metadata": {},
   "outputs": [],
   "source": [
    "pitch_type_data = []\n",
    "inning_num_data = []\n",
    "for cur_data in data:\n",
    "    if(cur_data['summary_acts']['pitch']['type'] and cur_data['summary_score']['runs']['innings']):\n",
    "        pitch_type_data.append(cur_data['summary_acts']['pitch']['type'])\n",
    "        inning_num_data.append(len(cur_data['summary_score']['runs']['innings']))"
   ]
  },
  {
   "cell_type": "code",
   "execution_count": 54,
   "id": "6ca8fe97",
   "metadata": {},
   "outputs": [
    {
     "name": "stdout",
     "output_type": "stream",
     "text": [
      "Pitch Types: ['Sinker', 'Cutter', 'FourSeamFastball', 'Curveball', 'Slider', 'Changeup']\n",
      "Innings: [1, 2, 3, 4, 5, 6, 7, 8, 9]\n"
     ]
    }
   ],
   "source": [
    "pitch_type_types = list(set(pitch_type_data))\n",
    "inning_num_types = list(set(inning_num_data))\n",
    "print(\"Pitch Types:\", pitch_type_types)\n",
    "print(\"Innings:\", inning_num_types)"
   ]
  },
  {
   "cell_type": "code",
   "execution_count": 55,
   "id": "e2fe9dac",
   "metadata": {},
   "outputs": [],
   "source": [
    "pitch_type_inning_matrix = np.zeros([len(pitch_type_types), len(inning_num_types)])\n",
    "for i in range(len(pitch_type_data)):\n",
    "    pitch_type_inning_matrix[pitch_type_types.index(pitch_type_data[i])][inning_num_types.index(inning_num_data[i])] += 1\n",
    "\n",
    "#convert to dictionary\n",
    "pitch_type_inning_dict = {'Pitch Type': pitch_type_types}\n",
    "for i, outcome in enumerate(inning_num_types):\n",
    "    pitch_type_inning_dict[outcome] = pitch_type_inning_matrix[:, i].tolist()\n",
    "\n",
    "#Make dataframe\n",
    "pitch_type_inning_df = pd.DataFrame(pitch_type_inning_dict)\n",
    "\n",
    "# Melt the DataFrame to have a column for the pitch type and its corresponding values\n",
    "melted_pitch_type_inning_df = pd.melt(pitch_type_inning_df, id_vars='Pitch Type', var_name='Inning Num', value_name='Count')\n",
    "# display(melted_pitch_type_inning_df)"
   ]
  },
  {
   "cell_type": "code",
   "execution_count": 56,
   "id": "dc668a15",
   "metadata": {},
   "outputs": [
    {
     "data": {
      "application/vnd.plotly.v1+json": {
       "config": {
        "plotlyServerURL": "https://plot.ly"
       },
       "data": [
        {
         "coloraxis": "coloraxis",
         "hovertemplate": "Inning Num: %{x}<br>Pitch Type: %{y}<br>Count: %{z}<extra></extra>",
         "name": "0",
         "texttemplate": "%{z}",
         "type": "heatmap",
         "x": [
          1,
          2,
          3,
          4,
          5,
          6,
          7,
          8,
          9
         ],
         "xaxis": "x",
         "y": [
          "Sinker",
          "Cutter",
          "FourSeamFastball",
          "Curveball",
          "Slider",
          "Changeup"
         ],
         "yaxis": "y",
         "z": [
          [
           3,
           1,
           2,
           0,
           3,
           11,
           7,
           4,
           0
          ],
          [
           6,
           7,
           14,
           3,
           0,
           2,
           3,
           2,
           2
          ],
          [
           2,
           6,
           7,
           5,
           1,
           0,
           0,
           3,
           0
          ],
          [
           2,
           1,
           5,
           10,
           2,
           0,
           6,
           3,
           4
          ],
          [
           10,
           16,
           26,
           7,
           14,
           7,
           0,
           25,
           1
          ],
          [
           4,
           4,
           6,
           7,
           22,
           12,
           14,
           2,
           6
          ]
         ]
        }
       ],
       "layout": {
        "coloraxis": {
         "colorbar": {
          "title": {
           "text": "Count"
          }
         },
         "colorscale": [
          [
           0,
           "#0d0887"
          ],
          [
           0.1111111111111111,
           "#46039f"
          ],
          [
           0.2222222222222222,
           "#7201a8"
          ],
          [
           0.3333333333333333,
           "#9c179e"
          ],
          [
           0.4444444444444444,
           "#bd3786"
          ],
          [
           0.5555555555555556,
           "#d8576b"
          ],
          [
           0.6666666666666666,
           "#ed7953"
          ],
          [
           0.7777777777777778,
           "#fb9f3a"
          ],
          [
           0.8888888888888888,
           "#fdca26"
          ],
          [
           1,
           "#f0f921"
          ]
         ]
        },
        "height": 500,
        "template": {
         "data": {
          "bar": [
           {
            "error_x": {
             "color": "#2a3f5f"
            },
            "error_y": {
             "color": "#2a3f5f"
            },
            "marker": {
             "line": {
              "color": "#E5ECF6",
              "width": 0.5
             },
             "pattern": {
              "fillmode": "overlay",
              "size": 10,
              "solidity": 0.2
             }
            },
            "type": "bar"
           }
          ],
          "barpolar": [
           {
            "marker": {
             "line": {
              "color": "#E5ECF6",
              "width": 0.5
             },
             "pattern": {
              "fillmode": "overlay",
              "size": 10,
              "solidity": 0.2
             }
            },
            "type": "barpolar"
           }
          ],
          "carpet": [
           {
            "aaxis": {
             "endlinecolor": "#2a3f5f",
             "gridcolor": "white",
             "linecolor": "white",
             "minorgridcolor": "white",
             "startlinecolor": "#2a3f5f"
            },
            "baxis": {
             "endlinecolor": "#2a3f5f",
             "gridcolor": "white",
             "linecolor": "white",
             "minorgridcolor": "white",
             "startlinecolor": "#2a3f5f"
            },
            "type": "carpet"
           }
          ],
          "choropleth": [
           {
            "colorbar": {
             "outlinewidth": 0,
             "ticks": ""
            },
            "type": "choropleth"
           }
          ],
          "contour": [
           {
            "colorbar": {
             "outlinewidth": 0,
             "ticks": ""
            },
            "colorscale": [
             [
              0,
              "#0d0887"
             ],
             [
              0.1111111111111111,
              "#46039f"
             ],
             [
              0.2222222222222222,
              "#7201a8"
             ],
             [
              0.3333333333333333,
              "#9c179e"
             ],
             [
              0.4444444444444444,
              "#bd3786"
             ],
             [
              0.5555555555555556,
              "#d8576b"
             ],
             [
              0.6666666666666666,
              "#ed7953"
             ],
             [
              0.7777777777777778,
              "#fb9f3a"
             ],
             [
              0.8888888888888888,
              "#fdca26"
             ],
             [
              1,
              "#f0f921"
             ]
            ],
            "type": "contour"
           }
          ],
          "contourcarpet": [
           {
            "colorbar": {
             "outlinewidth": 0,
             "ticks": ""
            },
            "type": "contourcarpet"
           }
          ],
          "heatmap": [
           {
            "colorbar": {
             "outlinewidth": 0,
             "ticks": ""
            },
            "colorscale": [
             [
              0,
              "#0d0887"
             ],
             [
              0.1111111111111111,
              "#46039f"
             ],
             [
              0.2222222222222222,
              "#7201a8"
             ],
             [
              0.3333333333333333,
              "#9c179e"
             ],
             [
              0.4444444444444444,
              "#bd3786"
             ],
             [
              0.5555555555555556,
              "#d8576b"
             ],
             [
              0.6666666666666666,
              "#ed7953"
             ],
             [
              0.7777777777777778,
              "#fb9f3a"
             ],
             [
              0.8888888888888888,
              "#fdca26"
             ],
             [
              1,
              "#f0f921"
             ]
            ],
            "type": "heatmap"
           }
          ],
          "heatmapgl": [
           {
            "colorbar": {
             "outlinewidth": 0,
             "ticks": ""
            },
            "colorscale": [
             [
              0,
              "#0d0887"
             ],
             [
              0.1111111111111111,
              "#46039f"
             ],
             [
              0.2222222222222222,
              "#7201a8"
             ],
             [
              0.3333333333333333,
              "#9c179e"
             ],
             [
              0.4444444444444444,
              "#bd3786"
             ],
             [
              0.5555555555555556,
              "#d8576b"
             ],
             [
              0.6666666666666666,
              "#ed7953"
             ],
             [
              0.7777777777777778,
              "#fb9f3a"
             ],
             [
              0.8888888888888888,
              "#fdca26"
             ],
             [
              1,
              "#f0f921"
             ]
            ],
            "type": "heatmapgl"
           }
          ],
          "histogram": [
           {
            "marker": {
             "pattern": {
              "fillmode": "overlay",
              "size": 10,
              "solidity": 0.2
             }
            },
            "type": "histogram"
           }
          ],
          "histogram2d": [
           {
            "colorbar": {
             "outlinewidth": 0,
             "ticks": ""
            },
            "colorscale": [
             [
              0,
              "#0d0887"
             ],
             [
              0.1111111111111111,
              "#46039f"
             ],
             [
              0.2222222222222222,
              "#7201a8"
             ],
             [
              0.3333333333333333,
              "#9c179e"
             ],
             [
              0.4444444444444444,
              "#bd3786"
             ],
             [
              0.5555555555555556,
              "#d8576b"
             ],
             [
              0.6666666666666666,
              "#ed7953"
             ],
             [
              0.7777777777777778,
              "#fb9f3a"
             ],
             [
              0.8888888888888888,
              "#fdca26"
             ],
             [
              1,
              "#f0f921"
             ]
            ],
            "type": "histogram2d"
           }
          ],
          "histogram2dcontour": [
           {
            "colorbar": {
             "outlinewidth": 0,
             "ticks": ""
            },
            "colorscale": [
             [
              0,
              "#0d0887"
             ],
             [
              0.1111111111111111,
              "#46039f"
             ],
             [
              0.2222222222222222,
              "#7201a8"
             ],
             [
              0.3333333333333333,
              "#9c179e"
             ],
             [
              0.4444444444444444,
              "#bd3786"
             ],
             [
              0.5555555555555556,
              "#d8576b"
             ],
             [
              0.6666666666666666,
              "#ed7953"
             ],
             [
              0.7777777777777778,
              "#fb9f3a"
             ],
             [
              0.8888888888888888,
              "#fdca26"
             ],
             [
              1,
              "#f0f921"
             ]
            ],
            "type": "histogram2dcontour"
           }
          ],
          "mesh3d": [
           {
            "colorbar": {
             "outlinewidth": 0,
             "ticks": ""
            },
            "type": "mesh3d"
           }
          ],
          "parcoords": [
           {
            "line": {
             "colorbar": {
              "outlinewidth": 0,
              "ticks": ""
             }
            },
            "type": "parcoords"
           }
          ],
          "pie": [
           {
            "automargin": true,
            "type": "pie"
           }
          ],
          "scatter": [
           {
            "fillpattern": {
             "fillmode": "overlay",
             "size": 10,
             "solidity": 0.2
            },
            "type": "scatter"
           }
          ],
          "scatter3d": [
           {
            "line": {
             "colorbar": {
              "outlinewidth": 0,
              "ticks": ""
             }
            },
            "marker": {
             "colorbar": {
              "outlinewidth": 0,
              "ticks": ""
             }
            },
            "type": "scatter3d"
           }
          ],
          "scattercarpet": [
           {
            "marker": {
             "colorbar": {
              "outlinewidth": 0,
              "ticks": ""
             }
            },
            "type": "scattercarpet"
           }
          ],
          "scattergeo": [
           {
            "marker": {
             "colorbar": {
              "outlinewidth": 0,
              "ticks": ""
             }
            },
            "type": "scattergeo"
           }
          ],
          "scattergl": [
           {
            "marker": {
             "colorbar": {
              "outlinewidth": 0,
              "ticks": ""
             }
            },
            "type": "scattergl"
           }
          ],
          "scattermapbox": [
           {
            "marker": {
             "colorbar": {
              "outlinewidth": 0,
              "ticks": ""
             }
            },
            "type": "scattermapbox"
           }
          ],
          "scatterpolar": [
           {
            "marker": {
             "colorbar": {
              "outlinewidth": 0,
              "ticks": ""
             }
            },
            "type": "scatterpolar"
           }
          ],
          "scatterpolargl": [
           {
            "marker": {
             "colorbar": {
              "outlinewidth": 0,
              "ticks": ""
             }
            },
            "type": "scatterpolargl"
           }
          ],
          "scatterternary": [
           {
            "marker": {
             "colorbar": {
              "outlinewidth": 0,
              "ticks": ""
             }
            },
            "type": "scatterternary"
           }
          ],
          "surface": [
           {
            "colorbar": {
             "outlinewidth": 0,
             "ticks": ""
            },
            "colorscale": [
             [
              0,
              "#0d0887"
             ],
             [
              0.1111111111111111,
              "#46039f"
             ],
             [
              0.2222222222222222,
              "#7201a8"
             ],
             [
              0.3333333333333333,
              "#9c179e"
             ],
             [
              0.4444444444444444,
              "#bd3786"
             ],
             [
              0.5555555555555556,
              "#d8576b"
             ],
             [
              0.6666666666666666,
              "#ed7953"
             ],
             [
              0.7777777777777778,
              "#fb9f3a"
             ],
             [
              0.8888888888888888,
              "#fdca26"
             ],
             [
              1,
              "#f0f921"
             ]
            ],
            "type": "surface"
           }
          ],
          "table": [
           {
            "cells": {
             "fill": {
              "color": "#EBF0F8"
             },
             "line": {
              "color": "white"
             }
            },
            "header": {
             "fill": {
              "color": "#C8D4E3"
             },
             "line": {
              "color": "white"
             }
            },
            "type": "table"
           }
          ]
         },
         "layout": {
          "annotationdefaults": {
           "arrowcolor": "#2a3f5f",
           "arrowhead": 0,
           "arrowwidth": 1
          },
          "autotypenumbers": "strict",
          "coloraxis": {
           "colorbar": {
            "outlinewidth": 0,
            "ticks": ""
           }
          },
          "colorscale": {
           "diverging": [
            [
             0,
             "#8e0152"
            ],
            [
             0.1,
             "#c51b7d"
            ],
            [
             0.2,
             "#de77ae"
            ],
            [
             0.3,
             "#f1b6da"
            ],
            [
             0.4,
             "#fde0ef"
            ],
            [
             0.5,
             "#f7f7f7"
            ],
            [
             0.6,
             "#e6f5d0"
            ],
            [
             0.7,
             "#b8e186"
            ],
            [
             0.8,
             "#7fbc41"
            ],
            [
             0.9,
             "#4d9221"
            ],
            [
             1,
             "#276419"
            ]
           ],
           "sequential": [
            [
             0,
             "#0d0887"
            ],
            [
             0.1111111111111111,
             "#46039f"
            ],
            [
             0.2222222222222222,
             "#7201a8"
            ],
            [
             0.3333333333333333,
             "#9c179e"
            ],
            [
             0.4444444444444444,
             "#bd3786"
            ],
            [
             0.5555555555555556,
             "#d8576b"
            ],
            [
             0.6666666666666666,
             "#ed7953"
            ],
            [
             0.7777777777777778,
             "#fb9f3a"
            ],
            [
             0.8888888888888888,
             "#fdca26"
            ],
            [
             1,
             "#f0f921"
            ]
           ],
           "sequentialminus": [
            [
             0,
             "#0d0887"
            ],
            [
             0.1111111111111111,
             "#46039f"
            ],
            [
             0.2222222222222222,
             "#7201a8"
            ],
            [
             0.3333333333333333,
             "#9c179e"
            ],
            [
             0.4444444444444444,
             "#bd3786"
            ],
            [
             0.5555555555555556,
             "#d8576b"
            ],
            [
             0.6666666666666666,
             "#ed7953"
            ],
            [
             0.7777777777777778,
             "#fb9f3a"
            ],
            [
             0.8888888888888888,
             "#fdca26"
            ],
            [
             1,
             "#f0f921"
            ]
           ]
          },
          "colorway": [
           "#636efa",
           "#EF553B",
           "#00cc96",
           "#ab63fa",
           "#FFA15A",
           "#19d3f3",
           "#FF6692",
           "#B6E880",
           "#FF97FF",
           "#FECB52"
          ],
          "font": {
           "color": "#2a3f5f"
          },
          "geo": {
           "bgcolor": "white",
           "lakecolor": "white",
           "landcolor": "#E5ECF6",
           "showlakes": true,
           "showland": true,
           "subunitcolor": "white"
          },
          "hoverlabel": {
           "align": "left"
          },
          "hovermode": "closest",
          "mapbox": {
           "style": "light"
          },
          "paper_bgcolor": "white",
          "plot_bgcolor": "#E5ECF6",
          "polar": {
           "angularaxis": {
            "gridcolor": "white",
            "linecolor": "white",
            "ticks": ""
           },
           "bgcolor": "#E5ECF6",
           "radialaxis": {
            "gridcolor": "white",
            "linecolor": "white",
            "ticks": ""
           }
          },
          "scene": {
           "xaxis": {
            "backgroundcolor": "#E5ECF6",
            "gridcolor": "white",
            "gridwidth": 2,
            "linecolor": "white",
            "showbackground": true,
            "ticks": "",
            "zerolinecolor": "white"
           },
           "yaxis": {
            "backgroundcolor": "#E5ECF6",
            "gridcolor": "white",
            "gridwidth": 2,
            "linecolor": "white",
            "showbackground": true,
            "ticks": "",
            "zerolinecolor": "white"
           },
           "zaxis": {
            "backgroundcolor": "#E5ECF6",
            "gridcolor": "white",
            "gridwidth": 2,
            "linecolor": "white",
            "showbackground": true,
            "ticks": "",
            "zerolinecolor": "white"
           }
          },
          "shapedefaults": {
           "line": {
            "color": "#2a3f5f"
           }
          },
          "ternary": {
           "aaxis": {
            "gridcolor": "white",
            "linecolor": "white",
            "ticks": ""
           },
           "baxis": {
            "gridcolor": "white",
            "linecolor": "white",
            "ticks": ""
           },
           "bgcolor": "#E5ECF6",
           "caxis": {
            "gridcolor": "white",
            "linecolor": "white",
            "ticks": ""
           }
          },
          "title": {
           "x": 0.05
          },
          "xaxis": {
           "automargin": true,
           "gridcolor": "white",
           "linecolor": "white",
           "ticks": "",
           "title": {
            "standoff": 15
           },
           "zerolinecolor": "white",
           "zerolinewidth": 2
          },
          "yaxis": {
           "automargin": true,
           "gridcolor": "white",
           "linecolor": "white",
           "ticks": "",
           "title": {
            "standoff": 15
           },
           "zerolinecolor": "white",
           "zerolinewidth": 2
          }
         }
        },
        "title": {
         "text": "Pitch Type by Inning Number Counts"
        },
        "width": 700,
        "xaxis": {
         "anchor": "y",
         "constrain": "domain",
         "domain": [
          0,
          1
         ],
         "scaleanchor": "y",
         "title": {
          "text": "Inning Num"
         }
        },
        "yaxis": {
         "anchor": "x",
         "autorange": "reversed",
         "constrain": "domain",
         "domain": [
          0,
          1
         ],
         "title": {
          "text": "Pitch Type"
         }
        }
       }
      },
      "text/html": [
       "<div>                            <div id=\"7f6ce343-17db-438b-9bdb-9fd1cb59d33f\" class=\"plotly-graph-div\" style=\"height:500px; width:700px;\"></div>            <script type=\"text/javascript\">                require([\"plotly\"], function(Plotly) {                    window.PLOTLYENV=window.PLOTLYENV || {};                                    if (document.getElementById(\"7f6ce343-17db-438b-9bdb-9fd1cb59d33f\")) {                    Plotly.newPlot(                        \"7f6ce343-17db-438b-9bdb-9fd1cb59d33f\",                        [{\"coloraxis\":\"coloraxis\",\"name\":\"0\",\"texttemplate\":\"%{z}\",\"x\":[1,2,3,4,5,6,7,8,9],\"y\":[\"Sinker\",\"Cutter\",\"FourSeamFastball\",\"Curveball\",\"Slider\",\"Changeup\"],\"z\":[[3.0,1.0,2.0,0.0,3.0,11.0,7.0,4.0,0.0],[6.0,7.0,14.0,3.0,0.0,2.0,3.0,2.0,2.0],[2.0,6.0,7.0,5.0,1.0,0.0,0.0,3.0,0.0],[2.0,1.0,5.0,10.0,2.0,0.0,6.0,3.0,4.0],[10.0,16.0,26.0,7.0,14.0,7.0,0.0,25.0,1.0],[4.0,4.0,6.0,7.0,22.0,12.0,14.0,2.0,6.0]],\"type\":\"heatmap\",\"xaxis\":\"x\",\"yaxis\":\"y\",\"hovertemplate\":\"Inning Num: %{x}<br>Pitch Type: %{y}<br>Count: %{z}<extra></extra>\"}],                        {\"template\":{\"data\":{\"histogram2dcontour\":[{\"type\":\"histogram2dcontour\",\"colorbar\":{\"outlinewidth\":0,\"ticks\":\"\"},\"colorscale\":[[0.0,\"#0d0887\"],[0.1111111111111111,\"#46039f\"],[0.2222222222222222,\"#7201a8\"],[0.3333333333333333,\"#9c179e\"],[0.4444444444444444,\"#bd3786\"],[0.5555555555555556,\"#d8576b\"],[0.6666666666666666,\"#ed7953\"],[0.7777777777777778,\"#fb9f3a\"],[0.8888888888888888,\"#fdca26\"],[1.0,\"#f0f921\"]]}],\"choropleth\":[{\"type\":\"choropleth\",\"colorbar\":{\"outlinewidth\":0,\"ticks\":\"\"}}],\"histogram2d\":[{\"type\":\"histogram2d\",\"colorbar\":{\"outlinewidth\":0,\"ticks\":\"\"},\"colorscale\":[[0.0,\"#0d0887\"],[0.1111111111111111,\"#46039f\"],[0.2222222222222222,\"#7201a8\"],[0.3333333333333333,\"#9c179e\"],[0.4444444444444444,\"#bd3786\"],[0.5555555555555556,\"#d8576b\"],[0.6666666666666666,\"#ed7953\"],[0.7777777777777778,\"#fb9f3a\"],[0.8888888888888888,\"#fdca26\"],[1.0,\"#f0f921\"]]}],\"heatmap\":[{\"type\":\"heatmap\",\"colorbar\":{\"outlinewidth\":0,\"ticks\":\"\"},\"colorscale\":[[0.0,\"#0d0887\"],[0.1111111111111111,\"#46039f\"],[0.2222222222222222,\"#7201a8\"],[0.3333333333333333,\"#9c179e\"],[0.4444444444444444,\"#bd3786\"],[0.5555555555555556,\"#d8576b\"],[0.6666666666666666,\"#ed7953\"],[0.7777777777777778,\"#fb9f3a\"],[0.8888888888888888,\"#fdca26\"],[1.0,\"#f0f921\"]]}],\"heatmapgl\":[{\"type\":\"heatmapgl\",\"colorbar\":{\"outlinewidth\":0,\"ticks\":\"\"},\"colorscale\":[[0.0,\"#0d0887\"],[0.1111111111111111,\"#46039f\"],[0.2222222222222222,\"#7201a8\"],[0.3333333333333333,\"#9c179e\"],[0.4444444444444444,\"#bd3786\"],[0.5555555555555556,\"#d8576b\"],[0.6666666666666666,\"#ed7953\"],[0.7777777777777778,\"#fb9f3a\"],[0.8888888888888888,\"#fdca26\"],[1.0,\"#f0f921\"]]}],\"contourcarpet\":[{\"type\":\"contourcarpet\",\"colorbar\":{\"outlinewidth\":0,\"ticks\":\"\"}}],\"contour\":[{\"type\":\"contour\",\"colorbar\":{\"outlinewidth\":0,\"ticks\":\"\"},\"colorscale\":[[0.0,\"#0d0887\"],[0.1111111111111111,\"#46039f\"],[0.2222222222222222,\"#7201a8\"],[0.3333333333333333,\"#9c179e\"],[0.4444444444444444,\"#bd3786\"],[0.5555555555555556,\"#d8576b\"],[0.6666666666666666,\"#ed7953\"],[0.7777777777777778,\"#fb9f3a\"],[0.8888888888888888,\"#fdca26\"],[1.0,\"#f0f921\"]]}],\"surface\":[{\"type\":\"surface\",\"colorbar\":{\"outlinewidth\":0,\"ticks\":\"\"},\"colorscale\":[[0.0,\"#0d0887\"],[0.1111111111111111,\"#46039f\"],[0.2222222222222222,\"#7201a8\"],[0.3333333333333333,\"#9c179e\"],[0.4444444444444444,\"#bd3786\"],[0.5555555555555556,\"#d8576b\"],[0.6666666666666666,\"#ed7953\"],[0.7777777777777778,\"#fb9f3a\"],[0.8888888888888888,\"#fdca26\"],[1.0,\"#f0f921\"]]}],\"mesh3d\":[{\"type\":\"mesh3d\",\"colorbar\":{\"outlinewidth\":0,\"ticks\":\"\"}}],\"scatter\":[{\"fillpattern\":{\"fillmode\":\"overlay\",\"size\":10,\"solidity\":0.2},\"type\":\"scatter\"}],\"parcoords\":[{\"type\":\"parcoords\",\"line\":{\"colorbar\":{\"outlinewidth\":0,\"ticks\":\"\"}}}],\"scatterpolargl\":[{\"type\":\"scatterpolargl\",\"marker\":{\"colorbar\":{\"outlinewidth\":0,\"ticks\":\"\"}}}],\"bar\":[{\"error_x\":{\"color\":\"#2a3f5f\"},\"error_y\":{\"color\":\"#2a3f5f\"},\"marker\":{\"line\":{\"color\":\"#E5ECF6\",\"width\":0.5},\"pattern\":{\"fillmode\":\"overlay\",\"size\":10,\"solidity\":0.2}},\"type\":\"bar\"}],\"scattergeo\":[{\"type\":\"scattergeo\",\"marker\":{\"colorbar\":{\"outlinewidth\":0,\"ticks\":\"\"}}}],\"scatterpolar\":[{\"type\":\"scatterpolar\",\"marker\":{\"colorbar\":{\"outlinewidth\":0,\"ticks\":\"\"}}}],\"histogram\":[{\"marker\":{\"pattern\":{\"fillmode\":\"overlay\",\"size\":10,\"solidity\":0.2}},\"type\":\"histogram\"}],\"scattergl\":[{\"type\":\"scattergl\",\"marker\":{\"colorbar\":{\"outlinewidth\":0,\"ticks\":\"\"}}}],\"scatter3d\":[{\"type\":\"scatter3d\",\"line\":{\"colorbar\":{\"outlinewidth\":0,\"ticks\":\"\"}},\"marker\":{\"colorbar\":{\"outlinewidth\":0,\"ticks\":\"\"}}}],\"scattermapbox\":[{\"type\":\"scattermapbox\",\"marker\":{\"colorbar\":{\"outlinewidth\":0,\"ticks\":\"\"}}}],\"scatterternary\":[{\"type\":\"scatterternary\",\"marker\":{\"colorbar\":{\"outlinewidth\":0,\"ticks\":\"\"}}}],\"scattercarpet\":[{\"type\":\"scattercarpet\",\"marker\":{\"colorbar\":{\"outlinewidth\":0,\"ticks\":\"\"}}}],\"carpet\":[{\"aaxis\":{\"endlinecolor\":\"#2a3f5f\",\"gridcolor\":\"white\",\"linecolor\":\"white\",\"minorgridcolor\":\"white\",\"startlinecolor\":\"#2a3f5f\"},\"baxis\":{\"endlinecolor\":\"#2a3f5f\",\"gridcolor\":\"white\",\"linecolor\":\"white\",\"minorgridcolor\":\"white\",\"startlinecolor\":\"#2a3f5f\"},\"type\":\"carpet\"}],\"table\":[{\"cells\":{\"fill\":{\"color\":\"#EBF0F8\"},\"line\":{\"color\":\"white\"}},\"header\":{\"fill\":{\"color\":\"#C8D4E3\"},\"line\":{\"color\":\"white\"}},\"type\":\"table\"}],\"barpolar\":[{\"marker\":{\"line\":{\"color\":\"#E5ECF6\",\"width\":0.5},\"pattern\":{\"fillmode\":\"overlay\",\"size\":10,\"solidity\":0.2}},\"type\":\"barpolar\"}],\"pie\":[{\"automargin\":true,\"type\":\"pie\"}]},\"layout\":{\"autotypenumbers\":\"strict\",\"colorway\":[\"#636efa\",\"#EF553B\",\"#00cc96\",\"#ab63fa\",\"#FFA15A\",\"#19d3f3\",\"#FF6692\",\"#B6E880\",\"#FF97FF\",\"#FECB52\"],\"font\":{\"color\":\"#2a3f5f\"},\"hovermode\":\"closest\",\"hoverlabel\":{\"align\":\"left\"},\"paper_bgcolor\":\"white\",\"plot_bgcolor\":\"#E5ECF6\",\"polar\":{\"bgcolor\":\"#E5ECF6\",\"angularaxis\":{\"gridcolor\":\"white\",\"linecolor\":\"white\",\"ticks\":\"\"},\"radialaxis\":{\"gridcolor\":\"white\",\"linecolor\":\"white\",\"ticks\":\"\"}},\"ternary\":{\"bgcolor\":\"#E5ECF6\",\"aaxis\":{\"gridcolor\":\"white\",\"linecolor\":\"white\",\"ticks\":\"\"},\"baxis\":{\"gridcolor\":\"white\",\"linecolor\":\"white\",\"ticks\":\"\"},\"caxis\":{\"gridcolor\":\"white\",\"linecolor\":\"white\",\"ticks\":\"\"}},\"coloraxis\":{\"colorbar\":{\"outlinewidth\":0,\"ticks\":\"\"}},\"colorscale\":{\"sequential\":[[0.0,\"#0d0887\"],[0.1111111111111111,\"#46039f\"],[0.2222222222222222,\"#7201a8\"],[0.3333333333333333,\"#9c179e\"],[0.4444444444444444,\"#bd3786\"],[0.5555555555555556,\"#d8576b\"],[0.6666666666666666,\"#ed7953\"],[0.7777777777777778,\"#fb9f3a\"],[0.8888888888888888,\"#fdca26\"],[1.0,\"#f0f921\"]],\"sequentialminus\":[[0.0,\"#0d0887\"],[0.1111111111111111,\"#46039f\"],[0.2222222222222222,\"#7201a8\"],[0.3333333333333333,\"#9c179e\"],[0.4444444444444444,\"#bd3786\"],[0.5555555555555556,\"#d8576b\"],[0.6666666666666666,\"#ed7953\"],[0.7777777777777778,\"#fb9f3a\"],[0.8888888888888888,\"#fdca26\"],[1.0,\"#f0f921\"]],\"diverging\":[[0,\"#8e0152\"],[0.1,\"#c51b7d\"],[0.2,\"#de77ae\"],[0.3,\"#f1b6da\"],[0.4,\"#fde0ef\"],[0.5,\"#f7f7f7\"],[0.6,\"#e6f5d0\"],[0.7,\"#b8e186\"],[0.8,\"#7fbc41\"],[0.9,\"#4d9221\"],[1,\"#276419\"]]},\"xaxis\":{\"gridcolor\":\"white\",\"linecolor\":\"white\",\"ticks\":\"\",\"title\":{\"standoff\":15},\"zerolinecolor\":\"white\",\"automargin\":true,\"zerolinewidth\":2},\"yaxis\":{\"gridcolor\":\"white\",\"linecolor\":\"white\",\"ticks\":\"\",\"title\":{\"standoff\":15},\"zerolinecolor\":\"white\",\"automargin\":true,\"zerolinewidth\":2},\"scene\":{\"xaxis\":{\"backgroundcolor\":\"#E5ECF6\",\"gridcolor\":\"white\",\"linecolor\":\"white\",\"showbackground\":true,\"ticks\":\"\",\"zerolinecolor\":\"white\",\"gridwidth\":2},\"yaxis\":{\"backgroundcolor\":\"#E5ECF6\",\"gridcolor\":\"white\",\"linecolor\":\"white\",\"showbackground\":true,\"ticks\":\"\",\"zerolinecolor\":\"white\",\"gridwidth\":2},\"zaxis\":{\"backgroundcolor\":\"#E5ECF6\",\"gridcolor\":\"white\",\"linecolor\":\"white\",\"showbackground\":true,\"ticks\":\"\",\"zerolinecolor\":\"white\",\"gridwidth\":2}},\"shapedefaults\":{\"line\":{\"color\":\"#2a3f5f\"}},\"annotationdefaults\":{\"arrowcolor\":\"#2a3f5f\",\"arrowhead\":0,\"arrowwidth\":1},\"geo\":{\"bgcolor\":\"white\",\"landcolor\":\"#E5ECF6\",\"subunitcolor\":\"white\",\"showland\":true,\"showlakes\":true,\"lakecolor\":\"white\"},\"title\":{\"x\":0.05},\"mapbox\":{\"style\":\"light\"}}},\"xaxis\":{\"anchor\":\"y\",\"domain\":[0.0,1.0],\"scaleanchor\":\"y\",\"constrain\":\"domain\",\"title\":{\"text\":\"Inning Num\"}},\"yaxis\":{\"anchor\":\"x\",\"domain\":[0.0,1.0],\"autorange\":\"reversed\",\"constrain\":\"domain\",\"title\":{\"text\":\"Pitch Type\"}},\"coloraxis\":{\"colorbar\":{\"title\":{\"text\":\"Count\"}},\"colorscale\":[[0.0,\"#0d0887\"],[0.1111111111111111,\"#46039f\"],[0.2222222222222222,\"#7201a8\"],[0.3333333333333333,\"#9c179e\"],[0.4444444444444444,\"#bd3786\"],[0.5555555555555556,\"#d8576b\"],[0.6666666666666666,\"#ed7953\"],[0.7777777777777778,\"#fb9f3a\"],[0.8888888888888888,\"#fdca26\"],[1.0,\"#f0f921\"]]},\"title\":{\"text\":\"Pitch Type by Inning Number Counts\"},\"height\":500,\"width\":700},                        {\"responsive\": true}                    ).then(function(){\n",
       "                            \n",
       "var gd = document.getElementById('7f6ce343-17db-438b-9bdb-9fd1cb59d33f');\n",
       "var x = new MutationObserver(function (mutations, observer) {{\n",
       "        var display = window.getComputedStyle(gd).display;\n",
       "        if (!display || display === 'none') {{\n",
       "            console.log([gd, 'removed!']);\n",
       "            Plotly.purge(gd);\n",
       "            observer.disconnect();\n",
       "        }}\n",
       "}});\n",
       "\n",
       "// Listen for the removal of the full notebook cells\n",
       "var notebookContainer = gd.closest('#notebook-container');\n",
       "if (notebookContainer) {{\n",
       "    x.observe(notebookContainer, {childList: true});\n",
       "}}\n",
       "\n",
       "// Listen for the clearing of the current output cell\n",
       "var outputEl = gd.closest('.output');\n",
       "if (outputEl) {{\n",
       "    x.observe(outputEl, {childList: true});\n",
       "}}\n",
       "\n",
       "                        })                };                });            </script>        </div>"
      ]
     },
     "metadata": {},
     "output_type": "display_data"
    }
   ],
   "source": [
    "# Create a heatmap\n",
    "fig = px.imshow(melted_pitch_type_inning_df.pivot(index='Pitch Type', columns='Inning Num', values='Count'),\n",
    "                x=melted_pitch_type_inning_df['Inning Num'].unique(),\n",
    "                y=melted_pitch_type_inning_df['Pitch Type'].unique(),\n",
    "                labels=dict(x='Inning Num', y='Pitch Type', color='Count'),\n",
    "                title='Pitch Type by Inning Number Counts',\n",
    "                width=700,\n",
    "                height=500, \n",
    "                text_auto=True)\n",
    "\n",
    "# Show the plot\n",
    "fig.show()"
   ]
  },
  {
   "cell_type": "markdown",
   "id": "472d9290",
   "metadata": {},
   "source": [
    "## Pitch Initial Speed and Spin Frequency by Type"
   ]
  },
  {
   "cell_type": "code",
   "execution_count": 58,
   "id": "1dfb2039",
   "metadata": {},
   "outputs": [],
   "source": [
    "import plotly.graph_objs as go\n",
    "from plotly.subplots import make_subplots\n",
    "import plotly"
   ]
  },
  {
   "cell_type": "code",
   "execution_count": 60,
   "id": "918be6c8",
   "metadata": {},
   "outputs": [],
   "source": [
    "pitch_speed = [[] for _ in range(len(pitch_type_types))]\n",
    "\n",
    "for cur_data in data:\n",
    "    if(cur_data['summary_acts']['pitch']['type'] and cur_data['summary_acts']['pitch']['speed']['mph']):\n",
    "        index = pitch_type_types.index(cur_data['summary_acts']['pitch']['type'])\n",
    "        pitch_speed[index].append(cur_data['summary_acts']['pitch']['speed']['mph'])"
   ]
  },
  {
   "cell_type": "code",
   "execution_count": 61,
   "id": "92932850",
   "metadata": {},
   "outputs": [
    {
     "data": {
      "application/vnd.plotly.v1+json": {
       "config": {
        "plotlyServerURL": "https://plot.ly"
       },
       "data": [
        {
         "name": "Sinker",
         "opacity": 0.75,
         "type": "histogram",
         "x": [
          94,
          93,
          95,
          90,
          93,
          93,
          92,
          97,
          90,
          97,
          90,
          96,
          95,
          93,
          95,
          95,
          91,
          90,
          94,
          96,
          91,
          94,
          96,
          92,
          95,
          95,
          92,
          89,
          95,
          91,
          91,
          95,
          95,
          91,
          91,
          90,
          96,
          94,
          97,
          91,
          92,
          96,
          95,
          91,
          90,
          96,
          89,
          93,
          91,
          95,
          95,
          94,
          90,
          91,
          92,
          90,
          93,
          95,
          93,
          93,
          91,
          95,
          95,
          97,
          96,
          93,
          95,
          95,
          96,
          91,
          92,
          92,
          95,
          92,
          96,
          90,
          92,
          92,
          92,
          94,
          95,
          92,
          95,
          90,
          94,
          92,
          92,
          95,
          91,
          91,
          91,
          92,
          96,
          91,
          91,
          92,
          92,
          90,
          91,
          97,
          95,
          90,
          90,
          90,
          91,
          92
         ]
        },
        {
         "name": "Cutter",
         "opacity": 0.75,
         "type": "histogram",
         "x": [
          88,
          92,
          87,
          90,
          88,
          87,
          87,
          90,
          87,
          90,
          90,
          86,
          87,
          87,
          90,
          87,
          93,
          88,
          89,
          86,
          89,
          86,
          88,
          88
         ]
        },
        {
         "name": "FourSeamFastball",
         "opacity": 0.75,
         "type": "histogram",
         "x": [
          93,
          93,
          92,
          90,
          93,
          95,
          90,
          96,
          93,
          93,
          93,
          91,
          93,
          97,
          92,
          90,
          97,
          92,
          92,
          96,
          91,
          93,
          91,
          90,
          91,
          93,
          94,
          92,
          96,
          91,
          90,
          94,
          91
         ]
        },
        {
         "name": "Curveball",
         "opacity": 0.75,
         "type": "histogram",
         "x": [
          79,
          78,
          79,
          79,
          79,
          77,
          79,
          78,
          78,
          78,
          77,
          78,
          77,
          71,
          78,
          79,
          78,
          78,
          79,
          79,
          77,
          77,
          82,
          78,
          78,
          77,
          81,
          78,
          80,
          81,
          78,
          83,
          80,
          78,
          78,
          78,
          72,
          77,
          81
         ]
        },
        {
         "name": "Slider",
         "opacity": 0.75,
         "type": "histogram",
         "x": [
          84,
          80,
          80,
          81,
          83,
          85,
          80,
          81,
          86,
          79,
          78,
          83,
          83,
          71,
          85,
          82,
          83,
          86,
          86,
          82,
          83,
          85,
          80,
          85,
          86,
          71,
          80,
          86,
          87,
          79,
          84,
          86,
          80,
          84,
          84,
          85,
          83,
          86,
          85,
          84,
          76,
          80,
          80,
          84,
          85,
          73,
          87,
          85,
          70,
          83,
          87,
          86,
          79,
          84,
          86,
          83,
          84,
          82,
          86,
          81,
          80,
          84,
          84,
          86,
          81,
          79,
          84,
          76,
          86,
          82,
          84,
          86,
          86,
          86,
          83,
          85,
          81
         ]
        },
        {
         "name": "Changeup",
         "opacity": 0.75,
         "type": "histogram",
         "x": [
          86,
          86,
          84,
          84,
          86,
          83,
          83,
          85,
          84,
          85,
          86,
          85,
          86,
          81,
          85,
          85,
          84,
          86,
          85,
          85,
          87,
          86,
          85,
          85,
          85,
          86,
          84,
          86,
          81,
          86,
          84
         ]
        }
       ],
       "layout": {
        "barmode": "overlay",
        "template": {
         "data": {
          "bar": [
           {
            "error_x": {
             "color": "#2a3f5f"
            },
            "error_y": {
             "color": "#2a3f5f"
            },
            "marker": {
             "line": {
              "color": "#E5ECF6",
              "width": 0.5
             },
             "pattern": {
              "fillmode": "overlay",
              "size": 10,
              "solidity": 0.2
             }
            },
            "type": "bar"
           }
          ],
          "barpolar": [
           {
            "marker": {
             "line": {
              "color": "#E5ECF6",
              "width": 0.5
             },
             "pattern": {
              "fillmode": "overlay",
              "size": 10,
              "solidity": 0.2
             }
            },
            "type": "barpolar"
           }
          ],
          "carpet": [
           {
            "aaxis": {
             "endlinecolor": "#2a3f5f",
             "gridcolor": "white",
             "linecolor": "white",
             "minorgridcolor": "white",
             "startlinecolor": "#2a3f5f"
            },
            "baxis": {
             "endlinecolor": "#2a3f5f",
             "gridcolor": "white",
             "linecolor": "white",
             "minorgridcolor": "white",
             "startlinecolor": "#2a3f5f"
            },
            "type": "carpet"
           }
          ],
          "choropleth": [
           {
            "colorbar": {
             "outlinewidth": 0,
             "ticks": ""
            },
            "type": "choropleth"
           }
          ],
          "contour": [
           {
            "colorbar": {
             "outlinewidth": 0,
             "ticks": ""
            },
            "colorscale": [
             [
              0,
              "#0d0887"
             ],
             [
              0.1111111111111111,
              "#46039f"
             ],
             [
              0.2222222222222222,
              "#7201a8"
             ],
             [
              0.3333333333333333,
              "#9c179e"
             ],
             [
              0.4444444444444444,
              "#bd3786"
             ],
             [
              0.5555555555555556,
              "#d8576b"
             ],
             [
              0.6666666666666666,
              "#ed7953"
             ],
             [
              0.7777777777777778,
              "#fb9f3a"
             ],
             [
              0.8888888888888888,
              "#fdca26"
             ],
             [
              1,
              "#f0f921"
             ]
            ],
            "type": "contour"
           }
          ],
          "contourcarpet": [
           {
            "colorbar": {
             "outlinewidth": 0,
             "ticks": ""
            },
            "type": "contourcarpet"
           }
          ],
          "heatmap": [
           {
            "colorbar": {
             "outlinewidth": 0,
             "ticks": ""
            },
            "colorscale": [
             [
              0,
              "#0d0887"
             ],
             [
              0.1111111111111111,
              "#46039f"
             ],
             [
              0.2222222222222222,
              "#7201a8"
             ],
             [
              0.3333333333333333,
              "#9c179e"
             ],
             [
              0.4444444444444444,
              "#bd3786"
             ],
             [
              0.5555555555555556,
              "#d8576b"
             ],
             [
              0.6666666666666666,
              "#ed7953"
             ],
             [
              0.7777777777777778,
              "#fb9f3a"
             ],
             [
              0.8888888888888888,
              "#fdca26"
             ],
             [
              1,
              "#f0f921"
             ]
            ],
            "type": "heatmap"
           }
          ],
          "heatmapgl": [
           {
            "colorbar": {
             "outlinewidth": 0,
             "ticks": ""
            },
            "colorscale": [
             [
              0,
              "#0d0887"
             ],
             [
              0.1111111111111111,
              "#46039f"
             ],
             [
              0.2222222222222222,
              "#7201a8"
             ],
             [
              0.3333333333333333,
              "#9c179e"
             ],
             [
              0.4444444444444444,
              "#bd3786"
             ],
             [
              0.5555555555555556,
              "#d8576b"
             ],
             [
              0.6666666666666666,
              "#ed7953"
             ],
             [
              0.7777777777777778,
              "#fb9f3a"
             ],
             [
              0.8888888888888888,
              "#fdca26"
             ],
             [
              1,
              "#f0f921"
             ]
            ],
            "type": "heatmapgl"
           }
          ],
          "histogram": [
           {
            "marker": {
             "pattern": {
              "fillmode": "overlay",
              "size": 10,
              "solidity": 0.2
             }
            },
            "type": "histogram"
           }
          ],
          "histogram2d": [
           {
            "colorbar": {
             "outlinewidth": 0,
             "ticks": ""
            },
            "colorscale": [
             [
              0,
              "#0d0887"
             ],
             [
              0.1111111111111111,
              "#46039f"
             ],
             [
              0.2222222222222222,
              "#7201a8"
             ],
             [
              0.3333333333333333,
              "#9c179e"
             ],
             [
              0.4444444444444444,
              "#bd3786"
             ],
             [
              0.5555555555555556,
              "#d8576b"
             ],
             [
              0.6666666666666666,
              "#ed7953"
             ],
             [
              0.7777777777777778,
              "#fb9f3a"
             ],
             [
              0.8888888888888888,
              "#fdca26"
             ],
             [
              1,
              "#f0f921"
             ]
            ],
            "type": "histogram2d"
           }
          ],
          "histogram2dcontour": [
           {
            "colorbar": {
             "outlinewidth": 0,
             "ticks": ""
            },
            "colorscale": [
             [
              0,
              "#0d0887"
             ],
             [
              0.1111111111111111,
              "#46039f"
             ],
             [
              0.2222222222222222,
              "#7201a8"
             ],
             [
              0.3333333333333333,
              "#9c179e"
             ],
             [
              0.4444444444444444,
              "#bd3786"
             ],
             [
              0.5555555555555556,
              "#d8576b"
             ],
             [
              0.6666666666666666,
              "#ed7953"
             ],
             [
              0.7777777777777778,
              "#fb9f3a"
             ],
             [
              0.8888888888888888,
              "#fdca26"
             ],
             [
              1,
              "#f0f921"
             ]
            ],
            "type": "histogram2dcontour"
           }
          ],
          "mesh3d": [
           {
            "colorbar": {
             "outlinewidth": 0,
             "ticks": ""
            },
            "type": "mesh3d"
           }
          ],
          "parcoords": [
           {
            "line": {
             "colorbar": {
              "outlinewidth": 0,
              "ticks": ""
             }
            },
            "type": "parcoords"
           }
          ],
          "pie": [
           {
            "automargin": true,
            "type": "pie"
           }
          ],
          "scatter": [
           {
            "fillpattern": {
             "fillmode": "overlay",
             "size": 10,
             "solidity": 0.2
            },
            "type": "scatter"
           }
          ],
          "scatter3d": [
           {
            "line": {
             "colorbar": {
              "outlinewidth": 0,
              "ticks": ""
             }
            },
            "marker": {
             "colorbar": {
              "outlinewidth": 0,
              "ticks": ""
             }
            },
            "type": "scatter3d"
           }
          ],
          "scattercarpet": [
           {
            "marker": {
             "colorbar": {
              "outlinewidth": 0,
              "ticks": ""
             }
            },
            "type": "scattercarpet"
           }
          ],
          "scattergeo": [
           {
            "marker": {
             "colorbar": {
              "outlinewidth": 0,
              "ticks": ""
             }
            },
            "type": "scattergeo"
           }
          ],
          "scattergl": [
           {
            "marker": {
             "colorbar": {
              "outlinewidth": 0,
              "ticks": ""
             }
            },
            "type": "scattergl"
           }
          ],
          "scattermapbox": [
           {
            "marker": {
             "colorbar": {
              "outlinewidth": 0,
              "ticks": ""
             }
            },
            "type": "scattermapbox"
           }
          ],
          "scatterpolar": [
           {
            "marker": {
             "colorbar": {
              "outlinewidth": 0,
              "ticks": ""
             }
            },
            "type": "scatterpolar"
           }
          ],
          "scatterpolargl": [
           {
            "marker": {
             "colorbar": {
              "outlinewidth": 0,
              "ticks": ""
             }
            },
            "type": "scatterpolargl"
           }
          ],
          "scatterternary": [
           {
            "marker": {
             "colorbar": {
              "outlinewidth": 0,
              "ticks": ""
             }
            },
            "type": "scatterternary"
           }
          ],
          "surface": [
           {
            "colorbar": {
             "outlinewidth": 0,
             "ticks": ""
            },
            "colorscale": [
             [
              0,
              "#0d0887"
             ],
             [
              0.1111111111111111,
              "#46039f"
             ],
             [
              0.2222222222222222,
              "#7201a8"
             ],
             [
              0.3333333333333333,
              "#9c179e"
             ],
             [
              0.4444444444444444,
              "#bd3786"
             ],
             [
              0.5555555555555556,
              "#d8576b"
             ],
             [
              0.6666666666666666,
              "#ed7953"
             ],
             [
              0.7777777777777778,
              "#fb9f3a"
             ],
             [
              0.8888888888888888,
              "#fdca26"
             ],
             [
              1,
              "#f0f921"
             ]
            ],
            "type": "surface"
           }
          ],
          "table": [
           {
            "cells": {
             "fill": {
              "color": "#EBF0F8"
             },
             "line": {
              "color": "white"
             }
            },
            "header": {
             "fill": {
              "color": "#C8D4E3"
             },
             "line": {
              "color": "white"
             }
            },
            "type": "table"
           }
          ]
         },
         "layout": {
          "annotationdefaults": {
           "arrowcolor": "#2a3f5f",
           "arrowhead": 0,
           "arrowwidth": 1
          },
          "autotypenumbers": "strict",
          "coloraxis": {
           "colorbar": {
            "outlinewidth": 0,
            "ticks": ""
           }
          },
          "colorscale": {
           "diverging": [
            [
             0,
             "#8e0152"
            ],
            [
             0.1,
             "#c51b7d"
            ],
            [
             0.2,
             "#de77ae"
            ],
            [
             0.3,
             "#f1b6da"
            ],
            [
             0.4,
             "#fde0ef"
            ],
            [
             0.5,
             "#f7f7f7"
            ],
            [
             0.6,
             "#e6f5d0"
            ],
            [
             0.7,
             "#b8e186"
            ],
            [
             0.8,
             "#7fbc41"
            ],
            [
             0.9,
             "#4d9221"
            ],
            [
             1,
             "#276419"
            ]
           ],
           "sequential": [
            [
             0,
             "#0d0887"
            ],
            [
             0.1111111111111111,
             "#46039f"
            ],
            [
             0.2222222222222222,
             "#7201a8"
            ],
            [
             0.3333333333333333,
             "#9c179e"
            ],
            [
             0.4444444444444444,
             "#bd3786"
            ],
            [
             0.5555555555555556,
             "#d8576b"
            ],
            [
             0.6666666666666666,
             "#ed7953"
            ],
            [
             0.7777777777777778,
             "#fb9f3a"
            ],
            [
             0.8888888888888888,
             "#fdca26"
            ],
            [
             1,
             "#f0f921"
            ]
           ],
           "sequentialminus": [
            [
             0,
             "#0d0887"
            ],
            [
             0.1111111111111111,
             "#46039f"
            ],
            [
             0.2222222222222222,
             "#7201a8"
            ],
            [
             0.3333333333333333,
             "#9c179e"
            ],
            [
             0.4444444444444444,
             "#bd3786"
            ],
            [
             0.5555555555555556,
             "#d8576b"
            ],
            [
             0.6666666666666666,
             "#ed7953"
            ],
            [
             0.7777777777777778,
             "#fb9f3a"
            ],
            [
             0.8888888888888888,
             "#fdca26"
            ],
            [
             1,
             "#f0f921"
            ]
           ]
          },
          "colorway": [
           "#636efa",
           "#EF553B",
           "#00cc96",
           "#ab63fa",
           "#FFA15A",
           "#19d3f3",
           "#FF6692",
           "#B6E880",
           "#FF97FF",
           "#FECB52"
          ],
          "font": {
           "color": "#2a3f5f"
          },
          "geo": {
           "bgcolor": "white",
           "lakecolor": "white",
           "landcolor": "#E5ECF6",
           "showlakes": true,
           "showland": true,
           "subunitcolor": "white"
          },
          "hoverlabel": {
           "align": "left"
          },
          "hovermode": "closest",
          "mapbox": {
           "style": "light"
          },
          "paper_bgcolor": "white",
          "plot_bgcolor": "#E5ECF6",
          "polar": {
           "angularaxis": {
            "gridcolor": "white",
            "linecolor": "white",
            "ticks": ""
           },
           "bgcolor": "#E5ECF6",
           "radialaxis": {
            "gridcolor": "white",
            "linecolor": "white",
            "ticks": ""
           }
          },
          "scene": {
           "xaxis": {
            "backgroundcolor": "#E5ECF6",
            "gridcolor": "white",
            "gridwidth": 2,
            "linecolor": "white",
            "showbackground": true,
            "ticks": "",
            "zerolinecolor": "white"
           },
           "yaxis": {
            "backgroundcolor": "#E5ECF6",
            "gridcolor": "white",
            "gridwidth": 2,
            "linecolor": "white",
            "showbackground": true,
            "ticks": "",
            "zerolinecolor": "white"
           },
           "zaxis": {
            "backgroundcolor": "#E5ECF6",
            "gridcolor": "white",
            "gridwidth": 2,
            "linecolor": "white",
            "showbackground": true,
            "ticks": "",
            "zerolinecolor": "white"
           }
          },
          "shapedefaults": {
           "line": {
            "color": "#2a3f5f"
           }
          },
          "ternary": {
           "aaxis": {
            "gridcolor": "white",
            "linecolor": "white",
            "ticks": ""
           },
           "baxis": {
            "gridcolor": "white",
            "linecolor": "white",
            "ticks": ""
           },
           "bgcolor": "#E5ECF6",
           "caxis": {
            "gridcolor": "white",
            "linecolor": "white",
            "ticks": ""
           }
          },
          "title": {
           "x": 0.05
          },
          "xaxis": {
           "automargin": true,
           "gridcolor": "white",
           "linecolor": "white",
           "ticks": "",
           "title": {
            "standoff": 15
           },
           "zerolinecolor": "white",
           "zerolinewidth": 2
          },
          "yaxis": {
           "automargin": true,
           "gridcolor": "white",
           "linecolor": "white",
           "ticks": "",
           "title": {
            "standoff": 15
           },
           "zerolinecolor": "white",
           "zerolinewidth": 2
          }
         }
        },
        "title": {
         "text": "Pitch Initial Speed Frequency"
        },
        "xaxis": {
         "title": {
          "text": "Speed (mph)"
         }
        },
        "yaxis": {
         "title": {
          "text": "Frequency"
         }
        }
       }
      },
      "text/html": [
       "<div>                            <div id=\"9fc7cbc0-502c-45e2-b5fb-7dabc0520300\" class=\"plotly-graph-div\" style=\"height:525px; width:100%;\"></div>            <script type=\"text/javascript\">                require([\"plotly\"], function(Plotly) {                    window.PLOTLYENV=window.PLOTLYENV || {};                                    if (document.getElementById(\"9fc7cbc0-502c-45e2-b5fb-7dabc0520300\")) {                    Plotly.newPlot(                        \"9fc7cbc0-502c-45e2-b5fb-7dabc0520300\",                        [{\"name\":\"Sinker\",\"x\":[94.0,93.0,95.0,90.0,93.0,93.0,92.0,97.0,90.0,97.0,90.0,96.0,95.0,93.0,95.0,95.0,91.0,90.0,94.0,96.0,91.0,94.0,96.0,92.0,95.0,95.0,92.0,89.0,95.0,91.0,91.0,95.0,95.0,91.0,91.0,90.0,96.0,94.0,97.0,91.0,92.0,96.0,95.0,91.0,90.0,96.0,89.0,93.0,91.0,95.0,95.0,94.0,90.0,91.0,92.0,90.0,93.0,95.0,93.0,93.0,91.0,95.0,95.0,97.0,96.0,93.0,95.0,95.0,96.0,91.0,92.0,92.0,95.0,92.0,96.0,90.0,92.0,92.0,92.0,94.0,95.0,92.0,95.0,90.0,94.0,92.0,92.0,95.0,91.0,91.0,91.0,92.0,96.0,91.0,91.0,92.0,92.0,90.0,91.0,97.0,95.0,90.0,90.0,90.0,91.0,92.0],\"type\":\"histogram\",\"opacity\":0.75},{\"name\":\"Cutter\",\"x\":[88.0,92.0,87.0,90.0,88.0,87.0,87.0,90.0,87.0,90.0,90.0,86.0,87.0,87.0,90.0,87.0,93.0,88.0,89.0,86.0,89.0,86.0,88.0,88.0],\"type\":\"histogram\",\"opacity\":0.75},{\"name\":\"FourSeamFastball\",\"x\":[93.0,93.0,92.0,90.0,93.0,95.0,90.0,96.0,93.0,93.0,93.0,91.0,93.0,97.0,92.0,90.0,97.0,92.0,92.0,96.0,91.0,93.0,91.0,90.0,91.0,93.0,94.0,92.0,96.0,91.0,90.0,94.0,91.0],\"type\":\"histogram\",\"opacity\":0.75},{\"name\":\"Curveball\",\"x\":[79.0,78.0,79.0,79.0,79.0,77.0,79.0,78.0,78.0,78.0,77.0,78.0,77.0,71.0,78.0,79.0,78.0,78.0,79.0,79.0,77.0,77.0,82.0,78.0,78.0,77.0,81.0,78.0,80.0,81.0,78.0,83.0,80.0,78.0,78.0,78.0,72.0,77.0,81.0],\"type\":\"histogram\",\"opacity\":0.75},{\"name\":\"Slider\",\"x\":[84.0,80.0,80.0,81.0,83.0,85.0,80.0,81.0,86.0,79.0,78.0,83.0,83.0,71.0,85.0,82.0,83.0,86.0,86.0,82.0,83.0,85.0,80.0,85.0,86.0,71.0,80.0,86.0,87.0,79.0,84.0,86.0,80.0,84.0,84.0,85.0,83.0,86.0,85.0,84.0,76.0,80.0,80.0,84.0,85.0,73.0,87.0,85.0,70.0,83.0,87.0,86.0,79.0,84.0,86.0,83.0,84.0,82.0,86.0,81.0,80.0,84.0,84.0,86.0,81.0,79.0,84.0,76.0,86.0,82.0,84.0,86.0,86.0,86.0,83.0,85.0,81.0],\"type\":\"histogram\",\"opacity\":0.75},{\"name\":\"Changeup\",\"x\":[86.0,86.0,84.0,84.0,86.0,83.0,83.0,85.0,84.0,85.0,86.0,85.0,86.0,81.0,85.0,85.0,84.0,86.0,85.0,85.0,87.0,86.0,85.0,85.0,85.0,86.0,84.0,86.0,81.0,86.0,84.0],\"type\":\"histogram\",\"opacity\":0.75}],                        {\"template\":{\"data\":{\"histogram2dcontour\":[{\"type\":\"histogram2dcontour\",\"colorbar\":{\"outlinewidth\":0,\"ticks\":\"\"},\"colorscale\":[[0.0,\"#0d0887\"],[0.1111111111111111,\"#46039f\"],[0.2222222222222222,\"#7201a8\"],[0.3333333333333333,\"#9c179e\"],[0.4444444444444444,\"#bd3786\"],[0.5555555555555556,\"#d8576b\"],[0.6666666666666666,\"#ed7953\"],[0.7777777777777778,\"#fb9f3a\"],[0.8888888888888888,\"#fdca26\"],[1.0,\"#f0f921\"]]}],\"choropleth\":[{\"type\":\"choropleth\",\"colorbar\":{\"outlinewidth\":0,\"ticks\":\"\"}}],\"histogram2d\":[{\"type\":\"histogram2d\",\"colorbar\":{\"outlinewidth\":0,\"ticks\":\"\"},\"colorscale\":[[0.0,\"#0d0887\"],[0.1111111111111111,\"#46039f\"],[0.2222222222222222,\"#7201a8\"],[0.3333333333333333,\"#9c179e\"],[0.4444444444444444,\"#bd3786\"],[0.5555555555555556,\"#d8576b\"],[0.6666666666666666,\"#ed7953\"],[0.7777777777777778,\"#fb9f3a\"],[0.8888888888888888,\"#fdca26\"],[1.0,\"#f0f921\"]]}],\"heatmap\":[{\"type\":\"heatmap\",\"colorbar\":{\"outlinewidth\":0,\"ticks\":\"\"},\"colorscale\":[[0.0,\"#0d0887\"],[0.1111111111111111,\"#46039f\"],[0.2222222222222222,\"#7201a8\"],[0.3333333333333333,\"#9c179e\"],[0.4444444444444444,\"#bd3786\"],[0.5555555555555556,\"#d8576b\"],[0.6666666666666666,\"#ed7953\"],[0.7777777777777778,\"#fb9f3a\"],[0.8888888888888888,\"#fdca26\"],[1.0,\"#f0f921\"]]}],\"heatmapgl\":[{\"type\":\"heatmapgl\",\"colorbar\":{\"outlinewidth\":0,\"ticks\":\"\"},\"colorscale\":[[0.0,\"#0d0887\"],[0.1111111111111111,\"#46039f\"],[0.2222222222222222,\"#7201a8\"],[0.3333333333333333,\"#9c179e\"],[0.4444444444444444,\"#bd3786\"],[0.5555555555555556,\"#d8576b\"],[0.6666666666666666,\"#ed7953\"],[0.7777777777777778,\"#fb9f3a\"],[0.8888888888888888,\"#fdca26\"],[1.0,\"#f0f921\"]]}],\"contourcarpet\":[{\"type\":\"contourcarpet\",\"colorbar\":{\"outlinewidth\":0,\"ticks\":\"\"}}],\"contour\":[{\"type\":\"contour\",\"colorbar\":{\"outlinewidth\":0,\"ticks\":\"\"},\"colorscale\":[[0.0,\"#0d0887\"],[0.1111111111111111,\"#46039f\"],[0.2222222222222222,\"#7201a8\"],[0.3333333333333333,\"#9c179e\"],[0.4444444444444444,\"#bd3786\"],[0.5555555555555556,\"#d8576b\"],[0.6666666666666666,\"#ed7953\"],[0.7777777777777778,\"#fb9f3a\"],[0.8888888888888888,\"#fdca26\"],[1.0,\"#f0f921\"]]}],\"surface\":[{\"type\":\"surface\",\"colorbar\":{\"outlinewidth\":0,\"ticks\":\"\"},\"colorscale\":[[0.0,\"#0d0887\"],[0.1111111111111111,\"#46039f\"],[0.2222222222222222,\"#7201a8\"],[0.3333333333333333,\"#9c179e\"],[0.4444444444444444,\"#bd3786\"],[0.5555555555555556,\"#d8576b\"],[0.6666666666666666,\"#ed7953\"],[0.7777777777777778,\"#fb9f3a\"],[0.8888888888888888,\"#fdca26\"],[1.0,\"#f0f921\"]]}],\"mesh3d\":[{\"type\":\"mesh3d\",\"colorbar\":{\"outlinewidth\":0,\"ticks\":\"\"}}],\"scatter\":[{\"fillpattern\":{\"fillmode\":\"overlay\",\"size\":10,\"solidity\":0.2},\"type\":\"scatter\"}],\"parcoords\":[{\"type\":\"parcoords\",\"line\":{\"colorbar\":{\"outlinewidth\":0,\"ticks\":\"\"}}}],\"scatterpolargl\":[{\"type\":\"scatterpolargl\",\"marker\":{\"colorbar\":{\"outlinewidth\":0,\"ticks\":\"\"}}}],\"bar\":[{\"error_x\":{\"color\":\"#2a3f5f\"},\"error_y\":{\"color\":\"#2a3f5f\"},\"marker\":{\"line\":{\"color\":\"#E5ECF6\",\"width\":0.5},\"pattern\":{\"fillmode\":\"overlay\",\"size\":10,\"solidity\":0.2}},\"type\":\"bar\"}],\"scattergeo\":[{\"type\":\"scattergeo\",\"marker\":{\"colorbar\":{\"outlinewidth\":0,\"ticks\":\"\"}}}],\"scatterpolar\":[{\"type\":\"scatterpolar\",\"marker\":{\"colorbar\":{\"outlinewidth\":0,\"ticks\":\"\"}}}],\"histogram\":[{\"marker\":{\"pattern\":{\"fillmode\":\"overlay\",\"size\":10,\"solidity\":0.2}},\"type\":\"histogram\"}],\"scattergl\":[{\"type\":\"scattergl\",\"marker\":{\"colorbar\":{\"outlinewidth\":0,\"ticks\":\"\"}}}],\"scatter3d\":[{\"type\":\"scatter3d\",\"line\":{\"colorbar\":{\"outlinewidth\":0,\"ticks\":\"\"}},\"marker\":{\"colorbar\":{\"outlinewidth\":0,\"ticks\":\"\"}}}],\"scattermapbox\":[{\"type\":\"scattermapbox\",\"marker\":{\"colorbar\":{\"outlinewidth\":0,\"ticks\":\"\"}}}],\"scatterternary\":[{\"type\":\"scatterternary\",\"marker\":{\"colorbar\":{\"outlinewidth\":0,\"ticks\":\"\"}}}],\"scattercarpet\":[{\"type\":\"scattercarpet\",\"marker\":{\"colorbar\":{\"outlinewidth\":0,\"ticks\":\"\"}}}],\"carpet\":[{\"aaxis\":{\"endlinecolor\":\"#2a3f5f\",\"gridcolor\":\"white\",\"linecolor\":\"white\",\"minorgridcolor\":\"white\",\"startlinecolor\":\"#2a3f5f\"},\"baxis\":{\"endlinecolor\":\"#2a3f5f\",\"gridcolor\":\"white\",\"linecolor\":\"white\",\"minorgridcolor\":\"white\",\"startlinecolor\":\"#2a3f5f\"},\"type\":\"carpet\"}],\"table\":[{\"cells\":{\"fill\":{\"color\":\"#EBF0F8\"},\"line\":{\"color\":\"white\"}},\"header\":{\"fill\":{\"color\":\"#C8D4E3\"},\"line\":{\"color\":\"white\"}},\"type\":\"table\"}],\"barpolar\":[{\"marker\":{\"line\":{\"color\":\"#E5ECF6\",\"width\":0.5},\"pattern\":{\"fillmode\":\"overlay\",\"size\":10,\"solidity\":0.2}},\"type\":\"barpolar\"}],\"pie\":[{\"automargin\":true,\"type\":\"pie\"}]},\"layout\":{\"autotypenumbers\":\"strict\",\"colorway\":[\"#636efa\",\"#EF553B\",\"#00cc96\",\"#ab63fa\",\"#FFA15A\",\"#19d3f3\",\"#FF6692\",\"#B6E880\",\"#FF97FF\",\"#FECB52\"],\"font\":{\"color\":\"#2a3f5f\"},\"hovermode\":\"closest\",\"hoverlabel\":{\"align\":\"left\"},\"paper_bgcolor\":\"white\",\"plot_bgcolor\":\"#E5ECF6\",\"polar\":{\"bgcolor\":\"#E5ECF6\",\"angularaxis\":{\"gridcolor\":\"white\",\"linecolor\":\"white\",\"ticks\":\"\"},\"radialaxis\":{\"gridcolor\":\"white\",\"linecolor\":\"white\",\"ticks\":\"\"}},\"ternary\":{\"bgcolor\":\"#E5ECF6\",\"aaxis\":{\"gridcolor\":\"white\",\"linecolor\":\"white\",\"ticks\":\"\"},\"baxis\":{\"gridcolor\":\"white\",\"linecolor\":\"white\",\"ticks\":\"\"},\"caxis\":{\"gridcolor\":\"white\",\"linecolor\":\"white\",\"ticks\":\"\"}},\"coloraxis\":{\"colorbar\":{\"outlinewidth\":0,\"ticks\":\"\"}},\"colorscale\":{\"sequential\":[[0.0,\"#0d0887\"],[0.1111111111111111,\"#46039f\"],[0.2222222222222222,\"#7201a8\"],[0.3333333333333333,\"#9c179e\"],[0.4444444444444444,\"#bd3786\"],[0.5555555555555556,\"#d8576b\"],[0.6666666666666666,\"#ed7953\"],[0.7777777777777778,\"#fb9f3a\"],[0.8888888888888888,\"#fdca26\"],[1.0,\"#f0f921\"]],\"sequentialminus\":[[0.0,\"#0d0887\"],[0.1111111111111111,\"#46039f\"],[0.2222222222222222,\"#7201a8\"],[0.3333333333333333,\"#9c179e\"],[0.4444444444444444,\"#bd3786\"],[0.5555555555555556,\"#d8576b\"],[0.6666666666666666,\"#ed7953\"],[0.7777777777777778,\"#fb9f3a\"],[0.8888888888888888,\"#fdca26\"],[1.0,\"#f0f921\"]],\"diverging\":[[0,\"#8e0152\"],[0.1,\"#c51b7d\"],[0.2,\"#de77ae\"],[0.3,\"#f1b6da\"],[0.4,\"#fde0ef\"],[0.5,\"#f7f7f7\"],[0.6,\"#e6f5d0\"],[0.7,\"#b8e186\"],[0.8,\"#7fbc41\"],[0.9,\"#4d9221\"],[1,\"#276419\"]]},\"xaxis\":{\"gridcolor\":\"white\",\"linecolor\":\"white\",\"ticks\":\"\",\"title\":{\"standoff\":15},\"zerolinecolor\":\"white\",\"automargin\":true,\"zerolinewidth\":2},\"yaxis\":{\"gridcolor\":\"white\",\"linecolor\":\"white\",\"ticks\":\"\",\"title\":{\"standoff\":15},\"zerolinecolor\":\"white\",\"automargin\":true,\"zerolinewidth\":2},\"scene\":{\"xaxis\":{\"backgroundcolor\":\"#E5ECF6\",\"gridcolor\":\"white\",\"linecolor\":\"white\",\"showbackground\":true,\"ticks\":\"\",\"zerolinecolor\":\"white\",\"gridwidth\":2},\"yaxis\":{\"backgroundcolor\":\"#E5ECF6\",\"gridcolor\":\"white\",\"linecolor\":\"white\",\"showbackground\":true,\"ticks\":\"\",\"zerolinecolor\":\"white\",\"gridwidth\":2},\"zaxis\":{\"backgroundcolor\":\"#E5ECF6\",\"gridcolor\":\"white\",\"linecolor\":\"white\",\"showbackground\":true,\"ticks\":\"\",\"zerolinecolor\":\"white\",\"gridwidth\":2}},\"shapedefaults\":{\"line\":{\"color\":\"#2a3f5f\"}},\"annotationdefaults\":{\"arrowcolor\":\"#2a3f5f\",\"arrowhead\":0,\"arrowwidth\":1},\"geo\":{\"bgcolor\":\"white\",\"landcolor\":\"#E5ECF6\",\"subunitcolor\":\"white\",\"showland\":true,\"showlakes\":true,\"lakecolor\":\"white\"},\"title\":{\"x\":0.05},\"mapbox\":{\"style\":\"light\"}}},\"title\":{\"text\":\"Pitch Initial Speed Frequency\"},\"barmode\":\"overlay\",\"xaxis\":{\"title\":{\"text\":\"Speed (mph)\"}},\"yaxis\":{\"title\":{\"text\":\"Frequency\"}}},                        {\"responsive\": true}                    ).then(function(){\n",
       "                            \n",
       "var gd = document.getElementById('9fc7cbc0-502c-45e2-b5fb-7dabc0520300');\n",
       "var x = new MutationObserver(function (mutations, observer) {{\n",
       "        var display = window.getComputedStyle(gd).display;\n",
       "        if (!display || display === 'none') {{\n",
       "            console.log([gd, 'removed!']);\n",
       "            Plotly.purge(gd);\n",
       "            observer.disconnect();\n",
       "        }}\n",
       "}});\n",
       "\n",
       "// Listen for the removal of the full notebook cells\n",
       "var notebookContainer = gd.closest('#notebook-container');\n",
       "if (notebookContainer) {{\n",
       "    x.observe(notebookContainer, {childList: true});\n",
       "}}\n",
       "\n",
       "// Listen for the clearing of the current output cell\n",
       "var outputEl = gd.closest('.output');\n",
       "if (outputEl) {{\n",
       "    x.observe(outputEl, {childList: true});\n",
       "}}\n",
       "\n",
       "                        })                };                });            </script>        </div>"
      ]
     },
     "metadata": {},
     "output_type": "display_data"
    }
   ],
   "source": [
    "# Overlay\n",
    "fig = go.Figure()\n",
    "for i in range(len(pitch_type_types)):\n",
    "    fig.add_trace(go.Histogram(x=pitch_speed[i], name=pitch_type_types[i]))\n",
    "\n",
    "# Overlay both histograms\n",
    "fig.update_layout(barmode='overlay', title_text='Pitch Initial Speed Frequency')\n",
    "fig.update_xaxes(title_text=\"Speed (mph)\")\n",
    "fig.update_yaxes(title_text=\"Frequency\")\n",
    "\n",
    "# Reduce opacity to see both histograms\n",
    "fig.update_traces(opacity=0.75)\n",
    "fig.show()\n",
    "\n",
    "# fig.write_image(\"Pitch Initial Speed Frequency Histogram.png\", engine='kaleido')"
   ]
  },
  {
   "cell_type": "code",
   "execution_count": 62,
   "id": "2d808914",
   "metadata": {},
   "outputs": [],
   "source": [
    "pitch_spin = [[] for _ in range(len(pitch_type_types))]\n",
    "\n",
    "for cur_data in data:\n",
    "    if(cur_data['summary_acts']['pitch']['type'] and cur_data['summary_acts']['pitch']['spin']['rpm']):\n",
    "        index = pitch_type_types.index(cur_data['summary_acts']['pitch']['type'])\n",
    "        pitch_speed[index].append(cur_data['summary_acts']['pitch']['spin']['rpm'])"
   ]
  },
  {
   "cell_type": "code",
   "execution_count": 63,
   "id": "608202bb",
   "metadata": {},
   "outputs": [
    {
     "data": {
      "application/vnd.plotly.v1+json": {
       "config": {
        "plotlyServerURL": "https://plot.ly"
       },
       "data": [
        {
         "name": "Sinker",
         "opacity": 0.75,
         "type": "histogram",
         "x": [
          94,
          93,
          95,
          90,
          93,
          93,
          92,
          97,
          90,
          97,
          90,
          96,
          95,
          93,
          95,
          95,
          91,
          90,
          94,
          96,
          91,
          94,
          96,
          92,
          95,
          95,
          92,
          89,
          95,
          91,
          91,
          95,
          95,
          91,
          91,
          90,
          96,
          94,
          97,
          91,
          92,
          96,
          95,
          91,
          90,
          96,
          89,
          93,
          91,
          95,
          95,
          94,
          90,
          91,
          92,
          90,
          93,
          95,
          93,
          93,
          91,
          95,
          95,
          97,
          96,
          93,
          95,
          95,
          96,
          91,
          92,
          92,
          95,
          92,
          96,
          90,
          92,
          92,
          92,
          94,
          95,
          92,
          95,
          90,
          94,
          92,
          92,
          95,
          91,
          91,
          91,
          92,
          96,
          91,
          91,
          92,
          92,
          90,
          91,
          97,
          95,
          90,
          90,
          90,
          91,
          92,
          2150,
          2480,
          2170,
          2390,
          2210,
          2360,
          2170,
          2290,
          2330,
          2230,
          2390,
          2310,
          2280,
          2230,
          2250,
          2340,
          2250,
          2330,
          2200,
          2220,
          2220,
          2300,
          2350,
          2390,
          2220,
          2280,
          2080,
          2210,
          2300,
          2390,
          2350,
          3350,
          80,
          2310,
          2200,
          2230,
          2340,
          2240,
          2300,
          2300,
          2210,
          2200,
          2270,
          2260,
          2170,
          950,
          2240,
          2500,
          2260,
          2330,
          2310,
          2240,
          2310,
          2300,
          2330,
          2150,
          2380,
          2290,
          2280,
          2230,
          2360,
          2340,
          2260,
          2420,
          2350,
          2160,
          2300,
          2360,
          2330,
          2330,
          2150,
          2260,
          10,
          2150,
          2340,
          2390,
          2310,
          2280,
          2310,
          2160,
          2140,
          2380,
          2170,
          2240,
          2300,
          2100,
          2160,
          2330,
          2200,
          2230,
          2390,
          2250,
          2280,
          2150,
          2210,
          2220,
          2230,
          2320,
          2370,
          2240,
          70,
          2350,
          2310,
          2300,
          2180,
          2310
         ]
        },
        {
         "name": "Cutter",
         "opacity": 0.75,
         "type": "histogram",
         "x": [
          88,
          92,
          87,
          90,
          88,
          87,
          87,
          90,
          87,
          90,
          90,
          86,
          87,
          87,
          90,
          87,
          93,
          88,
          89,
          86,
          89,
          86,
          88,
          88,
          2860,
          2840,
          2870,
          2190,
          2770,
          2750,
          2740,
          2980,
          2910,
          2960,
          2420,
          2960,
          2880,
          2860,
          2900,
          2750,
          2430,
          1980,
          2670,
          2910,
          2220,
          2670,
          2880,
          2690
         ]
        },
        {
         "name": "FourSeamFastball",
         "opacity": 0.75,
         "type": "histogram",
         "x": [
          93,
          93,
          92,
          90,
          93,
          95,
          90,
          96,
          93,
          93,
          93,
          91,
          93,
          97,
          92,
          90,
          97,
          92,
          92,
          96,
          91,
          93,
          91,
          90,
          91,
          93,
          94,
          92,
          96,
          91,
          90,
          94,
          91,
          2500,
          2180,
          2350,
          2420,
          2490,
          2290,
          2360,
          2340,
          2140,
          2500,
          2530,
          2170,
          2400,
          2260,
          2380,
          2090,
          2260,
          2260,
          110,
          2200,
          2410,
          2460,
          2120,
          2440,
          2200,
          2480,
          2230,
          2320,
          2270,
          2360,
          2700,
          2440,
          2190
         ]
        },
        {
         "name": "Curveball",
         "opacity": 0.75,
         "type": "histogram",
         "x": [
          79,
          78,
          79,
          79,
          79,
          77,
          79,
          78,
          78,
          78,
          77,
          78,
          77,
          71,
          78,
          79,
          78,
          78,
          79,
          79,
          77,
          77,
          82,
          78,
          78,
          77,
          81,
          78,
          80,
          81,
          78,
          83,
          80,
          78,
          78,
          78,
          72,
          77,
          81,
          2930,
          2280,
          2900,
          2830,
          2850,
          2900,
          2920,
          2890,
          2950,
          2730,
          2860,
          2860,
          2870,
          2580,
          2860,
          2900,
          2830,
          2920,
          2350,
          2950,
          2850,
          2950,
          2830,
          2390,
          2900,
          1620,
          1070,
          2860,
          2860,
          1370,
          2420,
          3180,
          2990,
          2880,
          2890,
          2980,
          2400,
          2780,
          2890
         ]
        },
        {
         "name": "Slider",
         "opacity": 0.75,
         "type": "histogram",
         "x": [
          84,
          80,
          80,
          81,
          83,
          85,
          80,
          81,
          86,
          79,
          78,
          83,
          83,
          71,
          85,
          82,
          83,
          86,
          86,
          82,
          83,
          85,
          80,
          85,
          86,
          71,
          80,
          86,
          87,
          79,
          84,
          86,
          80,
          84,
          84,
          85,
          83,
          86,
          85,
          84,
          76,
          80,
          80,
          84,
          85,
          73,
          87,
          85,
          70,
          83,
          87,
          86,
          79,
          84,
          86,
          83,
          84,
          82,
          86,
          81,
          80,
          84,
          84,
          86,
          81,
          79,
          84,
          76,
          86,
          82,
          84,
          86,
          86,
          86,
          83,
          85,
          81,
          2560,
          2220,
          2250,
          2070,
          2470,
          2520,
          2910,
          3010,
          2550,
          2650,
          130,
          2440,
          1570,
          600,
          2900,
          2490,
          2480,
          2520,
          1350,
          2290,
          2800,
          2520,
          2260,
          2760,
          2490,
          2410,
          2370,
          2580,
          2750,
          2130,
          2570,
          2590,
          2370,
          2520,
          2800,
          2390,
          2510,
          2610,
          1260,
          3080,
          2430,
          2280,
          2900,
          2310,
          2470,
          2390,
          2890,
          2550,
          2420,
          2460,
          2490,
          3210,
          2530,
          2470,
          2480,
          2500,
          2540,
          2520,
          2560,
          2220,
          2300,
          2180,
          2590,
          3230,
          2120,
          2550,
          2440,
          470,
          3240,
          2160,
          2610,
          3040,
          3100,
          2580,
          3160,
          2870
         ]
        },
        {
         "name": "Changeup",
         "opacity": 0.75,
         "type": "histogram",
         "x": [
          86,
          86,
          84,
          84,
          86,
          83,
          83,
          85,
          84,
          85,
          86,
          85,
          86,
          81,
          85,
          85,
          84,
          86,
          85,
          85,
          87,
          86,
          85,
          85,
          85,
          86,
          84,
          86,
          81,
          86,
          84,
          1650,
          1760,
          1960,
          1620,
          1560,
          1470,
          2350,
          2350,
          20,
          2360,
          2510,
          1820,
          1910,
          1070,
          2330,
          2390,
          200,
          1650,
          2550,
          2330,
          1700,
          700,
          600,
          2520,
          2410,
          2350,
          2540,
          2090,
          1230,
          120,
          2420
         ]
        }
       ],
       "layout": {
        "barmode": "overlay",
        "template": {
         "data": {
          "bar": [
           {
            "error_x": {
             "color": "#2a3f5f"
            },
            "error_y": {
             "color": "#2a3f5f"
            },
            "marker": {
             "line": {
              "color": "#E5ECF6",
              "width": 0.5
             },
             "pattern": {
              "fillmode": "overlay",
              "size": 10,
              "solidity": 0.2
             }
            },
            "type": "bar"
           }
          ],
          "barpolar": [
           {
            "marker": {
             "line": {
              "color": "#E5ECF6",
              "width": 0.5
             },
             "pattern": {
              "fillmode": "overlay",
              "size": 10,
              "solidity": 0.2
             }
            },
            "type": "barpolar"
           }
          ],
          "carpet": [
           {
            "aaxis": {
             "endlinecolor": "#2a3f5f",
             "gridcolor": "white",
             "linecolor": "white",
             "minorgridcolor": "white",
             "startlinecolor": "#2a3f5f"
            },
            "baxis": {
             "endlinecolor": "#2a3f5f",
             "gridcolor": "white",
             "linecolor": "white",
             "minorgridcolor": "white",
             "startlinecolor": "#2a3f5f"
            },
            "type": "carpet"
           }
          ],
          "choropleth": [
           {
            "colorbar": {
             "outlinewidth": 0,
             "ticks": ""
            },
            "type": "choropleth"
           }
          ],
          "contour": [
           {
            "colorbar": {
             "outlinewidth": 0,
             "ticks": ""
            },
            "colorscale": [
             [
              0,
              "#0d0887"
             ],
             [
              0.1111111111111111,
              "#46039f"
             ],
             [
              0.2222222222222222,
              "#7201a8"
             ],
             [
              0.3333333333333333,
              "#9c179e"
             ],
             [
              0.4444444444444444,
              "#bd3786"
             ],
             [
              0.5555555555555556,
              "#d8576b"
             ],
             [
              0.6666666666666666,
              "#ed7953"
             ],
             [
              0.7777777777777778,
              "#fb9f3a"
             ],
             [
              0.8888888888888888,
              "#fdca26"
             ],
             [
              1,
              "#f0f921"
             ]
            ],
            "type": "contour"
           }
          ],
          "contourcarpet": [
           {
            "colorbar": {
             "outlinewidth": 0,
             "ticks": ""
            },
            "type": "contourcarpet"
           }
          ],
          "heatmap": [
           {
            "colorbar": {
             "outlinewidth": 0,
             "ticks": ""
            },
            "colorscale": [
             [
              0,
              "#0d0887"
             ],
             [
              0.1111111111111111,
              "#46039f"
             ],
             [
              0.2222222222222222,
              "#7201a8"
             ],
             [
              0.3333333333333333,
              "#9c179e"
             ],
             [
              0.4444444444444444,
              "#bd3786"
             ],
             [
              0.5555555555555556,
              "#d8576b"
             ],
             [
              0.6666666666666666,
              "#ed7953"
             ],
             [
              0.7777777777777778,
              "#fb9f3a"
             ],
             [
              0.8888888888888888,
              "#fdca26"
             ],
             [
              1,
              "#f0f921"
             ]
            ],
            "type": "heatmap"
           }
          ],
          "heatmapgl": [
           {
            "colorbar": {
             "outlinewidth": 0,
             "ticks": ""
            },
            "colorscale": [
             [
              0,
              "#0d0887"
             ],
             [
              0.1111111111111111,
              "#46039f"
             ],
             [
              0.2222222222222222,
              "#7201a8"
             ],
             [
              0.3333333333333333,
              "#9c179e"
             ],
             [
              0.4444444444444444,
              "#bd3786"
             ],
             [
              0.5555555555555556,
              "#d8576b"
             ],
             [
              0.6666666666666666,
              "#ed7953"
             ],
             [
              0.7777777777777778,
              "#fb9f3a"
             ],
             [
              0.8888888888888888,
              "#fdca26"
             ],
             [
              1,
              "#f0f921"
             ]
            ],
            "type": "heatmapgl"
           }
          ],
          "histogram": [
           {
            "marker": {
             "pattern": {
              "fillmode": "overlay",
              "size": 10,
              "solidity": 0.2
             }
            },
            "type": "histogram"
           }
          ],
          "histogram2d": [
           {
            "colorbar": {
             "outlinewidth": 0,
             "ticks": ""
            },
            "colorscale": [
             [
              0,
              "#0d0887"
             ],
             [
              0.1111111111111111,
              "#46039f"
             ],
             [
              0.2222222222222222,
              "#7201a8"
             ],
             [
              0.3333333333333333,
              "#9c179e"
             ],
             [
              0.4444444444444444,
              "#bd3786"
             ],
             [
              0.5555555555555556,
              "#d8576b"
             ],
             [
              0.6666666666666666,
              "#ed7953"
             ],
             [
              0.7777777777777778,
              "#fb9f3a"
             ],
             [
              0.8888888888888888,
              "#fdca26"
             ],
             [
              1,
              "#f0f921"
             ]
            ],
            "type": "histogram2d"
           }
          ],
          "histogram2dcontour": [
           {
            "colorbar": {
             "outlinewidth": 0,
             "ticks": ""
            },
            "colorscale": [
             [
              0,
              "#0d0887"
             ],
             [
              0.1111111111111111,
              "#46039f"
             ],
             [
              0.2222222222222222,
              "#7201a8"
             ],
             [
              0.3333333333333333,
              "#9c179e"
             ],
             [
              0.4444444444444444,
              "#bd3786"
             ],
             [
              0.5555555555555556,
              "#d8576b"
             ],
             [
              0.6666666666666666,
              "#ed7953"
             ],
             [
              0.7777777777777778,
              "#fb9f3a"
             ],
             [
              0.8888888888888888,
              "#fdca26"
             ],
             [
              1,
              "#f0f921"
             ]
            ],
            "type": "histogram2dcontour"
           }
          ],
          "mesh3d": [
           {
            "colorbar": {
             "outlinewidth": 0,
             "ticks": ""
            },
            "type": "mesh3d"
           }
          ],
          "parcoords": [
           {
            "line": {
             "colorbar": {
              "outlinewidth": 0,
              "ticks": ""
             }
            },
            "type": "parcoords"
           }
          ],
          "pie": [
           {
            "automargin": true,
            "type": "pie"
           }
          ],
          "scatter": [
           {
            "fillpattern": {
             "fillmode": "overlay",
             "size": 10,
             "solidity": 0.2
            },
            "type": "scatter"
           }
          ],
          "scatter3d": [
           {
            "line": {
             "colorbar": {
              "outlinewidth": 0,
              "ticks": ""
             }
            },
            "marker": {
             "colorbar": {
              "outlinewidth": 0,
              "ticks": ""
             }
            },
            "type": "scatter3d"
           }
          ],
          "scattercarpet": [
           {
            "marker": {
             "colorbar": {
              "outlinewidth": 0,
              "ticks": ""
             }
            },
            "type": "scattercarpet"
           }
          ],
          "scattergeo": [
           {
            "marker": {
             "colorbar": {
              "outlinewidth": 0,
              "ticks": ""
             }
            },
            "type": "scattergeo"
           }
          ],
          "scattergl": [
           {
            "marker": {
             "colorbar": {
              "outlinewidth": 0,
              "ticks": ""
             }
            },
            "type": "scattergl"
           }
          ],
          "scattermapbox": [
           {
            "marker": {
             "colorbar": {
              "outlinewidth": 0,
              "ticks": ""
             }
            },
            "type": "scattermapbox"
           }
          ],
          "scatterpolar": [
           {
            "marker": {
             "colorbar": {
              "outlinewidth": 0,
              "ticks": ""
             }
            },
            "type": "scatterpolar"
           }
          ],
          "scatterpolargl": [
           {
            "marker": {
             "colorbar": {
              "outlinewidth": 0,
              "ticks": ""
             }
            },
            "type": "scatterpolargl"
           }
          ],
          "scatterternary": [
           {
            "marker": {
             "colorbar": {
              "outlinewidth": 0,
              "ticks": ""
             }
            },
            "type": "scatterternary"
           }
          ],
          "surface": [
           {
            "colorbar": {
             "outlinewidth": 0,
             "ticks": ""
            },
            "colorscale": [
             [
              0,
              "#0d0887"
             ],
             [
              0.1111111111111111,
              "#46039f"
             ],
             [
              0.2222222222222222,
              "#7201a8"
             ],
             [
              0.3333333333333333,
              "#9c179e"
             ],
             [
              0.4444444444444444,
              "#bd3786"
             ],
             [
              0.5555555555555556,
              "#d8576b"
             ],
             [
              0.6666666666666666,
              "#ed7953"
             ],
             [
              0.7777777777777778,
              "#fb9f3a"
             ],
             [
              0.8888888888888888,
              "#fdca26"
             ],
             [
              1,
              "#f0f921"
             ]
            ],
            "type": "surface"
           }
          ],
          "table": [
           {
            "cells": {
             "fill": {
              "color": "#EBF0F8"
             },
             "line": {
              "color": "white"
             }
            },
            "header": {
             "fill": {
              "color": "#C8D4E3"
             },
             "line": {
              "color": "white"
             }
            },
            "type": "table"
           }
          ]
         },
         "layout": {
          "annotationdefaults": {
           "arrowcolor": "#2a3f5f",
           "arrowhead": 0,
           "arrowwidth": 1
          },
          "autotypenumbers": "strict",
          "coloraxis": {
           "colorbar": {
            "outlinewidth": 0,
            "ticks": ""
           }
          },
          "colorscale": {
           "diverging": [
            [
             0,
             "#8e0152"
            ],
            [
             0.1,
             "#c51b7d"
            ],
            [
             0.2,
             "#de77ae"
            ],
            [
             0.3,
             "#f1b6da"
            ],
            [
             0.4,
             "#fde0ef"
            ],
            [
             0.5,
             "#f7f7f7"
            ],
            [
             0.6,
             "#e6f5d0"
            ],
            [
             0.7,
             "#b8e186"
            ],
            [
             0.8,
             "#7fbc41"
            ],
            [
             0.9,
             "#4d9221"
            ],
            [
             1,
             "#276419"
            ]
           ],
           "sequential": [
            [
             0,
             "#0d0887"
            ],
            [
             0.1111111111111111,
             "#46039f"
            ],
            [
             0.2222222222222222,
             "#7201a8"
            ],
            [
             0.3333333333333333,
             "#9c179e"
            ],
            [
             0.4444444444444444,
             "#bd3786"
            ],
            [
             0.5555555555555556,
             "#d8576b"
            ],
            [
             0.6666666666666666,
             "#ed7953"
            ],
            [
             0.7777777777777778,
             "#fb9f3a"
            ],
            [
             0.8888888888888888,
             "#fdca26"
            ],
            [
             1,
             "#f0f921"
            ]
           ],
           "sequentialminus": [
            [
             0,
             "#0d0887"
            ],
            [
             0.1111111111111111,
             "#46039f"
            ],
            [
             0.2222222222222222,
             "#7201a8"
            ],
            [
             0.3333333333333333,
             "#9c179e"
            ],
            [
             0.4444444444444444,
             "#bd3786"
            ],
            [
             0.5555555555555556,
             "#d8576b"
            ],
            [
             0.6666666666666666,
             "#ed7953"
            ],
            [
             0.7777777777777778,
             "#fb9f3a"
            ],
            [
             0.8888888888888888,
             "#fdca26"
            ],
            [
             1,
             "#f0f921"
            ]
           ]
          },
          "colorway": [
           "#636efa",
           "#EF553B",
           "#00cc96",
           "#ab63fa",
           "#FFA15A",
           "#19d3f3",
           "#FF6692",
           "#B6E880",
           "#FF97FF",
           "#FECB52"
          ],
          "font": {
           "color": "#2a3f5f"
          },
          "geo": {
           "bgcolor": "white",
           "lakecolor": "white",
           "landcolor": "#E5ECF6",
           "showlakes": true,
           "showland": true,
           "subunitcolor": "white"
          },
          "hoverlabel": {
           "align": "left"
          },
          "hovermode": "closest",
          "mapbox": {
           "style": "light"
          },
          "paper_bgcolor": "white",
          "plot_bgcolor": "#E5ECF6",
          "polar": {
           "angularaxis": {
            "gridcolor": "white",
            "linecolor": "white",
            "ticks": ""
           },
           "bgcolor": "#E5ECF6",
           "radialaxis": {
            "gridcolor": "white",
            "linecolor": "white",
            "ticks": ""
           }
          },
          "scene": {
           "xaxis": {
            "backgroundcolor": "#E5ECF6",
            "gridcolor": "white",
            "gridwidth": 2,
            "linecolor": "white",
            "showbackground": true,
            "ticks": "",
            "zerolinecolor": "white"
           },
           "yaxis": {
            "backgroundcolor": "#E5ECF6",
            "gridcolor": "white",
            "gridwidth": 2,
            "linecolor": "white",
            "showbackground": true,
            "ticks": "",
            "zerolinecolor": "white"
           },
           "zaxis": {
            "backgroundcolor": "#E5ECF6",
            "gridcolor": "white",
            "gridwidth": 2,
            "linecolor": "white",
            "showbackground": true,
            "ticks": "",
            "zerolinecolor": "white"
           }
          },
          "shapedefaults": {
           "line": {
            "color": "#2a3f5f"
           }
          },
          "ternary": {
           "aaxis": {
            "gridcolor": "white",
            "linecolor": "white",
            "ticks": ""
           },
           "baxis": {
            "gridcolor": "white",
            "linecolor": "white",
            "ticks": ""
           },
           "bgcolor": "#E5ECF6",
           "caxis": {
            "gridcolor": "white",
            "linecolor": "white",
            "ticks": ""
           }
          },
          "title": {
           "x": 0.05
          },
          "xaxis": {
           "automargin": true,
           "gridcolor": "white",
           "linecolor": "white",
           "ticks": "",
           "title": {
            "standoff": 15
           },
           "zerolinecolor": "white",
           "zerolinewidth": 2
          },
          "yaxis": {
           "automargin": true,
           "gridcolor": "white",
           "linecolor": "white",
           "ticks": "",
           "title": {
            "standoff": 15
           },
           "zerolinecolor": "white",
           "zerolinewidth": 2
          }
         }
        },
        "title": {
         "text": "Pitch Initial Spin Frequency"
        },
        "xaxis": {
         "title": {
          "text": "Spin (rpm)"
         }
        },
        "yaxis": {
         "title": {
          "text": "Frequency"
         }
        }
       }
      },
      "text/html": [
       "<div>                            <div id=\"dccd1957-169d-4d7a-8dcd-f0dc2367d18a\" class=\"plotly-graph-div\" style=\"height:525px; width:100%;\"></div>            <script type=\"text/javascript\">                require([\"plotly\"], function(Plotly) {                    window.PLOTLYENV=window.PLOTLYENV || {};                                    if (document.getElementById(\"dccd1957-169d-4d7a-8dcd-f0dc2367d18a\")) {                    Plotly.newPlot(                        \"dccd1957-169d-4d7a-8dcd-f0dc2367d18a\",                        [{\"name\":\"Sinker\",\"x\":[94.0,93.0,95.0,90.0,93.0,93.0,92.0,97.0,90.0,97.0,90.0,96.0,95.0,93.0,95.0,95.0,91.0,90.0,94.0,96.0,91.0,94.0,96.0,92.0,95.0,95.0,92.0,89.0,95.0,91.0,91.0,95.0,95.0,91.0,91.0,90.0,96.0,94.0,97.0,91.0,92.0,96.0,95.0,91.0,90.0,96.0,89.0,93.0,91.0,95.0,95.0,94.0,90.0,91.0,92.0,90.0,93.0,95.0,93.0,93.0,91.0,95.0,95.0,97.0,96.0,93.0,95.0,95.0,96.0,91.0,92.0,92.0,95.0,92.0,96.0,90.0,92.0,92.0,92.0,94.0,95.0,92.0,95.0,90.0,94.0,92.0,92.0,95.0,91.0,91.0,91.0,92.0,96.0,91.0,91.0,92.0,92.0,90.0,91.0,97.0,95.0,90.0,90.0,90.0,91.0,92.0,2150,2480,2170,2390,2210,2360,2170,2290,2330,2230,2390,2310,2280,2230,2250,2340,2250,2330,2200,2220,2220,2300,2350,2390,2220,2280,2080,2210,2300,2390,2350,3350,80,2310,2200,2230,2340,2240,2300,2300,2210,2200,2270,2260,2170,950,2240,2500,2260,2330,2310,2240,2310,2300,2330,2150,2380,2290,2280,2230,2360,2340,2260,2420,2350,2160,2300,2360,2330,2330,2150,2260,10,2150,2340,2390,2310,2280,2310,2160,2140,2380,2170,2240,2300,2100,2160,2330,2200,2230,2390,2250,2280,2150,2210,2220,2230,2320,2370,2240,70,2350,2310,2300,2180,2310],\"type\":\"histogram\",\"opacity\":0.75},{\"name\":\"Cutter\",\"x\":[88.0,92.0,87.0,90.0,88.0,87.0,87.0,90.0,87.0,90.0,90.0,86.0,87.0,87.0,90.0,87.0,93.0,88.0,89.0,86.0,89.0,86.0,88.0,88.0,2860,2840,2870,2190,2770,2750,2740,2980,2910,2960,2420,2960,2880,2860,2900,2750,2430,1980,2670,2910,2220,2670,2880,2690],\"type\":\"histogram\",\"opacity\":0.75},{\"name\":\"FourSeamFastball\",\"x\":[93.0,93.0,92.0,90.0,93.0,95.0,90.0,96.0,93.0,93.0,93.0,91.0,93.0,97.0,92.0,90.0,97.0,92.0,92.0,96.0,91.0,93.0,91.0,90.0,91.0,93.0,94.0,92.0,96.0,91.0,90.0,94.0,91.0,2500,2180,2350,2420,2490,2290,2360,2340,2140,2500,2530,2170,2400,2260,2380,2090,2260,2260,110,2200,2410,2460,2120,2440,2200,2480,2230,2320,2270,2360,2700,2440,2190],\"type\":\"histogram\",\"opacity\":0.75},{\"name\":\"Curveball\",\"x\":[79.0,78.0,79.0,79.0,79.0,77.0,79.0,78.0,78.0,78.0,77.0,78.0,77.0,71.0,78.0,79.0,78.0,78.0,79.0,79.0,77.0,77.0,82.0,78.0,78.0,77.0,81.0,78.0,80.0,81.0,78.0,83.0,80.0,78.0,78.0,78.0,72.0,77.0,81.0,2930,2280,2900,2830,2850,2900,2920,2890,2950,2730,2860,2860,2870,2580,2860,2900,2830,2920,2350,2950,2850,2950,2830,2390,2900,1620,1070,2860,2860,1370,2420,3180,2990,2880,2890,2980,2400,2780,2890],\"type\":\"histogram\",\"opacity\":0.75},{\"name\":\"Slider\",\"x\":[84.0,80.0,80.0,81.0,83.0,85.0,80.0,81.0,86.0,79.0,78.0,83.0,83.0,71.0,85.0,82.0,83.0,86.0,86.0,82.0,83.0,85.0,80.0,85.0,86.0,71.0,80.0,86.0,87.0,79.0,84.0,86.0,80.0,84.0,84.0,85.0,83.0,86.0,85.0,84.0,76.0,80.0,80.0,84.0,85.0,73.0,87.0,85.0,70.0,83.0,87.0,86.0,79.0,84.0,86.0,83.0,84.0,82.0,86.0,81.0,80.0,84.0,84.0,86.0,81.0,79.0,84.0,76.0,86.0,82.0,84.0,86.0,86.0,86.0,83.0,85.0,81.0,2560,2220,2250,2070,2470,2520,2910,3010,2550,2650,130,2440,1570,600,2900,2490,2480,2520,1350,2290,2800,2520,2260,2760,2490,2410,2370,2580,2750,2130,2570,2590,2370,2520,2800,2390,2510,2610,1260,3080,2430,2280,2900,2310,2470,2390,2890,2550,2420,2460,2490,3210,2530,2470,2480,2500,2540,2520,2560,2220,2300,2180,2590,3230,2120,2550,2440,470,3240,2160,2610,3040,3100,2580,3160,2870],\"type\":\"histogram\",\"opacity\":0.75},{\"name\":\"Changeup\",\"x\":[86.0,86.0,84.0,84.0,86.0,83.0,83.0,85.0,84.0,85.0,86.0,85.0,86.0,81.0,85.0,85.0,84.0,86.0,85.0,85.0,87.0,86.0,85.0,85.0,85.0,86.0,84.0,86.0,81.0,86.0,84.0,1650,1760,1960,1620,1560,1470,2350,2350,20,2360,2510,1820,1910,1070,2330,2390,200,1650,2550,2330,1700,700,600,2520,2410,2350,2540,2090,1230,120,2420],\"type\":\"histogram\",\"opacity\":0.75}],                        {\"template\":{\"data\":{\"histogram2dcontour\":[{\"type\":\"histogram2dcontour\",\"colorbar\":{\"outlinewidth\":0,\"ticks\":\"\"},\"colorscale\":[[0.0,\"#0d0887\"],[0.1111111111111111,\"#46039f\"],[0.2222222222222222,\"#7201a8\"],[0.3333333333333333,\"#9c179e\"],[0.4444444444444444,\"#bd3786\"],[0.5555555555555556,\"#d8576b\"],[0.6666666666666666,\"#ed7953\"],[0.7777777777777778,\"#fb9f3a\"],[0.8888888888888888,\"#fdca26\"],[1.0,\"#f0f921\"]]}],\"choropleth\":[{\"type\":\"choropleth\",\"colorbar\":{\"outlinewidth\":0,\"ticks\":\"\"}}],\"histogram2d\":[{\"type\":\"histogram2d\",\"colorbar\":{\"outlinewidth\":0,\"ticks\":\"\"},\"colorscale\":[[0.0,\"#0d0887\"],[0.1111111111111111,\"#46039f\"],[0.2222222222222222,\"#7201a8\"],[0.3333333333333333,\"#9c179e\"],[0.4444444444444444,\"#bd3786\"],[0.5555555555555556,\"#d8576b\"],[0.6666666666666666,\"#ed7953\"],[0.7777777777777778,\"#fb9f3a\"],[0.8888888888888888,\"#fdca26\"],[1.0,\"#f0f921\"]]}],\"heatmap\":[{\"type\":\"heatmap\",\"colorbar\":{\"outlinewidth\":0,\"ticks\":\"\"},\"colorscale\":[[0.0,\"#0d0887\"],[0.1111111111111111,\"#46039f\"],[0.2222222222222222,\"#7201a8\"],[0.3333333333333333,\"#9c179e\"],[0.4444444444444444,\"#bd3786\"],[0.5555555555555556,\"#d8576b\"],[0.6666666666666666,\"#ed7953\"],[0.7777777777777778,\"#fb9f3a\"],[0.8888888888888888,\"#fdca26\"],[1.0,\"#f0f921\"]]}],\"heatmapgl\":[{\"type\":\"heatmapgl\",\"colorbar\":{\"outlinewidth\":0,\"ticks\":\"\"},\"colorscale\":[[0.0,\"#0d0887\"],[0.1111111111111111,\"#46039f\"],[0.2222222222222222,\"#7201a8\"],[0.3333333333333333,\"#9c179e\"],[0.4444444444444444,\"#bd3786\"],[0.5555555555555556,\"#d8576b\"],[0.6666666666666666,\"#ed7953\"],[0.7777777777777778,\"#fb9f3a\"],[0.8888888888888888,\"#fdca26\"],[1.0,\"#f0f921\"]]}],\"contourcarpet\":[{\"type\":\"contourcarpet\",\"colorbar\":{\"outlinewidth\":0,\"ticks\":\"\"}}],\"contour\":[{\"type\":\"contour\",\"colorbar\":{\"outlinewidth\":0,\"ticks\":\"\"},\"colorscale\":[[0.0,\"#0d0887\"],[0.1111111111111111,\"#46039f\"],[0.2222222222222222,\"#7201a8\"],[0.3333333333333333,\"#9c179e\"],[0.4444444444444444,\"#bd3786\"],[0.5555555555555556,\"#d8576b\"],[0.6666666666666666,\"#ed7953\"],[0.7777777777777778,\"#fb9f3a\"],[0.8888888888888888,\"#fdca26\"],[1.0,\"#f0f921\"]]}],\"surface\":[{\"type\":\"surface\",\"colorbar\":{\"outlinewidth\":0,\"ticks\":\"\"},\"colorscale\":[[0.0,\"#0d0887\"],[0.1111111111111111,\"#46039f\"],[0.2222222222222222,\"#7201a8\"],[0.3333333333333333,\"#9c179e\"],[0.4444444444444444,\"#bd3786\"],[0.5555555555555556,\"#d8576b\"],[0.6666666666666666,\"#ed7953\"],[0.7777777777777778,\"#fb9f3a\"],[0.8888888888888888,\"#fdca26\"],[1.0,\"#f0f921\"]]}],\"mesh3d\":[{\"type\":\"mesh3d\",\"colorbar\":{\"outlinewidth\":0,\"ticks\":\"\"}}],\"scatter\":[{\"fillpattern\":{\"fillmode\":\"overlay\",\"size\":10,\"solidity\":0.2},\"type\":\"scatter\"}],\"parcoords\":[{\"type\":\"parcoords\",\"line\":{\"colorbar\":{\"outlinewidth\":0,\"ticks\":\"\"}}}],\"scatterpolargl\":[{\"type\":\"scatterpolargl\",\"marker\":{\"colorbar\":{\"outlinewidth\":0,\"ticks\":\"\"}}}],\"bar\":[{\"error_x\":{\"color\":\"#2a3f5f\"},\"error_y\":{\"color\":\"#2a3f5f\"},\"marker\":{\"line\":{\"color\":\"#E5ECF6\",\"width\":0.5},\"pattern\":{\"fillmode\":\"overlay\",\"size\":10,\"solidity\":0.2}},\"type\":\"bar\"}],\"scattergeo\":[{\"type\":\"scattergeo\",\"marker\":{\"colorbar\":{\"outlinewidth\":0,\"ticks\":\"\"}}}],\"scatterpolar\":[{\"type\":\"scatterpolar\",\"marker\":{\"colorbar\":{\"outlinewidth\":0,\"ticks\":\"\"}}}],\"histogram\":[{\"marker\":{\"pattern\":{\"fillmode\":\"overlay\",\"size\":10,\"solidity\":0.2}},\"type\":\"histogram\"}],\"scattergl\":[{\"type\":\"scattergl\",\"marker\":{\"colorbar\":{\"outlinewidth\":0,\"ticks\":\"\"}}}],\"scatter3d\":[{\"type\":\"scatter3d\",\"line\":{\"colorbar\":{\"outlinewidth\":0,\"ticks\":\"\"}},\"marker\":{\"colorbar\":{\"outlinewidth\":0,\"ticks\":\"\"}}}],\"scattermapbox\":[{\"type\":\"scattermapbox\",\"marker\":{\"colorbar\":{\"outlinewidth\":0,\"ticks\":\"\"}}}],\"scatterternary\":[{\"type\":\"scatterternary\",\"marker\":{\"colorbar\":{\"outlinewidth\":0,\"ticks\":\"\"}}}],\"scattercarpet\":[{\"type\":\"scattercarpet\",\"marker\":{\"colorbar\":{\"outlinewidth\":0,\"ticks\":\"\"}}}],\"carpet\":[{\"aaxis\":{\"endlinecolor\":\"#2a3f5f\",\"gridcolor\":\"white\",\"linecolor\":\"white\",\"minorgridcolor\":\"white\",\"startlinecolor\":\"#2a3f5f\"},\"baxis\":{\"endlinecolor\":\"#2a3f5f\",\"gridcolor\":\"white\",\"linecolor\":\"white\",\"minorgridcolor\":\"white\",\"startlinecolor\":\"#2a3f5f\"},\"type\":\"carpet\"}],\"table\":[{\"cells\":{\"fill\":{\"color\":\"#EBF0F8\"},\"line\":{\"color\":\"white\"}},\"header\":{\"fill\":{\"color\":\"#C8D4E3\"},\"line\":{\"color\":\"white\"}},\"type\":\"table\"}],\"barpolar\":[{\"marker\":{\"line\":{\"color\":\"#E5ECF6\",\"width\":0.5},\"pattern\":{\"fillmode\":\"overlay\",\"size\":10,\"solidity\":0.2}},\"type\":\"barpolar\"}],\"pie\":[{\"automargin\":true,\"type\":\"pie\"}]},\"layout\":{\"autotypenumbers\":\"strict\",\"colorway\":[\"#636efa\",\"#EF553B\",\"#00cc96\",\"#ab63fa\",\"#FFA15A\",\"#19d3f3\",\"#FF6692\",\"#B6E880\",\"#FF97FF\",\"#FECB52\"],\"font\":{\"color\":\"#2a3f5f\"},\"hovermode\":\"closest\",\"hoverlabel\":{\"align\":\"left\"},\"paper_bgcolor\":\"white\",\"plot_bgcolor\":\"#E5ECF6\",\"polar\":{\"bgcolor\":\"#E5ECF6\",\"angularaxis\":{\"gridcolor\":\"white\",\"linecolor\":\"white\",\"ticks\":\"\"},\"radialaxis\":{\"gridcolor\":\"white\",\"linecolor\":\"white\",\"ticks\":\"\"}},\"ternary\":{\"bgcolor\":\"#E5ECF6\",\"aaxis\":{\"gridcolor\":\"white\",\"linecolor\":\"white\",\"ticks\":\"\"},\"baxis\":{\"gridcolor\":\"white\",\"linecolor\":\"white\",\"ticks\":\"\"},\"caxis\":{\"gridcolor\":\"white\",\"linecolor\":\"white\",\"ticks\":\"\"}},\"coloraxis\":{\"colorbar\":{\"outlinewidth\":0,\"ticks\":\"\"}},\"colorscale\":{\"sequential\":[[0.0,\"#0d0887\"],[0.1111111111111111,\"#46039f\"],[0.2222222222222222,\"#7201a8\"],[0.3333333333333333,\"#9c179e\"],[0.4444444444444444,\"#bd3786\"],[0.5555555555555556,\"#d8576b\"],[0.6666666666666666,\"#ed7953\"],[0.7777777777777778,\"#fb9f3a\"],[0.8888888888888888,\"#fdca26\"],[1.0,\"#f0f921\"]],\"sequentialminus\":[[0.0,\"#0d0887\"],[0.1111111111111111,\"#46039f\"],[0.2222222222222222,\"#7201a8\"],[0.3333333333333333,\"#9c179e\"],[0.4444444444444444,\"#bd3786\"],[0.5555555555555556,\"#d8576b\"],[0.6666666666666666,\"#ed7953\"],[0.7777777777777778,\"#fb9f3a\"],[0.8888888888888888,\"#fdca26\"],[1.0,\"#f0f921\"]],\"diverging\":[[0,\"#8e0152\"],[0.1,\"#c51b7d\"],[0.2,\"#de77ae\"],[0.3,\"#f1b6da\"],[0.4,\"#fde0ef\"],[0.5,\"#f7f7f7\"],[0.6,\"#e6f5d0\"],[0.7,\"#b8e186\"],[0.8,\"#7fbc41\"],[0.9,\"#4d9221\"],[1,\"#276419\"]]},\"xaxis\":{\"gridcolor\":\"white\",\"linecolor\":\"white\",\"ticks\":\"\",\"title\":{\"standoff\":15},\"zerolinecolor\":\"white\",\"automargin\":true,\"zerolinewidth\":2},\"yaxis\":{\"gridcolor\":\"white\",\"linecolor\":\"white\",\"ticks\":\"\",\"title\":{\"standoff\":15},\"zerolinecolor\":\"white\",\"automargin\":true,\"zerolinewidth\":2},\"scene\":{\"xaxis\":{\"backgroundcolor\":\"#E5ECF6\",\"gridcolor\":\"white\",\"linecolor\":\"white\",\"showbackground\":true,\"ticks\":\"\",\"zerolinecolor\":\"white\",\"gridwidth\":2},\"yaxis\":{\"backgroundcolor\":\"#E5ECF6\",\"gridcolor\":\"white\",\"linecolor\":\"white\",\"showbackground\":true,\"ticks\":\"\",\"zerolinecolor\":\"white\",\"gridwidth\":2},\"zaxis\":{\"backgroundcolor\":\"#E5ECF6\",\"gridcolor\":\"white\",\"linecolor\":\"white\",\"showbackground\":true,\"ticks\":\"\",\"zerolinecolor\":\"white\",\"gridwidth\":2}},\"shapedefaults\":{\"line\":{\"color\":\"#2a3f5f\"}},\"annotationdefaults\":{\"arrowcolor\":\"#2a3f5f\",\"arrowhead\":0,\"arrowwidth\":1},\"geo\":{\"bgcolor\":\"white\",\"landcolor\":\"#E5ECF6\",\"subunitcolor\":\"white\",\"showland\":true,\"showlakes\":true,\"lakecolor\":\"white\"},\"title\":{\"x\":0.05},\"mapbox\":{\"style\":\"light\"}}},\"title\":{\"text\":\"Pitch Initial Spin Frequency\"},\"barmode\":\"overlay\",\"xaxis\":{\"title\":{\"text\":\"Spin (rpm)\"}},\"yaxis\":{\"title\":{\"text\":\"Frequency\"}}},                        {\"responsive\": true}                    ).then(function(){\n",
       "                            \n",
       "var gd = document.getElementById('dccd1957-169d-4d7a-8dcd-f0dc2367d18a');\n",
       "var x = new MutationObserver(function (mutations, observer) {{\n",
       "        var display = window.getComputedStyle(gd).display;\n",
       "        if (!display || display === 'none') {{\n",
       "            console.log([gd, 'removed!']);\n",
       "            Plotly.purge(gd);\n",
       "            observer.disconnect();\n",
       "        }}\n",
       "}});\n",
       "\n",
       "// Listen for the removal of the full notebook cells\n",
       "var notebookContainer = gd.closest('#notebook-container');\n",
       "if (notebookContainer) {{\n",
       "    x.observe(notebookContainer, {childList: true});\n",
       "}}\n",
       "\n",
       "// Listen for the clearing of the current output cell\n",
       "var outputEl = gd.closest('.output');\n",
       "if (outputEl) {{\n",
       "    x.observe(outputEl, {childList: true});\n",
       "}}\n",
       "\n",
       "                        })                };                });            </script>        </div>"
      ]
     },
     "metadata": {},
     "output_type": "display_data"
    }
   ],
   "source": [
    "# Overlay\n",
    "fig = go.Figure()\n",
    "for i in range(len(pitch_type_types)):\n",
    "    fig.add_trace(go.Histogram(x=pitch_speed[i], name=pitch_type_types[i]))\n",
    "    \n",
    "# Overlay both histograms\n",
    "fig.update_layout(barmode='overlay', title_text='Pitch Initial Spin Frequency')\n",
    "fig.update_xaxes(title_text=\"Spin (rpm)\")\n",
    "fig.update_yaxes(title_text=\"Frequency\")\n",
    "\n",
    "# Reduce opacity to see both histograms\n",
    "fig.update_traces(opacity=0.75)\n",
    "fig.show()\n",
    "\n",
    "# fig.write_image(\"Pitch Initial Spin Frequency Histogram.png\", engine='kaleido')"
   ]
  },
  {
   "cell_type": "markdown",
   "id": "ed284869",
   "metadata": {},
   "source": [
    "## Pitch Speed and Spin by Result\n",
    "Initially, we were planning to predict the result based on the pitch type, speed, and spin. After performing these visualizations, however, we realized that there was not a strong correlation between pitch speed/spin and result"
   ]
  },
  {
   "cell_type": "code",
   "execution_count": 64,
   "id": "a7600c75",
   "metadata": {},
   "outputs": [],
   "source": [
    "speed_result_list = []\n",
    "\n",
    "for cur_data in data:\n",
    "    speed = cur_data['summary_acts']['pitch']['speed']['mph']\n",
    "    result = cur_data['summary_acts']['pitch']['result']\n",
    "    \n",
    "    if speed != \"\" and result != \"\":\n",
    "        cur_row = {\n",
    "            \"Speed\": speed,\n",
    "            \"Result\": result\n",
    "        }\n",
    "        speed_result_list.append(cur_row)\n",
    "\n",
    "speed_result_df = pd.DataFrame(speed_result_list)\n",
    "\n",
    "# display(speed_result_df)"
   ]
  },
  {
   "cell_type": "code",
   "execution_count": 65,
   "id": "a52ea1e3",
   "metadata": {},
   "outputs": [
    {
     "data": {
      "application/vnd.plotly.v1+json": {
       "config": {
        "plotlyServerURL": "https://plot.ly"
       },
       "data": [
        {
         "alignmentgroup": "True",
         "bingroup": "x",
         "hovertemplate": "Result=Ball<br>Speed=%{x}<br>count=%{y}<extra></extra>",
         "legendgroup": "Ball",
         "marker": {
          "color": "#636efa",
          "pattern": {
           "shape": ""
          }
         },
         "name": "Ball",
         "offsetgroup": "Ball",
         "orientation": "v",
         "showlegend": true,
         "type": "histogram",
         "x": [
          94,
          84,
          80,
          94,
          79,
          82,
          80,
          81,
          93,
          77,
          86,
          83,
          82,
          81,
          85,
          82,
          93,
          79,
          94,
          96,
          94,
          90,
          82,
          91,
          94,
          91,
          91,
          95,
          82,
          85,
          82,
          96,
          83,
          78,
          91,
          91,
          80,
          87,
          90,
          95,
          82,
          79,
          83,
          79,
          87,
          91,
          86,
          91,
          86,
          91,
          95,
          84,
          93,
          87,
          96,
          83,
          80,
          82,
          78,
          83,
          84,
          87,
          94,
          85,
          90,
          83,
          80,
          82,
          91,
          90,
          91,
          83,
          94,
          79,
          90,
          82,
          85,
          89,
          90,
          87,
          88,
          73,
          86,
          92,
          82,
          82,
          91,
          93,
          93,
          93,
          85,
          92,
          90,
          85,
          84,
          91,
          94,
          93,
          84,
          91,
          79,
          87,
          81,
          81,
          88,
          90,
          94,
          94,
          91,
          80,
          79,
          92,
          79,
          85,
          90,
          93,
          83,
          93,
          91,
          90,
          91,
          82,
          83,
          81,
          94,
          87,
          89,
          95,
          90,
          91,
          96,
          88,
          79,
          83,
          82,
          91,
          92,
          93,
          81,
          80,
          83,
          91,
          92,
          80,
          93,
          78,
          93,
          84,
          80,
          94,
          86,
          84,
          91,
          91,
          80,
          91,
          93,
          79,
          79,
          86,
          94,
          95,
          91,
          84,
          95,
          78,
          87,
          92,
          84,
          86,
          79,
          87,
          94,
          79,
          83,
          79,
          80,
          93,
          79,
          81,
          94,
          91,
          87,
          90,
          85,
          88,
          94,
          91,
          89,
          81,
          93,
          86,
          92,
          81,
          86,
          89,
          94,
          86,
          90,
          86,
          90,
          96,
          77,
          95,
          82,
          85,
          87,
          96,
          84,
          92,
          98,
          92,
          95,
          95,
          77,
          83,
          96,
          84,
          88,
          85,
          82,
          94,
          79,
          94,
          81,
          83,
          91,
          89,
          92,
          92,
          76,
          92,
          91,
          91,
          82,
          85,
          93,
          94,
          93,
          87,
          84,
          95,
          96,
          94,
          90,
          96,
          91,
          93,
          94,
          78,
          86,
          81,
          79,
          81,
          91,
          83,
          77,
          91,
          81,
          79,
          81,
          81,
          92,
          80,
          92,
          92,
          94,
          95,
          82,
          84,
          91,
          80,
          89,
          95,
          83,
          88,
          84,
          94,
          76,
          78,
          92,
          90,
          91,
          95,
          82,
          95,
          94,
          80,
          87,
          93,
          86,
          82,
          82,
          90,
          92,
          84,
          93,
          92,
          82,
          82,
          80,
          91,
          81,
          78,
          83,
          84,
          84,
          89,
          85,
          88,
          80,
          86,
          82,
          93,
          83,
          82,
          81,
          80,
          94,
          86,
          85,
          85,
          90,
          94,
          94,
          92,
          84,
          91,
          79,
          92,
          78,
          93,
          89,
          89,
          94,
          90,
          87,
          95,
          91,
          85,
          83,
          80,
          95,
          82,
          78,
          73,
          81,
          84,
          86,
          91,
          90,
          91,
          83,
          80,
          91,
          93,
          82,
          92,
          85,
          76,
          92,
          91,
          88,
          84,
          93,
          83,
          93,
          82,
          88,
          78,
          93,
          82,
          86,
          79,
          86,
          92,
          85,
          86,
          94,
          72,
          84,
          92,
          82,
          94,
          75,
          83,
          95,
          94,
          90,
          91,
          92,
          82,
          92,
          84,
          79,
          81,
          80,
          92,
          84,
          87,
          89,
          89,
          95,
          86,
          86,
          96,
          90,
          84,
          95,
          83,
          93,
          78,
          91,
          89,
          95,
          82,
          95,
          91,
          91,
          84,
          93,
          92,
          92,
          94,
          81,
          81,
          95,
          94,
          81,
          81,
          86,
          94,
          80,
          92,
          88,
          87,
          82,
          93,
          90,
          80,
          81,
          90,
          86,
          79,
          95,
          83,
          94,
          91,
          91,
          86,
          75,
          83,
          88,
          93,
          80,
          90,
          91,
          92,
          85,
          89,
          91,
          89,
          81,
          80,
          81,
          93,
          92,
          94,
          91,
          88,
          90,
          92
         ],
         "xaxis": "x",
         "yaxis": "y"
        },
        {
         "alignmentgroup": "True",
         "bingroup": "x",
         "hovertemplate": "Result=Strike<br>Speed=%{x}<br>count=%{y}<extra></extra>",
         "legendgroup": "Strike",
         "marker": {
          "color": "#EF553B",
          "pattern": {
           "shape": ""
          }
         },
         "name": "Strike",
         "offsetgroup": "Strike",
         "orientation": "v",
         "showlegend": true,
         "type": "histogram",
         "x": [
          92,
          90,
          78,
          92,
          91,
          80,
          88,
          93,
          82,
          83,
          82,
          94,
          93,
          78,
          92,
          78,
          84,
          82,
          82,
          79,
          78,
          83,
          79,
          82,
          93,
          91,
          91,
          85,
          84,
          93,
          76,
          80,
          93,
          86,
          87,
          93,
          82,
          79,
          95,
          80,
          79,
          93,
          94,
          93,
          92,
          77,
          81,
          87,
          93,
          83,
          84,
          92,
          93,
          83,
          81,
          92,
          91,
          87,
          81,
          79,
          82,
          84,
          87,
          93,
          94,
          92,
          81,
          93,
          82,
          85,
          83,
          93,
          77,
          78,
          93,
          83,
          93,
          81,
          97,
          81,
          90,
          80,
          93,
          90,
          94,
          81,
          85,
          81,
          95,
          93,
          91,
          83,
          85,
          93,
          86,
          91,
          95,
          95,
          84,
          90,
          80,
          92,
          79,
          97,
          94,
          80,
          94,
          83,
          82,
          93,
          78,
          83,
          94,
          93,
          94,
          83,
          97,
          87,
          95,
          79,
          83,
          94,
          88,
          94,
          83,
          94,
          85,
          95,
          96,
          78,
          85,
          85,
          94,
          95,
          93,
          83,
          79,
          94,
          93,
          81,
          91,
          86,
          91,
          87,
          95,
          71,
          74,
          78,
          96,
          77,
          95,
          92,
          82,
          92,
          83,
          91,
          85,
          78,
          89,
          95,
          90,
          83,
          92,
          87,
          92,
          86,
          94,
          96,
          88,
          93,
          94,
          86,
          87,
          96,
          93,
          86,
          86,
          79,
          92,
          95,
          82,
          92,
          91,
          85,
          95,
          84,
          96,
          95,
          81,
          77,
          91,
          79,
          92,
          93,
          86,
          80,
          81,
          95,
          92,
          86,
          87,
          93,
          93,
          84,
          94,
          91,
          91,
          84,
          77,
          93,
          78,
          86,
          95,
          81,
          85,
          89,
          87,
          83,
          83,
          92,
          95,
          82,
          81,
          91,
          96,
          77,
          91,
          81,
          85,
          91,
          71,
          83,
          81,
          92,
          86,
          84,
          81,
          84,
          93,
          83,
          93,
          86,
          81,
          79,
          95,
          94,
          93,
          83,
          90,
          95,
          97,
          81,
          94,
          90,
          82,
          90,
          91,
          86,
          83,
          81,
          81,
          80,
          83,
          85,
          84,
          95,
          77,
          81,
          85,
          87,
          84,
          89,
          83,
          82,
          93,
          93,
          84,
          96,
          84,
          78,
          83,
          80,
          93,
          77,
          87,
          90,
          80,
          90,
          80,
          84,
          81,
          94,
          79,
          81,
          83,
          84,
          92,
          94,
          94,
          92,
          93,
          95,
          85,
          82,
          92,
          88,
          84,
          94,
          90,
          83,
          95,
          86,
          83,
          92,
          81,
          97,
          85,
          91,
          83,
          94,
          80,
          82,
          87,
          84,
          80,
          96,
          94,
          78,
          94,
          91,
          94,
          86,
          82,
          89,
          82,
          81,
          82,
          91,
          92,
          95,
          91,
          89,
          96,
          82,
          80,
          83,
          95,
          90,
          92,
          84,
          91,
          95,
          95,
          92,
          76,
          90,
          93,
          96,
          84,
          95,
          80,
          88,
          84,
          92,
          94,
          85,
          91,
          93,
          92,
          81,
          83,
          76,
          90,
          84,
          85,
          87,
          89,
          82,
          84,
          87,
          82,
          93,
          95,
          91,
          95,
          95,
          90,
          86,
          92,
          83,
          92,
          95,
          82,
          94,
          94,
          85,
          91,
          79,
          87,
          79,
          91,
          79,
          96,
          87,
          81,
          91,
          90,
          81,
          85,
          93,
          93,
          91,
          87,
          93,
          92,
          78,
          91,
          85,
          92,
          70,
          95,
          81,
          93,
          86,
          93,
          77,
          91,
          83,
          93,
          94,
          95,
          91,
          79,
          82,
          82,
          82,
          78,
          97,
          84,
          78,
          90,
          93,
          96,
          80,
          84,
          93,
          93,
          95,
          92,
          85,
          92,
          85,
          83,
          94,
          90,
          81,
          92,
          88,
          91,
          92,
          83,
          81,
          95,
          76,
          81,
          95,
          82,
          92,
          78,
          96,
          86,
          90,
          91,
          92,
          92,
          80,
          95,
          93,
          92,
          96,
          86,
          81,
          92,
          83,
          93,
          92,
          94,
          87,
          84,
          94,
          83,
          90,
          91,
          92,
          87,
          94,
          85,
          92,
          88,
          81,
          82,
          95,
          79,
          90,
          95,
          85,
          93,
          93,
          93,
          80,
          78,
          81,
          92,
          92,
          80,
          91,
          91,
          91,
          94,
          92,
          78,
          81,
          91,
          92,
          94,
          91,
          83,
          86,
          83,
          94,
          82,
          93,
          90,
          94,
          87,
          86,
          80,
          96,
          91,
          94,
          91,
          95,
          83,
          84,
          94,
          86,
          91,
          82,
          97,
          88,
          96,
          86,
          87,
          86,
          91,
          90,
          91,
          80,
          84,
          91,
          92,
          93,
          84,
          92,
          84,
          88,
          80,
          77,
          94,
          89,
          86,
          81,
          90,
          93,
          80,
          94,
          94
         ],
         "xaxis": "x",
         "yaxis": "y"
        },
        {
         "alignmentgroup": "True",
         "bingroup": "x",
         "hovertemplate": "Result=HitIntoPlay<br>Speed=%{x}<br>count=%{y}<extra></extra>",
         "legendgroup": "HitIntoPlay",
         "marker": {
          "color": "#00cc96",
          "pattern": {
           "shape": ""
          }
         },
         "name": "HitIntoPlay",
         "offsetgroup": "HitIntoPlay",
         "orientation": "v",
         "showlegend": true,
         "type": "histogram",
         "x": [
          84,
          92,
          92,
          80,
          93,
          90,
          85,
          94,
          83,
          86,
          81,
          90,
          85,
          80,
          90,
          87,
          90,
          93,
          94,
          88,
          85,
          90,
          86,
          92,
          84,
          82,
          81,
          84,
          80,
          80,
          80,
          82,
          95,
          94,
          91,
          94,
          84,
          82,
          86,
          84,
          80,
          90,
          83,
          80,
          78,
          92,
          82,
          82,
          82,
          86,
          90,
          93,
          85,
          95,
          89,
          82,
          95,
          79,
          85,
          94,
          95,
          93,
          93,
          88,
          90,
          87,
          84,
          82,
          81,
          90,
          89,
          95,
          92,
          83,
          82,
          94,
          91,
          82,
          92,
          86,
          76,
          92,
          83,
          94,
          91,
          86,
          80,
          92,
          77,
          90,
          93,
          92,
          92,
          93,
          84,
          83,
          88,
          83,
          83,
          86,
          92,
          94,
          71,
          79,
          80,
          86,
          91,
          93,
          91,
          83,
          94,
          86,
          95,
          85,
          91,
          91,
          89,
          92,
          79,
          95,
          78,
          84,
          88,
          82,
          88,
          92,
          75,
          90,
          84,
          91,
          90,
          90,
          93,
          97,
          80,
          94,
          93,
          79,
          82,
          82,
          88,
          88,
          92,
          93,
          94,
          76,
          83,
          93,
          92,
          90,
          85,
          93,
          81,
          84,
          78,
          91,
          90,
          79,
          85,
          93,
          81,
          88,
          90,
          86,
          93,
          94,
          78,
          92,
          94,
          84,
          90,
          96,
          82,
          84,
          96,
          93,
          91,
          91,
          82,
          95,
          94,
          83,
          91,
          92
         ],
         "xaxis": "x",
         "yaxis": "y"
        },
        {
         "alignmentgroup": "True",
         "bingroup": "x",
         "hovertemplate": "Result=Pickoff<br>Speed=%{x}<br>count=%{y}<extra></extra>",
         "legendgroup": "Pickoff",
         "marker": {
          "color": "#ab63fa",
          "pattern": {
           "shape": ""
          }
         },
         "name": "Pickoff",
         "offsetgroup": "Pickoff",
         "orientation": "v",
         "showlegend": true,
         "type": "histogram",
         "x": [
          null,
          null,
          null,
          null,
          null,
          null,
          null,
          null,
          null,
          null,
          null,
          null,
          null,
          null,
          null,
          null
         ],
         "xaxis": "x",
         "yaxis": "y"
        }
       ],
       "layout": {
        "barmode": "relative",
        "legend": {
         "title": {
          "text": "Result"
         },
         "tracegroupgap": 0
        },
        "template": {
         "data": {
          "bar": [
           {
            "error_x": {
             "color": "#2a3f5f"
            },
            "error_y": {
             "color": "#2a3f5f"
            },
            "marker": {
             "line": {
              "color": "#E5ECF6",
              "width": 0.5
             },
             "pattern": {
              "fillmode": "overlay",
              "size": 10,
              "solidity": 0.2
             }
            },
            "type": "bar"
           }
          ],
          "barpolar": [
           {
            "marker": {
             "line": {
              "color": "#E5ECF6",
              "width": 0.5
             },
             "pattern": {
              "fillmode": "overlay",
              "size": 10,
              "solidity": 0.2
             }
            },
            "type": "barpolar"
           }
          ],
          "carpet": [
           {
            "aaxis": {
             "endlinecolor": "#2a3f5f",
             "gridcolor": "white",
             "linecolor": "white",
             "minorgridcolor": "white",
             "startlinecolor": "#2a3f5f"
            },
            "baxis": {
             "endlinecolor": "#2a3f5f",
             "gridcolor": "white",
             "linecolor": "white",
             "minorgridcolor": "white",
             "startlinecolor": "#2a3f5f"
            },
            "type": "carpet"
           }
          ],
          "choropleth": [
           {
            "colorbar": {
             "outlinewidth": 0,
             "ticks": ""
            },
            "type": "choropleth"
           }
          ],
          "contour": [
           {
            "colorbar": {
             "outlinewidth": 0,
             "ticks": ""
            },
            "colorscale": [
             [
              0,
              "#0d0887"
             ],
             [
              0.1111111111111111,
              "#46039f"
             ],
             [
              0.2222222222222222,
              "#7201a8"
             ],
             [
              0.3333333333333333,
              "#9c179e"
             ],
             [
              0.4444444444444444,
              "#bd3786"
             ],
             [
              0.5555555555555556,
              "#d8576b"
             ],
             [
              0.6666666666666666,
              "#ed7953"
             ],
             [
              0.7777777777777778,
              "#fb9f3a"
             ],
             [
              0.8888888888888888,
              "#fdca26"
             ],
             [
              1,
              "#f0f921"
             ]
            ],
            "type": "contour"
           }
          ],
          "contourcarpet": [
           {
            "colorbar": {
             "outlinewidth": 0,
             "ticks": ""
            },
            "type": "contourcarpet"
           }
          ],
          "heatmap": [
           {
            "colorbar": {
             "outlinewidth": 0,
             "ticks": ""
            },
            "colorscale": [
             [
              0,
              "#0d0887"
             ],
             [
              0.1111111111111111,
              "#46039f"
             ],
             [
              0.2222222222222222,
              "#7201a8"
             ],
             [
              0.3333333333333333,
              "#9c179e"
             ],
             [
              0.4444444444444444,
              "#bd3786"
             ],
             [
              0.5555555555555556,
              "#d8576b"
             ],
             [
              0.6666666666666666,
              "#ed7953"
             ],
             [
              0.7777777777777778,
              "#fb9f3a"
             ],
             [
              0.8888888888888888,
              "#fdca26"
             ],
             [
              1,
              "#f0f921"
             ]
            ],
            "type": "heatmap"
           }
          ],
          "heatmapgl": [
           {
            "colorbar": {
             "outlinewidth": 0,
             "ticks": ""
            },
            "colorscale": [
             [
              0,
              "#0d0887"
             ],
             [
              0.1111111111111111,
              "#46039f"
             ],
             [
              0.2222222222222222,
              "#7201a8"
             ],
             [
              0.3333333333333333,
              "#9c179e"
             ],
             [
              0.4444444444444444,
              "#bd3786"
             ],
             [
              0.5555555555555556,
              "#d8576b"
             ],
             [
              0.6666666666666666,
              "#ed7953"
             ],
             [
              0.7777777777777778,
              "#fb9f3a"
             ],
             [
              0.8888888888888888,
              "#fdca26"
             ],
             [
              1,
              "#f0f921"
             ]
            ],
            "type": "heatmapgl"
           }
          ],
          "histogram": [
           {
            "marker": {
             "pattern": {
              "fillmode": "overlay",
              "size": 10,
              "solidity": 0.2
             }
            },
            "type": "histogram"
           }
          ],
          "histogram2d": [
           {
            "colorbar": {
             "outlinewidth": 0,
             "ticks": ""
            },
            "colorscale": [
             [
              0,
              "#0d0887"
             ],
             [
              0.1111111111111111,
              "#46039f"
             ],
             [
              0.2222222222222222,
              "#7201a8"
             ],
             [
              0.3333333333333333,
              "#9c179e"
             ],
             [
              0.4444444444444444,
              "#bd3786"
             ],
             [
              0.5555555555555556,
              "#d8576b"
             ],
             [
              0.6666666666666666,
              "#ed7953"
             ],
             [
              0.7777777777777778,
              "#fb9f3a"
             ],
             [
              0.8888888888888888,
              "#fdca26"
             ],
             [
              1,
              "#f0f921"
             ]
            ],
            "type": "histogram2d"
           }
          ],
          "histogram2dcontour": [
           {
            "colorbar": {
             "outlinewidth": 0,
             "ticks": ""
            },
            "colorscale": [
             [
              0,
              "#0d0887"
             ],
             [
              0.1111111111111111,
              "#46039f"
             ],
             [
              0.2222222222222222,
              "#7201a8"
             ],
             [
              0.3333333333333333,
              "#9c179e"
             ],
             [
              0.4444444444444444,
              "#bd3786"
             ],
             [
              0.5555555555555556,
              "#d8576b"
             ],
             [
              0.6666666666666666,
              "#ed7953"
             ],
             [
              0.7777777777777778,
              "#fb9f3a"
             ],
             [
              0.8888888888888888,
              "#fdca26"
             ],
             [
              1,
              "#f0f921"
             ]
            ],
            "type": "histogram2dcontour"
           }
          ],
          "mesh3d": [
           {
            "colorbar": {
             "outlinewidth": 0,
             "ticks": ""
            },
            "type": "mesh3d"
           }
          ],
          "parcoords": [
           {
            "line": {
             "colorbar": {
              "outlinewidth": 0,
              "ticks": ""
             }
            },
            "type": "parcoords"
           }
          ],
          "pie": [
           {
            "automargin": true,
            "type": "pie"
           }
          ],
          "scatter": [
           {
            "fillpattern": {
             "fillmode": "overlay",
             "size": 10,
             "solidity": 0.2
            },
            "type": "scatter"
           }
          ],
          "scatter3d": [
           {
            "line": {
             "colorbar": {
              "outlinewidth": 0,
              "ticks": ""
             }
            },
            "marker": {
             "colorbar": {
              "outlinewidth": 0,
              "ticks": ""
             }
            },
            "type": "scatter3d"
           }
          ],
          "scattercarpet": [
           {
            "marker": {
             "colorbar": {
              "outlinewidth": 0,
              "ticks": ""
             }
            },
            "type": "scattercarpet"
           }
          ],
          "scattergeo": [
           {
            "marker": {
             "colorbar": {
              "outlinewidth": 0,
              "ticks": ""
             }
            },
            "type": "scattergeo"
           }
          ],
          "scattergl": [
           {
            "marker": {
             "colorbar": {
              "outlinewidth": 0,
              "ticks": ""
             }
            },
            "type": "scattergl"
           }
          ],
          "scattermapbox": [
           {
            "marker": {
             "colorbar": {
              "outlinewidth": 0,
              "ticks": ""
             }
            },
            "type": "scattermapbox"
           }
          ],
          "scatterpolar": [
           {
            "marker": {
             "colorbar": {
              "outlinewidth": 0,
              "ticks": ""
             }
            },
            "type": "scatterpolar"
           }
          ],
          "scatterpolargl": [
           {
            "marker": {
             "colorbar": {
              "outlinewidth": 0,
              "ticks": ""
             }
            },
            "type": "scatterpolargl"
           }
          ],
          "scatterternary": [
           {
            "marker": {
             "colorbar": {
              "outlinewidth": 0,
              "ticks": ""
             }
            },
            "type": "scatterternary"
           }
          ],
          "surface": [
           {
            "colorbar": {
             "outlinewidth": 0,
             "ticks": ""
            },
            "colorscale": [
             [
              0,
              "#0d0887"
             ],
             [
              0.1111111111111111,
              "#46039f"
             ],
             [
              0.2222222222222222,
              "#7201a8"
             ],
             [
              0.3333333333333333,
              "#9c179e"
             ],
             [
              0.4444444444444444,
              "#bd3786"
             ],
             [
              0.5555555555555556,
              "#d8576b"
             ],
             [
              0.6666666666666666,
              "#ed7953"
             ],
             [
              0.7777777777777778,
              "#fb9f3a"
             ],
             [
              0.8888888888888888,
              "#fdca26"
             ],
             [
              1,
              "#f0f921"
             ]
            ],
            "type": "surface"
           }
          ],
          "table": [
           {
            "cells": {
             "fill": {
              "color": "#EBF0F8"
             },
             "line": {
              "color": "white"
             }
            },
            "header": {
             "fill": {
              "color": "#C8D4E3"
             },
             "line": {
              "color": "white"
             }
            },
            "type": "table"
           }
          ]
         },
         "layout": {
          "annotationdefaults": {
           "arrowcolor": "#2a3f5f",
           "arrowhead": 0,
           "arrowwidth": 1
          },
          "autotypenumbers": "strict",
          "coloraxis": {
           "colorbar": {
            "outlinewidth": 0,
            "ticks": ""
           }
          },
          "colorscale": {
           "diverging": [
            [
             0,
             "#8e0152"
            ],
            [
             0.1,
             "#c51b7d"
            ],
            [
             0.2,
             "#de77ae"
            ],
            [
             0.3,
             "#f1b6da"
            ],
            [
             0.4,
             "#fde0ef"
            ],
            [
             0.5,
             "#f7f7f7"
            ],
            [
             0.6,
             "#e6f5d0"
            ],
            [
             0.7,
             "#b8e186"
            ],
            [
             0.8,
             "#7fbc41"
            ],
            [
             0.9,
             "#4d9221"
            ],
            [
             1,
             "#276419"
            ]
           ],
           "sequential": [
            [
             0,
             "#0d0887"
            ],
            [
             0.1111111111111111,
             "#46039f"
            ],
            [
             0.2222222222222222,
             "#7201a8"
            ],
            [
             0.3333333333333333,
             "#9c179e"
            ],
            [
             0.4444444444444444,
             "#bd3786"
            ],
            [
             0.5555555555555556,
             "#d8576b"
            ],
            [
             0.6666666666666666,
             "#ed7953"
            ],
            [
             0.7777777777777778,
             "#fb9f3a"
            ],
            [
             0.8888888888888888,
             "#fdca26"
            ],
            [
             1,
             "#f0f921"
            ]
           ],
           "sequentialminus": [
            [
             0,
             "#0d0887"
            ],
            [
             0.1111111111111111,
             "#46039f"
            ],
            [
             0.2222222222222222,
             "#7201a8"
            ],
            [
             0.3333333333333333,
             "#9c179e"
            ],
            [
             0.4444444444444444,
             "#bd3786"
            ],
            [
             0.5555555555555556,
             "#d8576b"
            ],
            [
             0.6666666666666666,
             "#ed7953"
            ],
            [
             0.7777777777777778,
             "#fb9f3a"
            ],
            [
             0.8888888888888888,
             "#fdca26"
            ],
            [
             1,
             "#f0f921"
            ]
           ]
          },
          "colorway": [
           "#636efa",
           "#EF553B",
           "#00cc96",
           "#ab63fa",
           "#FFA15A",
           "#19d3f3",
           "#FF6692",
           "#B6E880",
           "#FF97FF",
           "#FECB52"
          ],
          "font": {
           "color": "#2a3f5f"
          },
          "geo": {
           "bgcolor": "white",
           "lakecolor": "white",
           "landcolor": "#E5ECF6",
           "showlakes": true,
           "showland": true,
           "subunitcolor": "white"
          },
          "hoverlabel": {
           "align": "left"
          },
          "hovermode": "closest",
          "mapbox": {
           "style": "light"
          },
          "paper_bgcolor": "white",
          "plot_bgcolor": "#E5ECF6",
          "polar": {
           "angularaxis": {
            "gridcolor": "white",
            "linecolor": "white",
            "ticks": ""
           },
           "bgcolor": "#E5ECF6",
           "radialaxis": {
            "gridcolor": "white",
            "linecolor": "white",
            "ticks": ""
           }
          },
          "scene": {
           "xaxis": {
            "backgroundcolor": "#E5ECF6",
            "gridcolor": "white",
            "gridwidth": 2,
            "linecolor": "white",
            "showbackground": true,
            "ticks": "",
            "zerolinecolor": "white"
           },
           "yaxis": {
            "backgroundcolor": "#E5ECF6",
            "gridcolor": "white",
            "gridwidth": 2,
            "linecolor": "white",
            "showbackground": true,
            "ticks": "",
            "zerolinecolor": "white"
           },
           "zaxis": {
            "backgroundcolor": "#E5ECF6",
            "gridcolor": "white",
            "gridwidth": 2,
            "linecolor": "white",
            "showbackground": true,
            "ticks": "",
            "zerolinecolor": "white"
           }
          },
          "shapedefaults": {
           "line": {
            "color": "#2a3f5f"
           }
          },
          "ternary": {
           "aaxis": {
            "gridcolor": "white",
            "linecolor": "white",
            "ticks": ""
           },
           "baxis": {
            "gridcolor": "white",
            "linecolor": "white",
            "ticks": ""
           },
           "bgcolor": "#E5ECF6",
           "caxis": {
            "gridcolor": "white",
            "linecolor": "white",
            "ticks": ""
           }
          },
          "title": {
           "x": 0.05
          },
          "xaxis": {
           "automargin": true,
           "gridcolor": "white",
           "linecolor": "white",
           "ticks": "",
           "title": {
            "standoff": 15
           },
           "zerolinecolor": "white",
           "zerolinewidth": 2
          },
          "yaxis": {
           "automargin": true,
           "gridcolor": "white",
           "linecolor": "white",
           "ticks": "",
           "title": {
            "standoff": 15
           },
           "zerolinecolor": "white",
           "zerolinewidth": 2
          }
         }
        },
        "title": {
         "text": "Pitch Speed Distribution by Result"
        },
        "xaxis": {
         "anchor": "y",
         "domain": [
          0,
          1
         ],
         "title": {
          "text": "Speed (mph)"
         }
        },
        "yaxis": {
         "anchor": "x",
         "domain": [
          0,
          1
         ],
         "title": {
          "text": "count"
         }
        }
       }
      },
      "text/html": [
       "<div>                            <div id=\"b6dd500f-afcc-470d-bb11-266f0ccbd90a\" class=\"plotly-graph-div\" style=\"height:525px; width:100%;\"></div>            <script type=\"text/javascript\">                require([\"plotly\"], function(Plotly) {                    window.PLOTLYENV=window.PLOTLYENV || {};                                    if (document.getElementById(\"b6dd500f-afcc-470d-bb11-266f0ccbd90a\")) {                    Plotly.newPlot(                        \"b6dd500f-afcc-470d-bb11-266f0ccbd90a\",                        [{\"alignmentgroup\":\"True\",\"bingroup\":\"x\",\"hovertemplate\":\"Result=Ball<br>Speed=%{x}<br>count=%{y}<extra></extra>\",\"legendgroup\":\"Ball\",\"marker\":{\"color\":\"#636efa\",\"pattern\":{\"shape\":\"\"}},\"name\":\"Ball\",\"offsetgroup\":\"Ball\",\"orientation\":\"v\",\"showlegend\":true,\"x\":[94.0,84.0,80.0,94.0,79.0,82.0,80.0,81.0,93.0,77.0,86.0,83.0,82.0,81.0,85.0,82.0,93.0,79.0,94.0,96.0,94.0,90.0,82.0,91.0,94.0,91.0,91.0,95.0,82.0,85.0,82.0,96.0,83.0,78.0,91.0,91.0,80.0,87.0,90.0,95.0,82.0,79.0,83.0,79.0,87.0,91.0,86.0,91.0,86.0,91.0,95.0,84.0,93.0,87.0,96.0,83.0,80.0,82.0,78.0,83.0,84.0,87.0,94.0,85.0,90.0,83.0,80.0,82.0,91.0,90.0,91.0,83.0,94.0,79.0,90.0,82.0,85.0,89.0,90.0,87.0,88.0,73.0,86.0,92.0,82.0,82.0,91.0,93.0,93.0,93.0,85.0,92.0,90.0,85.0,84.0,91.0,94.0,93.0,84.0,91.0,79.0,87.0,81.0,81.0,88.0,90.0,94.0,94.0,91.0,80.0,79.0,92.0,79.0,85.0,90.0,93.0,83.0,93.0,91.0,90.0,91.0,82.0,83.0,81.0,94.0,87.0,89.0,95.0,90.0,91.0,96.0,88.0,79.0,83.0,82.0,91.0,92.0,93.0,81.0,80.0,83.0,91.0,92.0,80.0,93.0,78.0,93.0,84.0,80.0,94.0,86.0,84.0,91.0,91.0,80.0,91.0,93.0,79.0,79.0,86.0,94.0,95.0,91.0,84.0,95.0,78.0,87.0,92.0,84.0,86.0,79.0,87.0,94.0,79.0,83.0,79.0,80.0,93.0,79.0,81.0,94.0,91.0,87.0,90.0,85.0,88.0,94.0,91.0,89.0,81.0,93.0,86.0,92.0,81.0,86.0,89.0,94.0,86.0,90.0,86.0,90.0,96.0,77.0,95.0,82.0,85.0,87.0,96.0,84.0,92.0,98.0,92.0,95.0,95.0,77.0,83.0,96.0,84.0,88.0,85.0,82.0,94.0,79.0,94.0,81.0,83.0,91.0,89.0,92.0,92.0,76.0,92.0,91.0,91.0,82.0,85.0,93.0,94.0,93.0,87.0,84.0,95.0,96.0,94.0,90.0,96.0,91.0,93.0,94.0,78.0,86.0,81.0,79.0,81.0,91.0,83.0,77.0,91.0,81.0,79.0,81.0,81.0,92.0,80.0,92.0,92.0,94.0,95.0,82.0,84.0,91.0,80.0,89.0,95.0,83.0,88.0,84.0,94.0,76.0,78.0,92.0,90.0,91.0,95.0,82.0,95.0,94.0,80.0,87.0,93.0,86.0,82.0,82.0,90.0,92.0,84.0,93.0,92.0,82.0,82.0,80.0,91.0,81.0,78.0,83.0,84.0,84.0,89.0,85.0,88.0,80.0,86.0,82.0,93.0,83.0,82.0,81.0,80.0,94.0,86.0,85.0,85.0,90.0,94.0,94.0,92.0,84.0,91.0,79.0,92.0,78.0,93.0,89.0,89.0,94.0,90.0,87.0,95.0,91.0,85.0,83.0,80.0,95.0,82.0,78.0,73.0,81.0,84.0,86.0,91.0,90.0,91.0,83.0,80.0,91.0,93.0,82.0,92.0,85.0,76.0,92.0,91.0,88.0,84.0,93.0,83.0,93.0,82.0,88.0,78.0,93.0,82.0,86.0,79.0,86.0,92.0,85.0,86.0,94.0,72.0,84.0,92.0,82.0,94.0,75.0,83.0,95.0,94.0,90.0,91.0,92.0,82.0,92.0,84.0,79.0,81.0,80.0,92.0,84.0,87.0,89.0,89.0,95.0,86.0,86.0,96.0,90.0,84.0,95.0,83.0,93.0,78.0,91.0,89.0,95.0,82.0,95.0,91.0,91.0,84.0,93.0,92.0,92.0,94.0,81.0,81.0,95.0,94.0,81.0,81.0,86.0,94.0,80.0,92.0,88.0,87.0,82.0,93.0,90.0,80.0,81.0,90.0,86.0,79.0,95.0,83.0,94.0,91.0,91.0,86.0,75.0,83.0,88.0,93.0,80.0,90.0,91.0,92.0,85.0,89.0,91.0,89.0,81.0,80.0,81.0,93.0,92.0,94.0,91.0,88.0,90.0,92.0],\"xaxis\":\"x\",\"yaxis\":\"y\",\"type\":\"histogram\"},{\"alignmentgroup\":\"True\",\"bingroup\":\"x\",\"hovertemplate\":\"Result=Strike<br>Speed=%{x}<br>count=%{y}<extra></extra>\",\"legendgroup\":\"Strike\",\"marker\":{\"color\":\"#EF553B\",\"pattern\":{\"shape\":\"\"}},\"name\":\"Strike\",\"offsetgroup\":\"Strike\",\"orientation\":\"v\",\"showlegend\":true,\"x\":[92.0,90.0,78.0,92.0,91.0,80.0,88.0,93.0,82.0,83.0,82.0,94.0,93.0,78.0,92.0,78.0,84.0,82.0,82.0,79.0,78.0,83.0,79.0,82.0,93.0,91.0,91.0,85.0,84.0,93.0,76.0,80.0,93.0,86.0,87.0,93.0,82.0,79.0,95.0,80.0,79.0,93.0,94.0,93.0,92.0,77.0,81.0,87.0,93.0,83.0,84.0,92.0,93.0,83.0,81.0,92.0,91.0,87.0,81.0,79.0,82.0,84.0,87.0,93.0,94.0,92.0,81.0,93.0,82.0,85.0,83.0,93.0,77.0,78.0,93.0,83.0,93.0,81.0,97.0,81.0,90.0,80.0,93.0,90.0,94.0,81.0,85.0,81.0,95.0,93.0,91.0,83.0,85.0,93.0,86.0,91.0,95.0,95.0,84.0,90.0,80.0,92.0,79.0,97.0,94.0,80.0,94.0,83.0,82.0,93.0,78.0,83.0,94.0,93.0,94.0,83.0,97.0,87.0,95.0,79.0,83.0,94.0,88.0,94.0,83.0,94.0,85.0,95.0,96.0,78.0,85.0,85.0,94.0,95.0,93.0,83.0,79.0,94.0,93.0,81.0,91.0,86.0,91.0,87.0,95.0,71.0,74.0,78.0,96.0,77.0,95.0,92.0,82.0,92.0,83.0,91.0,85.0,78.0,89.0,95.0,90.0,83.0,92.0,87.0,92.0,86.0,94.0,96.0,88.0,93.0,94.0,86.0,87.0,96.0,93.0,86.0,86.0,79.0,92.0,95.0,82.0,92.0,91.0,85.0,95.0,84.0,96.0,95.0,81.0,77.0,91.0,79.0,92.0,93.0,86.0,80.0,81.0,95.0,92.0,86.0,87.0,93.0,93.0,84.0,94.0,91.0,91.0,84.0,77.0,93.0,78.0,86.0,95.0,81.0,85.0,89.0,87.0,83.0,83.0,92.0,95.0,82.0,81.0,91.0,96.0,77.0,91.0,81.0,85.0,91.0,71.0,83.0,81.0,92.0,86.0,84.0,81.0,84.0,93.0,83.0,93.0,86.0,81.0,79.0,95.0,94.0,93.0,83.0,90.0,95.0,97.0,81.0,94.0,90.0,82.0,90.0,91.0,86.0,83.0,81.0,81.0,80.0,83.0,85.0,84.0,95.0,77.0,81.0,85.0,87.0,84.0,89.0,83.0,82.0,93.0,93.0,84.0,96.0,84.0,78.0,83.0,80.0,93.0,77.0,87.0,90.0,80.0,90.0,80.0,84.0,81.0,94.0,79.0,81.0,83.0,84.0,92.0,94.0,94.0,92.0,93.0,95.0,85.0,82.0,92.0,88.0,84.0,94.0,90.0,83.0,95.0,86.0,83.0,92.0,81.0,97.0,85.0,91.0,83.0,94.0,80.0,82.0,87.0,84.0,80.0,96.0,94.0,78.0,94.0,91.0,94.0,86.0,82.0,89.0,82.0,81.0,82.0,91.0,92.0,95.0,91.0,89.0,96.0,82.0,80.0,83.0,95.0,90.0,92.0,84.0,91.0,95.0,95.0,92.0,76.0,90.0,93.0,96.0,84.0,95.0,80.0,88.0,84.0,92.0,94.0,85.0,91.0,93.0,92.0,81.0,83.0,76.0,90.0,84.0,85.0,87.0,89.0,82.0,84.0,87.0,82.0,93.0,95.0,91.0,95.0,95.0,90.0,86.0,92.0,83.0,92.0,95.0,82.0,94.0,94.0,85.0,91.0,79.0,87.0,79.0,91.0,79.0,96.0,87.0,81.0,91.0,90.0,81.0,85.0,93.0,93.0,91.0,87.0,93.0,92.0,78.0,91.0,85.0,92.0,70.0,95.0,81.0,93.0,86.0,93.0,77.0,91.0,83.0,93.0,94.0,95.0,91.0,79.0,82.0,82.0,82.0,78.0,97.0,84.0,78.0,90.0,93.0,96.0,80.0,84.0,93.0,93.0,95.0,92.0,85.0,92.0,85.0,83.0,94.0,90.0,81.0,92.0,88.0,91.0,92.0,83.0,81.0,95.0,76.0,81.0,95.0,82.0,92.0,78.0,96.0,86.0,90.0,91.0,92.0,92.0,80.0,95.0,93.0,92.0,96.0,86.0,81.0,92.0,83.0,93.0,92.0,94.0,87.0,84.0,94.0,83.0,90.0,91.0,92.0,87.0,94.0,85.0,92.0,88.0,81.0,82.0,95.0,79.0,90.0,95.0,85.0,93.0,93.0,93.0,80.0,78.0,81.0,92.0,92.0,80.0,91.0,91.0,91.0,94.0,92.0,78.0,81.0,91.0,92.0,94.0,91.0,83.0,86.0,83.0,94.0,82.0,93.0,90.0,94.0,87.0,86.0,80.0,96.0,91.0,94.0,91.0,95.0,83.0,84.0,94.0,86.0,91.0,82.0,97.0,88.0,96.0,86.0,87.0,86.0,91.0,90.0,91.0,80.0,84.0,91.0,92.0,93.0,84.0,92.0,84.0,88.0,80.0,77.0,94.0,89.0,86.0,81.0,90.0,93.0,80.0,94.0,94.0],\"xaxis\":\"x\",\"yaxis\":\"y\",\"type\":\"histogram\"},{\"alignmentgroup\":\"True\",\"bingroup\":\"x\",\"hovertemplate\":\"Result=HitIntoPlay<br>Speed=%{x}<br>count=%{y}<extra></extra>\",\"legendgroup\":\"HitIntoPlay\",\"marker\":{\"color\":\"#00cc96\",\"pattern\":{\"shape\":\"\"}},\"name\":\"HitIntoPlay\",\"offsetgroup\":\"HitIntoPlay\",\"orientation\":\"v\",\"showlegend\":true,\"x\":[84.0,92.0,92.0,80.0,93.0,90.0,85.0,94.0,83.0,86.0,81.0,90.0,85.0,80.0,90.0,87.0,90.0,93.0,94.0,88.0,85.0,90.0,86.0,92.0,84.0,82.0,81.0,84.0,80.0,80.0,80.0,82.0,95.0,94.0,91.0,94.0,84.0,82.0,86.0,84.0,80.0,90.0,83.0,80.0,78.0,92.0,82.0,82.0,82.0,86.0,90.0,93.0,85.0,95.0,89.0,82.0,95.0,79.0,85.0,94.0,95.0,93.0,93.0,88.0,90.0,87.0,84.0,82.0,81.0,90.0,89.0,95.0,92.0,83.0,82.0,94.0,91.0,82.0,92.0,86.0,76.0,92.0,83.0,94.0,91.0,86.0,80.0,92.0,77.0,90.0,93.0,92.0,92.0,93.0,84.0,83.0,88.0,83.0,83.0,86.0,92.0,94.0,71.0,79.0,80.0,86.0,91.0,93.0,91.0,83.0,94.0,86.0,95.0,85.0,91.0,91.0,89.0,92.0,79.0,95.0,78.0,84.0,88.0,82.0,88.0,92.0,75.0,90.0,84.0,91.0,90.0,90.0,93.0,97.0,80.0,94.0,93.0,79.0,82.0,82.0,88.0,88.0,92.0,93.0,94.0,76.0,83.0,93.0,92.0,90.0,85.0,93.0,81.0,84.0,78.0,91.0,90.0,79.0,85.0,93.0,81.0,88.0,90.0,86.0,93.0,94.0,78.0,92.0,94.0,84.0,90.0,96.0,82.0,84.0,96.0,93.0,91.0,91.0,82.0,95.0,94.0,83.0,91.0,92.0],\"xaxis\":\"x\",\"yaxis\":\"y\",\"type\":\"histogram\"},{\"alignmentgroup\":\"True\",\"bingroup\":\"x\",\"hovertemplate\":\"Result=Pickoff<br>Speed=%{x}<br>count=%{y}<extra></extra>\",\"legendgroup\":\"Pickoff\",\"marker\":{\"color\":\"#ab63fa\",\"pattern\":{\"shape\":\"\"}},\"name\":\"Pickoff\",\"offsetgroup\":\"Pickoff\",\"orientation\":\"v\",\"showlegend\":true,\"x\":[null,null,null,null,null,null,null,null,null,null,null,null,null,null,null,null],\"xaxis\":\"x\",\"yaxis\":\"y\",\"type\":\"histogram\"}],                        {\"template\":{\"data\":{\"histogram2dcontour\":[{\"type\":\"histogram2dcontour\",\"colorbar\":{\"outlinewidth\":0,\"ticks\":\"\"},\"colorscale\":[[0.0,\"#0d0887\"],[0.1111111111111111,\"#46039f\"],[0.2222222222222222,\"#7201a8\"],[0.3333333333333333,\"#9c179e\"],[0.4444444444444444,\"#bd3786\"],[0.5555555555555556,\"#d8576b\"],[0.6666666666666666,\"#ed7953\"],[0.7777777777777778,\"#fb9f3a\"],[0.8888888888888888,\"#fdca26\"],[1.0,\"#f0f921\"]]}],\"choropleth\":[{\"type\":\"choropleth\",\"colorbar\":{\"outlinewidth\":0,\"ticks\":\"\"}}],\"histogram2d\":[{\"type\":\"histogram2d\",\"colorbar\":{\"outlinewidth\":0,\"ticks\":\"\"},\"colorscale\":[[0.0,\"#0d0887\"],[0.1111111111111111,\"#46039f\"],[0.2222222222222222,\"#7201a8\"],[0.3333333333333333,\"#9c179e\"],[0.4444444444444444,\"#bd3786\"],[0.5555555555555556,\"#d8576b\"],[0.6666666666666666,\"#ed7953\"],[0.7777777777777778,\"#fb9f3a\"],[0.8888888888888888,\"#fdca26\"],[1.0,\"#f0f921\"]]}],\"heatmap\":[{\"type\":\"heatmap\",\"colorbar\":{\"outlinewidth\":0,\"ticks\":\"\"},\"colorscale\":[[0.0,\"#0d0887\"],[0.1111111111111111,\"#46039f\"],[0.2222222222222222,\"#7201a8\"],[0.3333333333333333,\"#9c179e\"],[0.4444444444444444,\"#bd3786\"],[0.5555555555555556,\"#d8576b\"],[0.6666666666666666,\"#ed7953\"],[0.7777777777777778,\"#fb9f3a\"],[0.8888888888888888,\"#fdca26\"],[1.0,\"#f0f921\"]]}],\"heatmapgl\":[{\"type\":\"heatmapgl\",\"colorbar\":{\"outlinewidth\":0,\"ticks\":\"\"},\"colorscale\":[[0.0,\"#0d0887\"],[0.1111111111111111,\"#46039f\"],[0.2222222222222222,\"#7201a8\"],[0.3333333333333333,\"#9c179e\"],[0.4444444444444444,\"#bd3786\"],[0.5555555555555556,\"#d8576b\"],[0.6666666666666666,\"#ed7953\"],[0.7777777777777778,\"#fb9f3a\"],[0.8888888888888888,\"#fdca26\"],[1.0,\"#f0f921\"]]}],\"contourcarpet\":[{\"type\":\"contourcarpet\",\"colorbar\":{\"outlinewidth\":0,\"ticks\":\"\"}}],\"contour\":[{\"type\":\"contour\",\"colorbar\":{\"outlinewidth\":0,\"ticks\":\"\"},\"colorscale\":[[0.0,\"#0d0887\"],[0.1111111111111111,\"#46039f\"],[0.2222222222222222,\"#7201a8\"],[0.3333333333333333,\"#9c179e\"],[0.4444444444444444,\"#bd3786\"],[0.5555555555555556,\"#d8576b\"],[0.6666666666666666,\"#ed7953\"],[0.7777777777777778,\"#fb9f3a\"],[0.8888888888888888,\"#fdca26\"],[1.0,\"#f0f921\"]]}],\"surface\":[{\"type\":\"surface\",\"colorbar\":{\"outlinewidth\":0,\"ticks\":\"\"},\"colorscale\":[[0.0,\"#0d0887\"],[0.1111111111111111,\"#46039f\"],[0.2222222222222222,\"#7201a8\"],[0.3333333333333333,\"#9c179e\"],[0.4444444444444444,\"#bd3786\"],[0.5555555555555556,\"#d8576b\"],[0.6666666666666666,\"#ed7953\"],[0.7777777777777778,\"#fb9f3a\"],[0.8888888888888888,\"#fdca26\"],[1.0,\"#f0f921\"]]}],\"mesh3d\":[{\"type\":\"mesh3d\",\"colorbar\":{\"outlinewidth\":0,\"ticks\":\"\"}}],\"scatter\":[{\"fillpattern\":{\"fillmode\":\"overlay\",\"size\":10,\"solidity\":0.2},\"type\":\"scatter\"}],\"parcoords\":[{\"type\":\"parcoords\",\"line\":{\"colorbar\":{\"outlinewidth\":0,\"ticks\":\"\"}}}],\"scatterpolargl\":[{\"type\":\"scatterpolargl\",\"marker\":{\"colorbar\":{\"outlinewidth\":0,\"ticks\":\"\"}}}],\"bar\":[{\"error_x\":{\"color\":\"#2a3f5f\"},\"error_y\":{\"color\":\"#2a3f5f\"},\"marker\":{\"line\":{\"color\":\"#E5ECF6\",\"width\":0.5},\"pattern\":{\"fillmode\":\"overlay\",\"size\":10,\"solidity\":0.2}},\"type\":\"bar\"}],\"scattergeo\":[{\"type\":\"scattergeo\",\"marker\":{\"colorbar\":{\"outlinewidth\":0,\"ticks\":\"\"}}}],\"scatterpolar\":[{\"type\":\"scatterpolar\",\"marker\":{\"colorbar\":{\"outlinewidth\":0,\"ticks\":\"\"}}}],\"histogram\":[{\"marker\":{\"pattern\":{\"fillmode\":\"overlay\",\"size\":10,\"solidity\":0.2}},\"type\":\"histogram\"}],\"scattergl\":[{\"type\":\"scattergl\",\"marker\":{\"colorbar\":{\"outlinewidth\":0,\"ticks\":\"\"}}}],\"scatter3d\":[{\"type\":\"scatter3d\",\"line\":{\"colorbar\":{\"outlinewidth\":0,\"ticks\":\"\"}},\"marker\":{\"colorbar\":{\"outlinewidth\":0,\"ticks\":\"\"}}}],\"scattermapbox\":[{\"type\":\"scattermapbox\",\"marker\":{\"colorbar\":{\"outlinewidth\":0,\"ticks\":\"\"}}}],\"scatterternary\":[{\"type\":\"scatterternary\",\"marker\":{\"colorbar\":{\"outlinewidth\":0,\"ticks\":\"\"}}}],\"scattercarpet\":[{\"type\":\"scattercarpet\",\"marker\":{\"colorbar\":{\"outlinewidth\":0,\"ticks\":\"\"}}}],\"carpet\":[{\"aaxis\":{\"endlinecolor\":\"#2a3f5f\",\"gridcolor\":\"white\",\"linecolor\":\"white\",\"minorgridcolor\":\"white\",\"startlinecolor\":\"#2a3f5f\"},\"baxis\":{\"endlinecolor\":\"#2a3f5f\",\"gridcolor\":\"white\",\"linecolor\":\"white\",\"minorgridcolor\":\"white\",\"startlinecolor\":\"#2a3f5f\"},\"type\":\"carpet\"}],\"table\":[{\"cells\":{\"fill\":{\"color\":\"#EBF0F8\"},\"line\":{\"color\":\"white\"}},\"header\":{\"fill\":{\"color\":\"#C8D4E3\"},\"line\":{\"color\":\"white\"}},\"type\":\"table\"}],\"barpolar\":[{\"marker\":{\"line\":{\"color\":\"#E5ECF6\",\"width\":0.5},\"pattern\":{\"fillmode\":\"overlay\",\"size\":10,\"solidity\":0.2}},\"type\":\"barpolar\"}],\"pie\":[{\"automargin\":true,\"type\":\"pie\"}]},\"layout\":{\"autotypenumbers\":\"strict\",\"colorway\":[\"#636efa\",\"#EF553B\",\"#00cc96\",\"#ab63fa\",\"#FFA15A\",\"#19d3f3\",\"#FF6692\",\"#B6E880\",\"#FF97FF\",\"#FECB52\"],\"font\":{\"color\":\"#2a3f5f\"},\"hovermode\":\"closest\",\"hoverlabel\":{\"align\":\"left\"},\"paper_bgcolor\":\"white\",\"plot_bgcolor\":\"#E5ECF6\",\"polar\":{\"bgcolor\":\"#E5ECF6\",\"angularaxis\":{\"gridcolor\":\"white\",\"linecolor\":\"white\",\"ticks\":\"\"},\"radialaxis\":{\"gridcolor\":\"white\",\"linecolor\":\"white\",\"ticks\":\"\"}},\"ternary\":{\"bgcolor\":\"#E5ECF6\",\"aaxis\":{\"gridcolor\":\"white\",\"linecolor\":\"white\",\"ticks\":\"\"},\"baxis\":{\"gridcolor\":\"white\",\"linecolor\":\"white\",\"ticks\":\"\"},\"caxis\":{\"gridcolor\":\"white\",\"linecolor\":\"white\",\"ticks\":\"\"}},\"coloraxis\":{\"colorbar\":{\"outlinewidth\":0,\"ticks\":\"\"}},\"colorscale\":{\"sequential\":[[0.0,\"#0d0887\"],[0.1111111111111111,\"#46039f\"],[0.2222222222222222,\"#7201a8\"],[0.3333333333333333,\"#9c179e\"],[0.4444444444444444,\"#bd3786\"],[0.5555555555555556,\"#d8576b\"],[0.6666666666666666,\"#ed7953\"],[0.7777777777777778,\"#fb9f3a\"],[0.8888888888888888,\"#fdca26\"],[1.0,\"#f0f921\"]],\"sequentialminus\":[[0.0,\"#0d0887\"],[0.1111111111111111,\"#46039f\"],[0.2222222222222222,\"#7201a8\"],[0.3333333333333333,\"#9c179e\"],[0.4444444444444444,\"#bd3786\"],[0.5555555555555556,\"#d8576b\"],[0.6666666666666666,\"#ed7953\"],[0.7777777777777778,\"#fb9f3a\"],[0.8888888888888888,\"#fdca26\"],[1.0,\"#f0f921\"]],\"diverging\":[[0,\"#8e0152\"],[0.1,\"#c51b7d\"],[0.2,\"#de77ae\"],[0.3,\"#f1b6da\"],[0.4,\"#fde0ef\"],[0.5,\"#f7f7f7\"],[0.6,\"#e6f5d0\"],[0.7,\"#b8e186\"],[0.8,\"#7fbc41\"],[0.9,\"#4d9221\"],[1,\"#276419\"]]},\"xaxis\":{\"gridcolor\":\"white\",\"linecolor\":\"white\",\"ticks\":\"\",\"title\":{\"standoff\":15},\"zerolinecolor\":\"white\",\"automargin\":true,\"zerolinewidth\":2},\"yaxis\":{\"gridcolor\":\"white\",\"linecolor\":\"white\",\"ticks\":\"\",\"title\":{\"standoff\":15},\"zerolinecolor\":\"white\",\"automargin\":true,\"zerolinewidth\":2},\"scene\":{\"xaxis\":{\"backgroundcolor\":\"#E5ECF6\",\"gridcolor\":\"white\",\"linecolor\":\"white\",\"showbackground\":true,\"ticks\":\"\",\"zerolinecolor\":\"white\",\"gridwidth\":2},\"yaxis\":{\"backgroundcolor\":\"#E5ECF6\",\"gridcolor\":\"white\",\"linecolor\":\"white\",\"showbackground\":true,\"ticks\":\"\",\"zerolinecolor\":\"white\",\"gridwidth\":2},\"zaxis\":{\"backgroundcolor\":\"#E5ECF6\",\"gridcolor\":\"white\",\"linecolor\":\"white\",\"showbackground\":true,\"ticks\":\"\",\"zerolinecolor\":\"white\",\"gridwidth\":2}},\"shapedefaults\":{\"line\":{\"color\":\"#2a3f5f\"}},\"annotationdefaults\":{\"arrowcolor\":\"#2a3f5f\",\"arrowhead\":0,\"arrowwidth\":1},\"geo\":{\"bgcolor\":\"white\",\"landcolor\":\"#E5ECF6\",\"subunitcolor\":\"white\",\"showland\":true,\"showlakes\":true,\"lakecolor\":\"white\"},\"title\":{\"x\":0.05},\"mapbox\":{\"style\":\"light\"}}},\"xaxis\":{\"anchor\":\"y\",\"domain\":[0.0,1.0],\"title\":{\"text\":\"Speed (mph)\"}},\"yaxis\":{\"anchor\":\"x\",\"domain\":[0.0,1.0],\"title\":{\"text\":\"count\"}},\"legend\":{\"title\":{\"text\":\"Result\"},\"tracegroupgap\":0},\"title\":{\"text\":\"Pitch Speed Distribution by Result\"},\"barmode\":\"relative\"},                        {\"responsive\": true}                    ).then(function(){\n",
       "                            \n",
       "var gd = document.getElementById('b6dd500f-afcc-470d-bb11-266f0ccbd90a');\n",
       "var x = new MutationObserver(function (mutations, observer) {{\n",
       "        var display = window.getComputedStyle(gd).display;\n",
       "        if (!display || display === 'none') {{\n",
       "            console.log([gd, 'removed!']);\n",
       "            Plotly.purge(gd);\n",
       "            observer.disconnect();\n",
       "        }}\n",
       "}});\n",
       "\n",
       "// Listen for the removal of the full notebook cells\n",
       "var notebookContainer = gd.closest('#notebook-container');\n",
       "if (notebookContainer) {{\n",
       "    x.observe(notebookContainer, {childList: true});\n",
       "}}\n",
       "\n",
       "// Listen for the clearing of the current output cell\n",
       "var outputEl = gd.closest('.output');\n",
       "if (outputEl) {{\n",
       "    x.observe(outputEl, {childList: true});\n",
       "}}\n",
       "\n",
       "                        })                };                });            </script>        </div>"
      ]
     },
     "metadata": {},
     "output_type": "display_data"
    }
   ],
   "source": [
    "fig = px.histogram(speed_result_df, x=\"Speed\", color=\"Result\", title=\"Pitch Speed Distribution by Result\")\n",
    "fig.update_xaxes(title_text=\"Speed (mph)\")\n",
    "fig.show()"
   ]
  },
  {
   "cell_type": "code",
   "execution_count": 66,
   "id": "8663e488",
   "metadata": {},
   "outputs": [],
   "source": [
    "spin_result_list = []\n",
    "\n",
    "for cur_data in data:\n",
    "    spin = cur_data['summary_acts']['pitch']['spin']['rpm']\n",
    "    result = cur_data['summary_acts']['pitch']['result']\n",
    "    \n",
    "    if spin != \"\" and result != \"\":\n",
    "        cur_row = {\n",
    "            \"Spin\": spin,\n",
    "            \"Result\": result\n",
    "        }\n",
    "        spin_result_list.append(cur_row)\n",
    "\n",
    "spin_result_df = pd.DataFrame(spin_result_list)\n",
    "\n",
    "# display(spin_result_df)"
   ]
  },
  {
   "cell_type": "code",
   "execution_count": 67,
   "id": "dca16e0a",
   "metadata": {},
   "outputs": [
    {
     "data": {
      "application/vnd.plotly.v1+json": {
       "config": {
        "plotlyServerURL": "https://plot.ly"
       },
       "data": [
        {
         "alignmentgroup": "True",
         "bingroup": "x",
         "hovertemplate": "Result=Ball<br>Spin=%{x}<br>count=%{y}<extra></extra>",
         "legendgroup": "Ball",
         "marker": {
          "color": "#636efa",
          "pattern": {
           "shape": ""
          }
         },
         "name": "Ball",
         "offsetgroup": "Ball",
         "orientation": "v",
         "showlegend": true,
         "type": "histogram",
         "x": [
          260,
          1170,
          2220,
          2390,
          2830,
          2480,
          2510,
          2390,
          2430,
          2900,
          2370,
          2230,
          2490,
          2490,
          2520,
          1680,
          2510,
          2340,
          2220,
          2500,
          2210,
          2390,
          2190,
          2260,
          2420,
          2130,
          2250,
          2360,
          2490,
          1990,
          2260,
          2340,
          1470,
          2140,
          1930,
          2230,
          2090,
          2740,
          2050,
          2410,
          2310,
          2280,
          2440,
          2480,
          2750,
          2300,
          2280,
          2310,
          2590,
          2350,
          2440,
          2520,
          2370,
          1850,
          2340,
          2480,
          2140,
          2110,
          2150,
          2200,
          2400,
          2910,
          2560,
          1820,
          2390,
          2480,
          2900,
          2620,
          1790,
          2420,
          2270,
          2390,
          2390,
          2260,
          2310,
          2310,
          2470,
          2180,
          2260,
          2590,
          2520,
          2390,
          2960,
          320,
          2570,
          2010,
          2300,
          910,
          2460,
          2500,
          2550,
          2350,
          2340,
          1830,
          2430,
          2120,
          2460,
          2460,
          2650,
          2520,
          2520,
          2860,
          1070,
          2390,
          1960,
          2900,
          2360,
          2330,
          2280,
          2330,
          2480,
          2330,
          2350,
          2410,
          2150,
          2650,
          2110,
          2160,
          2250,
          2330,
          2220,
          2300,
          2170,
          2400,
          2100,
          2060,
          2290,
          2190,
          2440,
          2180,
          2400,
          2020,
          2950,
          2530,
          2600,
          2340,
          2090,
          2170,
          2120,
          2660,
          2460,
          2230,
          2350,
          2440,
          2230,
          2420,
          2400,
          2550,
          830,
          2440,
          1790,
          2600,
          2240,
          2360,
          2510,
          1880,
          2310,
          2520,
          2220,
          2420,
          2500,
          2340,
          1910,
          1700,
          2260,
          2140,
          2490,
          2360,
          200,
          3210,
          2520,
          2380,
          2250,
          2530,
          1900,
          2110,
          2200,
          2030,
          2590,
          2490,
          2270,
          2200,
          2750,
          2290,
          2030,
          2260,
          2420,
          2130,
          2320,
          2490,
          2410,
          2480,
          2330,
          2340,
          2060,
          2510,
          2350,
          2550,
          2280,
          1650,
          2290,
          2500,
          2950,
          2300,
          2830,
          1850,
          2070,
          2200,
          2540,
          1970,
          2440,
          2320,
          2360,
          2340,
          2330,
          2430,
          2330,
          1720,
          1890,
          1900,
          2520,
          2190,
          2370,
          2460,
          2600,
          2260,
          2330,
          1800,
          2150,
          2260,
          2080,
          2260,
          2470,
          2280,
          2550,
          2330,
          2250,
          2150,
          2370,
          2110,
          2670,
          10,
          2340,
          2210,
          2390,
          2220,
          2140,
          2420,
          2390,
          2900,
          2560,
          2220,
          2580,
          1680,
          2340,
          2510,
          1620,
          2380,
          1070,
          2310,
          2310,
          2610,
          2280,
          2480,
          2340,
          2310,
          2160,
          2140,
          2500,
          2350,
          2200,
          2600,
          2310,
          2430,
          1640,
          2030,
          2270,
          2410,
          2130,
          2860,
          2290,
          2340,
          2330,
          2470,
          900,
          2170,
          2330,
          2300,
          1910,
          420,
          700,
          1860,
          2560,
          2240,
          2310,
          2180,
          2430,
          2070,
          2490,
          1910,
          2860,
          2380,
          1370,
          2420,
          2380,
          2590,
          2000,
          2380,
          2520,
          1900,
          2040,
          2500,
          2500,
          2330,
          3180,
          1720,
          2590,
          2990,
          2420,
          3230,
          2640,
          2720,
          2190,
          2410,
          2040,
          2160,
          2480,
          2200,
          2550,
          990,
          2090,
          2450,
          2410,
          2670,
          2400,
          2390,
          2100,
          2330,
          2200,
          2140,
          2550,
          2450,
          2540,
          2930,
          2580,
          2550,
          2480,
          2440,
          2700,
          2320,
          2700,
          2230,
          2460,
          2580,
          2420,
          2310,
          1780,
          2470,
          2280,
          470,
          2160,
          2060,
          1770,
          2480,
          2280,
          2290,
          2470,
          2190,
          1970,
          2980,
          2430,
          1560,
          1850,
          2170,
          3240,
          2250,
          1790,
          2910,
          2330,
          2400,
          2540,
          2240,
          2160,
          2050,
          2030,
          2310,
          2290,
          2610,
          2440,
          2150,
          2400,
          1670,
          2220,
          2180,
          2430,
          2660,
          2360,
          2230,
          1620,
          2540,
          2220,
          2220,
          2460,
          3040,
          2670,
          2370,
          2320,
          2440,
          2430,
          1630,
          2350,
          2280,
          2430,
          2370,
          10,
          2490,
          2100,
          2370,
          2290,
          1050,
          2430,
          2500,
          2290,
          2170,
          2210,
          2250,
          70,
          2480,
          2510,
          2570,
          1910,
          2410,
          2380,
          2460,
          2200,
          1960,
          2210,
          2160,
          2310,
          2500,
          1230,
          2360,
          120,
          2020,
          2570,
          2500,
          2430,
          2330,
          2240,
          2580,
          2580,
          3160,
          2280,
          2530,
          650,
          2300,
          2180,
          2050,
          2870,
          1890,
          2310,
          2370,
          2590,
          2310,
          2890,
          2420,
          2410,
          2130,
          2260,
          2690,
          2280,
          2310
         ],
         "xaxis": "x",
         "yaxis": "y"
        },
        {
         "alignmentgroup": "True",
         "bingroup": "x",
         "hovertemplate": "Result=Strike<br>Spin=%{x}<br>count=%{y}<extra></extra>",
         "legendgroup": "Strike",
         "marker": {
          "color": "#EF553B",
          "pattern": {
           "shape": ""
          }
         },
         "name": "Strike",
         "offsetgroup": "Strike",
         "orientation": "v",
         "showlegend": true,
         "type": "histogram",
         "x": [
          2310,
          2240,
          2040,
          2240,
          2260,
          2370,
          1970,
          2490,
          2390,
          2360,
          1580,
          2440,
          450,
          2010,
          2440,
          2130,
          2560,
          1500,
          2510,
          2930,
          2280,
          2140,
          2900,
          2430,
          2170,
          2150,
          2280,
          2580,
          2290,
          2480,
          2130,
          2250,
          2500,
          1850,
          2290,
          2410,
          2340,
          2850,
          2170,
          2540,
          570,
          2390,
          2410,
          2110,
          2040,
          2040,
          2560,
          1780,
          2210,
          2470,
          2120,
          2300,
          2350,
          2560,
          2510,
          2380,
          2280,
          2220,
          2070,
          2920,
          1660,
          1820,
          2050,
          2360,
          2180,
          2170,
          2610,
          2460,
          2290,
          1810,
          2470,
          2400,
          2070,
          2520,
          2310,
          2540,
          2180,
          2160,
          2290,
          2530,
          2390,
          2680,
          2450,
          2310,
          2190,
          3010,
          2760,
          2350,
          2310,
          2390,
          1970,
          2490,
          2530,
          2500,
          2550,
          2180,
          2130,
          2430,
          1740,
          2330,
          2920,
          2350,
          2650,
          2230,
          2370,
          2630,
          2100,
          1870,
          2580,
          2410,
          2890,
          2630,
          2420,
          2110,
          2150,
          2440,
          2490,
          1790,
          2130,
          2470,
          2530,
          2380,
          2860,
          2360,
          1570,
          1710,
          1110,
          2470,
          2310,
          2950,
          1030,
          2710,
          2400,
          2280,
          2410,
          2390,
          2150,
          2240,
          2230,
          2440,
          2210,
          1560,
          2320,
          1980,
          2340,
          600,
          2370,
          630,
          340,
          2040,
          2450,
          2840,
          570,
          2330,
          2250,
          2340,
          2900,
          2730,
          2290,
          2220,
          2360,
          2480,
          2210,
          2220,
          2370,
          2520,
          2120,
          2610,
          2770,
          2350,
          2200,
          2620,
          1810,
          2220,
          2140,
          1350,
          2670,
          2480,
          2410,
          2290,
          1510,
          2590,
          2220,
          2520,
          2480,
          2220,
          2350,
          2380,
          1610,
          2210,
          2370,
          2080,
          2390,
          2500,
          1920,
          2260,
          2300,
          2220,
          2370,
          1850,
          1880,
          2370,
          2360,
          1690,
          2370,
          2430,
          2150,
          2610,
          2860,
          2440,
          2860,
          1830,
          2280,
          2580,
          2760,
          2210,
          2750,
          2510,
          2350,
          2420,
          2550,
          2070,
          2340,
          2250,
          2470,
          2870,
          2350,
          2300,
          1740,
          2170,
          2580,
          2450,
          2490,
          2360,
          1340,
          2490,
          2580,
          2430,
          2440,
          2540,
          2210,
          2560,
          2290,
          2530,
          2180,
          2520,
          2400,
          2320,
          2500,
          2300,
          2260,
          2070,
          2370,
          2240,
          2580,
          2980,
          2230,
          2580,
          2650,
          2620,
          1430,
          2150,
          2570,
          2610,
          2570,
          80,
          2120,
          2480,
          2360,
          2580,
          2650,
          2210,
          1010,
          2500,
          2420,
          2350,
          2740,
          2420,
          1610,
          2030,
          2110,
          2370,
          2340,
          2040,
          2230,
          2220,
          2360,
          2230,
          2550,
          2800,
          2400,
          2400,
          2360,
          2680,
          1650,
          2040,
          2210,
          2350,
          2430,
          2360,
          2290,
          2160,
          2390,
          950,
          2350,
          2350,
          2220,
          2240,
          2340,
          2510,
          2300,
          2610,
          2110,
          2130,
          2500,
          2300,
          2660,
          2300,
          1740,
          2260,
          2360,
          2460,
          2510,
          2610,
          2590,
          2340,
          2450,
          2830,
          2480,
          2200,
          2410,
          2510,
          2370,
          2390,
          2280,
          2530,
          1910,
          2450,
          2360,
          2280,
          2320,
          2310,
          2200,
          2160,
          2570,
          2510,
          2270,
          2170,
          2260,
          2250,
          2290,
          2160,
          2430,
          2310,
          2430,
          2380,
          2390,
          950,
          2520,
          2230,
          2280,
          2020,
          2510,
          2420,
          2350,
          2680,
          2360,
          50,
          2180,
          2420,
          2210,
          2160,
          2410,
          2310,
          2470,
          1900,
          2240,
          2310,
          2550,
          2580,
          1820,
          2500,
          2340,
          2420,
          2330,
          2310,
          2960,
          2250,
          2280,
          2370,
          2300,
          2190,
          970,
          2240,
          2430,
          1880,
          1870,
          2350,
          2890,
          2390,
          2170,
          2520,
          2640,
          2880,
          1640,
          2300,
          2310,
          2470,
          2330,
          2750,
          2380,
          2270,
          1930,
          2460,
          2450,
          2120,
          2390,
          2390,
          2280,
          2420,
          2290,
          2120,
          2130,
          2230,
          2280,
          2850,
          2230,
          2460,
          2190,
          2370,
          2380,
          2310,
          2240,
          2280,
          2460,
          2320,
          2360,
          2420,
          2470,
          2400,
          2170,
          2330,
          2350,
          2500,
          1610,
          2160,
          2480,
          2250,
          2260,
          1940,
          2410,
          2550,
          2500,
          2230,
          2500,
          2350,
          2210,
          2180,
          2320,
          2340,
          2020,
          2230,
          2480,
          2210,
          2420,
          2430,
          2320,
          2150,
          2390,
          2270,
          2480,
          2470,
          2270,
          2310,
          2260,
          2360,
          2100,
          2280,
          2280,
          2060,
          2440,
          2670,
          2240,
          2470,
          2390,
          2460,
          2510,
          1700,
          2250,
          2320,
          2290,
          2320,
          2340,
          2240,
          2410,
          2300,
          600,
          2940,
          1980,
          2350,
          2450,
          2460,
          2760,
          2260,
          2420,
          2410,
          1190,
          2500,
          2200,
          2510,
          2880,
          2120,
          2100,
          2200,
          2490,
          2280,
          2360,
          2080,
          2300,
          2270,
          2890,
          2630,
          2390,
          2460,
          2450,
          2260,
          1770,
          2350,
          2250,
          2440,
          2210,
          2300,
          2280,
          2230,
          2240,
          2200,
          2500,
          2280,
          2210,
          2470,
          2310,
          2420,
          2560,
          2610,
          2440,
          2340,
          2570,
          2590,
          2240,
          2880,
          2410,
          3100,
          1920,
          2090,
          2320,
          2350,
          2190,
          2340,
          1200,
          2410,
          2240,
          2310,
          2400,
          2280,
          2420,
          1970,
          2380,
          2780,
          2510,
          2390,
          2590,
          null,
          2360,
          2280,
          2250,
          2280,
          2190
         ],
         "xaxis": "x",
         "yaxis": "y"
        },
        {
         "alignmentgroup": "True",
         "bingroup": "x",
         "hovertemplate": "Result=HitIntoPlay<br>Spin=%{x}<br>count=%{y}<extra></extra>",
         "legendgroup": "HitIntoPlay",
         "marker": {
          "color": "#00cc96",
          "pattern": {
           "shape": ""
          }
         },
         "name": "HitIntoPlay",
         "offsetgroup": "HitIntoPlay",
         "orientation": "v",
         "showlegend": true,
         "type": "histogram",
         "x": [
          2720,
          2290,
          2240,
          2330,
          2390,
          2410,
          1910,
          2150,
          2620,
          1650,
          2460,
          2380,
          2390,
          2590,
          2250,
          2250,
          2260,
          2380,
          2360,
          1880,
          2500,
          2390,
          1760,
          2350,
          1960,
          2410,
          2400,
          2230,
          2210,
          2310,
          2510,
          1970,
          2140,
          2210,
          2400,
          2530,
          1620,
          2140,
          1830,
          1670,
          2910,
          1770,
          2300,
          2300,
          130,
          2280,
          2370,
          2340,
          2250,
          1850,
          2420,
          2490,
          1220,
          2170,
          2290,
          1610,
          2250,
          2550,
          2370,
          2380,
          2290,
          2350,
          2200,
          2030,
          2330,
          2870,
          2480,
          2270,
          2330,
          2190,
          2340,
          2470,
          2360,
          2530,
          2090,
          2950,
          2360,
          2290,
          2290,
          2740,
          2470,
          2470,
          2800,
          2300,
          2370,
          1540,
          2100,
          2360,
          2060,
          2150,
          2340,
          2300,
          2080,
          2530,
          2300,
          2390,
          2330,
          2350,
          2700,
          2490,
          2310,
          2440,
          2410,
          2720,
          2370,
          2420,
          2030,
          2310,
          2360,
          2330,
          2040,
          1890,
          2000,
          2350,
          2390,
          2350,
          2420,
          2460,
          2130,
          3350,
          2860,
          20,
          1800,
          2500,
          2580,
          2380,
          2680,
          2090,
          2560,
          2200,
          2370,
          2080,
          2420,
          2260,
          700,
          2160,
          2370,
          2900,
          2480,
          2300,
          2340,
          1980,
          2210,
          2320,
          2180,
          2190,
          2460,
          1980,
          2330,
          2240,
          1260,
          2120,
          2530,
          3080,
          2920,
          2260,
          2210,
          2550,
          2640,
          2350,
          2490,
          1900,
          2440,
          1910,
          2440,
          2500,
          2600,
          110,
          2440,
          1240,
          2250,
          2200,
          670,
          2280,
          2150,
          2330,
          2260,
          2410,
          1590,
          2160,
          2160,
          1970,
          2080,
          2380
         ],
         "xaxis": "x",
         "yaxis": "y"
        },
        {
         "alignmentgroup": "True",
         "bingroup": "x",
         "hovertemplate": "Result=Pickoff<br>Spin=%{x}<br>count=%{y}<extra></extra>",
         "legendgroup": "Pickoff",
         "marker": {
          "color": "#ab63fa",
          "pattern": {
           "shape": ""
          }
         },
         "name": "Pickoff",
         "offsetgroup": "Pickoff",
         "orientation": "v",
         "showlegend": true,
         "type": "histogram",
         "x": [
          null,
          null,
          null,
          null,
          null,
          null,
          null,
          null,
          null,
          null,
          null,
          null,
          null,
          null,
          null,
          null
         ],
         "xaxis": "x",
         "yaxis": "y"
        }
       ],
       "layout": {
        "barmode": "relative",
        "legend": {
         "title": {
          "text": "Result"
         },
         "tracegroupgap": 0
        },
        "template": {
         "data": {
          "bar": [
           {
            "error_x": {
             "color": "#2a3f5f"
            },
            "error_y": {
             "color": "#2a3f5f"
            },
            "marker": {
             "line": {
              "color": "#E5ECF6",
              "width": 0.5
             },
             "pattern": {
              "fillmode": "overlay",
              "size": 10,
              "solidity": 0.2
             }
            },
            "type": "bar"
           }
          ],
          "barpolar": [
           {
            "marker": {
             "line": {
              "color": "#E5ECF6",
              "width": 0.5
             },
             "pattern": {
              "fillmode": "overlay",
              "size": 10,
              "solidity": 0.2
             }
            },
            "type": "barpolar"
           }
          ],
          "carpet": [
           {
            "aaxis": {
             "endlinecolor": "#2a3f5f",
             "gridcolor": "white",
             "linecolor": "white",
             "minorgridcolor": "white",
             "startlinecolor": "#2a3f5f"
            },
            "baxis": {
             "endlinecolor": "#2a3f5f",
             "gridcolor": "white",
             "linecolor": "white",
             "minorgridcolor": "white",
             "startlinecolor": "#2a3f5f"
            },
            "type": "carpet"
           }
          ],
          "choropleth": [
           {
            "colorbar": {
             "outlinewidth": 0,
             "ticks": ""
            },
            "type": "choropleth"
           }
          ],
          "contour": [
           {
            "colorbar": {
             "outlinewidth": 0,
             "ticks": ""
            },
            "colorscale": [
             [
              0,
              "#0d0887"
             ],
             [
              0.1111111111111111,
              "#46039f"
             ],
             [
              0.2222222222222222,
              "#7201a8"
             ],
             [
              0.3333333333333333,
              "#9c179e"
             ],
             [
              0.4444444444444444,
              "#bd3786"
             ],
             [
              0.5555555555555556,
              "#d8576b"
             ],
             [
              0.6666666666666666,
              "#ed7953"
             ],
             [
              0.7777777777777778,
              "#fb9f3a"
             ],
             [
              0.8888888888888888,
              "#fdca26"
             ],
             [
              1,
              "#f0f921"
             ]
            ],
            "type": "contour"
           }
          ],
          "contourcarpet": [
           {
            "colorbar": {
             "outlinewidth": 0,
             "ticks": ""
            },
            "type": "contourcarpet"
           }
          ],
          "heatmap": [
           {
            "colorbar": {
             "outlinewidth": 0,
             "ticks": ""
            },
            "colorscale": [
             [
              0,
              "#0d0887"
             ],
             [
              0.1111111111111111,
              "#46039f"
             ],
             [
              0.2222222222222222,
              "#7201a8"
             ],
             [
              0.3333333333333333,
              "#9c179e"
             ],
             [
              0.4444444444444444,
              "#bd3786"
             ],
             [
              0.5555555555555556,
              "#d8576b"
             ],
             [
              0.6666666666666666,
              "#ed7953"
             ],
             [
              0.7777777777777778,
              "#fb9f3a"
             ],
             [
              0.8888888888888888,
              "#fdca26"
             ],
             [
              1,
              "#f0f921"
             ]
            ],
            "type": "heatmap"
           }
          ],
          "heatmapgl": [
           {
            "colorbar": {
             "outlinewidth": 0,
             "ticks": ""
            },
            "colorscale": [
             [
              0,
              "#0d0887"
             ],
             [
              0.1111111111111111,
              "#46039f"
             ],
             [
              0.2222222222222222,
              "#7201a8"
             ],
             [
              0.3333333333333333,
              "#9c179e"
             ],
             [
              0.4444444444444444,
              "#bd3786"
             ],
             [
              0.5555555555555556,
              "#d8576b"
             ],
             [
              0.6666666666666666,
              "#ed7953"
             ],
             [
              0.7777777777777778,
              "#fb9f3a"
             ],
             [
              0.8888888888888888,
              "#fdca26"
             ],
             [
              1,
              "#f0f921"
             ]
            ],
            "type": "heatmapgl"
           }
          ],
          "histogram": [
           {
            "marker": {
             "pattern": {
              "fillmode": "overlay",
              "size": 10,
              "solidity": 0.2
             }
            },
            "type": "histogram"
           }
          ],
          "histogram2d": [
           {
            "colorbar": {
             "outlinewidth": 0,
             "ticks": ""
            },
            "colorscale": [
             [
              0,
              "#0d0887"
             ],
             [
              0.1111111111111111,
              "#46039f"
             ],
             [
              0.2222222222222222,
              "#7201a8"
             ],
             [
              0.3333333333333333,
              "#9c179e"
             ],
             [
              0.4444444444444444,
              "#bd3786"
             ],
             [
              0.5555555555555556,
              "#d8576b"
             ],
             [
              0.6666666666666666,
              "#ed7953"
             ],
             [
              0.7777777777777778,
              "#fb9f3a"
             ],
             [
              0.8888888888888888,
              "#fdca26"
             ],
             [
              1,
              "#f0f921"
             ]
            ],
            "type": "histogram2d"
           }
          ],
          "histogram2dcontour": [
           {
            "colorbar": {
             "outlinewidth": 0,
             "ticks": ""
            },
            "colorscale": [
             [
              0,
              "#0d0887"
             ],
             [
              0.1111111111111111,
              "#46039f"
             ],
             [
              0.2222222222222222,
              "#7201a8"
             ],
             [
              0.3333333333333333,
              "#9c179e"
             ],
             [
              0.4444444444444444,
              "#bd3786"
             ],
             [
              0.5555555555555556,
              "#d8576b"
             ],
             [
              0.6666666666666666,
              "#ed7953"
             ],
             [
              0.7777777777777778,
              "#fb9f3a"
             ],
             [
              0.8888888888888888,
              "#fdca26"
             ],
             [
              1,
              "#f0f921"
             ]
            ],
            "type": "histogram2dcontour"
           }
          ],
          "mesh3d": [
           {
            "colorbar": {
             "outlinewidth": 0,
             "ticks": ""
            },
            "type": "mesh3d"
           }
          ],
          "parcoords": [
           {
            "line": {
             "colorbar": {
              "outlinewidth": 0,
              "ticks": ""
             }
            },
            "type": "parcoords"
           }
          ],
          "pie": [
           {
            "automargin": true,
            "type": "pie"
           }
          ],
          "scatter": [
           {
            "fillpattern": {
             "fillmode": "overlay",
             "size": 10,
             "solidity": 0.2
            },
            "type": "scatter"
           }
          ],
          "scatter3d": [
           {
            "line": {
             "colorbar": {
              "outlinewidth": 0,
              "ticks": ""
             }
            },
            "marker": {
             "colorbar": {
              "outlinewidth": 0,
              "ticks": ""
             }
            },
            "type": "scatter3d"
           }
          ],
          "scattercarpet": [
           {
            "marker": {
             "colorbar": {
              "outlinewidth": 0,
              "ticks": ""
             }
            },
            "type": "scattercarpet"
           }
          ],
          "scattergeo": [
           {
            "marker": {
             "colorbar": {
              "outlinewidth": 0,
              "ticks": ""
             }
            },
            "type": "scattergeo"
           }
          ],
          "scattergl": [
           {
            "marker": {
             "colorbar": {
              "outlinewidth": 0,
              "ticks": ""
             }
            },
            "type": "scattergl"
           }
          ],
          "scattermapbox": [
           {
            "marker": {
             "colorbar": {
              "outlinewidth": 0,
              "ticks": ""
             }
            },
            "type": "scattermapbox"
           }
          ],
          "scatterpolar": [
           {
            "marker": {
             "colorbar": {
              "outlinewidth": 0,
              "ticks": ""
             }
            },
            "type": "scatterpolar"
           }
          ],
          "scatterpolargl": [
           {
            "marker": {
             "colorbar": {
              "outlinewidth": 0,
              "ticks": ""
             }
            },
            "type": "scatterpolargl"
           }
          ],
          "scatterternary": [
           {
            "marker": {
             "colorbar": {
              "outlinewidth": 0,
              "ticks": ""
             }
            },
            "type": "scatterternary"
           }
          ],
          "surface": [
           {
            "colorbar": {
             "outlinewidth": 0,
             "ticks": ""
            },
            "colorscale": [
             [
              0,
              "#0d0887"
             ],
             [
              0.1111111111111111,
              "#46039f"
             ],
             [
              0.2222222222222222,
              "#7201a8"
             ],
             [
              0.3333333333333333,
              "#9c179e"
             ],
             [
              0.4444444444444444,
              "#bd3786"
             ],
             [
              0.5555555555555556,
              "#d8576b"
             ],
             [
              0.6666666666666666,
              "#ed7953"
             ],
             [
              0.7777777777777778,
              "#fb9f3a"
             ],
             [
              0.8888888888888888,
              "#fdca26"
             ],
             [
              1,
              "#f0f921"
             ]
            ],
            "type": "surface"
           }
          ],
          "table": [
           {
            "cells": {
             "fill": {
              "color": "#EBF0F8"
             },
             "line": {
              "color": "white"
             }
            },
            "header": {
             "fill": {
              "color": "#C8D4E3"
             },
             "line": {
              "color": "white"
             }
            },
            "type": "table"
           }
          ]
         },
         "layout": {
          "annotationdefaults": {
           "arrowcolor": "#2a3f5f",
           "arrowhead": 0,
           "arrowwidth": 1
          },
          "autotypenumbers": "strict",
          "coloraxis": {
           "colorbar": {
            "outlinewidth": 0,
            "ticks": ""
           }
          },
          "colorscale": {
           "diverging": [
            [
             0,
             "#8e0152"
            ],
            [
             0.1,
             "#c51b7d"
            ],
            [
             0.2,
             "#de77ae"
            ],
            [
             0.3,
             "#f1b6da"
            ],
            [
             0.4,
             "#fde0ef"
            ],
            [
             0.5,
             "#f7f7f7"
            ],
            [
             0.6,
             "#e6f5d0"
            ],
            [
             0.7,
             "#b8e186"
            ],
            [
             0.8,
             "#7fbc41"
            ],
            [
             0.9,
             "#4d9221"
            ],
            [
             1,
             "#276419"
            ]
           ],
           "sequential": [
            [
             0,
             "#0d0887"
            ],
            [
             0.1111111111111111,
             "#46039f"
            ],
            [
             0.2222222222222222,
             "#7201a8"
            ],
            [
             0.3333333333333333,
             "#9c179e"
            ],
            [
             0.4444444444444444,
             "#bd3786"
            ],
            [
             0.5555555555555556,
             "#d8576b"
            ],
            [
             0.6666666666666666,
             "#ed7953"
            ],
            [
             0.7777777777777778,
             "#fb9f3a"
            ],
            [
             0.8888888888888888,
             "#fdca26"
            ],
            [
             1,
             "#f0f921"
            ]
           ],
           "sequentialminus": [
            [
             0,
             "#0d0887"
            ],
            [
             0.1111111111111111,
             "#46039f"
            ],
            [
             0.2222222222222222,
             "#7201a8"
            ],
            [
             0.3333333333333333,
             "#9c179e"
            ],
            [
             0.4444444444444444,
             "#bd3786"
            ],
            [
             0.5555555555555556,
             "#d8576b"
            ],
            [
             0.6666666666666666,
             "#ed7953"
            ],
            [
             0.7777777777777778,
             "#fb9f3a"
            ],
            [
             0.8888888888888888,
             "#fdca26"
            ],
            [
             1,
             "#f0f921"
            ]
           ]
          },
          "colorway": [
           "#636efa",
           "#EF553B",
           "#00cc96",
           "#ab63fa",
           "#FFA15A",
           "#19d3f3",
           "#FF6692",
           "#B6E880",
           "#FF97FF",
           "#FECB52"
          ],
          "font": {
           "color": "#2a3f5f"
          },
          "geo": {
           "bgcolor": "white",
           "lakecolor": "white",
           "landcolor": "#E5ECF6",
           "showlakes": true,
           "showland": true,
           "subunitcolor": "white"
          },
          "hoverlabel": {
           "align": "left"
          },
          "hovermode": "closest",
          "mapbox": {
           "style": "light"
          },
          "paper_bgcolor": "white",
          "plot_bgcolor": "#E5ECF6",
          "polar": {
           "angularaxis": {
            "gridcolor": "white",
            "linecolor": "white",
            "ticks": ""
           },
           "bgcolor": "#E5ECF6",
           "radialaxis": {
            "gridcolor": "white",
            "linecolor": "white",
            "ticks": ""
           }
          },
          "scene": {
           "xaxis": {
            "backgroundcolor": "#E5ECF6",
            "gridcolor": "white",
            "gridwidth": 2,
            "linecolor": "white",
            "showbackground": true,
            "ticks": "",
            "zerolinecolor": "white"
           },
           "yaxis": {
            "backgroundcolor": "#E5ECF6",
            "gridcolor": "white",
            "gridwidth": 2,
            "linecolor": "white",
            "showbackground": true,
            "ticks": "",
            "zerolinecolor": "white"
           },
           "zaxis": {
            "backgroundcolor": "#E5ECF6",
            "gridcolor": "white",
            "gridwidth": 2,
            "linecolor": "white",
            "showbackground": true,
            "ticks": "",
            "zerolinecolor": "white"
           }
          },
          "shapedefaults": {
           "line": {
            "color": "#2a3f5f"
           }
          },
          "ternary": {
           "aaxis": {
            "gridcolor": "white",
            "linecolor": "white",
            "ticks": ""
           },
           "baxis": {
            "gridcolor": "white",
            "linecolor": "white",
            "ticks": ""
           },
           "bgcolor": "#E5ECF6",
           "caxis": {
            "gridcolor": "white",
            "linecolor": "white",
            "ticks": ""
           }
          },
          "title": {
           "x": 0.05
          },
          "xaxis": {
           "automargin": true,
           "gridcolor": "white",
           "linecolor": "white",
           "ticks": "",
           "title": {
            "standoff": 15
           },
           "zerolinecolor": "white",
           "zerolinewidth": 2
          },
          "yaxis": {
           "automargin": true,
           "gridcolor": "white",
           "linecolor": "white",
           "ticks": "",
           "title": {
            "standoff": 15
           },
           "zerolinecolor": "white",
           "zerolinewidth": 2
          }
         }
        },
        "title": {
         "text": "Pitch Spin Distribution by Result"
        },
        "xaxis": {
         "anchor": "y",
         "domain": [
          0,
          1
         ],
         "title": {
          "text": "Spin (rpm)"
         }
        },
        "yaxis": {
         "anchor": "x",
         "domain": [
          0,
          1
         ],
         "title": {
          "text": "count"
         }
        }
       }
      },
      "text/html": [
       "<div>                            <div id=\"d1d5109a-b6f1-4472-a0c1-a4847d890a48\" class=\"plotly-graph-div\" style=\"height:525px; width:100%;\"></div>            <script type=\"text/javascript\">                require([\"plotly\"], function(Plotly) {                    window.PLOTLYENV=window.PLOTLYENV || {};                                    if (document.getElementById(\"d1d5109a-b6f1-4472-a0c1-a4847d890a48\")) {                    Plotly.newPlot(                        \"d1d5109a-b6f1-4472-a0c1-a4847d890a48\",                        [{\"alignmentgroup\":\"True\",\"bingroup\":\"x\",\"hovertemplate\":\"Result=Ball<br>Spin=%{x}<br>count=%{y}<extra></extra>\",\"legendgroup\":\"Ball\",\"marker\":{\"color\":\"#636efa\",\"pattern\":{\"shape\":\"\"}},\"name\":\"Ball\",\"offsetgroup\":\"Ball\",\"orientation\":\"v\",\"showlegend\":true,\"x\":[260.0,1170.0,2220.0,2390.0,2830.0,2480.0,2510.0,2390.0,2430.0,2900.0,2370.0,2230.0,2490.0,2490.0,2520.0,1680.0,2510.0,2340.0,2220.0,2500.0,2210.0,2390.0,2190.0,2260.0,2420.0,2130.0,2250.0,2360.0,2490.0,1990.0,2260.0,2340.0,1470.0,2140.0,1930.0,2230.0,2090.0,2740.0,2050.0,2410.0,2310.0,2280.0,2440.0,2480.0,2750.0,2300.0,2280.0,2310.0,2590.0,2350.0,2440.0,2520.0,2370.0,1850.0,2340.0,2480.0,2140.0,2110.0,2150.0,2200.0,2400.0,2910.0,2560.0,1820.0,2390.0,2480.0,2900.0,2620.0,1790.0,2420.0,2270.0,2390.0,2390.0,2260.0,2310.0,2310.0,2470.0,2180.0,2260.0,2590.0,2520.0,2390.0,2960.0,320.0,2570.0,2010.0,2300.0,910.0,2460.0,2500.0,2550.0,2350.0,2340.0,1830.0,2430.0,2120.0,2460.0,2460.0,2650.0,2520.0,2520.0,2860.0,1070.0,2390.0,1960.0,2900.0,2360.0,2330.0,2280.0,2330.0,2480.0,2330.0,2350.0,2410.0,2150.0,2650.0,2110.0,2160.0,2250.0,2330.0,2220.0,2300.0,2170.0,2400.0,2100.0,2060.0,2290.0,2190.0,2440.0,2180.0,2400.0,2020.0,2950.0,2530.0,2600.0,2340.0,2090.0,2170.0,2120.0,2660.0,2460.0,2230.0,2350.0,2440.0,2230.0,2420.0,2400.0,2550.0,830.0,2440.0,1790.0,2600.0,2240.0,2360.0,2510.0,1880.0,2310.0,2520.0,2220.0,2420.0,2500.0,2340.0,1910.0,1700.0,2260.0,2140.0,2490.0,2360.0,200.0,3210.0,2520.0,2380.0,2250.0,2530.0,1900.0,2110.0,2200.0,2030.0,2590.0,2490.0,2270.0,2200.0,2750.0,2290.0,2030.0,2260.0,2420.0,2130.0,2320.0,2490.0,2410.0,2480.0,2330.0,2340.0,2060.0,2510.0,2350.0,2550.0,2280.0,1650.0,2290.0,2500.0,2950.0,2300.0,2830.0,1850.0,2070.0,2200.0,2540.0,1970.0,2440.0,2320.0,2360.0,2340.0,2330.0,2430.0,2330.0,1720.0,1890.0,1900.0,2520.0,2190.0,2370.0,2460.0,2600.0,2260.0,2330.0,1800.0,2150.0,2260.0,2080.0,2260.0,2470.0,2280.0,2550.0,2330.0,2250.0,2150.0,2370.0,2110.0,2670.0,10.0,2340.0,2210.0,2390.0,2220.0,2140.0,2420.0,2390.0,2900.0,2560.0,2220.0,2580.0,1680.0,2340.0,2510.0,1620.0,2380.0,1070.0,2310.0,2310.0,2610.0,2280.0,2480.0,2340.0,2310.0,2160.0,2140.0,2500.0,2350.0,2200.0,2600.0,2310.0,2430.0,1640.0,2030.0,2270.0,2410.0,2130.0,2860.0,2290.0,2340.0,2330.0,2470.0,900.0,2170.0,2330.0,2300.0,1910.0,420.0,700.0,1860.0,2560.0,2240.0,2310.0,2180.0,2430.0,2070.0,2490.0,1910.0,2860.0,2380.0,1370.0,2420.0,2380.0,2590.0,2000.0,2380.0,2520.0,1900.0,2040.0,2500.0,2500.0,2330.0,3180.0,1720.0,2590.0,2990.0,2420.0,3230.0,2640.0,2720.0,2190.0,2410.0,2040.0,2160.0,2480.0,2200.0,2550.0,990.0,2090.0,2450.0,2410.0,2670.0,2400.0,2390.0,2100.0,2330.0,2200.0,2140.0,2550.0,2450.0,2540.0,2930.0,2580.0,2550.0,2480.0,2440.0,2700.0,2320.0,2700.0,2230.0,2460.0,2580.0,2420.0,2310.0,1780.0,2470.0,2280.0,470.0,2160.0,2060.0,1770.0,2480.0,2280.0,2290.0,2470.0,2190.0,1970.0,2980.0,2430.0,1560.0,1850.0,2170.0,3240.0,2250.0,1790.0,2910.0,2330.0,2400.0,2540.0,2240.0,2160.0,2050.0,2030.0,2310.0,2290.0,2610.0,2440.0,2150.0,2400.0,1670.0,2220.0,2180.0,2430.0,2660.0,2360.0,2230.0,1620.0,2540.0,2220.0,2220.0,2460.0,3040.0,2670.0,2370.0,2320.0,2440.0,2430.0,1630.0,2350.0,2280.0,2430.0,2370.0,10.0,2490.0,2100.0,2370.0,2290.0,1050.0,2430.0,2500.0,2290.0,2170.0,2210.0,2250.0,70.0,2480.0,2510.0,2570.0,1910.0,2410.0,2380.0,2460.0,2200.0,1960.0,2210.0,2160.0,2310.0,2500.0,1230.0,2360.0,120.0,2020.0,2570.0,2500.0,2430.0,2330.0,2240.0,2580.0,2580.0,3160.0,2280.0,2530.0,650.0,2300.0,2180.0,2050.0,2870.0,1890.0,2310.0,2370.0,2590.0,2310.0,2890.0,2420.0,2410.0,2130.0,2260.0,2690.0,2280.0,2310.0],\"xaxis\":\"x\",\"yaxis\":\"y\",\"type\":\"histogram\"},{\"alignmentgroup\":\"True\",\"bingroup\":\"x\",\"hovertemplate\":\"Result=Strike<br>Spin=%{x}<br>count=%{y}<extra></extra>\",\"legendgroup\":\"Strike\",\"marker\":{\"color\":\"#EF553B\",\"pattern\":{\"shape\":\"\"}},\"name\":\"Strike\",\"offsetgroup\":\"Strike\",\"orientation\":\"v\",\"showlegend\":true,\"x\":[2310.0,2240.0,2040.0,2240.0,2260.0,2370.0,1970.0,2490.0,2390.0,2360.0,1580.0,2440.0,450.0,2010.0,2440.0,2130.0,2560.0,1500.0,2510.0,2930.0,2280.0,2140.0,2900.0,2430.0,2170.0,2150.0,2280.0,2580.0,2290.0,2480.0,2130.0,2250.0,2500.0,1850.0,2290.0,2410.0,2340.0,2850.0,2170.0,2540.0,570.0,2390.0,2410.0,2110.0,2040.0,2040.0,2560.0,1780.0,2210.0,2470.0,2120.0,2300.0,2350.0,2560.0,2510.0,2380.0,2280.0,2220.0,2070.0,2920.0,1660.0,1820.0,2050.0,2360.0,2180.0,2170.0,2610.0,2460.0,2290.0,1810.0,2470.0,2400.0,2070.0,2520.0,2310.0,2540.0,2180.0,2160.0,2290.0,2530.0,2390.0,2680.0,2450.0,2310.0,2190.0,3010.0,2760.0,2350.0,2310.0,2390.0,1970.0,2490.0,2530.0,2500.0,2550.0,2180.0,2130.0,2430.0,1740.0,2330.0,2920.0,2350.0,2650.0,2230.0,2370.0,2630.0,2100.0,1870.0,2580.0,2410.0,2890.0,2630.0,2420.0,2110.0,2150.0,2440.0,2490.0,1790.0,2130.0,2470.0,2530.0,2380.0,2860.0,2360.0,1570.0,1710.0,1110.0,2470.0,2310.0,2950.0,1030.0,2710.0,2400.0,2280.0,2410.0,2390.0,2150.0,2240.0,2230.0,2440.0,2210.0,1560.0,2320.0,1980.0,2340.0,600.0,2370.0,630.0,340.0,2040.0,2450.0,2840.0,570.0,2330.0,2250.0,2340.0,2900.0,2730.0,2290.0,2220.0,2360.0,2480.0,2210.0,2220.0,2370.0,2520.0,2120.0,2610.0,2770.0,2350.0,2200.0,2620.0,1810.0,2220.0,2140.0,1350.0,2670.0,2480.0,2410.0,2290.0,1510.0,2590.0,2220.0,2520.0,2480.0,2220.0,2350.0,2380.0,1610.0,2210.0,2370.0,2080.0,2390.0,2500.0,1920.0,2260.0,2300.0,2220.0,2370.0,1850.0,1880.0,2370.0,2360.0,1690.0,2370.0,2430.0,2150.0,2610.0,2860.0,2440.0,2860.0,1830.0,2280.0,2580.0,2760.0,2210.0,2750.0,2510.0,2350.0,2420.0,2550.0,2070.0,2340.0,2250.0,2470.0,2870.0,2350.0,2300.0,1740.0,2170.0,2580.0,2450.0,2490.0,2360.0,1340.0,2490.0,2580.0,2430.0,2440.0,2540.0,2210.0,2560.0,2290.0,2530.0,2180.0,2520.0,2400.0,2320.0,2500.0,2300.0,2260.0,2070.0,2370.0,2240.0,2580.0,2980.0,2230.0,2580.0,2650.0,2620.0,1430.0,2150.0,2570.0,2610.0,2570.0,80.0,2120.0,2480.0,2360.0,2580.0,2650.0,2210.0,1010.0,2500.0,2420.0,2350.0,2740.0,2420.0,1610.0,2030.0,2110.0,2370.0,2340.0,2040.0,2230.0,2220.0,2360.0,2230.0,2550.0,2800.0,2400.0,2400.0,2360.0,2680.0,1650.0,2040.0,2210.0,2350.0,2430.0,2360.0,2290.0,2160.0,2390.0,950.0,2350.0,2350.0,2220.0,2240.0,2340.0,2510.0,2300.0,2610.0,2110.0,2130.0,2500.0,2300.0,2660.0,2300.0,1740.0,2260.0,2360.0,2460.0,2510.0,2610.0,2590.0,2340.0,2450.0,2830.0,2480.0,2200.0,2410.0,2510.0,2370.0,2390.0,2280.0,2530.0,1910.0,2450.0,2360.0,2280.0,2320.0,2310.0,2200.0,2160.0,2570.0,2510.0,2270.0,2170.0,2260.0,2250.0,2290.0,2160.0,2430.0,2310.0,2430.0,2380.0,2390.0,950.0,2520.0,2230.0,2280.0,2020.0,2510.0,2420.0,2350.0,2680.0,2360.0,50.0,2180.0,2420.0,2210.0,2160.0,2410.0,2310.0,2470.0,1900.0,2240.0,2310.0,2550.0,2580.0,1820.0,2500.0,2340.0,2420.0,2330.0,2310.0,2960.0,2250.0,2280.0,2370.0,2300.0,2190.0,970.0,2240.0,2430.0,1880.0,1870.0,2350.0,2890.0,2390.0,2170.0,2520.0,2640.0,2880.0,1640.0,2300.0,2310.0,2470.0,2330.0,2750.0,2380.0,2270.0,1930.0,2460.0,2450.0,2120.0,2390.0,2390.0,2280.0,2420.0,2290.0,2120.0,2130.0,2230.0,2280.0,2850.0,2230.0,2460.0,2190.0,2370.0,2380.0,2310.0,2240.0,2280.0,2460.0,2320.0,2360.0,2420.0,2470.0,2400.0,2170.0,2330.0,2350.0,2500.0,1610.0,2160.0,2480.0,2250.0,2260.0,1940.0,2410.0,2550.0,2500.0,2230.0,2500.0,2350.0,2210.0,2180.0,2320.0,2340.0,2020.0,2230.0,2480.0,2210.0,2420.0,2430.0,2320.0,2150.0,2390.0,2270.0,2480.0,2470.0,2270.0,2310.0,2260.0,2360.0,2100.0,2280.0,2280.0,2060.0,2440.0,2670.0,2240.0,2470.0,2390.0,2460.0,2510.0,1700.0,2250.0,2320.0,2290.0,2320.0,2340.0,2240.0,2410.0,2300.0,600.0,2940.0,1980.0,2350.0,2450.0,2460.0,2760.0,2260.0,2420.0,2410.0,1190.0,2500.0,2200.0,2510.0,2880.0,2120.0,2100.0,2200.0,2490.0,2280.0,2360.0,2080.0,2300.0,2270.0,2890.0,2630.0,2390.0,2460.0,2450.0,2260.0,1770.0,2350.0,2250.0,2440.0,2210.0,2300.0,2280.0,2230.0,2240.0,2200.0,2500.0,2280.0,2210.0,2470.0,2310.0,2420.0,2560.0,2610.0,2440.0,2340.0,2570.0,2590.0,2240.0,2880.0,2410.0,3100.0,1920.0,2090.0,2320.0,2350.0,2190.0,2340.0,1200.0,2410.0,2240.0,2310.0,2400.0,2280.0,2420.0,1970.0,2380.0,2780.0,2510.0,2390.0,2590.0,null,2360.0,2280.0,2250.0,2280.0,2190.0],\"xaxis\":\"x\",\"yaxis\":\"y\",\"type\":\"histogram\"},{\"alignmentgroup\":\"True\",\"bingroup\":\"x\",\"hovertemplate\":\"Result=HitIntoPlay<br>Spin=%{x}<br>count=%{y}<extra></extra>\",\"legendgroup\":\"HitIntoPlay\",\"marker\":{\"color\":\"#00cc96\",\"pattern\":{\"shape\":\"\"}},\"name\":\"HitIntoPlay\",\"offsetgroup\":\"HitIntoPlay\",\"orientation\":\"v\",\"showlegend\":true,\"x\":[2720.0,2290.0,2240.0,2330.0,2390.0,2410.0,1910.0,2150.0,2620.0,1650.0,2460.0,2380.0,2390.0,2590.0,2250.0,2250.0,2260.0,2380.0,2360.0,1880.0,2500.0,2390.0,1760.0,2350.0,1960.0,2410.0,2400.0,2230.0,2210.0,2310.0,2510.0,1970.0,2140.0,2210.0,2400.0,2530.0,1620.0,2140.0,1830.0,1670.0,2910.0,1770.0,2300.0,2300.0,130.0,2280.0,2370.0,2340.0,2250.0,1850.0,2420.0,2490.0,1220.0,2170.0,2290.0,1610.0,2250.0,2550.0,2370.0,2380.0,2290.0,2350.0,2200.0,2030.0,2330.0,2870.0,2480.0,2270.0,2330.0,2190.0,2340.0,2470.0,2360.0,2530.0,2090.0,2950.0,2360.0,2290.0,2290.0,2740.0,2470.0,2470.0,2800.0,2300.0,2370.0,1540.0,2100.0,2360.0,2060.0,2150.0,2340.0,2300.0,2080.0,2530.0,2300.0,2390.0,2330.0,2350.0,2700.0,2490.0,2310.0,2440.0,2410.0,2720.0,2370.0,2420.0,2030.0,2310.0,2360.0,2330.0,2040.0,1890.0,2000.0,2350.0,2390.0,2350.0,2420.0,2460.0,2130.0,3350.0,2860.0,20.0,1800.0,2500.0,2580.0,2380.0,2680.0,2090.0,2560.0,2200.0,2370.0,2080.0,2420.0,2260.0,700.0,2160.0,2370.0,2900.0,2480.0,2300.0,2340.0,1980.0,2210.0,2320.0,2180.0,2190.0,2460.0,1980.0,2330.0,2240.0,1260.0,2120.0,2530.0,3080.0,2920.0,2260.0,2210.0,2550.0,2640.0,2350.0,2490.0,1900.0,2440.0,1910.0,2440.0,2500.0,2600.0,110.0,2440.0,1240.0,2250.0,2200.0,670.0,2280.0,2150.0,2330.0,2260.0,2410.0,1590.0,2160.0,2160.0,1970.0,2080.0,2380.0],\"xaxis\":\"x\",\"yaxis\":\"y\",\"type\":\"histogram\"},{\"alignmentgroup\":\"True\",\"bingroup\":\"x\",\"hovertemplate\":\"Result=Pickoff<br>Spin=%{x}<br>count=%{y}<extra></extra>\",\"legendgroup\":\"Pickoff\",\"marker\":{\"color\":\"#ab63fa\",\"pattern\":{\"shape\":\"\"}},\"name\":\"Pickoff\",\"offsetgroup\":\"Pickoff\",\"orientation\":\"v\",\"showlegend\":true,\"x\":[null,null,null,null,null,null,null,null,null,null,null,null,null,null,null,null],\"xaxis\":\"x\",\"yaxis\":\"y\",\"type\":\"histogram\"}],                        {\"template\":{\"data\":{\"histogram2dcontour\":[{\"type\":\"histogram2dcontour\",\"colorbar\":{\"outlinewidth\":0,\"ticks\":\"\"},\"colorscale\":[[0.0,\"#0d0887\"],[0.1111111111111111,\"#46039f\"],[0.2222222222222222,\"#7201a8\"],[0.3333333333333333,\"#9c179e\"],[0.4444444444444444,\"#bd3786\"],[0.5555555555555556,\"#d8576b\"],[0.6666666666666666,\"#ed7953\"],[0.7777777777777778,\"#fb9f3a\"],[0.8888888888888888,\"#fdca26\"],[1.0,\"#f0f921\"]]}],\"choropleth\":[{\"type\":\"choropleth\",\"colorbar\":{\"outlinewidth\":0,\"ticks\":\"\"}}],\"histogram2d\":[{\"type\":\"histogram2d\",\"colorbar\":{\"outlinewidth\":0,\"ticks\":\"\"},\"colorscale\":[[0.0,\"#0d0887\"],[0.1111111111111111,\"#46039f\"],[0.2222222222222222,\"#7201a8\"],[0.3333333333333333,\"#9c179e\"],[0.4444444444444444,\"#bd3786\"],[0.5555555555555556,\"#d8576b\"],[0.6666666666666666,\"#ed7953\"],[0.7777777777777778,\"#fb9f3a\"],[0.8888888888888888,\"#fdca26\"],[1.0,\"#f0f921\"]]}],\"heatmap\":[{\"type\":\"heatmap\",\"colorbar\":{\"outlinewidth\":0,\"ticks\":\"\"},\"colorscale\":[[0.0,\"#0d0887\"],[0.1111111111111111,\"#46039f\"],[0.2222222222222222,\"#7201a8\"],[0.3333333333333333,\"#9c179e\"],[0.4444444444444444,\"#bd3786\"],[0.5555555555555556,\"#d8576b\"],[0.6666666666666666,\"#ed7953\"],[0.7777777777777778,\"#fb9f3a\"],[0.8888888888888888,\"#fdca26\"],[1.0,\"#f0f921\"]]}],\"heatmapgl\":[{\"type\":\"heatmapgl\",\"colorbar\":{\"outlinewidth\":0,\"ticks\":\"\"},\"colorscale\":[[0.0,\"#0d0887\"],[0.1111111111111111,\"#46039f\"],[0.2222222222222222,\"#7201a8\"],[0.3333333333333333,\"#9c179e\"],[0.4444444444444444,\"#bd3786\"],[0.5555555555555556,\"#d8576b\"],[0.6666666666666666,\"#ed7953\"],[0.7777777777777778,\"#fb9f3a\"],[0.8888888888888888,\"#fdca26\"],[1.0,\"#f0f921\"]]}],\"contourcarpet\":[{\"type\":\"contourcarpet\",\"colorbar\":{\"outlinewidth\":0,\"ticks\":\"\"}}],\"contour\":[{\"type\":\"contour\",\"colorbar\":{\"outlinewidth\":0,\"ticks\":\"\"},\"colorscale\":[[0.0,\"#0d0887\"],[0.1111111111111111,\"#46039f\"],[0.2222222222222222,\"#7201a8\"],[0.3333333333333333,\"#9c179e\"],[0.4444444444444444,\"#bd3786\"],[0.5555555555555556,\"#d8576b\"],[0.6666666666666666,\"#ed7953\"],[0.7777777777777778,\"#fb9f3a\"],[0.8888888888888888,\"#fdca26\"],[1.0,\"#f0f921\"]]}],\"surface\":[{\"type\":\"surface\",\"colorbar\":{\"outlinewidth\":0,\"ticks\":\"\"},\"colorscale\":[[0.0,\"#0d0887\"],[0.1111111111111111,\"#46039f\"],[0.2222222222222222,\"#7201a8\"],[0.3333333333333333,\"#9c179e\"],[0.4444444444444444,\"#bd3786\"],[0.5555555555555556,\"#d8576b\"],[0.6666666666666666,\"#ed7953\"],[0.7777777777777778,\"#fb9f3a\"],[0.8888888888888888,\"#fdca26\"],[1.0,\"#f0f921\"]]}],\"mesh3d\":[{\"type\":\"mesh3d\",\"colorbar\":{\"outlinewidth\":0,\"ticks\":\"\"}}],\"scatter\":[{\"fillpattern\":{\"fillmode\":\"overlay\",\"size\":10,\"solidity\":0.2},\"type\":\"scatter\"}],\"parcoords\":[{\"type\":\"parcoords\",\"line\":{\"colorbar\":{\"outlinewidth\":0,\"ticks\":\"\"}}}],\"scatterpolargl\":[{\"type\":\"scatterpolargl\",\"marker\":{\"colorbar\":{\"outlinewidth\":0,\"ticks\":\"\"}}}],\"bar\":[{\"error_x\":{\"color\":\"#2a3f5f\"},\"error_y\":{\"color\":\"#2a3f5f\"},\"marker\":{\"line\":{\"color\":\"#E5ECF6\",\"width\":0.5},\"pattern\":{\"fillmode\":\"overlay\",\"size\":10,\"solidity\":0.2}},\"type\":\"bar\"}],\"scattergeo\":[{\"type\":\"scattergeo\",\"marker\":{\"colorbar\":{\"outlinewidth\":0,\"ticks\":\"\"}}}],\"scatterpolar\":[{\"type\":\"scatterpolar\",\"marker\":{\"colorbar\":{\"outlinewidth\":0,\"ticks\":\"\"}}}],\"histogram\":[{\"marker\":{\"pattern\":{\"fillmode\":\"overlay\",\"size\":10,\"solidity\":0.2}},\"type\":\"histogram\"}],\"scattergl\":[{\"type\":\"scattergl\",\"marker\":{\"colorbar\":{\"outlinewidth\":0,\"ticks\":\"\"}}}],\"scatter3d\":[{\"type\":\"scatter3d\",\"line\":{\"colorbar\":{\"outlinewidth\":0,\"ticks\":\"\"}},\"marker\":{\"colorbar\":{\"outlinewidth\":0,\"ticks\":\"\"}}}],\"scattermapbox\":[{\"type\":\"scattermapbox\",\"marker\":{\"colorbar\":{\"outlinewidth\":0,\"ticks\":\"\"}}}],\"scatterternary\":[{\"type\":\"scatterternary\",\"marker\":{\"colorbar\":{\"outlinewidth\":0,\"ticks\":\"\"}}}],\"scattercarpet\":[{\"type\":\"scattercarpet\",\"marker\":{\"colorbar\":{\"outlinewidth\":0,\"ticks\":\"\"}}}],\"carpet\":[{\"aaxis\":{\"endlinecolor\":\"#2a3f5f\",\"gridcolor\":\"white\",\"linecolor\":\"white\",\"minorgridcolor\":\"white\",\"startlinecolor\":\"#2a3f5f\"},\"baxis\":{\"endlinecolor\":\"#2a3f5f\",\"gridcolor\":\"white\",\"linecolor\":\"white\",\"minorgridcolor\":\"white\",\"startlinecolor\":\"#2a3f5f\"},\"type\":\"carpet\"}],\"table\":[{\"cells\":{\"fill\":{\"color\":\"#EBF0F8\"},\"line\":{\"color\":\"white\"}},\"header\":{\"fill\":{\"color\":\"#C8D4E3\"},\"line\":{\"color\":\"white\"}},\"type\":\"table\"}],\"barpolar\":[{\"marker\":{\"line\":{\"color\":\"#E5ECF6\",\"width\":0.5},\"pattern\":{\"fillmode\":\"overlay\",\"size\":10,\"solidity\":0.2}},\"type\":\"barpolar\"}],\"pie\":[{\"automargin\":true,\"type\":\"pie\"}]},\"layout\":{\"autotypenumbers\":\"strict\",\"colorway\":[\"#636efa\",\"#EF553B\",\"#00cc96\",\"#ab63fa\",\"#FFA15A\",\"#19d3f3\",\"#FF6692\",\"#B6E880\",\"#FF97FF\",\"#FECB52\"],\"font\":{\"color\":\"#2a3f5f\"},\"hovermode\":\"closest\",\"hoverlabel\":{\"align\":\"left\"},\"paper_bgcolor\":\"white\",\"plot_bgcolor\":\"#E5ECF6\",\"polar\":{\"bgcolor\":\"#E5ECF6\",\"angularaxis\":{\"gridcolor\":\"white\",\"linecolor\":\"white\",\"ticks\":\"\"},\"radialaxis\":{\"gridcolor\":\"white\",\"linecolor\":\"white\",\"ticks\":\"\"}},\"ternary\":{\"bgcolor\":\"#E5ECF6\",\"aaxis\":{\"gridcolor\":\"white\",\"linecolor\":\"white\",\"ticks\":\"\"},\"baxis\":{\"gridcolor\":\"white\",\"linecolor\":\"white\",\"ticks\":\"\"},\"caxis\":{\"gridcolor\":\"white\",\"linecolor\":\"white\",\"ticks\":\"\"}},\"coloraxis\":{\"colorbar\":{\"outlinewidth\":0,\"ticks\":\"\"}},\"colorscale\":{\"sequential\":[[0.0,\"#0d0887\"],[0.1111111111111111,\"#46039f\"],[0.2222222222222222,\"#7201a8\"],[0.3333333333333333,\"#9c179e\"],[0.4444444444444444,\"#bd3786\"],[0.5555555555555556,\"#d8576b\"],[0.6666666666666666,\"#ed7953\"],[0.7777777777777778,\"#fb9f3a\"],[0.8888888888888888,\"#fdca26\"],[1.0,\"#f0f921\"]],\"sequentialminus\":[[0.0,\"#0d0887\"],[0.1111111111111111,\"#46039f\"],[0.2222222222222222,\"#7201a8\"],[0.3333333333333333,\"#9c179e\"],[0.4444444444444444,\"#bd3786\"],[0.5555555555555556,\"#d8576b\"],[0.6666666666666666,\"#ed7953\"],[0.7777777777777778,\"#fb9f3a\"],[0.8888888888888888,\"#fdca26\"],[1.0,\"#f0f921\"]],\"diverging\":[[0,\"#8e0152\"],[0.1,\"#c51b7d\"],[0.2,\"#de77ae\"],[0.3,\"#f1b6da\"],[0.4,\"#fde0ef\"],[0.5,\"#f7f7f7\"],[0.6,\"#e6f5d0\"],[0.7,\"#b8e186\"],[0.8,\"#7fbc41\"],[0.9,\"#4d9221\"],[1,\"#276419\"]]},\"xaxis\":{\"gridcolor\":\"white\",\"linecolor\":\"white\",\"ticks\":\"\",\"title\":{\"standoff\":15},\"zerolinecolor\":\"white\",\"automargin\":true,\"zerolinewidth\":2},\"yaxis\":{\"gridcolor\":\"white\",\"linecolor\":\"white\",\"ticks\":\"\",\"title\":{\"standoff\":15},\"zerolinecolor\":\"white\",\"automargin\":true,\"zerolinewidth\":2},\"scene\":{\"xaxis\":{\"backgroundcolor\":\"#E5ECF6\",\"gridcolor\":\"white\",\"linecolor\":\"white\",\"showbackground\":true,\"ticks\":\"\",\"zerolinecolor\":\"white\",\"gridwidth\":2},\"yaxis\":{\"backgroundcolor\":\"#E5ECF6\",\"gridcolor\":\"white\",\"linecolor\":\"white\",\"showbackground\":true,\"ticks\":\"\",\"zerolinecolor\":\"white\",\"gridwidth\":2},\"zaxis\":{\"backgroundcolor\":\"#E5ECF6\",\"gridcolor\":\"white\",\"linecolor\":\"white\",\"showbackground\":true,\"ticks\":\"\",\"zerolinecolor\":\"white\",\"gridwidth\":2}},\"shapedefaults\":{\"line\":{\"color\":\"#2a3f5f\"}},\"annotationdefaults\":{\"arrowcolor\":\"#2a3f5f\",\"arrowhead\":0,\"arrowwidth\":1},\"geo\":{\"bgcolor\":\"white\",\"landcolor\":\"#E5ECF6\",\"subunitcolor\":\"white\",\"showland\":true,\"showlakes\":true,\"lakecolor\":\"white\"},\"title\":{\"x\":0.05},\"mapbox\":{\"style\":\"light\"}}},\"xaxis\":{\"anchor\":\"y\",\"domain\":[0.0,1.0],\"title\":{\"text\":\"Spin (rpm)\"}},\"yaxis\":{\"anchor\":\"x\",\"domain\":[0.0,1.0],\"title\":{\"text\":\"count\"}},\"legend\":{\"title\":{\"text\":\"Result\"},\"tracegroupgap\":0},\"title\":{\"text\":\"Pitch Spin Distribution by Result\"},\"barmode\":\"relative\"},                        {\"responsive\": true}                    ).then(function(){\n",
       "                            \n",
       "var gd = document.getElementById('d1d5109a-b6f1-4472-a0c1-a4847d890a48');\n",
       "var x = new MutationObserver(function (mutations, observer) {{\n",
       "        var display = window.getComputedStyle(gd).display;\n",
       "        if (!display || display === 'none') {{\n",
       "            console.log([gd, 'removed!']);\n",
       "            Plotly.purge(gd);\n",
       "            observer.disconnect();\n",
       "        }}\n",
       "}});\n",
       "\n",
       "// Listen for the removal of the full notebook cells\n",
       "var notebookContainer = gd.closest('#notebook-container');\n",
       "if (notebookContainer) {{\n",
       "    x.observe(notebookContainer, {childList: true});\n",
       "}}\n",
       "\n",
       "// Listen for the clearing of the current output cell\n",
       "var outputEl = gd.closest('.output');\n",
       "if (outputEl) {{\n",
       "    x.observe(outputEl, {childList: true});\n",
       "}}\n",
       "\n",
       "                        })                };                });            </script>        </div>"
      ]
     },
     "metadata": {},
     "output_type": "display_data"
    }
   ],
   "source": [
    "fig = px.histogram(spin_result_df, x=\"Spin\", color=\"Result\", title=\"Pitch Spin Distribution by Result\")\n",
    "fig.update_xaxes(title_text=\"Spin (rpm)\")\n",
    "fig.show()"
   ]
  },
  {
   "cell_type": "markdown",
   "id": "1ee83500",
   "metadata": {},
   "source": [
    "## Ball Path 3D Visualization\n",
    "### Close-up Near Hit"
   ]
  },
  {
   "cell_type": "code",
   "execution_count": 76,
   "id": "166b9b3c",
   "metadata": {},
   "outputs": [],
   "source": [
    "import bisect\n",
    "import heapq\n",
    "import ipywidgets as widgets"
   ]
  },
  {
   "cell_type": "code",
   "execution_count": 77,
   "id": "491b6fe1",
   "metadata": {},
   "outputs": [],
   "source": [
    "#Read data\n",
    "file = open('json_files/12345645_40081.jsonl')\n",
    "data = json.load(file)\n",
    "\n",
    "ball_pos = list((object['pos'] for object in data['samples_ball'])) \n",
    "ball_time = list((object['time'] for object in data['samples_ball']))\n",
    "\n",
    "bat_time = list((object['time'] for object in data['samples_bat'])) \n",
    "bat_head_pos = list((object['head']['pos'] for object in data['samples_bat'])) \n",
    "bat_handle_pos = list((object['handle']['pos'] for object in data['samples_bat'])) "
   ]
  },
  {
   "cell_type": "code",
   "execution_count": 78,
   "id": "51edcd7e",
   "metadata": {},
   "outputs": [
    {
     "name": "stdout",
     "output_type": "stream",
     "text": [
      "276 276 369 369 369\n",
      "0.0307811 25.2087811\n",
      "-0.3925578 0.8306792\n"
     ]
    }
   ],
   "source": [
    "#Check length (to make sure there's a time attached to each)\n",
    "print(len(ball_pos), len(ball_time), len(bat_time), len(bat_head_pos), len(bat_handle_pos))\n",
    "print(min(ball_time), max(ball_time))\n",
    "print(min(bat_time), max(bat_time))"
   ]
  },
  {
   "cell_type": "code",
   "execution_count": 79,
   "id": "873b2a80",
   "metadata": {},
   "outputs": [],
   "source": [
    "all_time = list(heapq.merge(ball_time, bat_time)) #merge the 2 lists to get a list of all times"
   ]
  },
  {
   "cell_type": "code",
   "execution_count": 80,
   "id": "67f24f29",
   "metadata": {},
   "outputs": [
    {
     "name": "stdout",
     "output_type": "stream",
     "text": [
      "-123.02992283003434 -2.9007332616677957 0.06301153109674586\n",
      "48.25335317270798 326.36468750074084 46.026410901350175\n"
     ]
    }
   ],
   "source": [
    "#Get min x, y, and z to set axis limits\n",
    "min_bat_x = min(min(cur_pos[0] for cur_pos in bat_head_pos), min(cur_pos[0] for cur_pos in bat_handle_pos))\n",
    "min_bat_y = min(min(cur_pos[1] for cur_pos in bat_head_pos), min(cur_pos[1] for cur_pos in bat_handle_pos))\n",
    "min_bat_z = min(min(cur_pos[2] for cur_pos in bat_head_pos), min(cur_pos[2] for cur_pos in bat_handle_pos))\n",
    "min_x = min(min_bat_x, min(cur_pos[0] for cur_pos in ball_pos))\n",
    "min_y = min(min_bat_y, min(cur_pos[1] for cur_pos in ball_pos))\n",
    "min_z = min(min_bat_z, min(cur_pos[2] for cur_pos in ball_pos))\n",
    "print(min_x, min_y, min_z)\n",
    "\n",
    "#Get max x, y, and z to set axis limits\n",
    "max_bat_x = max(max(cur_pos[0] for cur_pos in bat_head_pos), max(cur_pos[0] for cur_pos in bat_handle_pos))\n",
    "max_bat_y = max(max(cur_pos[1] for cur_pos in bat_head_pos), max(cur_pos[1] for cur_pos in bat_handle_pos))\n",
    "max_bat_z = max(max(cur_pos[2] for cur_pos in bat_head_pos), max(cur_pos[2] for cur_pos in bat_handle_pos))\n",
    "max_x = max(max_bat_x, max(cur_pos[0] for cur_pos in ball_pos))\n",
    "max_y = max(max_bat_y, max(cur_pos[1] for cur_pos in ball_pos))\n",
    "max_z = max(max_bat_z, max(cur_pos[2] for cur_pos in ball_pos))\n",
    "print(max_x, max_y, max_z)"
   ]
  },
  {
   "cell_type": "code",
   "execution_count": 81,
   "id": "6b979282",
   "metadata": {},
   "outputs": [],
   "source": [
    "# Find the closest bat/ball time measurement for a passed in measurement\n",
    "def get_closest_time(time, isBat):\n",
    "    if (isBat):\n",
    "        index = bisect.bisect_left(bat_time, time)\n",
    "    else:\n",
    "        index = bisect.bisect_left(ball_time, time)\n",
    "        \n",
    "    if index == 0:\n",
    "        return 0\n",
    "    return index - 1 #get time \"before\""
   ]
  },
  {
   "cell_type": "code",
   "execution_count": 83,
   "id": "5d7b6930",
   "metadata": {},
   "outputs": [
    {
     "name": "stdout",
     "output_type": "stream",
     "text": [
      "[48.25335317270798, 3.9785945854808817, 0.08448434771116811]\n",
      "[-3.279877193127228, -0.5294433594961651, 5.265283297456391]\n",
      "[51.53323036583521, 4.508037944977047, -5.180798949745223]\n"
     ]
    }
   ],
   "source": [
    "#Estimate close enough value by seeing how different bat handle/ball position is at hit\n",
    "print(ball_pos[get_closest_time(264, False)])\n",
    "print(bat_handle_pos[get_closest_time(264, True)])\n",
    "difference = [a - b for a, b in zip(ball_pos[get_closest_time(264, False)], bat_handle_pos[get_closest_time(264, True)])]\n",
    "print(difference)"
   ]
  },
  {
   "cell_type": "code",
   "execution_count": 85,
   "id": "434f4e56",
   "metadata": {},
   "outputs": [],
   "source": [
    "#Select frames for \"near hit\"\n",
    "start_frame = 223\n",
    "end_frame = 321\n",
    "\n",
    "bat_start = get_closest_time(all_time[start_frame], True)\n",
    "bat_end = get_closest_time(all_time[end_frame], True)\n",
    "ball_start = get_closest_time(all_time[start_frame], False)\n",
    "ball_end = get_closest_time(all_time[end_frame], False)"
   ]
  },
  {
   "cell_type": "code",
   "execution_count": 86,
   "id": "89fd2292",
   "metadata": {},
   "outputs": [
    {
     "name": "stdout",
     "output_type": "stream",
     "text": [
      "-5.181118912076154 -2.2917995886471023 1.1384637762161678\n",
      "2.4854771552711097 19.558734031102208 8.315852611139123\n"
     ]
    }
   ],
   "source": [
    "#Adjust list to get max/min in time range: \n",
    "bat_hit_head_pos = bat_head_pos[bat_start:bat_end]\n",
    "bat_hit_handle_pos = bat_handle_pos[bat_start:bat_end]\n",
    "ball_hit_pos = ball_pos[ball_start:ball_end]\n",
    "\n",
    "#Get min x, y, and z to set axis limits\n",
    "min_bat_x = min(min(cur_pos[0] for cur_pos in bat_hit_head_pos), min(cur_pos[0] for cur_pos in bat_hit_handle_pos))\n",
    "min_bat_y = min(min(cur_pos[1] for cur_pos in bat_hit_head_pos), min(cur_pos[1] for cur_pos in bat_hit_handle_pos))\n",
    "min_bat_z = min(min(cur_pos[2] for cur_pos in bat_head_pos), min(cur_pos[2] for cur_pos in bat_hit_handle_pos))\n",
    "hit_min_x = min(min_bat_x, min(cur_pos[0] for cur_pos in ball_hit_pos))\n",
    "hit_min_y = min(min_bat_y, min(cur_pos[1] for cur_pos in ball_hit_pos))\n",
    "hit_min_z = min(min_bat_z, min(cur_pos[2] for cur_pos in ball_hit_pos))\n",
    "print(hit_min_x, hit_min_y, hit_min_z)\n",
    "\n",
    "#Get max x, y, and z to set axis limits\n",
    "max_bat_x = max(max(cur_pos[0] for cur_pos in bat_hit_head_pos), max(cur_pos[0] for cur_pos in bat_hit_handle_pos))\n",
    "max_bat_y = max(max(cur_pos[1] for cur_pos in bat_hit_head_pos), max(cur_pos[1] for cur_pos in bat_hit_handle_pos))\n",
    "max_bat_z = max(max(cur_pos[2] for cur_pos in bat_hit_head_pos), max(cur_pos[2] for cur_pos in bat_hit_handle_pos))\n",
    "hit_max_x = max(max_bat_x, max(cur_pos[0] for cur_pos in ball_hit_pos))\n",
    "hit_max_y = max(max_bat_y, max(cur_pos[1] for cur_pos in ball_hit_pos))\n",
    "hit_max_z = max(max_bat_z, max(cur_pos[2] for cur_pos in ball_hit_pos))\n",
    "print(hit_max_x, hit_max_y, hit_max_z)"
   ]
  },
  {
   "cell_type": "code",
   "execution_count": 87,
   "id": "44b7a4cc",
   "metadata": {},
   "outputs": [
    {
     "data": {
      "application/vnd.jupyter.widget-view+json": {
       "model_id": "974bf636621f40009dd2332ada214f41",
       "version_major": 2,
       "version_minor": 0
      },
      "text/plain": [
       "interactive(children=(IntSlider(value=0, description='frame', max=97), Output()), _dom_classes=('widget-intera…"
      ]
     },
     "metadata": {},
     "output_type": "display_data"
    }
   ],
   "source": [
    "@widgets.interact(frame=(0, end_frame - start_frame - 1))\n",
    "def axial_slicer(frame=0):\n",
    "    frame = frame + start_frame\n",
    "    fig = plt.figure()\n",
    "    ax = fig.add_subplot(111, projection='3d')\n",
    "    \n",
    "    #Plot bat\n",
    "    bat_frame = get_closest_time(all_time[frame], True) #Get closest bat frame for the given time\n",
    "    bat_x_values = [bat_head_pos[bat_frame][0], bat_handle_pos[bat_frame][0]]\n",
    "    bat_y_values = [bat_head_pos[bat_frame][1], bat_handle_pos[bat_frame][1]]\n",
    "    bat_z_values = [bat_head_pos[bat_frame][2], bat_handle_pos[bat_frame][2]]\n",
    "    ax.plot(bat_x_values, bat_y_values, bat_z_values, 'r-')    \n",
    "    \n",
    "    #Plot ball\n",
    "    ball_frame = get_closest_time(all_time[frame], False)\n",
    "    ball_x_value = ball_pos[ball_frame][0]\n",
    "    ball_y_value = ball_pos[ball_frame][1]\n",
    "    ball_z_value = ball_pos[ball_frame][2]\n",
    "    ax.scatter(ball_x_value, ball_y_value, ball_z_value, 'r')\n",
    "    \n",
    "    #Plot Settings\n",
    "    plt.xlim(hit_min_x, hit_max_x)\n",
    "    plt.ylim(hit_min_y, hit_max_y)\n",
    "    ax.set_zlim(hit_min_z, hit_max_z)\n",
    "    plt.title(\"Ball/Ball Visual Around Hit\")\n",
    "    plt.show()"
   ]
  },
  {
   "cell_type": "markdown",
   "id": "3254eaa7",
   "metadata": {},
   "source": [
    "### Full Duration, Ball Changes Color Based on Velocity"
   ]
  },
  {
   "cell_type": "code",
   "execution_count": 91,
   "id": "d88c00c1",
   "metadata": {},
   "outputs": [],
   "source": [
    "import numpy as np\n",
    "import matplotlib.colors as mcolors"
   ]
  },
  {
   "cell_type": "code",
   "execution_count": 92,
   "id": "e6abd7da",
   "metadata": {},
   "outputs": [
    {
     "name": "stdout",
     "output_type": "stream",
     "text": [
      "275 276\n"
     ]
    }
   ],
   "source": [
    "velocity = list((sample['vel'] for sample in data['samples_ball'] if 'vel' in sample)) \n",
    "velocity_mag = list(np.linalg.norm(object) for object in velocity) \n",
    "print(len(velocity_mag), len(ball_pos))"
   ]
  },
  {
   "cell_type": "code",
   "execution_count": 93,
   "id": "d603ec6b",
   "metadata": {},
   "outputs": [
    {
     "name": "stdout",
     "output_type": "stream",
     "text": [
      "12.43047322780382 105.5944707612867\n"
     ]
    }
   ],
   "source": [
    "min_vel = min(velocity_mag)\n",
    "max_vel = max(velocity_mag)\n",
    "print(min_vel, max_vel)"
   ]
  },
  {
   "cell_type": "code",
   "execution_count": 94,
   "id": "fdfaf2e7",
   "metadata": {},
   "outputs": [],
   "source": [
    "#Prepare color plot\n",
    "#Normalize color values for plot\n",
    "norm = mcolors.Normalize(vmin=min_vel, vmax=max_vel)\n",
    "\n",
    "# Create a colormap\n",
    "cmap = plt.get_cmap('viridis')"
   ]
  },
  {
   "cell_type": "code",
   "execution_count": 100,
   "id": "46ac4e02",
   "metadata": {},
   "outputs": [
    {
     "data": {
      "application/vnd.jupyter.widget-view+json": {
       "model_id": "a29ccb626af74d2ab88adb4cbd241ddd",
       "version_major": 2,
       "version_minor": 0
      },
      "text/plain": [
       "interactive(children=(IntSlider(value=0, description='frame', max=495), Output()), _dom_classes=('widget-inter…"
      ]
     },
     "metadata": {},
     "output_type": "display_data"
    }
   ],
   "source": [
    "# @widgets.interact(frame=(0, len(all_time)-1))\n",
    "@widgets.interact(frame=(0, 495))\n",
    "def axial_slicer(frame=0):\n",
    "    fig = plt.figure()\n",
    "    ax = fig.add_subplot(111, projection='3d')\n",
    "    \n",
    "    #Plot bat\n",
    "    bat_frame = get_closest_time(all_time[frame], True) #Get closest bat frame for the given time\n",
    "    bat_x_values = [bat_head_pos[bat_frame][0], bat_handle_pos[bat_frame][0]]\n",
    "    bat_y_values = [bat_head_pos[bat_frame][1], bat_handle_pos[bat_frame][1]]\n",
    "    bat_z_values = [bat_head_pos[bat_frame][2], bat_handle_pos[bat_frame][2]]\n",
    "    ax.plot(bat_x_values, bat_y_values, bat_z_values, 'r-')    \n",
    "    \n",
    "    #Plot ball\n",
    "    ball_frame = get_closest_time(all_time[frame], False)\n",
    "    ball_x_value = ball_pos[ball_frame][0]\n",
    "    ball_y_value = ball_pos[ball_frame][1]\n",
    "    ball_z_value = ball_pos[ball_frame][2]\n",
    "    vel_color = cmap(norm(velocity_mag[ball_frame]))\n",
    "    ax.scatter(ball_x_value, ball_y_value, ball_z_value, color = vel_color)\n",
    "\n",
    "    # Add colorbar\n",
    "    sm = plt.cm.ScalarMappable(cmap=cmap, norm=norm)\n",
    "    sm.set_array([]) \n",
    "    plt.colorbar(sm, ax=plt.gca(), label='Ball Velocity (mph)')\n",
    "\n",
    "    #Plot Settings\n",
    "    plt.xlim(min_x, max_x)\n",
    "    plt.ylim(min_y, max_y)\n",
    "    ax.set_zlim(min_z, max_z)\n",
    "    plt.title(\"Ball Velocity Visual\")\n",
    "    plt.show()"
   ]
  },
  {
   "cell_type": "code",
   "execution_count": null,
   "id": "e28f0dcd",
   "metadata": {},
   "outputs": [],
   "source": []
  }
 ],
 "metadata": {
  "kernelspec": {
   "display_name": "Python 3 (ipykernel)",
   "language": "python",
   "name": "python3"
  },
  "language_info": {
   "codemirror_mode": {
    "name": "ipython",
    "version": 3
   },
   "file_extension": ".py",
   "mimetype": "text/x-python",
   "name": "python",
   "nbconvert_exporter": "python",
   "pygments_lexer": "ipython3",
   "version": "3.11.7"
  }
 },
 "nbformat": 4,
 "nbformat_minor": 5
}
