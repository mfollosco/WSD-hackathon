{
 "cells": [
  {
   "cell_type": "code",
   "execution_count": null,
   "id": "8501bd53-bb89-4f58-a54c-2106d316c51c",
   "metadata": {},
   "outputs": [],
   "source": [
    "import json\n",
    "import os\n",
    "import pandas as pd\n",
    "\n",
    "# the folder location of .jsonl files you're compiling into dataframes\n",
    "folder_path = 'C:/Users/linds/Downloads/wsd-data/wsd-data-main/wsd-hits'"
   ]
  },
  {
   "cell_type": "code",
   "execution_count": null,
   "id": "d9fef305-8aab-4035-9a03-0f63830d07ea",
   "metadata": {},
   "outputs": [],
   "source": [
    "# custom try statement used to access components in json data (whether or whether not it exists)\n",
    "# input: a string of code\n",
    "# output: the return value of the string of code (if works) or \"n/a\" (doesn't work)\n",
    "\n",
    "def return_if_available(thing):\n",
    "    try:\n",
    "        return eval(thing)\n",
    "    except:\n",
    "        return \"n/a\""
   ]
  },
  {
   "cell_type": "code",
   "execution_count": null,
   "id": "1f68f25c-c9ab-47c8-8411-3c41ad033e0a",
   "metadata": {},
   "outputs": [],
   "source": [
    "# just testing individual data up here. you don't actually need to run this\n",
    "with open(\"C:/Users/linds/Downloads/wsd-data/wsd-data-main/wsd-hits/12345636_44311.jsonl\", \"r\") as f:\n",
    "          data = json.load(f);\n",
    "\n",
    "print(return_if_available(\"data['events'][0]['start']['angle']\"))"
   ]
  },
  {
   "cell_type": "code",
   "execution_count": null,
   "id": "c64c7fa1-1e51-4d2f-8882-a52de54373a6",
   "metadata": {},
   "outputs": [],
   "source": [
    "# testing bulk data up here. you don't actually need to run this\n",
    "folder_path = 'C:/Users/linds/Downloads/wsd-data/wsd-data-main/wsd-hits'\n",
    "\n",
    "for filename in os.listdir(folder_path):\n",
    "    if filename.endswith('.jsonl'):\n",
    "        file_path = os.path.join(folder_path, filename)\n",
    "        with open(file_path, 'r') as json_file:\n",
    "            data = json.load(json_file)\n",
    "            # print data fields\n",
    "            try:\n",
    "                print(data['events'][0]['start']['angle'])\n",
    "            except:\n",
    "                print(filename)"
   ]
  },
  {
   "cell_type": "code",
   "execution_count": null,
   "id": "6bfb3286-5da4-49f3-bc99-db405a17101e",
   "metadata": {},
   "outputs": [],
   "source": [
    "# initialize all \n",
    "main_columns = {\"filename\": ['file'], \"pitch event id\":['eventId'], \"pitch result\":['result'], \"pitch speed\":['mph'], \"pitch spin\":['rpm'], \"hit event id\":['eventId'], \"hit speed\":['mph'], \"hit spin\":['rpm']}\n",
    "event_columns = {\"filename\": ['file'], \"angle start\":['x, y'], \"type\":['hit/no hit'], \"teamid\":['mlbd'], \"personid\":['mlbid'], \"eventid\":['eventid']}\n",
    "ball_columns = {\"filename\": ['file'], \"time start\":['secs'], \"pos start\":['feet'], \"vel start\":['mph'], \"acc start\":['mph/s'], \"time end\":['secs'], \"pos end\":['feet'], \"vel end\":['mph'], \"acc end\":['mph/s']}\n",
    "bat_columns = {\"filename\": ['file'], \"time start\":['secs'], \"pos head start\":['feet'], \"pos handle start\":['feet'], \"time end\":['secs'], \"pos head end\":['feet'], \"pos handle end\":['feet']}\n",
    "\n",
    "main_df = pd.DataFrame(main_columns)\n",
    "event_df = pd.DataFrame(event_columns)\n",
    "ball_df = pd.DataFrame(ball_columns)\n",
    "bat_df = pd.DataFrame(bat_columns)"
   ]
  },
  {
   "cell_type": "code",
   "execution_count": null,
   "id": "9d2b039f-197d-461a-b6b7-48af4532be9b",
   "metadata": {},
   "outputs": [],
   "source": [
    "# main info dataset\n",
    "\n",
    "for filename in os.listdir(folder_path):\n",
    "    if filename.endswith('.jsonl'):\n",
    "        file_path = os.path.join(folder_path, filename)\n",
    "        with open(file_path, 'r') as json_file:\n",
    "            data = json.load(json_file)\n",
    "            # enter in data fields\n",
    "            pitch_eventid = return_if_available(\"data['summary_acts']['pitch']['eventId']\")\n",
    "            pitch_result = return_if_available(\"data['summary_acts']['pitch']['result']\")\n",
    "            pitch_speed = return_if_available(\"data['summary_acts']['pitch']['speed']['mph']\")\n",
    "            pitch_spin = return_if_available(\"data['summary_acts']['pitch']['spin']['rpm']\")\n",
    "            hit_eventid = return_if_available(\"data['summary_acts']['hit']['eventId']\")\n",
    "            hit_speed = return_if_available(\"data['summary_acts']['hit']['speed']['mph']\")\n",
    "            hit_spin = return_if_available(\"data['summary_acts']['hit']['spin']['rpm']\")\n",
    "\n",
    "            row = {\"filename\": filename, \"pitch event id\":pitch_eventid, \"pitch result\":pitch_result, \"pitch speed\":pitch_speed, \"pitch spin\":pitch_spin, \"hit event id\":hit_eventid, \"hit speed\":hit_speed, \"hit spin\":hit_spin}\n",
    "            main_df.loc[len(main_df.index)] = row # add row to end of df"
   ]
  },
  {
   "cell_type": "code",
   "execution_count": null,
   "id": "2bca4665-b0df-415b-a5ec-b5ce84e6c1b8",
   "metadata": {},
   "outputs": [],
   "source": [
    "# event info dataset\n",
    "\n",
    "for filename in os.listdir(folder_path):\n",
    "    if filename.endswith('.jsonl'):\n",
    "        file_path = os.path.join(folder_path, filename)\n",
    "        with open(file_path, 'r') as json_file:\n",
    "            data = json.load(json_file)\n",
    "            # enter in data fields\n",
    "            angle_start = return_if_available(\"data['events'][0]['start']['angle']\")\n",
    "            type = return_if_available(\"data['events'][0]['type']\")\n",
    "            teamid = return_if_available(\"data['events'][0]['teamId']['mlbId']\")\n",
    "            personid = return_if_available(\"data['events'][0]['personId']['mlbId']\")\n",
    "            eventid = return_if_available(\"data['events'][0]['eventId']\")\n",
    "            \n",
    "            row = {\"filename\": filename, \"angle start\": angle_start, \"type\": type, \"teamid\":teamid, \"personid\":personid, \"eventid\":eventid}\n",
    "            event_df.loc[len(event_df.index)] = row # add row to end of df"
   ]
  },
  {
   "cell_type": "code",
   "execution_count": null,
   "id": "9a5eca1f-50aa-46ad-9744-3800c7882cfc",
   "metadata": {},
   "outputs": [],
   "source": [
    "# ball info dataset\n",
    "\n",
    "for filename in os.listdir(folder_path):\n",
    "    if filename.endswith('.jsonl'):\n",
    "        file_path = os.path.join(folder_path, filename)\n",
    "        with open(file_path, 'r') as json_file:\n",
    "            data = json.load(json_file)\n",
    "            # enter in data fields\n",
    "            time_start = return_if_available(\"data['samples_ball'][0]['time']\")\n",
    "            pos_start = return_if_available(\"data['samples_ball'][0]['pos']\")\n",
    "            vel_start = return_if_available(\"data['samples_ball'][0]['vel']\")\n",
    "            acc_start = return_if_available(\"data['samples_ball'][0]['acc']\")\n",
    "            time_end = return_if_available(\"data['samples_ball'][len(data['samples_ball']) - 1]['time']\")\n",
    "            pos_end = return_if_available(\"data['samples_ball'][len(data['samples_ball']) - 1]['pos']\")\n",
    "            vel_end = return_if_available(\"data['samples_ball'][len(data['samples_ball']) - 1]['vel']\")\n",
    "            acc_end = return_if_available(\"data['samples_ball'][len(data['samples_ball']) - 1]['acc']\")\n",
    "            \n",
    "            row = {\"filename\": filename, \"time start\":time_start, \"pos start\":pos_start, \"vel start\":vel_start, \"acc start\":acc_start, \"time end\":time_end, \"pos end\":pos_end, \"vel end\":vel_end, \"acc end\":acc_end}\n",
    "            ball_df.loc[len(ball_df.index)] = row # add row to end of df"
   ]
  },
  {
   "cell_type": "code",
   "execution_count": null,
   "id": "5c50b7f5-2f87-4af5-944e-bd5f25028414",
   "metadata": {},
   "outputs": [],
   "source": [
    "# bat info dataset\n",
    "\n",
    "for filename in os.listdir(folder_path):\n",
    "    if filename.endswith('.jsonl'):\n",
    "        file_path = os.path.join(folder_path, filename)\n",
    "        with open(file_path, 'r') as json_file:\n",
    "            data = json.load(json_file)\n",
    "            # enter in data fields\n",
    "            time_start = return_if_available(\"data['samples_bat'][0]['time']\")\n",
    "            pos_head_start = return_if_available(\"data['samples_bat'][0]['head']['pos']\")\n",
    "            pos_handle_start = return_if_available(\"data['samples_bat'][0]['handle']['pos']\")\n",
    "            time_end = return_if_available(\"data['samples_bat'][len(data['samples_bat']) - 1]['time']\")\n",
    "            pos_head_end = return_if_available(\"data['samples_bat'][len(data['samples_bat']) - 1]['head']['pos']\")\n",
    "            pos_handle_end = return_if_available(\"data['samples_bat'][len(data['samples_bat']) - 1]['handle']['pos']\")\n",
    "\n",
    "            row = {\"filename\": filename, \"time start\":time_start, \"pos head start\":pos_head_start, \"pos handle start\":pos_handle_start, \"time end\":time_end, \"pos head end\":pos_head_end, \"pos handle end\":pos_handle_end}\n",
    "            bat_df.loc[len(bat_df.index)] = row # add row to end of df"
   ]
  },
  {
   "cell_type": "code",
   "execution_count": null,
   "id": "2b4f2787-3031-4b12-b454-853f02af33be",
   "metadata": {},
   "outputs": [],
   "source": [
    "# testing all of the dataframes down here."
   ]
  },
  {
   "cell_type": "code",
   "execution_count": null,
   "id": "e11e3c90-a7ab-45fa-b317-b9a4e4dbfdae",
   "metadata": {},
   "outputs": [],
   "source": [
    "main_df"
   ]
  },
  {
   "cell_type": "code",
   "execution_count": null,
   "id": "dae7fc27-42a2-43ef-88f6-206536e02614",
   "metadata": {},
   "outputs": [],
   "source": [
    "event_df"
   ]
  },
  {
   "cell_type": "code",
   "execution_count": null,
   "id": "97b5458c-4052-4227-a733-971f48ae4d31",
   "metadata": {},
   "outputs": [],
   "source": [
    "ball_df"
   ]
  },
  {
   "cell_type": "code",
   "execution_count": null,
   "id": "f112088c-ac2f-4e6e-9386-467654d87ace",
   "metadata": {},
   "outputs": [],
   "source": [
    "bat_df"
   ]
  },
  {
   "cell_type": "code",
   "execution_count": 624,
   "id": "81297650-4de1-4eab-a700-38d3d22f523a",
   "metadata": {},
   "outputs": [],
   "source": [
    "# download all files into .csv format\n",
    "\n",
    "download_location = \"C:/Users/linds/Downloads/\"\n",
    "\n",
    "main_df.to_csv(r'' + download_location + 'main_df.csv')\n",
    "event_df.to_csv(r'' + download_location + 'event_df.csv')\n",
    "event_df.to_csv(r'' + download_location + 'event_df.csv')\n",
    "event_df.to_csv(r'' + download_location + 'event_df.csv')"
   ]
  }
 ],
 "metadata": {
  "kernelspec": {
   "display_name": "Python 3 (ipykernel)",
   "language": "python",
   "name": "python3"
  },
  "language_info": {
   "codemirror_mode": {
    "name": "ipython",
    "version": 3
   },
   "file_extension": ".py",
   "mimetype": "text/x-python",
   "name": "python",
   "nbconvert_exporter": "python",
   "pygments_lexer": "ipython3",
   "version": "3.12.4"
  }
 },
 "nbformat": 4,
 "nbformat_minor": 5
}
